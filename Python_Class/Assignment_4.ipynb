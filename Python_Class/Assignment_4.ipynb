{
 "cells": [
  {
   "cell_type": "code",
   "execution_count": 1,
   "id": "92ba1ea8",
   "metadata": {},
   "outputs": [],
   "source": [
    "\n",
    "## AS a DEVELOPER M AND D AND BANK YOU ARE ASKED TO WRITE A SIMPLE PROGRAM TO DETERMINE IF A CUSTOMER HAS A MET CERTAIN\n",
    "## ELIGIBILITY CRITERIA FOR A REWARDS PROGRAM\n",
    "\n",
    "## USE THE FOLLOWING CRITERIA\n",
    "#(MONTHLY TRANSACTION >=100,000 AND MONTHLY TRANSACTION<500,000)AND (SAVINGS>500,000 AND SAVINGS <1,000,000)\n",
    "#(MONTHLY TRANSACTION >=500,000 AND MONTHLY TRANSACTION <1,000,000) AND SAVINGS >= 1,000,000 AND SAVINGS < 2,000,000\n",
    "#(MONTHLY TRANSACTION >= 5,000,000 AND MONTHLY TRANSACTION <1,000,000) AND SAVINGS >= 10,000,000 AND SAVINGS < 20,000,000\n",
    "#ELSE NOT ELIGIBLE"
   ]
  },
  {
   "cell_type": "code",
   "execution_count": 2,
   "id": "863481ba",
   "metadata": {},
   "outputs": [
    {
     "name": "stdout",
     "output_type": "stream",
     "text": [
      "Enter the customer's monthly transaction: 100000\n",
      "Enter the monthly savings: 500000\n",
      "This customer won't be considered for any reward\n"
     ]
    }
   ],
   "source": [
    "def customer():\n",
    "    transaction=float(input(\"Enter the customer's monthly transaction: \"))\n",
    "    savings= float(input(\"Enter the monthly savings: \"))\n",
    "    if transaction >= 100000 and transaction <500000 and savings>500000 and savings<1000000:\n",
    "        print(\"You are eligible for a 200,000 naira loan\")\n",
    "    elif transaction>=500000 and transaction<1000000 and savings >=1000000 and savings<2000000:\n",
    "        print(\"You are eligible for a 600,000 naira loan\")\n",
    "    elif transaction>=500000 and transaction<1000000 and savings >=10000000 and savings<20000000:\n",
    "        print(\"You are eligible for a 1,000000 naira loan\")\n",
    "    else:\n",
    "        print(\"This customer won't be considered for any reward\")\n",
    "customer()       "
   ]
  },
  {
   "cell_type": "code",
   "execution_count": null,
   "id": "49814b2f",
   "metadata": {},
   "outputs": [],
   "source": []
  }
 ],
 "metadata": {
  "kernelspec": {
   "display_name": "Python 3 (ipykernel)",
   "language": "python",
   "name": "python3"
  },
  "language_info": {
   "codemirror_mode": {
    "name": "ipython",
    "version": 3
   },
   "file_extension": ".py",
   "mimetype": "text/x-python",
   "name": "python",
   "nbconvert_exporter": "python",
   "pygments_lexer": "ipython3",
   "version": "3.11.5"
  }
 },
 "nbformat": 4,
 "nbformat_minor": 5
}
