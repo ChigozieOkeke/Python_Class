{
 "cells": [
  {
   "cell_type": "markdown",
   "id": "060d9157",
   "metadata": {},
   "source": [
    "## date and time"
   ]
  },
  {
   "cell_type": "code",
   "execution_count": 2,
   "id": "70d8ce3f",
   "metadata": {},
   "outputs": [
    {
     "name": "stdout",
     "output_type": "stream",
     "text": [
      "['MAXYEAR', 'MINYEAR', 'UTC', '__all__', '__builtins__', '__cached__', '__doc__', '__file__', '__loader__', '__name__', '__package__', '__spec__', 'date', 'datetime', 'datetime_CAPI', 'sys', 'time', 'timedelta', 'timezone', 'tzinfo']\n"
     ]
    }
   ],
   "source": [
    "import datetime\n",
    "print(dir(datetime))\n"
   ]
  },
  {
   "cell_type": "code",
   "execution_count": 3,
   "id": "8fcf9084",
   "metadata": {},
   "outputs": [
    {
     "name": "stdout",
     "output_type": "stream",
     "text": [
      "2019-02-14\n"
     ]
    }
   ],
   "source": [
    "date=datetime.date(2019,2,14)\n",
    "print(date)"
   ]
  },
  {
   "cell_type": "code",
   "execution_count": 21,
   "id": "a188c0a6",
   "metadata": {},
   "outputs": [
    {
     "name": "stdout",
     "output_type": "stream",
     "text": [
      "2019\n",
      "14\n",
      "2\n",
      "3\n"
     ]
    }
   ],
   "source": [
    "print(date.year)\n",
    "print(date.day)\n",
    "print(date.month)\n",
    "print(date.weekday())"
   ]
  },
  {
   "cell_type": "code",
   "execution_count": 5,
   "id": "8d3cebc4",
   "metadata": {},
   "outputs": [
    {
     "name": "stdout",
     "output_type": "stream",
     "text": [
      "2024-03-08\n"
     ]
    }
   ],
   "source": [
    "currentdate=datetime.date.today()\n",
    "print(currentdate)"
   ]
  },
  {
   "cell_type": "code",
   "execution_count": 4,
   "id": "25514153",
   "metadata": {},
   "outputs": [
    {
     "data": {
      "text/plain": [
       "'06 of March,2024'"
      ]
     },
     "execution_count": 4,
     "metadata": {},
     "output_type": "execute_result"
    }
   ],
   "source": [
    "## strftime: this used for modification of time and date in string format.\n",
    "currentdate.strftime(\"%d of %B,%Y\")"
   ]
  },
  {
   "cell_type": "code",
   "execution_count": 5,
   "id": "08787403",
   "metadata": {},
   "outputs": [
    {
     "data": {
      "text/plain": [
       "datetime.time(15, 27, 7, 578842)"
      ]
     },
     "execution_count": 5,
     "metadata": {},
     "output_type": "execute_result"
    }
   ],
   "source": [
    "current_time=datetime.datetime.now().time()\n",
    "current_time"
   ]
  },
  {
   "cell_type": "code",
   "execution_count": 6,
   "id": "bb0a73cd",
   "metadata": {},
   "outputs": [
    {
     "data": {
      "text/plain": [
       "'15:07:PM'"
      ]
     },
     "execution_count": 6,
     "metadata": {},
     "output_type": "execute_result"
    }
   ],
   "source": [
    "current_time.strftime(\"%H:%S:%p\")"
   ]
  },
  {
   "cell_type": "code",
   "execution_count": 20,
   "id": "96534253",
   "metadata": {},
   "outputs": [
    {
     "name": "stdout",
     "output_type": "stream",
     "text": [
      "enter your date [mm/dd/yy]02/05/2002\n"
     ]
    },
    {
     "data": {
      "text/plain": [
       "datetime.date(2002, 2, 5)"
      ]
     },
     "execution_count": 20,
     "metadata": {},
     "output_type": "execute_result"
    }
   ],
   "source": [
    "cdate=input(\"enter your date [mm/dd/yy]\")\n",
    "condate=datetime.datetime.strptime(cdate,\"%m/%d/%Y\").date()\n",
    "condate"
   ]
  },
  {
   "cell_type": "code",
   "execution_count": 21,
   "id": "e3ff2d87",
   "metadata": {},
   "outputs": [
    {
     "data": {
      "text/plain": [
       "datetime.timedelta(days=8063)"
      ]
     },
     "execution_count": 21,
     "metadata": {},
     "output_type": "execute_result"
    }
   ],
   "source": [
    "currentdate-condate"
   ]
  },
  {
   "cell_type": "code",
   "execution_count": 22,
   "id": "9cbb33b0",
   "metadata": {},
   "outputs": [
    {
     "data": {
      "text/plain": [
       "datetime.date(2024, 8, 1)"
      ]
     },
     "execution_count": 22,
     "metadata": {},
     "output_type": "execute_result"
    }
   ],
   "source": [
    "currentdate + datetime.timedelta(days=150)"
   ]
  },
  {
   "cell_type": "code",
   "execution_count": 23,
   "id": "5e3e53dd",
   "metadata": {},
   "outputs": [
    {
     "data": {
      "text/plain": [
       "datetime.date(2023, 10, 6)"
      ]
     },
     "execution_count": 23,
     "metadata": {},
     "output_type": "execute_result"
    }
   ],
   "source": [
    "currentdate -datetime.timedelta(days=150)"
   ]
  },
  {
   "cell_type": "code",
   "execution_count": 4,
   "id": "a7136bd9",
   "metadata": {},
   "outputs": [
    {
     "name": "stdout",
     "output_type": "stream",
     "text": [
      "enter your date of appointment[yy/mm/dd]2024/5/2\n",
      "dear user you have7 weeks and 6 days until your appointment..\n"
     ]
    }
   ],
   "source": [
    "## write a program to calculate how many weeks and days a user has until his\\her appointment  ,mlkfrom the current date\n",
    "appdate=input(\"enter your date of appointment[yy/mm/dd]\")\n",
    "appdate_now=datetime.datetime.strptime(appdate,\"%Y/%m/%d\").date()\n",
    "currentdate=datetime.date.today()\n",
    "diff=appdate_now-currentdate\n",
    "weeks_num=diff.days//7\n",
    "days_num=diff.days% 7\n",
    "print(f\"dear user you have{weeks_num} weeks and {days_num} days until your appointment..\")"
   ]
  },
  {
   "cell_type": "code",
   "execution_count": 7,
   "id": "6e219549",
   "metadata": {},
   "outputs": [],
   "source": [
    "## write a program to the following to display patient record\n",
    "## calculate their checking fee based on the continent\n",
    "## check their bodymass index\n",
    "## note read and undersatnd the question to know what attribute are needed\n"
   ]
  },
  {
   "cell_type": "code",
   "execution_count": null,
   "id": "0f358beb",
   "metadata": {},
   "outputs": [],
   "source": []
  }
 ],
 "metadata": {
  "kernelspec": {
   "display_name": "Python 3 (ipykernel)",
   "language": "python",
   "name": "python3"
  },
  "language_info": {
   "codemirror_mode": {
    "name": "ipython",
    "version": 3
   },
   "file_extension": ".py",
   "mimetype": "text/x-python",
   "name": "python",
   "nbconvert_exporter": "python",
   "pygments_lexer": "ipython3",
   "version": "3.11.5"
  }
 },
 "nbformat": 4,
 "nbformat_minor": 5
}
