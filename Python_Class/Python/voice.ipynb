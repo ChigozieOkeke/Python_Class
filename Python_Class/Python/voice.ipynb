{
 "cells": [
  {
   "cell_type": "code",
   "execution_count": 1,
   "metadata": {},
   "outputs": [],
   "source": [
    "from gtts import gTTS\n",
    "import os"
   ]
  },
  {
   "cell_type": "code",
   "execution_count": 2,
   "metadata": {},
   "outputs": [
    {
     "data": {
      "text/plain": [
       "0"
      ]
     },
     "execution_count": 2,
     "metadata": {},
     "output_type": "execute_result"
    }
   ],
   "source": [
    "sentence = \"My name is Chigozie Augustine Okeke I will tell you how to run Everve\"\n",
    "tts= gTTS(text=sentence, lang='en')\n",
    "tts.save(\"output.mp3\")\n",
    "os.system(\"start output.mp3\")"
   ]
  },
  {
   "cell_type": "code",
   "execution_count": 5,
   "metadata": {},
   "outputs": [],
   "source": [
    "# What is the average crude oil price over the entire dataset?\n",
    "\n",
    "# What is the maximum production (in million barrels per day) recorded in the dataset, and in which month and year did it occur?\n",
    "\n",
    "# What is the minimum export volume (in million barrels per day) recorded in the dataset, and in which month and year did it occur?\n",
    "\n",
    "# How many months had a crude oil price above $100 per barrel?\n",
    "\n",
    "# What is the correlation between crude oil price and production volume?\n",
    "\n",
    "# How many months had a negative change in crude oil price compared to the previous month?\n",
    "\n",
    "# What is the average export volume (in million barrels per day) for months with a crude oil price below $50 per barrel?\n",
    "\n",
    "# What is the median production volume for the months with the highest 10% of crude oil prices?\n",
    "\n",
    "# How many consecutive months did the export volume decrease?\n",
    "\n",
    "# What is the average production volume during the months when the crude oil price increased compared to the previous month?"
   ]
  },
  {
   "cell_type": "code",
   "execution_count": null,
   "metadata": {},
   "outputs": [],
   "source": []
  }
 ],
 "metadata": {
  "kernelspec": {
   "display_name": "Python 3",
   "language": "python",
   "name": "python3"
  },
  "language_info": {
   "codemirror_mode": {
    "name": "ipython",
    "version": 3
   },
   "file_extension": ".py",
   "mimetype": "text/x-python",
   "name": "python",
   "nbconvert_exporter": "python",
   "pygments_lexer": "ipython3",
   "version": "3.12.1"
  }
 },
 "nbformat": 4,
 "nbformat_minor": 2
}
