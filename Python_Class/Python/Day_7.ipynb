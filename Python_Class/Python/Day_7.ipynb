{
 "cells": [
  {
   "cell_type": "code",
   "execution_count": 1,
   "id": "85a5e3e9",
   "metadata": {},
   "outputs": [],
   "source": [
    "## Exercise\n",
    "##Using function, to write a program to calculate the total of a customer purchase\n",
    "## including the discount and sales tax ?\n",
    "## if the customer purchase is above 500000 you give discounts base on specific regions\n",
    "## south south 15%\n",
    "## south west 10%\n",
    "## south east 8%\n",
    "## north east 12%\n",
    "## north central 6%\n",
    "## the vat is slated at 3.6%"
   ]
  },
  {
   "cell_type": "code",
   "execution_count": 3,
   "id": "f3c740a5",
   "metadata": {},
   "outputs": [
    {
     "name": "stdout",
     "output_type": "stream",
     "text": [
      "ENTER THE CUSTOMER PURCHASE AMOUNT: 400000\n",
      "ENTER THE CUSTOMER REGION: south south\n",
      "___CUSTOMER RECEIPT____\n",
      "        \"PURCHASE AMOUNT\":400000.0\n",
      "        \"TAX\":14000.000000000002\n",
      "        \"TOTAL AMOUNT INCLUDING VAT MINUS DISCOUNT\": 414000.0\n"
     ]
    }
   ],
   "source": [
    "def sales():\n",
    "    purchaseamount=float(input(\"ENTER THE CUSTOMER PURCHASE AMOUNT: \"))\n",
    "    region=input(\"ENTER THE CUSTOMER REGION: \")\n",
    "    if purchaseamount>=500000 and regoion == \"south south\":\n",
    "        print(f'''___CUSTOMER RECEIPT____\n",
    "        \"PURCHASE AMOUNT\":{purchaseamount}\n",
    "        \"DISCOUNT\":{purchaseamount * 0.15}\n",
    "        \"TAX\":{purchaseamount*0.035}\n",
    "        \"TOTAL AMOUNT INCLUDING VAT MINUS DISCOUNT\": {purchaseamount+(purchaseamount*0.035)-(purchaseamount*0.15)}''')\n",
    "    elif purchaseamount>=500000 and regoion == \"south west\":\n",
    "        print(f'''___CUSTOMER RECEIPT____\n",
    "        \"PURCHASE AMOUNT\":{purchaseamount}\n",
    "        \"DISCOUNT\":{purchaseamount * 0.10}\n",
    "        \"TAX\":{purchaseamount*0.035}\n",
    "        \"TOTAL AMOUNT INCLUDING VAT MINUS DISCOUNT\": {purchaseamount+(purchaseamount*0.035)-(purchaseamount*0.10)}''')\n",
    "    elif purchaseamount>=500000 and regoion == \"south east\":\n",
    "        print(f'''___CUSTOMER RECEIPT____\n",
    "        \"PURCHASE AMOUNT\":{purchaseamount}\n",
    "        \"DISCOUNT\":{purchaseamount * 0.08}\n",
    "        \"TAX\":{purchaseamount*0.035}\n",
    "        \"TOTAL AMOUNT INCLUDING VAT MINUS DISCOUNT\": {purchaseamount+(purchaseamount*0.035)-(purchaseamount*0.08)}''')\n",
    "    elif purchaseamount>=500000 and regoion == \"north east\":\n",
    "        print(f'''___CUSTOMER RECEIPT____\n",
    "        \"PURCHASE AMOUNT\":{purchaseamount}\n",
    "        \"DISCOUNT\":{purchaseamount * 0.12}\n",
    "        \"TAX\":{purchaseamount*0.035}\n",
    "        \"TOTAL AMOUNT INCLUDING VAT MINUS DISCOUNT\": {purchaseamount+(purchaseamount*0.035)-(purchaseamount*0.12)}''')\n",
    "    elif purchaseamount>=500000 and regoion == \"north central\":\n",
    "        print(f'''___CUSTOMER RECEIPT____\n",
    "        \"PURCHASE AMOUNT\":{purchaseamount}\n",
    "        \"DISCOUNT\":{purchaseamount * 0.06}\n",
    "        \"TAX\":{purchaseamount*0.035}\n",
    "        \"TOTAL AMOUNT INCLUDING VAT MINUS DISCOUNT\": {purchaseamount+(purchaseamount*0.035)-(purchaseamount*0.06)}''')    \n",
    "    else:\n",
    "        print(f'''___CUSTOMER RECEIPT____\n",
    "        \"PURCHASE AMOUNT\":{purchaseamount}\n",
    "        \"TAX\":{purchaseamount*0.035}\n",
    "        \"TOTAL AMOUNT INCLUDING VAT MINUS DISCOUNT\": {purchaseamount+(purchaseamount*0.035)}''')\n",
    "sales()  \n",
    "\n",
    "      "
   ]
  },
  {
   "cell_type": "markdown",
   "id": "da760560",
   "metadata": {},
   "source": [
    "Lamda"
   ]
  },
  {
   "cell_type": "code",
   "execution_count": 10,
   "id": "b0d45944",
   "metadata": {},
   "outputs": [
    {
     "data": {
      "text/plain": [
       "15"
      ]
     },
     "execution_count": 10,
     "metadata": {},
     "output_type": "execute_result"
    }
   ],
   "source": [
    "def add(x,y):\n",
    "    return x+y\n",
    "add(5,10)"
   ]
  },
  {
   "cell_type": "code",
   "execution_count": 13,
   "id": "083a6f8e",
   "metadata": {},
   "outputs": [
    {
     "data": {
      "text/plain": [
       "15"
      ]
     },
     "execution_count": 13,
     "metadata": {},
     "output_type": "execute_result"
    }
   ],
   "source": [
    "(lambda x,y:x+y)(5,10)"
   ]
  },
  {
   "cell_type": "code",
   "execution_count": 14,
   "id": "030933f4",
   "metadata": {},
   "outputs": [
    {
     "data": {
      "text/plain": [
       "1002"
      ]
     },
     "execution_count": 14,
     "metadata": {},
     "output_type": "execute_result"
    }
   ],
   "source": [
    "(lambda x,y,z:x+y**z)(2,10,3)"
   ]
  },
  {
   "cell_type": "code",
   "execution_count": 17,
   "id": "7e05c144",
   "metadata": {},
   "outputs": [
    {
     "name": "stdout",
     "output_type": "stream",
     "text": [
      "squared numbers: [1, 16, 100, 10000, 9801, 7396, 144, 2025, 100]\n"
     ]
    }
   ],
   "source": [
    "##using map function with lambda it uses itrable object\n",
    "numbers=[1,4,10,100,99,86,12,45,10]\n",
    "squared_numbers=list(map(lambda x:x**2,numbers))\n",
    "print(\"squared numbers:\",squared_numbers)"
   ]
  },
  {
   "cell_type": "code",
   "execution_count": 22,
   "id": "cf6d3e59",
   "metadata": {},
   "outputs": [
    {
     "name": "stdout",
     "output_type": "stream",
     "text": [
      "even number: [4, 10, 100, 86, 12, 10]\n"
     ]
    }
   ],
   "source": [
    "num2=[1,4,10,100,99,86,12,45,10]\n",
    "ylist=list(filter(lambda x:x % 2==0,num2))\n",
    "print(\"even number:\",ylist)"
   ]
  },
  {
   "cell_type": "code",
   "execution_count": 26,
   "id": "ca3fd84f",
   "metadata": {},
   "outputs": [
    {
     "name": "stdout",
     "output_type": "stream",
     "text": [
      "sorted number: [1, 4, 10, 10, 12, 45, 86, 99, 100]\n"
     ]
    }
   ],
   "source": [
    "## using filter function odd number is not equal to zero\n",
    "num3=[1,4,10,100,99,86,12,45,10]\n",
    "sorted1=sorted(num3,key= lambda x:abs(x))\n",
    "print(\"sorted number:\", sorted1)"
   ]
  },
  {
   "cell_type": "code",
   "execution_count": 4,
   "id": "e5d4d9ee",
   "metadata": {},
   "outputs": [
    {
     "name": "stdout",
     "output_type": "stream",
     "text": [
      "ENTER THE CUSTOMER PURCHASE AMOUNT: 77709\n",
      "ENTER THE CUSTOMER REGION: north east\n",
      "___CUSTOMER RECEIPT____\n",
      "        \"PURCHASE AMOUNT\":77709.0\n",
      "        \"TAX\":2719.815\n",
      "        \"TOTAL AMOUNT INCLUDING VAT MINUS DISCOUNT\": 80428.815\n"
     ]
    }
   ],
   "source": [
    "def sales(purchaseamount,region):\n",
    "    purchaseamount=float(input(\"ENTER THE CUSTOMER PURCHASE AMOUNT: \"))\n",
    "    region=input(\"ENTER THE CUSTOMER REGION: \")\n",
    "    if purchaseamount>=500000 and regoion == \"south south\":\n",
    "        print(f'''___CUSTOMER RECEIPT____\n",
    "        \"PURCHASE AMOUNT\":{purchaseamount}\n",
    "        \"DISCOUNT\":{purchaseamount * 0.15}\n",
    "        \"TAX\":{purchaseamount*0.035}\n",
    "        \"TOTAL AMOUNT INCLUDING VAT MINUS DISCOUNT\": {purchaseamount+(purchaseamount*0.035)-(purchaseamount*0.15)}''')\n",
    "    elif purchaseamount>=500000 and regoion == \"south west\":\n",
    "        print(f'''___CUSTOMER RECEIPT____\n",
    "        \"PURCHASE AMOUNT\":{purchaseamount}\n",
    "        \"DISCOUNT\":{purchaseamount * 0.10}\n",
    "        \"TAX\":{purchaseamount*0.035}\n",
    "        \"TOTAL AMOUNT INCLUDING VAT MINUS DISCOUNT\": {purchaseamount+(purchaseamount*0.035)-(purchaseamount*0.10)}''')\n",
    "    elif purchaseamount>=500000 and regoion == \"south east\":\n",
    "        print(f'''___CUSTOMER RECEIPT____\n",
    "        \"PURCHASE AMOUNT\":{purchaseamount}\n",
    "        \"DISCOUNT\":{purchaseamount * 0.08}\n",
    "        \"TAX\":{purchaseamount*0.035}\n",
    "        \"TOTAL AMOUNT INCLUDING VAT MINUS DISCOUNT\": {purchaseamount+(purchaseamount*0.035)-(purchaseamount*0.08)}''')\n",
    "    elif purchaseamount>=500000 and regoion == \"north east\":\n",
    "        print(f'''___CUSTOMER RECEIPT____\n",
    "        \"PURCHASE AMOUNT\":{purchaseamount}\n",
    "        \"DISCOUNT\":{purchaseamount * 0.12}\n",
    "        \"TAX\":{purchaseamount*0.035}\n",
    "        \"TOTAL AMOUNT INCLUDING VAT MINUS DISCOUNT\": {purchaseamount+(purchaseamount*0.035)-(purchaseamount*0.12)}''')\n",
    "    elif purchaseamount>=500000 and regoion == \"north central\":\n",
    "        print(f'''___CUSTOMER RECEIPT____\n",
    "        \"PURCHASE AMOUNT\":{purchaseamount}\n",
    "        \"DISCOUNT\":{purchaseamount * 0.06}\n",
    "        \"TAX\":{purchaseamount*0.035}\n",
    "        \"TOTAL AMOUNT INCLUDING VAT MINUS DISCOUNT\": {purchaseamount+(purchaseamount*0.035)-(purchaseamount*0.06)}''')    \n",
    "    else:\n",
    "        print(f'''___CUSTOMER RECEIPT____\n",
    "        \"PURCHASE AMOUNT\":{purchaseamount}\n",
    "        \"TAX\":{purchaseamount*0.035}\n",
    "        \"TOTAL AMOUNT INCLUDING VAT MINUS DISCOUNT\": {purchaseamount+(purchaseamount*0.035)}''')\n",
    "sales(\"purchaseamount\",\"region\")  "
   ]
  },
  {
   "cell_type": "code",
   "execution_count": null,
   "id": "eae56f38",
   "metadata": {},
   "outputs": [],
   "source": []
  }
 ],
 "metadata": {
  "kernelspec": {
   "display_name": "Python 3 (ipykernel)",
   "language": "python",
   "name": "python3"
  },
  "language_info": {
   "codemirror_mode": {
    "name": "ipython",
    "version": 3
   },
   "file_extension": ".py",
   "mimetype": "text/x-python",
   "name": "python",
   "nbconvert_exporter": "python",
   "pygments_lexer": "ipython3",
   "version": "3.11.5"
  }
 },
 "nbformat": 4,
 "nbformat_minor": 5
}
