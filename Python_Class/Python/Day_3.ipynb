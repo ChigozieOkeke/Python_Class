{
 "cells": [
  {
   "cell_type": "code",
   "execution_count": 1,
   "id": "66acd7e1",
   "metadata": {},
   "outputs": [
    {
     "name": "stdout",
     "output_type": "stream",
     "text": [
      "python is fun\n"
     ]
    }
   ],
   "source": [
    "name=\"python is fun\"\n",
    "print(name)"
   ]
  },
  {
   "cell_type": "code",
   "execution_count": 4,
   "id": "f6430741",
   "metadata": {},
   "outputs": [
    {
     "name": "stdout",
     "output_type": "stream",
     "text": [
      "what's your age: 34\n",
      "34\n"
     ]
    }
   ],
   "source": [
    "age=int(input(\"what's your age: \"))\n",
    "print(age)"
   ]
  },
  {
   "cell_type": "markdown",
   "id": "fe2189bf",
   "metadata": {},
   "source": [
    "## Iterable Objects"
   ]
  },
  {
   "cell_type": "markdown",
   "id": "c1800bfe",
   "metadata": {},
   "source": [
    "## iterable objects are used to loop over elements one after the order.\n",
    "## we  have five types of iterable objects.\n",
    "## Turple\n",
    "## List\n",
    "## Dictionary\n",
    "## Range"
   ]
  },
  {
   "cell_type": "code",
   "execution_count": null,
   "id": "d33969b6",
   "metadata": {},
   "outputs": [],
   "source": [
    "## Turple \n",
    "## Turple is unchangeable\n",
    "## Turple uses the bracket()\n",
    "## Turple uses index location to acess element."
   ]
  },
  {
   "cell_type": "code",
   "execution_count": 5,
   "id": "2a32ecd8",
   "metadata": {},
   "outputs": [
    {
     "name": "stdout",
     "output_type": "stream",
     "text": [
      "(10, 20, 30, 40, 50, 100, 80, 'favour')\n",
      "<class 'tuple'>\n",
      "8\n"
     ]
    }
   ],
   "source": [
    "number=(10,20,30,40,50,100,80,\"favour\")\n",
    "print(number)\n",
    "print(type(number))\n",
    "print(len(number))"
   ]
  },
  {
   "cell_type": "code",
   "execution_count": 10,
   "id": "3dafe65c",
   "metadata": {},
   "outputs": [
    {
     "name": "stdout",
     "output_type": "stream",
     "text": [
      "80\n"
     ]
    }
   ],
   "source": [
    "## forward index\n",
    "print(number[6])"
   ]
  },
  {
   "cell_type": "code",
   "execution_count": 9,
   "id": "d306acc4",
   "metadata": {},
   "outputs": [
    {
     "name": "stdout",
     "output_type": "stream",
     "text": [
      "favour\n"
     ]
    }
   ],
   "source": [
    "print(number[7])"
   ]
  },
  {
   "cell_type": "code",
   "execution_count": 11,
   "id": "f3158797",
   "metadata": {},
   "outputs": [
    {
     "name": "stdout",
     "output_type": "stream",
     "text": [
      "40\n"
     ]
    }
   ],
   "source": [
    "## backward index\n",
    "print(number[-5])"
   ]
  },
  {
   "cell_type": "markdown",
   "id": "cae0a5f6",
   "metadata": {},
   "source": [
    "## Range Index\n",
    "print(number[1:8])# add 1 imaginary"
   ]
  },
  {
   "cell_type": "code",
   "execution_count": 13,
   "id": "c5c08ab9",
   "metadata": {},
   "outputs": [
    {
     "name": "stdout",
     "output_type": "stream",
     "text": [
      "(20, 30, 40, 50, 100, 80)\n"
     ]
    }
   ],
   "source": [
    "## Forward and back ward range\n",
    "print(number[1:-1])"
   ]
  },
  {
   "cell_type": "code",
   "execution_count": 14,
   "id": "e8d570b0",
   "metadata": {},
   "outputs": [
    {
     "name": "stdout",
     "output_type": "stream",
     "text": [
      "(10, 20, 30, 40, 50, 100, 80, 'favour')\n"
     ]
    }
   ],
   "source": [
    "## forward range\n",
    "print(number[0::])"
   ]
  },
  {
   "cell_type": "code",
   "execution_count": 15,
   "id": "e867078f",
   "metadata": {},
   "outputs": [
    {
     "name": "stdout",
     "output_type": "stream",
     "text": [
      "('favour', 80, 100, 50, 40, 30, 20, 10)\n"
     ]
    }
   ],
   "source": [
    "## reverse range\n",
    "print(number[::-1])"
   ]
  },
  {
   "cell_type": "markdown",
   "id": "c6440f0a",
   "metadata": {},
   "source": [
    "## List"
   ]
  },
  {
   "cell_type": "code",
   "execution_count": 16,
   "id": "1977e56a",
   "metadata": {},
   "outputs": [],
   "source": [
    "## list changeable\n",
    "## list use the square bracket for identification []\n",
    "## list use the index location to also acess each element."
   ]
  },
  {
   "cell_type": "code",
   "execution_count": 4,
   "id": "61b3c424",
   "metadata": {},
   "outputs": [
    {
     "name": "stdout",
     "output_type": "stream",
     "text": [
      "['strawberry', 'orange', 'pineaple', 'cherry', 'watermelon', 45, 95.0]\n"
     ]
    }
   ],
   "source": [
    "fruits=[\"strawberry\",\"orange\",\"pineaple\",\"cherry\",\"watermelon\",45,95.0,]\n",
    "print(fruits)"
   ]
  },
  {
   "cell_type": "code",
   "execution_count": 19,
   "id": "3682c354",
   "metadata": {},
   "outputs": [
    {
     "name": "stdout",
     "output_type": "stream",
     "text": [
      "cherry\n"
     ]
    }
   ],
   "source": [
    "print(fruits[3])"
   ]
  },
  {
   "cell_type": "code",
   "execution_count": 6,
   "id": "d4c9c79f",
   "metadata": {},
   "outputs": [
    {
     "name": "stdout",
     "output_type": "stream",
     "text": [
      "['strawberry', 'orange', 'pineaple', 'cherry', 'watermelon', 45, 95.0, 'pawpaw']\n"
     ]
    }
   ],
   "source": [
    "fruits.append(\"pawpaw\")## append is used to add element to the list\n",
    "print(fruits)"
   ]
  },
  {
   "cell_type": "code",
   "execution_count": 7,
   "id": "8657982f",
   "metadata": {},
   "outputs": [],
   "source": [
    "fruits.remove(\"pawpaw\")"
   ]
  },
  {
   "cell_type": "code",
   "execution_count": 25,
   "id": "475e1f13",
   "metadata": {},
   "outputs": [
    {
     "name": "stdout",
     "output_type": "stream",
     "text": [
      "['strawberry', 'orange', 'pineaple', 'cherry', 'watermelon', 45, 95.0]\n"
     ]
    }
   ],
   "source": [
    "print(fruits)"
   ]
  },
  {
   "cell_type": "code",
   "execution_count": 30,
   "id": "abb6cef1",
   "metadata": {},
   "outputs": [],
   "source": [
    "fruits.extend([\"mango\",\"apple\",\"banana\",\"grape\"])"
   ]
  },
  {
   "cell_type": "code",
   "execution_count": 27,
   "id": "a9d776db",
   "metadata": {},
   "outputs": [
    {
     "name": "stdout",
     "output_type": "stream",
     "text": [
      "['strawberry', 'orange', 'pineaple', 'cherry', 'watermelon', 45, 95.0]\n"
     ]
    }
   ],
   "source": [
    "print(fruits)"
   ]
  },
  {
   "cell_type": "code",
   "execution_count": 29,
   "id": "b2057d93",
   "metadata": {},
   "outputs": [
    {
     "name": "stdout",
     "output_type": "stream",
     "text": [
      "['strawberry', 'orange', 'pineaple', 'cherry', 'watermelon', 45, 95.0]\n"
     ]
    }
   ],
   "source": [
    "print(fruits)"
   ]
  },
  {
   "cell_type": "code",
   "execution_count": 31,
   "id": "79f80878",
   "metadata": {},
   "outputs": [
    {
     "name": "stdout",
     "output_type": "stream",
     "text": [
      "['strawberry', 'orange', 'pineaple', 'cherry', 'watermelon', 45, 95.0, 'mango', 'apple', 'banana', 'grape']\n"
     ]
    }
   ],
   "source": [
    "print(fruits)"
   ]
  },
  {
   "cell_type": "code",
   "execution_count": null,
   "id": "73a1ebd8",
   "metadata": {},
   "outputs": [],
   "source": []
  },
  {
   "cell_type": "code",
   "execution_count": 14,
   "id": "dd5ea352",
   "metadata": {},
   "outputs": [
    {
     "name": "stdout",
     "output_type": "stream",
     "text": [
      "['cherry', 'orange', 'pineaple', 'strawberry', 'watermelon', 'goat', 'lion', 'sheep']\n"
     ]
    }
   ],
   "source": [
    "fruits.remove(45)\n",
    "fruits.remove(95.0)\n",
    "print(fruits)"
   ]
  },
  {
   "cell_type": "code",
   "execution_count": 17,
   "id": "8a585428",
   "metadata": {},
   "outputs": [
    {
     "name": "stdout",
     "output_type": "stream",
     "text": [
      "['cherry', 'goat', 'lion', 'orange', 'pineaple', 'sheep', 'strawberry', 'watermelon']\n"
     ]
    }
   ],
   "source": [
    "fruits.sort()\n",
    "print(fruits)"
   ]
  },
  {
   "cell_type": "code",
   "execution_count": 18,
   "id": "6afed47a",
   "metadata": {},
   "outputs": [
    {
     "name": "stdout",
     "output_type": "stream",
     "text": [
      "['cherry', 'goat', 'lion', 'orange', 'pineaple', 'sheep', 'strawberry', 'watermelon']\n"
     ]
    }
   ],
   "source": [
    "fruits2=fruits.copy()\n",
    "print(fruits2)"
   ]
  },
  {
   "cell_type": "code",
   "execution_count": 19,
   "id": "f88fe7df",
   "metadata": {},
   "outputs": [
    {
     "name": "stdout",
     "output_type": "stream",
     "text": [
      "['cherry', 'goat', 'lion', 'orange', 'pineaple', 'sheep', 'strawberry', 'watermelon']\n"
     ]
    }
   ],
   "source": [
    "print(fruits)"
   ]
  },
  {
   "cell_type": "markdown",
   "id": "559027bc",
   "metadata": {},
   "source": [
    "## Dictionary"
   ]
  },
  {
   "cell_type": "code",
   "execution_count": 37,
   "id": "f2927546",
   "metadata": {},
   "outputs": [],
   "source": [
    "## Dictionary is changeable\n",
    "## dictionary use the curly bracket for identification{}\n",
    "## dictionary use the key to locate the element."
   ]
  },
  {
   "cell_type": "code",
   "execution_count": 3,
   "id": "fac8336f",
   "metadata": {},
   "outputs": [
    {
     "name": "stdout",
     "output_type": "stream",
     "text": [
      "<class 'dict'>\n",
      "4\n",
      "{'name': 'Emmanuel', 'age': 45, 'marital_status': 'married', 'date': '04-11-2023'}\n"
     ]
    }
   ],
   "source": [
    "human={\n",
    "    \"name\":\"Emmanuel\",\n",
    "    \"age\":45,\n",
    "    \"marital_status\":\"married\",\n",
    "    \"date\":\"04-11-2023\"\n",
    "}\n",
    "print(type(human))\n",
    "print(len(human))\n",
    "print(human)"
   ]
  },
  {
   "cell_type": "code",
   "execution_count": 43,
   "id": "8689c03c",
   "metadata": {},
   "outputs": [
    {
     "name": "stdout",
     "output_type": "stream",
     "text": [
      "Emmanuel\n"
     ]
    }
   ],
   "source": [
    "print(human[\"name\"])"
   ]
  },
  {
   "cell_type": "code",
   "execution_count": 45,
   "id": "c3f822d2",
   "metadata": {},
   "outputs": [
    {
     "name": "stdout",
     "output_type": "stream",
     "text": [
      "dict_keys(['name', 'age', 'marital_status', 'date'])\n",
      "dict_values(['Emmanuel', 45, 'married', '04-11-2023'])\n"
     ]
    }
   ],
   "source": [
    "print(human.keys())\n",
    "print(human.values())"
   ]
  },
  {
   "cell_type": "code",
   "execution_count": 1,
   "id": "88d022d5",
   "metadata": {},
   "outputs": [],
   "source": [
    "## Dictionary\n",
    "## create a dictionary of students name students and subjects in which they awarded to them\n",
    "students={\n",
    "    \"name\":{\"name1\":\"david\",\"name2\":\"grace\",\"name3\":\"Musa\"},\n",
    "    \"subjects\":{\"subject1\":\"furthermaths\",\"subject2\":\"Biology\",\"sbject3\":\"English\"},\n",
    "    \"score\":{\"score1\":45,\"score2\":90,\"score\":78}\n",
    "}"
   ]
  },
  {
   "cell_type": "code",
   "execution_count": 5,
   "id": "2b349362",
   "metadata": {},
   "outputs": [
    {
     "name": "stdout",
     "output_type": "stream",
     "text": [
      "{'name1': 'david', 'name2': 'grace', 'name3': 'Musa'}\n",
      "grace\n"
     ]
    }
   ],
   "source": [
    "print(students[\"name\"])\n",
    "print(students[\"name\"][\"name2\"])"
   ]
  },
  {
   "cell_type": "code",
   "execution_count": 9,
   "id": "67a3f504",
   "metadata": {},
   "outputs": [
    {
     "name": "stdout",
     "output_type": "stream",
     "text": [
      "{'name': 'Emmanuel', 'age': 45, 'marital_status': 'married', 'date': '04-11-2023', 'height': 1.97}\n"
     ]
    }
   ],
   "source": [
    "## method 1\n",
    "r=({\"height\":1.97})\n",
    "human.update(r)\n",
    "print(human)"
   ]
  },
  {
   "cell_type": "code",
   "execution_count": 10,
   "id": "4c525687",
   "metadata": {},
   "outputs": [
    {
     "name": "stdout",
     "output_type": "stream",
     "text": [
      "{'name': 'Emmanuel', 'age': 45, 'marital_status': 'married', 'date': '04-11-2023', 'height': 1.97, 'height2': [1.92]}\n"
     ]
    }
   ],
   "source": [
    "## Method 2\n",
    "human[\"height2\"]=[1.92]\n",
    "print(human)"
   ]
  },
  {
   "cell_type": "code",
   "execution_count": 11,
   "id": "93dc6dfb",
   "metadata": {},
   "outputs": [
    {
     "name": "stdout",
     "output_type": "stream",
     "text": [
      "{'name': 'Emmanuel', 'age': 45, 'marital_status': 'single', 'date': '04-11-2023', 'height': 1.97, 'height2': [1.92]}\n"
     ]
    }
   ],
   "source": [
    "## modifying a paticular value\n",
    "human[\"marital_status\"]=\"single\"\n",
    "print(human)"
   ]
  },
  {
   "cell_type": "code",
   "execution_count": 12,
   "id": "dd434813",
   "metadata": {},
   "outputs": [
    {
     "name": "stdout",
     "output_type": "stream",
     "text": [
      "{'name': 'Emmanuel', 'age': '30', 'marital_status': 'single', 'date': '04-11-2023', 'height': 1.97, 'height2': [1.92]}\n"
     ]
    }
   ],
   "source": [
    "human[\"age\"]=\"30\"\n",
    "print(human)"
   ]
  },
  {
   "cell_type": "code",
   "execution_count": null,
   "id": "2a61bd52",
   "metadata": {},
   "outputs": [],
   "source": []
  }
 ],
 "metadata": {
  "kernelspec": {
   "display_name": "Python 3 (ipykernel)",
   "language": "python",
   "name": "python3"
  },
  "language_info": {
   "codemirror_mode": {
    "name": "ipython",
    "version": 3
   },
   "file_extension": ".py",
   "mimetype": "text/x-python",
   "name": "python",
   "nbconvert_exporter": "python",
   "pygments_lexer": "ipython3",
   "version": "3.11.5"
  }
 },
 "nbformat": 4,
 "nbformat_minor": 5
}
