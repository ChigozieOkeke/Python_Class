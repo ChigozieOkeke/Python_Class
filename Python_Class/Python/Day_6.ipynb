{
 "cells": [
  {
   "cell_type": "markdown",
   "id": "89e1852e",
   "metadata": {},
   "source": [
    "## Range"
   ]
  },
  {
   "cell_type": "code",
   "execution_count": 3,
   "id": "47b5e8d2",
   "metadata": {},
   "outputs": [
    {
     "name": "stdout",
     "output_type": "stream",
     "text": [
      "1\n",
      "2\n",
      "3\n",
      "4\n",
      "5\n",
      "6\n",
      "7\n",
      "8\n",
      "9\n",
      "10\n"
     ]
    }
   ],
   "source": [
    "## Range implifies by beging a particular number to a determined number.\n",
    "for h in range(1,11):\n",
    "    print(h)"
   ]
  },
  {
   "cell_type": "code",
   "execution_count": 9,
   "id": "aedbf959",
   "metadata": {},
   "outputs": [
    {
     "name": "stdout",
     "output_type": "stream",
     "text": [
      "Player one won\n",
      "player one score is : 9\n",
      "player two score is : 5\n",
      "Player one won\n",
      "player one score is : 8\n",
      "player two score is : 4\n",
      "Draw\n",
      "player one score is : 7\n",
      "player two score is : 7\n",
      "Draw\n",
      "player one score is : 9\n",
      "player two score is : 9\n",
      "Player one won\n",
      "player one score is : 12\n",
      "player two score is : 5\n",
      "Player two won\n",
      "player one score is : 7\n",
      "player two score is : 8\n",
      "Player one won\n",
      "player one score is : 9\n",
      "player two score is : 7\n",
      "Player two won\n",
      "player one score is : 6\n",
      "player two score is : 7\n",
      "Player one won\n",
      "player one score is : 11\n",
      "player two score is : 8\n",
      "Player two won\n",
      "player one score is : 7\n",
      "player two score is : 10\n",
      "player one is the overall winer by 29point\n"
     ]
    }
   ],
   "source": [
    "score1=0\n",
    "score2=0\n",
    "import random\n",
    "for r in range(1,11):\n",
    "    dice1=(random.randint(1,6)+random.randint(1,6))\n",
    "    dice2=(random.randint(1,6)+random.randint(1,6))\n",
    "    if dice1 > dice2:\n",
    "        score1+=5\n",
    "        print(\"Player one won\")\n",
    "        print(f\"player one score is : {dice1}\")\n",
    "        print(f\"player two score is : {dice2}\")\n",
    "    elif dice2 > dice1:\n",
    "        score2+=5\n",
    "        print(\"Player two won\")\n",
    "        print(f\"player one score is : {dice1}\")\n",
    "        print(f\"player two score is : {dice2}\")\n",
    "    elif dice2 == dice1:\n",
    "        score1+=1\n",
    "        score1+=1\n",
    "        print(\"Draw\")\n",
    "        print(f\"player one score is : {dice1}\")\n",
    "        print(f\"player two score is : {dice2}\")\n",
    "if score1>score2:\n",
    "    print(f\"player one is the overall winer by {score1}point\")\n",
    "elif score2>score1:\n",
    "    print(f\"player two is the overall winer by {score2}point\")\n",
    "elif score2==score1:\n",
    "    print(f\"draw between two players try again.\")    "
   ]
  },
  {
   "cell_type": "markdown",
   "id": "8a625e17",
   "metadata": {},
   "source": [
    "## Functions"
   ]
  },
  {
   "cell_type": "code",
   "execution_count": 12,
   "id": "4b19403f",
   "metadata": {},
   "outputs": [
    {
     "name": "stdout",
     "output_type": "stream",
     "text": [
      "welcome to python class: \n"
     ]
    }
   ],
   "source": [
    "def greet():\n",
    "    print(\"welcome to python class: \")\n",
    "greet()    "
   ]
  },
  {
   "cell_type": "code",
   "execution_count": 13,
   "id": "1eaac3d8",
   "metadata": {},
   "outputs": [
    {
     "name": "stdout",
     "output_type": "stream",
     "text": [
      "welcome to python class: Chigozie\n"
     ]
    }
   ],
   "source": [
    "def greet1(name):\n",
    "    print(f\"welcome to python class: {name}\")\n",
    "greet1(\"Chigozie\")    "
   ]
  },
  {
   "cell_type": "code",
   "execution_count": 1,
   "id": "2d7045c9",
   "metadata": {},
   "outputs": [
    {
     "name": "stdout",
     "output_type": "stream",
     "text": [
      "Chigozie, welcome to python class\n"
     ]
    }
   ],
   "source": [
    "def greet1(name):\n",
    "    print(f\"{name }, welcome to python class\")\n",
    "greet1(\"Chigozie\")    "
   ]
  },
  {
   "cell_type": "code",
   "execution_count": 17,
   "id": "08f71129",
   "metadata": {},
   "outputs": [
    {
     "name": "stdout",
     "output_type": "stream",
     "text": [
      "____CITIZEN DETAIL____\n",
      "    \"Name\":john\n",
      "    \"Age\":22\n",
      "    \"Gender\":male\n",
      "you are eligible to vote\n"
     ]
    }
   ],
   "source": [
    "def vote(name, age, gender,):\n",
    "    print(f\"\"\"____CITIZEN DETAIL____\n",
    "    \"Name\":{name}\n",
    "    \"Age\":{age}\n",
    "    \"Gender\":{gender}\"\"\")\n",
    "    if age >=18:\n",
    "        print(\"you are eligible to vote\")\n",
    "    else:\n",
    "        print(\"Not Eligible, try next time\")\n",
    "vote(\"john\",22,\"male\")        "
   ]
  },
  {
   "cell_type": "code",
   "execution_count": 19,
   "id": "ede820ee",
   "metadata": {},
   "outputs": [
    {
     "name": "stdout",
     "output_type": "stream",
     "text": [
      "____CITIZEN DETAIL____\n",
      "    \"Name\":john\n",
      "    \"Age\":17\n",
      "    \"Gender\":male\n",
      "you are eligible to vote in the primary sector\n"
     ]
    }
   ],
   "source": [
    "def vote(name, age, gender,):\n",
    "    print(f\"\"\"____CITIZEN DETAIL____\n",
    "    \"Name\":{name}\n",
    "    \"Age\":{age}\n",
    "    \"Gender\":{gender}\"\"\")\n",
    "    if age >=18:\n",
    "        print(\"you are eligible to vote\")\n",
    "    elif age >=16:\n",
    "        print(\"you are eligible to vote in the primary sector\")    \n",
    "    else:\n",
    "        print(\"Not Eligible, try next time\")\n",
    "vote(\"john\",17,\"male\") "
   ]
  },
  {
   "cell_type": "code",
   "execution_count": 22,
   "id": "9e533b54",
   "metadata": {},
   "outputs": [
    {
     "name": "stdout",
     "output_type": "stream",
     "text": [
      "____CITIZEN DETAIL____\n",
      "    \"Name\":john\n",
      "    \"Age\":17\n",
      "    \"Gender\":female\n",
      "Not Eligible, try next time\n"
     ]
    }
   ],
   "source": [
    "def vote(name, age, gender,):\n",
    "    print(f\"\"\"____CITIZEN DETAIL____\n",
    "    \"Name\":{name}\n",
    "    \"Age\":{age}\n",
    "    \"Gender\":{gender}\"\"\")\n",
    "    if age >=18:\n",
    "        print(\"you are eligible to vote\")\n",
    "    elif gender == \"male\":\n",
    "        print(\"you are eligible to vote\")      \n",
    "    else:\n",
    "        print(\"Not Eligible, try next time\")\n",
    "vote(\"john\",17,\"female\") "
   ]
  },
  {
   "cell_type": "code",
   "execution_count": 23,
   "id": "ecf74072",
   "metadata": {},
   "outputs": [
    {
     "name": "stdout",
     "output_type": "stream",
     "text": [
      "____CITIZEN DETAIL____\n",
      "    \"Name\":john\n",
      "    \"Age\":18\n",
      "    \"Gender\":female\n",
      "you are eligible to vote in the primary sector\n"
     ]
    }
   ],
   "source": [
    "def vote(name, age, gender,):\n",
    "    print(f\"\"\"____CITIZEN DETAIL____\n",
    "    \"Name\":{name}\n",
    "    \"Age\":{age}\n",
    "    \"Gender\":{gender}\"\"\")\n",
    "    if age >=18 and gender == \"male\":\n",
    "        print(\"you are eligible to vote\")\n",
    "    elif age >=16:\n",
    "        print(\"you are eligible to vote in the primary sector\")    \n",
    "    else:\n",
    "        print(\"Not Eligible, try next time\")\n",
    "vote(\"john\",18,\"female\") "
   ]
  },
  {
   "cell_type": "code",
   "execution_count": 29,
   "id": "2e0c8231",
   "metadata": {},
   "outputs": [
    {
     "name": "stdout",
     "output_type": "stream",
     "text": [
      "____CITIZEN DETAIL____\n",
      "    \"Name\":john\n",
      "    \"Age\":18\n",
      "    \"Gender\":male\n",
      "you are eligible to vote\n"
     ]
    }
   ],
   "source": [
    "def vote(name, gender,age=18):\n",
    "    print(f\"\"\"____CITIZEN DETAIL____\n",
    "    \"Name\":{name}\n",
    "    \"Age\":{age}\n",
    "    \"Gender\":{gender}\"\"\")\n",
    "    if age >= 18:\n",
    "        print(\"you are eligible to vote\")\n",
    "    else:\n",
    "        print(\"Not Eligible, try next time\")\n",
    "vote(\"john\",\"male\",18)        "
   ]
  },
  {
   "cell_type": "code",
   "execution_count": 32,
   "id": "9d26272b",
   "metadata": {},
   "outputs": [
    {
     "name": "stdout",
     "output_type": "stream",
     "text": [
      "____CITIZEN DETAIL____\n",
      "    \"Name\":john\n",
      "    \"age\":20\n",
      "    \"Height\":18\n",
      "    \"Gender\":male\n",
      "you are eligible to vote\n"
     ]
    }
   ],
   "source": [
    "def vote(name, gender,age=20,height=18):\n",
    "    print(f\"\"\"____CITIZEN DETAIL____\n",
    "    \"Name\":{name}\n",
    "    \"age\":{age}\n",
    "    \"Height\":{height}\n",
    "    \"Gender\":{gender}\"\"\")\n",
    "    if age >= 20:\n",
    "        print(\"you are eligible to vote\")\n",
    "    elif height >= 18:\n",
    "        print(\"you are eligible to vote\")    \n",
    "    else:\n",
    "        print(\"Not Eligible, try next time\")\n",
    "vote(\"john\",\"male\",20,18)        "
   ]
  },
  {
   "cell_type": "code",
   "execution_count": 36,
   "id": "0490c80e",
   "metadata": {},
   "outputs": [
    {
     "name": "stdout",
     "output_type": "stream",
     "text": [
      "____CITIZEN DETAIL____\n",
      "    \"Name\":john\n",
      "    \"age\":20\n",
      "    \"Height\":18\n",
      "    \"Gender\":male\n",
      "you are eligible to vote\n"
     ]
    }
   ],
   "source": [
    "def vote(name, gender,age=20,height=18):\n",
    "    print(f\"\"\"____CITIZEN DETAIL____\n",
    "    \"Name\":{name}\n",
    "    \"age\":{age}\n",
    "    \"Height\":{height}\n",
    "    \"Gender\":{gender}\"\"\")\n",
    "    if age >= 20 and height >=18:\n",
    "        print(\"you are eligible to vote\")   \n",
    "    else:\n",
    "        print(\"Not Eligible, try next time\")\n",
    "vote(\"john\",\"male\",20,18)        "
   ]
  },
  {
   "cell_type": "code",
   "execution_count": 3,
   "id": "53bdb202",
   "metadata": {},
   "outputs": [
    {
     "name": "stdout",
     "output_type": "stream",
     "text": [
      "Enter your name: Chiagozie\n",
      "Enter your age: 30\n",
      "Enter your gender: Male\n",
      "___VOTER'S INFORMATION____\n",
      "    \"NAME\": Chiagozie\n",
      "    \"AGE\": 30\n",
      "    \"GENDER\": Male\n",
      "You are eligible to vote\n"
     ]
    }
   ],
   "source": [
    "def voters_information(name,age,gender):\n",
    "    name=input(\"Enter your name: \")\n",
    "    age=int(input(\"Enter your age: \"))\n",
    "    gender=input(\"Enter your gender: \")\n",
    "    print(f\"\"\"___VOTER'S INFORMATION____\n",
    "    \"NAME\": {name}\n",
    "    \"AGE\": {age}\n",
    "    \"GENDER\": {gender}\"\"\")\n",
    "    if age>= 18:\n",
    "        print(\"You are eligible to vote\")\n",
    "    elif age < 18:\n",
    "        print(\"You are underage\")\n",
    "voters_information(\"name\",\"age\",\"gender\")        "
   ]
  },
  {
   "cell_type": "code",
   "execution_count": null,
   "id": "8347f0ef",
   "metadata": {},
   "outputs": [],
   "source": []
  }
 ],
 "metadata": {
  "kernelspec": {
   "display_name": "Python 3 (ipykernel)",
   "language": "python",
   "name": "python3"
  },
  "language_info": {
   "codemirror_mode": {
    "name": "ipython",
    "version": 3
   },
   "file_extension": ".py",
   "mimetype": "text/x-python",
   "name": "python",
   "nbconvert_exporter": "python",
   "pygments_lexer": "ipython3",
   "version": "3.11.5"
  }
 },
 "nbformat": 4,
 "nbformat_minor": 5
}
