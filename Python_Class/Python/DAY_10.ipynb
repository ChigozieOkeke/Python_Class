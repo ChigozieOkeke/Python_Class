{
 "cells": [
  {
   "cell_type": "markdown",
   "id": "de2d680d",
   "metadata": {},
   "source": [
    "## DATE AND TIME"
   ]
  },
  {
   "cell_type": "code",
   "execution_count": 5,
   "id": "3972c3f1",
   "metadata": {},
   "outputs": [
    {
     "name": "stdout",
     "output_type": "stream",
     "text": [
      "['MAXYEAR', 'MINYEAR', 'UTC', '__all__', '__builtins__', '__cached__', '__doc__', '__file__', '__loader__', '__name__', '__package__', '__spec__', 'date', 'datetime', 'datetime_CAPI', 'sys', 'time', 'timedelta', 'timezone', 'tzinfo']\n"
     ]
    }
   ],
   "source": [
    "import datetime\n",
    "print(dir(datetime))"
   ]
  },
  {
   "cell_type": "code",
   "execution_count": 11,
   "id": "c93c25a6",
   "metadata": {},
   "outputs": [
    {
     "name": "stdout",
     "output_type": "stream",
     "text": [
      "2022-02-15\n"
     ]
    }
   ],
   "source": [
    "date1=datetime.date(2022,2,15)\n",
    "print (date1)"
   ]
  },
  {
   "cell_type": "code",
   "execution_count": 7,
   "id": "44006f7f",
   "metadata": {},
   "outputs": [
    {
     "name": "stdout",
     "output_type": "stream",
     "text": [
      "2022\n",
      "15\n",
      "2\n",
      "1\n"
     ]
    }
   ],
   "source": [
    "print(date1.year)\n",
    "print(date1.day)\n",
    "print(date1.month)\n",
    "print(date1.weekday())        ##() means to tell you the exact week"
   ]
  },
  {
   "cell_type": "markdown",
   "id": "5487dc2e",
   "metadata": {},
   "source": [
    "## how to get a current date "
   ]
  },
  {
   "cell_type": "code",
   "execution_count": 19,
   "id": "34740d5a",
   "metadata": {},
   "outputs": [
    {
     "name": "stdout",
     "output_type": "stream",
     "text": [
      "2024-03-07\n"
     ]
    }
   ],
   "source": [
    "currentdate=datetime.date.today()\n",
    "print(currentdate)"
   ]
  },
  {
   "cell_type": "markdown",
   "id": "8438071a",
   "metadata": {},
   "source": [
    "## MODIFICATION OF DATE AND TIME ADDING STRING FORMAT "
   ]
  },
  {
   "cell_type": "code",
   "execution_count": 11,
   "id": "4e1d481f",
   "metadata": {},
   "outputs": [],
   "source": [
    "## PERCENTAGE (%) BEHIND A LETTER SIMPLIFY A CERTAIN MODIFICATION, THAT MEANS IS STANDING IN FOR SOMETHING\n",
    "## STRFTIME: THIS IS USED FOR MODIFICATION OF TIME AND DATE IN STRING FORMAT."
   ]
  },
  {
   "cell_type": "code",
   "execution_count": 12,
   "id": "eae3355d",
   "metadata": {},
   "outputs": [
    {
     "data": {
      "text/plain": [
       "'04 of March, 2024'"
      ]
     },
     "execution_count": 12,
     "metadata": {},
     "output_type": "execute_result"
    }
   ],
   "source": [
    "currentdate.strftime(\"%d of %B, %Y\")  ## d means the particular date, B means the particular month, while Y means year"
   ]
  },
  {
   "cell_type": "code",
   "execution_count": 14,
   "id": "68fb6978",
   "metadata": {},
   "outputs": [
    {
     "data": {
      "text/plain": [
       "datetime.time(11, 6, 38, 598023)"
      ]
     },
     "execution_count": 14,
     "metadata": {},
     "output_type": "execute_result"
    }
   ],
   "source": [
    "current_time=datetime.datetime.now().time()\n",
    "current_time"
   ]
  },
  {
   "cell_type": "markdown",
   "id": "78dc0bd7",
   "metadata": {},
   "source": [
    "## how to format to a strftime"
   ]
  },
  {
   "cell_type": "code",
   "execution_count": 15,
   "id": "917af909",
   "metadata": {},
   "outputs": [
    {
     "data": {
      "text/plain": [
       "'11:06:38:AM'"
      ]
     },
     "execution_count": 15,
     "metadata": {},
     "output_type": "execute_result"
    }
   ],
   "source": [
    "current_time.strftime(\"%H:%M:%S:%p\")  ## H: HOUR, M:MINUTE, S:SECOND, p: is whether is AM or PM, ## strftime: when you want to convert "
   ]
  },
  {
   "cell_type": "markdown",
   "id": "2d09659d",
   "metadata": {},
   "source": [
    "## USE AN INPUT FUNCTION NOW"
   ]
  },
  {
   "cell_type": "code",
   "execution_count": 18,
   "id": "7d52cfb6",
   "metadata": {},
   "outputs": [
    {
     "name": "stdout",
     "output_type": "stream",
     "text": [
      "Enter your date[mm/dd/yy]03/03/2024\n"
     ]
    },
    {
     "data": {
      "text/plain": [
       "datetime.date(2024, 3, 3)"
      ]
     },
     "execution_count": 18,
     "metadata": {},
     "output_type": "execute_result"
    }
   ],
   "source": [
    "cdate=input(\"Enter your date[mm/dd/yy]\")\n",
    "condate=datetime.datetime.strptime(cdate,\"%m/%d/%Y\").date()  ## Y ## strptime: when you are taking functiom\n",
    "condate"
   ]
  },
  {
   "cell_type": "code",
   "execution_count": 19,
   "id": "ec2acdaf",
   "metadata": {},
   "outputs": [
    {
     "data": {
      "text/plain": [
       "datetime.timedelta(days=1)"
      ]
     },
     "execution_count": 19,
     "metadata": {},
     "output_type": "execute_result"
    }
   ],
   "source": [
    "currentdate - condate  ## to calculate pass date from current date"
   ]
  },
  {
   "cell_type": "markdown",
   "id": "16f49753",
   "metadata": {},
   "source": [
    "## to calculate a future date frontward"
   ]
  },
  {
   "cell_type": "code",
   "execution_count": 21,
   "id": "a5361cb0",
   "metadata": {},
   "outputs": [
    {
     "data": {
      "text/plain": [
       "datetime.date(2024, 8, 1)"
      ]
     },
     "execution_count": 21,
     "metadata": {},
     "output_type": "execute_result"
    }
   ],
   "source": [
    "currentdate + datetime.timedelta(days=150)"
   ]
  },
  {
   "cell_type": "markdown",
   "id": "6fb81ee1",
   "metadata": {},
   "source": [
    "## to specify days you need backward"
   ]
  },
  {
   "cell_type": "code",
   "execution_count": 24,
   "id": "0c905da2",
   "metadata": {},
   "outputs": [
    {
     "data": {
      "text/plain": [
       "datetime.date(2023, 10, 6)"
      ]
     },
     "execution_count": 24,
     "metadata": {},
     "output_type": "execute_result"
    }
   ],
   "source": [
    "currentdate - datetime.timedelta(days=150)"
   ]
  },
  {
   "cell_type": "code",
   "execution_count": 25,
   "id": "c85475ef",
   "metadata": {},
   "outputs": [],
   "source": [
    "## Exercise\n",
    "## write a program to calculate how many weeks and days a user has until his/her appointment from the current date"
   ]
  },
  {
   "cell_type": "code",
   "execution_count": 28,
   "id": "62ddc677",
   "metadata": {},
   "outputs": [
    {
     "name": "stdout",
     "output_type": "stream",
     "text": [
      "Enter your date[mm/dd/yy]01/02/2022\n"
     ]
    },
    {
     "data": {
      "text/plain": [
       "6"
      ]
     },
     "execution_count": 28,
     "metadata": {},
     "output_type": "execute_result"
    }
   ],
   "source": [
    "cdate=input(\"Enter your date[mm/dd/yy]\")\n",
    "condate=datetime.datetime.strptime(cdate,\"%m/%d/%Y\").date()\n",
    "condate"
   ]
  },
  {
   "cell_type": "code",
   "execution_count": 31,
   "id": "e9a42076",
   "metadata": {},
   "outputs": [
    {
     "data": {
      "text/plain": [
       "datetime.date(2024, 9, 20)"
      ]
     },
     "execution_count": 31,
     "metadata": {},
     "output_type": "execute_result"
    }
   ],
   "source": [
    "currentdate + datetime.timedelta(days=200)\n",
    "                                                   "
   ]
  },
  {
   "cell_type": "markdown",
   "id": "af5e0964",
   "metadata": {},
   "source": [
    "## correction\n"
   ]
  },
  {
   "cell_type": "code",
   "execution_count": 33,
   "id": "ca6edefd",
   "metadata": {},
   "outputs": [
    {
     "name": "stdout",
     "output_type": "stream",
     "text": [
      "Enter your appointment[yy/mm/dd]2024/05/02\n",
      "DEAR USER YOU HAVE 8 weeks and 3 days untill your appointment...\n"
     ]
    }
   ],
   "source": [
    "appdate=input(\"Enter your appointment[yy/mm/dd]\")\n",
    "appdate_now=datetime.datetime.strptime(appdate,\"%Y/%m/%d\").date()\n",
    "currentdate=datetime.date.today()\n",
    "diff=appdate_now - currentdate\n",
    "weeks_num=diff.days//7\n",
    "days_num=diff.days % 7\n",
    "print(f\"DEAR USER YOU HAVE {weeks_num} weeks and {days_num} days untill your appointment...\")"
   ]
  },
  {
   "cell_type": "code",
   "execution_count": null,
   "id": "2e47f5e3",
   "metadata": {},
   "outputs": [],
   "source": [
    " ## CLASS WORK ON CLASS \n",
    "## Exercise under class \n",
    "## write a program to the following to display patient record,\n",
    "## calculate their checking fee based on the continent,\n",
    "## check their bodymass index\n",
    "## NOTE READ AND UNDERSTAND THE QUESTION TO KNOW WHAT ATTRIBUTE ARE NEEDED\n"
   ]
  }
 ],
 "metadata": {
  "kernelspec": {
   "display_name": "Python 3 (ipykernel)",
   "language": "python",
   "name": "python3"
  },
  "language_info": {
   "codemirror_mode": {
    "name": "ipython",
    "version": 3
   },
   "file_extension": ".py",
   "mimetype": "text/x-python",
   "name": "python",
   "nbconvert_exporter": "python",
   "pygments_lexer": "ipython3",
   "version": "3.11.5"
  }
 },
 "nbformat": 4,
 "nbformat_minor": 5
}
