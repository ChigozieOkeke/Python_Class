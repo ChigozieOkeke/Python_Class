{
 "cells": [
  {
   "cell_type": "code",
   "execution_count": 1,
   "id": "f8fb137c",
   "metadata": {},
   "outputs": [],
   "source": [
    "## Write a python class named rectangle to represent rectangle, with each and Methods."
   ]
  },
  {
   "cell_type": "code",
   "execution_count": null,
   "id": "e093a78c",
   "metadata": {},
   "outputs": [],
   "source": [
    "class Rectangle:\n",
    "    def __init__(self,width,height):\n",
    "        self.width=width\n",
    "        self.height=height\n",
    "    def area(self):\n",
    "        return self.width * self.height\n",
    "    def parameter(self):\n",
    "        return 2*(self.width + self.height)\n",
    "rect=Rectangle(5,4)    "
   ]
  },
  {
   "cell_type": "code",
   "execution_count": 22,
   "id": "3c07f758",
   "metadata": {},
   "outputs": [
    {
     "data": {
      "text/plain": [
       "20"
      ]
     },
     "execution_count": 22,
     "metadata": {},
     "output_type": "execute_result"
    }
   ],
   "source": [
    "rect.area()"
   ]
  },
  {
   "cell_type": "code",
   "execution_count": 5,
   "id": "94549950",
   "metadata": {},
   "outputs": [
    {
     "data": {
      "text/plain": [
       "18"
      ]
     },
     "execution_count": 5,
     "metadata": {},
     "output_type": "execute_result"
    }
   ],
   "source": [
    "rect.parameter()"
   ]
  },
  {
   "cell_type": "code",
   "execution_count": 6,
   "id": "f69d40d0",
   "metadata": {},
   "outputs": [],
   "source": [
    "## write a simulation program that has the following attributes\n",
    "## [brand, model, color, year, speed] and the following methods:\n",
    "##[start,change gear, acceration and stop]."
   ]
  },
  {
   "cell_type": "code",
   "execution_count": 61,
   "id": "b46d9116",
   "metadata": {
    "tags": []
   },
   "outputs": [],
   "source": [
    "class car:## parent class\n",
    "    def __init__(self,brand,model,color,year,speed):\n",
    "        self.brand=brand\n",
    "        self.model=model\n",
    "        self.color=color\n",
    "        self.year=year\n",
    "        self.speed=speed\n",
    "    def start(self):\n",
    "        print(f\"{self.brand}{self.model} has started\")\n",
    "    def gear(self):\n",
    "        option=input(\"choose gear option with [1,2,3,4,5,R]\")\n",
    "        if option == \"1\":\n",
    "            print(f\"Gear selection has been changed one{self.model}\")\n",
    "        elif option == \"2\":\n",
    "            print(f\"Gear selection has been changed Two{self.model}\")\n",
    "        elif option == \"3\":\n",
    "            print(f\"Gear selection has been changed Three{self.model}\")\n",
    "        elif option == \"4\":\n",
    "            print(f\"Gear selection has been changed Four{self.model}\")\n",
    "        elif option == \"5\":\n",
    "            print(f\"Gear selection has been changed Five`{self.model}\") \n",
    "        elif option == \"R\":\n",
    "            print(\"Reverse\")\n",
    "    def acceralation(self):\n",
    "        option=input(\"CHOOSE OPTION [on,off]\")\n",
    "        if option == \"ON\":\n",
    "            print(\"Nitro Engaged!!!\")\n",
    "        elif option == \"OFF\":\n",
    "            print(\"Nitro In Safe Mode\")                  \n",
    "    def stop(self):\n",
    "        print (\"Engine OFF\")\n",
    "car1=car(\"MERCEDES BENZ\", \"AMG\",\"BLACK\",2022,\"300mph\")       "
   ]
  },
  {
   "cell_type": "code",
   "execution_count": 41,
   "id": "4ad5417b",
   "metadata": {},
   "outputs": [
    {
     "name": "stdout",
     "output_type": "stream",
     "text": [
      "CHOOSE OPTION [on,off]on\n"
     ]
    }
   ],
   "source": [
    "car1.acceralation()"
   ]
  },
  {
   "cell_type": "code",
   "execution_count": 60,
   "id": "02689952",
   "metadata": {},
   "outputs": [
    {
     "ename": "TypeError",
     "evalue": "car.start() takes 0 positional arguments but 1 was given",
     "output_type": "error",
     "traceback": [
      "\u001b[1;31m---------------------------------------------------------------------------\u001b[0m",
      "\u001b[1;31mTypeError\u001b[0m                                 Traceback (most recent call last)",
      "Cell \u001b[1;32mIn[60], line 1\u001b[0m\n\u001b[1;32m----> 1\u001b[0m car1\u001b[38;5;241m.\u001b[39mstart()\n",
      "\u001b[1;31mTypeError\u001b[0m: car.start() takes 0 positional arguments but 1 was given"
     ]
    }
   ],
   "source": [
    "car1.start()"
   ]
  },
  {
   "cell_type": "code",
   "execution_count": 46,
   "id": "040bfdc1",
   "metadata": {},
   "outputs": [
    {
     "name": "stdout",
     "output_type": "stream",
     "text": [
      "<<<\n",
      "Area And Parameter Of A Rectangle\n",
      ">>>>\n",
      "1. Area Of A Rectangle\n",
      "2. Parameter Of A Rectangle\n",
      "3. Stopped\n",
      "\n",
      "select an option3\n",
      "Done\n"
     ]
    }
   ],
   "source": [
    "class Rectangle:\n",
    "    def __init__(self,width,height):\n",
    "        self.width=width\n",
    "        self.height=height\n",
    "    def area(self):\n",
    "        return self.width * self.height\n",
    "    def parameter(self):\n",
    "        return 2*(self.width + self.height)\n",
    "rect=Rectangle(5,4)\n",
    "def main():\n",
    "    rect=Rectangle(5,4)\n",
    "    while True:\n",
    "        print(\"<<<\\nArea And Parameter Of A Rectangle\\n>>>>\")\n",
    "        print(\"1. Area Of A Rectangle\")\n",
    "        print(\"2. Parameter Of A Rectangle\")\n",
    "        print(\"3. Stopped\")\n",
    "        choice=input(\"\\nselect an option\")\n",
    "        if choice == \"1\":\n",
    "            rect.area()\n",
    "        elif choice == \"2\":\n",
    "            rect.parameter()\n",
    "        elif choice == \"3\":\n",
    "            print(\"Done\")\n",
    "            break\n",
    "        else:\n",
    "            print(\"<<< INVALID OPTION >>>!!!.\")\n",
    "if __name__==\"__main__\":\n",
    "    main()\n",
    "              "
   ]
  },
  {
   "cell_type": "code",
   "execution_count": 66,
   "id": "e22fce2a",
   "metadata": {},
   "outputs": [],
   "source": [
    "class car2(car):## Child's class (new class)\n",
    "    def openroof(self):\n",
    "        option=input(\"what is the condition[open,close]:\")\n",
    "        if option == \"open\":\n",
    "            print(\"CAR ROOF TOP OPENING...\")\n",
    "        elif option==\"close\":\n",
    "            print(\"CAR ROOF TOP CLOSED...\")\n",
    "mercedes=car2(\"MERCEDES BENZ\",\"AMG 4+\",\"BLACK\",2024,\"400mph\")            "
   ]
  },
  {
   "cell_type": "code",
   "execution_count": 67,
   "id": "c7d497ef",
   "metadata": {},
   "outputs": [
    {
     "name": "stdout",
     "output_type": "stream",
     "text": [
      "MERCEDES BENZAMG 4+ has started\n"
     ]
    }
   ],
   "source": [
    "mercedes.start()"
   ]
  },
  {
   "cell_type": "code",
   "execution_count": 68,
   "id": "50d632b5",
   "metadata": {},
   "outputs": [
    {
     "name": "stdout",
     "output_type": "stream",
     "text": [
      "CHOOSE OPTION [on,off]on\n"
     ]
    }
   ],
   "source": [
    "mercedes.acceralation()"
   ]
  },
  {
   "cell_type": "code",
   "execution_count": null,
   "id": "dd9402bb",
   "metadata": {},
   "outputs": [],
   "source": []
  }
 ],
 "metadata": {
  "kernelspec": {
   "display_name": "Python 3 (ipykernel)",
   "language": "python",
   "name": "python3"
  },
  "language_info": {
   "codemirror_mode": {
    "name": "ipython",
    "version": 3
   },
   "file_extension": ".py",
   "mimetype": "text/x-python",
   "name": "python",
   "nbconvert_exporter": "python",
   "pygments_lexer": "ipython3",
   "version": "3.11.5"
  }
 },
 "nbformat": 4,
 "nbformat_minor": 5
}
