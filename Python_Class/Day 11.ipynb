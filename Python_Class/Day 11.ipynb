{
 "cells": [
  {
   "cell_type": "code",
   "execution_count": 3,
   "id": "82a2cd59",
   "metadata": {},
   "outputs": [],
   "source": [
    "class patientrecord:\n",
    "    def __init__(self,name,age,height,weight,complexion):\n",
    "        self.name=name\n",
    "        self.age=age\n",
    "        self.height=height\n",
    "        self.weight=weight\n",
    "        self.complexion=complexion\n",
    "    def start(self):\n",
    "        print(f\"\"\"\n",
    "        \"NAME\":{self.name}\n",
    "        \"AGE\":{self.age}\n",
    "        \"HEIGHT\":{self.height}\n",
    "        \"WEIGHT\":{self.weight}\n",
    "        \"COMPLEXION\":{self.complexion}\n",
    "        \"\"\")\n",
    "    def continentprice(self):\n",
    "        option=input(\"what is your country selection[usa,Kwanda,sweden,nigeria,canada,ghana]\")\n",
    "        if option==\"usa\":\n",
    "            print(\"The amount in dollar is $95(checking body mass..online)\")\n",
    "        elif option==\"Kwanda\":\n",
    "            print(\"The amount in dollar is $80(checking body mass..online)\")\n",
    "        elif option==\"sweden\":\n",
    "            print(\"The amount in dollar is $100(checking body mass..online)\")\n",
    "        elif option==\"nigeria\":\n",
    "            print(\"The amount in dollar is $60(checking body mass..online)\")\n",
    "        elif option==\"canada\":\n",
    "            print(\"The amount in dollar is $89(checking body mass..online)\") \n",
    "        elif option==\"ghana\":\n",
    "            print(\"The amount in dollar is $70(checking body mass..online)\")    \n",
    "    def bodymassindex(self):\n",
    "        height=float(input(\"what is your height in meter\"))\n",
    "        weight=float(input(\"what is your weight in kg\"))\n",
    "        bmi=weight/(height**2)\n",
    "        if bmi<18.5:\n",
    "            print(f\"your BMI is {bmi}, you are underweight, see your Doctor\")\n",
    "        elif bmi>=18.5 and bmi <=24.99:\n",
    "            print(f\"your BMI is {bmi}, you are normal\")\n",
    "        elif bmi>=25 and <= 30:\n",
    "            print(f\"your BMI is {bmi}, you are overerweight, you need to see your Doctor\")\n",
    "        else:\n",
    "            print(f\"your BMI is {bmi}, you are obesse, You need to see your Doctor\")\n",
    "health=patientrecord()          "
   ]
  },
  {
   "cell_type": "markdown",
   "id": "565077f0",
   "metadata": {},
   "source": [
    "## file input and output"
   ]
  },
  {
   "cell_type": "code",
   "execution_count": 4,
   "id": "8f1fc097",
   "metadata": {},
   "outputs": [
    {
     "name": "stdout",
     "output_type": "stream",
     "text": [
      "This is python INPUT and OUTPUT\n",
      "i love programming with python and essential been useed alot\n"
     ]
    }
   ],
   "source": [
    "## open file\n",
    "file=open(r\"C:\\Users\\hdwipe\\Documents\\practice1.txt\",\"r\")\n",
    "content=file.read()\n",
    "print(content)\n",
    "          "
   ]
  },
  {
   "cell_type": "markdown",
   "id": "5e166dbb",
   "metadata": {},
   "source": [
    "## Write and save"
   ]
  },
  {
   "cell_type": "code",
   "execution_count": 7,
   "id": "bb7af9c4",
   "metadata": {},
   "outputs": [],
   "source": [
    "## open a file for writing\n",
    "file=open(r\"C:\\Users\\hdwipe\\Documents\\practice1.txt\",\"w\")\n",
    "file.write(\"\\nThis is python INPUT and OUTPUT i love \\nprogramming with python and essential been useed alot\\n\")\n",
    "file.write(\"this interesting and lovely\")\n",
    "file.close()"
   ]
  },
  {
   "cell_type": "markdown",
   "id": "a7aab960",
   "metadata": {},
   "source": [
    "## Error handling"
   ]
  },
  {
   "cell_type": "code",
   "execution_count": 8,
   "id": "fb9a0808",
   "metadata": {},
   "outputs": [
    {
     "ename": "SyntaxError",
     "evalue": "invalid syntax (3066528682.py, line 9)",
     "output_type": "error",
     "traceback": [
      "\u001b[1;36m  Cell \u001b[1;32mIn[8], line 9\u001b[1;36m\u001b[0m\n\u001b[1;33m    elif bmi>=25 and <= 30:\u001b[0m\n\u001b[1;37m                     ^\u001b[0m\n\u001b[1;31mSyntaxError\u001b[0m\u001b[1;31m:\u001b[0m invalid syntax\n"
     ]
    }
   ],
   "source": [
    "try:    \n",
    "    height=float(input(\"what is your height in meter\"))\n",
    "    weight=float(input(\"what is your weight in kg\"))\n",
    "    bmi=weight/(height**2)\n",
    "    if bmi<18.5:\n",
    "        print(f\"your BMI is {bmi}, you are underweight, see your Doctor\")\n",
    "    elif bmi>=18.5 and bmi <=24.99:\n",
    "        print(f\"your BMI is {bmi}, you are underweight, see your Doctor\")\n",
    "    elif bmi>=25 and <= 30:\n",
    "        print(f\"your BMI is {bmi}, you are underweight, see your Doctor\")\n",
    "    else:\n",
    "        print(f\"your BMI is {bmi}, you are obesse, see your Doctor\")\n",
    "except zeroDivisionErro:\n",
    "    print(\"you can't divide by zero\")\n",
    "except:\n",
    "    print(\"you have encounted one error or more\")\n",
    "else:\n",
    "    print(\"no exception\")\n",
    "finally:\n",
    "    print(\"end of programming\")"
   ]
  },
  {
   "cell_type": "code",
   "execution_count": 9,
   "id": "90abfede",
   "metadata": {},
   "outputs": [
    {
     "name": "stdout",
     "output_type": "stream",
     "text": [
      "whats the number9\n",
      "what the number0\n"
     ]
    },
    {
     "ename": "ZeroDivisionError",
     "evalue": "division by zero",
     "output_type": "error",
     "traceback": [
      "\u001b[1;31m---------------------------------------------------------------------------\u001b[0m",
      "\u001b[1;31mZeroDivisionError\u001b[0m                         Traceback (most recent call last)",
      "Cell \u001b[1;32mIn[9], line 3\u001b[0m\n\u001b[0;32m      1\u001b[0m a\u001b[38;5;241m=\u001b[39m\u001b[38;5;28mint\u001b[39m(\u001b[38;5;28minput\u001b[39m(\u001b[38;5;124m\"\u001b[39m\u001b[38;5;124mwhats the number\u001b[39m\u001b[38;5;124m\"\u001b[39m))\n\u001b[0;32m      2\u001b[0m b\u001b[38;5;241m=\u001b[39m\u001b[38;5;28mint\u001b[39m(\u001b[38;5;28minput\u001b[39m(\u001b[38;5;124m\"\u001b[39m\u001b[38;5;124mwhat the number\u001b[39m\u001b[38;5;124m\"\u001b[39m))\n\u001b[1;32m----> 3\u001b[0m divide\u001b[38;5;241m=\u001b[39ma\u001b[38;5;241m/\u001b[39mb\n",
      "\u001b[1;31mZeroDivisionError\u001b[0m: division by zero"
     ]
    }
   ],
   "source": [
    "a=int(input(\"whats the number\"))\n",
    "b=int(input(\"what the number\"))\n",
    "divide=a/b"
   ]
  },
  {
   "cell_type": "code",
   "execution_count": null,
   "id": "912a3d1f",
   "metadata": {},
   "outputs": [],
   "source": []
  }
 ],
 "metadata": {
  "kernelspec": {
   "display_name": "Python 3 (ipykernel)",
   "language": "python",
   "name": "python3"
  },
  "language_info": {
   "codemirror_mode": {
    "name": "ipython",
    "version": 3
   },
   "file_extension": ".py",
   "mimetype": "text/x-python",
   "name": "python",
   "nbconvert_exporter": "python",
   "pygments_lexer": "ipython3",
   "version": "3.11.5"
  }
 },
 "nbformat": 4,
 "nbformat_minor": 5
}
