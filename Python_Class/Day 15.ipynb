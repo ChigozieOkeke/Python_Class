{
 "cells": [
  {
   "cell_type": "code",
   "execution_count": 17,
   "id": "e8d901e4",
   "metadata": {},
   "outputs": [],
   "source": [
    "import pymysql"
   ]
  },
  {
   "cell_type": "markdown",
   "id": "62c33058",
   "metadata": {},
   "source": [
    "## HOW TO CONNECT MYSQL INTO PYTHON\n"
   ]
  },
  {
   "cell_type": "code",
   "execution_count": 18,
   "id": "7419649a",
   "metadata": {},
   "outputs": [],
   "source": [
    "mydb=pymysql.connect(\n",
    "    host=\"localhost\",\n",
    "    port=3306,\n",
    "    user=\"root\",\n",
    "    password=\"321000\"\n",
    ")\n",
    "mycursor=mydb.cursor()"
   ]
  },
  {
   "cell_type": "markdown",
   "id": "a78fbb73",
   "metadata": {},
   "source": [
    "## HOW TO SHOW DATA FROM MYSQL"
   ]
  },
  {
   "cell_type": "code",
   "execution_count": 4,
   "id": "acdf518a",
   "metadata": {},
   "outputs": [
    {
     "name": "stdout",
     "output_type": "stream",
     "text": [
      "('agozie',)\n",
      "('employee_details',)\n",
      "('information_schema',)\n",
      "('mysql',)\n",
      "('performance_schema',)\n",
      "('sakila',)\n",
      "('sales',)\n",
      "('sys',)\n",
      "('world',)\n"
     ]
    }
   ],
   "source": [
    "mycursor.execute('show databases')\n",
    "for x in mycursor:\n",
    "    print(x)\n"
   ]
  },
  {
   "cell_type": "code",
   "execution_count": null,
   "id": "69ee1a89",
   "metadata": {},
   "outputs": [],
   "source": [
    "## As a newly employed developer/programmer,\n",
    "## creating a databse for jamb registration, National Identification number (NIN), Personal Information,\n",
    "## choice of institution and courses\n",
    "## jamb registration fee."
   ]
  },
  {
   "cell_type": "markdown",
   "id": "2f74d4e3",
   "metadata": {},
   "source": [
    "## ANYTIME WE WANT TO USE DATEBASE FROM MYSQL WE USE MYCURSOR.EXECUTE"
   ]
  },
  {
   "cell_type": "code",
   "execution_count": 11,
   "id": "69890345",
   "metadata": {},
   "outputs": [],
   "source": [
    "mycursor.execute(\"create database JambRegistration\")\n",
    "mycursor.execute(\"show databases\")\n",
    "for x in mycursor:\n",
    "    print(x)"
   ]
  },
  {
   "cell_type": "code",
   "execution_count": 9,
   "id": "a2d06755",
   "metadata": {},
   "outputs": [
    {
     "name": "stdout",
     "output_type": "stream",
     "text": [
      "('id', 'int', 'NO', 'PRI', None, '')\n",
      "('name', 'varchar(255)', 'NO', '', None, '')\n",
      "('DOB', 'date', 'NO', '', None, '')\n",
      "('mobile_No', 'varchar(255)', 'YES', '', None, '')\n",
      "('email_address', 'text', 'NO', '', None, '')\n"
     ]
    }
   ],
   "source": [
    "mycursor.execute(\"use JambRegistration\")\n",
    "mycursor.execute(\"create table students(id int primary key not null,name varchar(255) not null,DOB date not null,mobile_No varchar(255),email_address text not null)\")\n",
    "mycursor.execute(\"show columns from students\")\n",
    "for x in mycursor:\n",
    "    print (x)"
   ]
  },
  {
   "cell_type": "code",
   "execution_count": 19,
   "id": "cabe798b",
   "metadata": {},
   "outputs": [],
   "source": [
    "mycursor.execute(\"use JambRegistration\")\n",
    "def jamb_record():\n",
    "    id=int(input(\"Enter Registration Number\"))\n",
    "    phone_number=input(\"Enter Your Mobible Number\")\n",
    "    National_identification_number=input(\"Enter Your NIN\")\n",
    "    Email_Address=input(\"Enter Your Email Address\")\n",
    "    \n",
    "    query=\"insert into students (id,name,Phone_number,national_identification_number,email_address) values(%s,%s,%s,%s,%s)\"\n",
    "    mycursor.execute(query,(id,name,phone_number,national_identification_number,email_address))\n",
    "    mydb.commit()\n",
    "    print(\"record insert successfully...\")\n",
    "    \n",
    "def search_jamb_record():\n",
    "    id=int(input(\"ENTER SEARCH ID\"))\n",
    "    query= 'select * from students where id = \"%s\"'\n",
    "    mycursor.execute(query,(id,))\n",
    "    result=mycursor.fatchall()\n",
    "    if len(result)==0:\n",
    "        print(\"jamb record not found...\")\n",
    "    else:\n",
    "        forx in mycursor;\n",
    "        print(x)\n",
    "        \n",
    "def delete_jamb_record():\n",
    "    id=int(input(\"Enter the ID number needed to be deleted...\"))\n",
    "    query=\"delete from students where id=%s\"\n",
    "    mycursor.execute(query(id))\n",
    "    mydb.commit()\n",
    "    \n",
    "def main():\n",
    "    print(\"welcome to Jamb Portal\")\n",
    "    print(\"jamb operation[jamb_record,delete_records,jamb_search,LOGOUT__PORTAL]\")\n",
    "    operation=True\n",
    "    while operation:\n",
    "        option=input(\"select operation:\").lower()\n",
    "        if option == \"jamb_record\":\n",
    "            jamb_record()\n",
    "        elif option == \"display\":\n",
    "            display()\n",
    "        elif option == \"delete_records\":\n",
    "            delete_records()\n",
    "        elif option == \"search_jamb\":\n",
    "            search_jamb()\n",
    "        elif option == \"LOGOUT_JAMB_PORTAL\":\n",
    "            operation=false\n",
    "        print(\"logout succesfully\")    \n",
    "        break"
   ]
  },
  {
   "cell_type": "code",
   "execution_count": 20,
   "id": "8f76a2df",
   "metadata": {},
   "outputs": [
    {
     "name": "stdout",
     "output_type": "stream",
     "text": [
      "welcome to Jamb Portal\n",
      "jamb operation[jamb_record,delete_records,jamb_search,LOGOUT__PORTAL]\n",
      "select operation:jamb_record\n",
      "Enter Registration Number4400\n",
      "Enter Your Mobible Number08066\n",
      "Enter Your NIN567\n",
      "Enter Your Email Addressadddf\n"
     ]
    },
    {
     "ename": "NameError",
     "evalue": "name 'name' is not defined",
     "output_type": "error",
     "traceback": [
      "\u001b[1;31m---------------------------------------------------------------------------\u001b[0m",
      "\u001b[1;31mNameError\u001b[0m                                 Traceback (most recent call last)",
      "Cell \u001b[1;32mIn[20], line 1\u001b[0m\n\u001b[1;32m----> 1\u001b[0m main()\n",
      "Cell \u001b[1;32mIn[19], line 37\u001b[0m, in \u001b[0;36mmain\u001b[1;34m()\u001b[0m\n\u001b[0;32m     35\u001b[0m option\u001b[38;5;241m=\u001b[39m\u001b[38;5;28minput\u001b[39m(\u001b[38;5;124m\"\u001b[39m\u001b[38;5;124mselect operation:\u001b[39m\u001b[38;5;124m\"\u001b[39m)\u001b[38;5;241m.\u001b[39mlower()\n\u001b[0;32m     36\u001b[0m \u001b[38;5;28;01mif\u001b[39;00m option \u001b[38;5;241m==\u001b[39m \u001b[38;5;124m\"\u001b[39m\u001b[38;5;124mjamb_record\u001b[39m\u001b[38;5;124m\"\u001b[39m:\n\u001b[1;32m---> 37\u001b[0m     jamb_record()\n\u001b[0;32m     38\u001b[0m \u001b[38;5;28;01melif\u001b[39;00m option \u001b[38;5;241m==\u001b[39m \u001b[38;5;124m\"\u001b[39m\u001b[38;5;124mdisplay\u001b[39m\u001b[38;5;124m\"\u001b[39m:\n\u001b[0;32m     39\u001b[0m     display()\n",
      "Cell \u001b[1;32mIn[19], line 9\u001b[0m, in \u001b[0;36mjamb_record\u001b[1;34m()\u001b[0m\n\u001b[0;32m      6\u001b[0m Email_Address\u001b[38;5;241m=\u001b[39m\u001b[38;5;28minput\u001b[39m(\u001b[38;5;124m\"\u001b[39m\u001b[38;5;124mEnter Your Email Address\u001b[39m\u001b[38;5;124m\"\u001b[39m)\n\u001b[0;32m      8\u001b[0m query\u001b[38;5;241m=\u001b[39m\u001b[38;5;124m\"\u001b[39m\u001b[38;5;124minsert into students (id,name,Phone_number,national_identification_number,email_address) values(\u001b[39m\u001b[38;5;132;01m%s\u001b[39;00m\u001b[38;5;124m,\u001b[39m\u001b[38;5;132;01m%s\u001b[39;00m\u001b[38;5;124m,\u001b[39m\u001b[38;5;132;01m%s\u001b[39;00m\u001b[38;5;124m,\u001b[39m\u001b[38;5;132;01m%s\u001b[39;00m\u001b[38;5;124m,\u001b[39m\u001b[38;5;132;01m%s\u001b[39;00m\u001b[38;5;124m)\u001b[39m\u001b[38;5;124m\"\u001b[39m\n\u001b[1;32m----> 9\u001b[0m mycursor\u001b[38;5;241m.\u001b[39mexecute(query,(\u001b[38;5;28mid\u001b[39m,name,phone_number,national_identification_number,email_address))\n\u001b[0;32m     10\u001b[0m mydb\u001b[38;5;241m.\u001b[39mcommit()\n\u001b[0;32m     11\u001b[0m \u001b[38;5;28mprint\u001b[39m(\u001b[38;5;124m\"\u001b[39m\u001b[38;5;124mrecord insert successfully...\u001b[39m\u001b[38;5;124m\"\u001b[39m)\n",
      "\u001b[1;31mNameError\u001b[0m: name 'name' is not defined"
     ]
    }
   ],
   "source": [
    "main()"
   ]
  },
  {
   "cell_type": "code",
   "execution_count": null,
   "id": "abbfe460",
   "metadata": {},
   "outputs": [],
   "source": []
  }
 ],
 "metadata": {
  "kernelspec": {
   "display_name": "Python 3 (ipykernel)",
   "language": "python",
   "name": "python3"
  },
  "language_info": {
   "codemirror_mode": {
    "name": "ipython",
    "version": 3
   },
   "file_extension": ".py",
   "mimetype": "text/x-python",
   "name": "python",
   "nbconvert_exporter": "python",
   "pygments_lexer": "ipython3",
   "version": "3.11.5"
  }
 },
 "nbformat": 4,
 "nbformat_minor": 5
}
