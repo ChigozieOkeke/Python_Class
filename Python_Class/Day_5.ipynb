{
 "cells": [
  {
   "cell_type": "code",
   "execution_count": 1,
   "id": "e1215fc4",
   "metadata": {},
   "outputs": [],
   "source": [
    "## program a software that uses student subject to look for average of the score and give a score point "
   ]
  },
  {
   "cell_type": "code",
   "execution_count": 2,
   "id": "2d51eda5",
   "metadata": {},
   "outputs": [
    {
     "name": "stdout",
     "output_type": "stream",
     "text": [
      "physics score:89\n",
      "Biology score:90\n",
      "English score:70\n",
      "chemistr score:60\n",
      "animal husbandry score:40\n",
      "maths score:69\n",
      "history score:75\n",
      "your average score 70.43 and score point is A\n"
     ]
    }
   ],
   "source": [
    "grade1=float(input(\"physics score:\"))\n",
    "grade2=float(input(\"Biology score:\"))\n",
    "grade3=float(input(\"English score:\"))\n",
    "grade4=float(input(\"chemistr score:\"))\n",
    "grade5=float(input(\"animal husbandry score:\"))\n",
    "grade6=float(input(\"maths score:\"))\n",
    "grade7=float(input(\"history score:\"))\n",
    "import statistics as stat\n",
    "avg=round(stat.mean([grade1,grade2,grade3,grade4,grade5,grade6,grade7]),2)\n",
    "if avg >= 70 and avg <=70.99:\n",
    "    print(f\"your average score {avg} and score point is A\")\n",
    "elif avg >= 60 and avg <=60.99:\n",
    "    print(f\"your average score {avg} and score point is B\")\n",
    "elif avg >= 50 and avg <=59.99:\n",
    "    print(f\"your average score {avg} and score point is C\")\n",
    "elif avg >= 40 and avg <=49.99:\n",
    "    print(f\"your average score {avg} and score point is D\")\n",
    "else:\n",
    "    print(\"sorry you failed badly...\")"
   ]
  },
  {
   "cell_type": "markdown",
   "id": "cd10a01d",
   "metadata": {},
   "source": [
    "## Loops"
   ]
  },
  {
   "cell_type": "code",
   "execution_count": 4,
   "id": "975f3d9c",
   "metadata": {},
   "outputs": [
    {
     "name": "stdout",
     "output_type": "stream",
     "text": [
      "E\n",
      "a\n",
      "r\n",
      "y\n",
      "C\n",
      "o\n",
      "d\n",
      "e\n",
      "EaryCode\n"
     ]
    }
   ],
   "source": [
    "## For loop ## : this must have a particular element or variable to loop over in which they stand for\n",
    "## which is loops\"\n",
    "word=\"EaryCode\"\n",
    "for i in word:\n",
    "    print(i)\n",
    "print(word)    "
   ]
  },
  {
   "cell_type": "code",
   "execution_count": 9,
   "id": "5c88666a",
   "metadata": {},
   "outputs": [
    {
     "name": "stdout",
     "output_type": "stream",
     "text": [
      "apple\n",
      "banana\n",
      "cherry\n",
      "mango\n"
     ]
    }
   ],
   "source": [
    "fruits=[\"apple\",\"banana\",\"cherry\",\"mango\"]\n",
    "for char in fruits:\n",
    "    print(char)"
   ]
  },
  {
   "cell_type": "code",
   "execution_count": 3,
   "id": "a55fdec5",
   "metadata": {},
   "outputs": [
    {
     "name": "stdout",
     "output_type": "stream",
     "text": [
      "enter a charatera\n",
      "character found\n"
     ]
    }
   ],
   "source": [
    "name=\"EarlyCode\"\n",
    "user1=input(\"enter a charater\")\n",
    "for i in name:\n",
    "    if user1 == i:\n",
    "        print(\"character found\")\n",
    "        break\n",
    "else:\n",
    "    print(\"character not found\")"
   ]
  },
  {
   "cell_type": "markdown",
   "id": "b9f5bc6c",
   "metadata": {},
   "source": [
    "## while loops"
   ]
  },
  {
   "cell_type": "code",
   "execution_count": 5,
   "id": "61b7ebe5",
   "metadata": {},
   "outputs": [
    {
     "name": "stdout",
     "output_type": "stream",
     "text": [
      "1\n",
      "2\n",
      "3\n",
      "4\n",
      "5\n"
     ]
    }
   ],
   "source": [
    "i=1\n",
    "while i <= 5:\n",
    "    print(i)\n",
    "    i+=1"
   ]
  },
  {
   "cell_type": "code",
   "execution_count": 6,
   "id": "5cca9e10",
   "metadata": {},
   "outputs": [
    {
     "name": "stdout",
     "output_type": "stream",
     "text": [
      "what is the square root number: 4\n",
      "the square root of 4 is 2.0\n",
      "what is the square root number4\n",
      "the square root of 4 is 2.0\n",
      "what is the square root number5\n",
      "the square root of 5 is 2.23606797749979\n",
      "what is the square root number6\n",
      "the square root of 6 is 2.449489742783178\n",
      "what is the square root number9\n",
      "the square root of 9 is 3.0\n",
      "what is the square root number10\n"
     ]
    }
   ],
   "source": [
    "counter=10\n",
    "num=int(input(\"what is the square root number: \"))\n",
    "import math\n",
    "while num !=10:\n",
    "    print(f\"the square root of {num} is {math.sqrt(num)}\")\n",
    "    num=int(input(\"what is the square root number\"))\n",
    "    counter +=1"
   ]
  },
  {
   "cell_type": "code",
   "execution_count": 10,
   "id": "4830719f",
   "metadata": {},
   "outputs": [
    {
     "name": "stdout",
     "output_type": "stream",
     "text": [
      "what is the number:2\n",
      "2*1=2\n",
      "2*2=4\n",
      "2*3=6\n",
      "2*4=8\n",
      "2*5=10\n",
      "2*6=12\n",
      "2*7=14\n",
      "2*8=16\n",
      "2*9=18\n",
      "2*10=20\n",
      "2*11=22\n",
      "2*12=24\n",
      "2*13=26\n",
      "2*14=28\n",
      "2*15=30\n",
      "2*16=32\n",
      "2*17=34\n",
      "2*18=36\n",
      "2*19=38\n",
      "2*20=40\n"
     ]
    }
   ],
   "source": [
    "counter=1\n",
    "num=int(input(\"what is the number:\"))\n",
    "while counter <= 20:\n",
    "    print(f\"{num}*{counter}={num*counter}\")\n",
    "    counter += 1"
   ]
  },
  {
   "cell_type": "code",
   "execution_count": 20,
   "id": "d4a4fd28",
   "metadata": {},
   "outputs": [
    {
     "name": "stdout",
     "output_type": "stream",
     "text": [
      "10\n",
      "9\n",
      "8\n",
      "7\n",
      "6\n",
      "5\n",
      "4\n",
      "3\n",
      "2\n",
      "1\n",
      "happy new year\n"
     ]
    }
   ],
   "source": [
    "counter=10\n",
    "while counter >0:\n",
    "    print(counter)\n",
    "    counter -=1\n",
    "print('happy new year')    "
   ]
  },
  {
   "cell_type": "code",
   "execution_count": 21,
   "id": "f903f55d",
   "metadata": {},
   "outputs": [
    {
     "name": "stdout",
     "output_type": "stream",
     "text": [
      "enter your password:earlycode\n",
      "password correct. approve\n"
     ]
    }
   ],
   "source": [
    "## creating a program that accept a correct p[assword\n",
    "correct_password=\"earlycode\"\n",
    "password=input(\"enter your password:\")\n",
    "if password==correct_password:\n",
    "    print(\"password correct. approve\")\n",
    "else:\n",
    "    print(\"incorrect password.. access denied.\")"
   ]
  },
  {
   "cell_type": "code",
   "execution_count": null,
   "id": "83da0bdb",
   "metadata": {},
   "outputs": [],
   "source": []
  }
 ],
 "metadata": {
  "kernelspec": {
   "display_name": "Python 3 (ipykernel)",
   "language": "python",
   "name": "python3"
  },
  "language_info": {
   "codemirror_mode": {
    "name": "ipython",
    "version": 3
   },
   "file_extension": ".py",
   "mimetype": "text/x-python",
   "name": "python",
   "nbconvert_exporter": "python",
   "pygments_lexer": "ipython3",
   "version": "3.11.5"
  }
 },
 "nbformat": 4,
 "nbformat_minor": 5
}
