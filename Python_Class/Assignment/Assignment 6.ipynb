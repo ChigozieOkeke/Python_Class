{
 "cells": [
  {
   "cell_type": "code",
   "execution_count": null,
   "id": "981380e4",
   "metadata": {},
   "outputs": [],
   "source": [
    "# Lambda Assignment\n",
    "## 1. Write a lambda function that squares a given number.\n",
    "## 2. Filter a list of strings to include only those that have more than 5 characters.\n"
   ]
  },
  {
   "cell_type": "code",
   "execution_count": 19,
   "id": "3c31fd67",
   "metadata": {},
   "outputs": [
    {
     "name": "stdout",
     "output_type": "stream",
     "text": [
      "25\n"
     ]
    }
   ],
   "source": [
    "## a lambda function that squares a given number.\n",
    "square=lambda x:x**2\n",
    "result=square(5)\n",
    "print(result)"
   ]
  },
  {
   "cell_type": "code",
   "execution_count": 11,
   "id": "4214f09c",
   "metadata": {},
   "outputs": [
    {
     "name": "stdout",
     "output_type": "stream",
     "text": [
      "['apple', 'orange']\n"
     ]
    }
   ],
   "source": [
    "## Filter a list of strings to include only those that have more than 5 characters.\n",
    "num2=[\"apple\",\"orange\",\"pick\"]\n",
    "ylist=list(filter(lambda x:len(x) >=5,num2))\n",
    "print(ylist)"
   ]
  },
  {
   "cell_type": "code",
   "execution_count": 5,
   "id": "66e1942e",
   "metadata": {},
   "outputs": [
    {
     "name": "stdout",
     "output_type": "stream",
     "text": [
      "the largest number: 70\n"
     ]
    }
   ],
   "source": [
    "number=[3,69,30,45,10,70]\n",
    "largest_number=max(number)\n",
    "print(\"the largest number:\" , largest_number)"
   ]
  },
  {
   "cell_type": "code",
   "execution_count": null,
   "id": "a2f025c4",
   "metadata": {},
   "outputs": [],
   "source": []
  }
 ],
 "metadata": {
  "kernelspec": {
   "display_name": "Python 3 (ipykernel)",
   "language": "python",
   "name": "python3"
  },
  "language_info": {
   "codemirror_mode": {
    "name": "ipython",
    "version": 3
   },
   "file_extension": ".py",
   "mimetype": "text/x-python",
   "name": "python",
   "nbconvert_exporter": "python",
   "pygments_lexer": "ipython3",
   "version": "3.11.5"
  }
 },
 "nbformat": 4,
 "nbformat_minor": 5
}
