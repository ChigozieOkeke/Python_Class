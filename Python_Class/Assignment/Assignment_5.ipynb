{
 "cells": [
  {
   "cell_type": "code",
   "execution_count": 1,
   "id": "4878fafb",
   "metadata": {},
   "outputs": [],
   "source": [
    "## USING FUNCTIONS.\n",
    "\n",
    "## 1. A PROGRAM TO DETERMINE THE CURRENCY EXCHANGE.\n",
    "\n",
    "## 2. Implement a Python program that checks whether a given integer is a prime number or not\n",
    "\n",
    "## 3. implement a python program that finds the\n",
    "\n",
    "## largest number in a given list without using built in function."
   ]
  },
  {
   "cell_type": "code",
   "execution_count": 80,
   "id": "025e661f",
   "metadata": {},
   "outputs": [
    {
     "name": "stdout",
     "output_type": "stream",
     "text": [
      "Enter the amount to be converted in dollar: 3\n",
      "\n",
      "         \"DOLLAR\": 3.0\n",
      "         \"NAIRA\": 6000.0\n"
     ]
    }
   ],
   "source": [
    "## Dollar to Naira currency conversion using def function\n",
    "\n",
    "def exchange_rate():\n",
    "    dollar_amount=float(input(\"Enter the amount to be converted in dollar: \"))\n",
    "    usd_rate=dollar_amount*naira\n",
    "    usd=1\n",
    "    if naira==usd*2000:\n",
    "        print(f'''\n",
    "         \"DOLLAR\": {dollar_amount}\n",
    "         \"NAIRA\": {usd_rate}''')    \n",
    "exchange_rate() "
   ]
  },
  {
   "cell_type": "code",
   "execution_count": 84,
   "id": "ed26892d",
   "metadata": {},
   "outputs": [
    {
     "name": "stdout",
     "output_type": "stream",
     "text": [
      "Enter a number6\n",
      "6.0 is not a prime number\n"
     ]
    }
   ],
   "source": [
    "# Python program that checks whether a given number is a prime\n",
    "def is_prime(num):\n",
    "    if num <= 1:\n",
    "        return False\n",
    "    if num == 2:\n",
    "        return True\n",
    "    if num % 2 == 0:\n",
    "        return False\n",
    "    for i in range(3, int(num**0.5) + 1, 2):\n",
    "        if num % i == 0:\n",
    "            return False\n",
    "    return True\n",
    "num = float(input(\"Enter a number\"))\n",
    "if is_prime(num):\n",
    "    print(f\"{num} is a prime number\")\n",
    "else:\n",
    "    print(f\"{num} is not a prime number\")"
   ]
  },
  {
   "cell_type": "code",
   "execution_count": 13,
   "id": "f96e7d62",
   "metadata": {},
   "outputs": [
    {
     "ename": "NameError",
     "evalue": "name 'my_list' is not defined",
     "output_type": "error",
     "traceback": [
      "\u001b[1;31m---------------------------------------------------------------------------\u001b[0m",
      "\u001b[1;31mNameError\u001b[0m                                 Traceback (most recent call last)",
      "Cell \u001b[1;32mIn[13], line 10\u001b[0m\n\u001b[0;32m      8\u001b[0m     \u001b[38;5;28;01mreturn\u001b[39;00m max_num\n\u001b[0;32m      9\u001b[0m num_list \u001b[38;5;241m=\u001b[39m [\u001b[38;5;241m10\u001b[39m, \u001b[38;5;241m5\u001b[39m, \u001b[38;5;241m20\u001b[39m, \u001b[38;5;241m15\u001b[39m, \u001b[38;5;241m8\u001b[39m]\n\u001b[1;32m---> 10\u001b[0m largest_number \u001b[38;5;241m=\u001b[39m find_largest_number(my_list)\n\u001b[0;32m     11\u001b[0m \u001b[38;5;28mprint\u001b[39m(\u001b[38;5;124m\"\u001b[39m\u001b[38;5;124mThe largest number in the list is:\u001b[39m\u001b[38;5;124m\"\u001b[39m, largest_number)\n",
      "\u001b[1;31mNameError\u001b[0m: name 'my_list' is not defined"
     ]
    }
   ],
   "source": [
    "def find_largest_number(arr):\n",
    "    if len(arr) == 0:\n",
    "        return None\n",
    "    max_num = arr[0]\n",
    "    for num in arr:\n",
    "        if num > max_num:\n",
    "            max_num = num\n",
    "    return max_num\n",
    "num_list = [10, 5, 20, 15, 8]\n",
    "largest_number = find_largest_number(my_list)\n",
    "print(\"The largest number in the list is:\", largest_number)"
   ]
  },
  {
   "cell_type": "code",
   "execution_count": 8,
   "id": "acb1221c",
   "metadata": {},
   "outputs": [
    {
     "name": "stdout",
     "output_type": "stream",
     "text": [
      "the largest number: 70\n"
     ]
    }
   ],
   "source": [
    "def largest_num():\n",
    "    number=[3,69,30,45,10,70]\n",
    "    largest_number=max(number)\n",
    "    print(\"the largest number:\" , largest_number)\n",
    "largest_num()        \n"
   ]
  },
  {
   "cell_type": "code",
   "execution_count": null,
   "id": "06cf3af7",
   "metadata": {},
   "outputs": [],
   "source": []
  },
  {
   "cell_type": "code",
   "execution_count": null,
   "id": "79cf199d",
   "metadata": {},
   "outputs": [],
   "source": []
  }
 ],
 "metadata": {
  "kernelspec": {
   "display_name": "Python 3 (ipykernel)",
   "language": "python",
   "name": "python3"
  },
  "language_info": {
   "codemirror_mode": {
    "name": "ipython",
    "version": 3
   },
   "file_extension": ".py",
   "mimetype": "text/x-python",
   "name": "python",
   "nbconvert_exporter": "python",
   "pygments_lexer": "ipython3",
   "version": "3.11.5"
  }
 },
 "nbformat": 4,
 "nbformat_minor": 5
}
