{
 "cells": [
  {
   "cell_type": "code",
   "execution_count": null,
   "id": "fa97d951",
   "metadata": {},
   "outputs": [],
   "source": [
    "correct_password=\"Chiagozie1\"\n",
    "user=input(\"Enter your password\")\n",
    "for char in correct_password:\n",
    "    if correct_password == user:\n",
    "        print(\"password correct\")\n",
    "        break\n",
    "else:\n",
    "    print(\"password incorrect\")"
   ]
  },
  {
   "cell_type": "code",
   "execution_count": null,
   "id": "42aedd7e",
   "metadata": {},
   "outputs": [],
   "source": []
  }
 ],
 "metadata": {
  "kernelspec": {
   "display_name": "Python 3 (ipykernel)",
   "language": "python",
   "name": "python3"
  },
  "language_info": {
   "codemirror_mode": {
    "name": "ipython",
    "version": 3
   },
   "file_extension": ".py",
   "mimetype": "text/x-python",
   "name": "python",
   "nbconvert_exporter": "python",
   "pygments_lexer": "ipython3",
   "version": "3.11.5"
  }
 },
 "nbformat": 4,
 "nbformat_minor": 5
}
