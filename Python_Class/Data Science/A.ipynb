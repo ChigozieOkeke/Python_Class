{
 "cells": [
  {
   "cell_type": "code",
   "execution_count": 1,
   "metadata": {},
   "outputs": [],
   "source": [
    "import numpy as np\n",
    "import pandas as pd\n",
    "import matplotlib.pyplot as plt\n",
    "import seaborn as sns\n",
    "import plotly.express as px\n",
    "from sklearn.model_selection import train_test_split\n",
    "from sklearn.linear_model import LinearRegression, Lasso,Ridge, ElasticNet\n",
    "from sklearn.preprocessing import StandardScaler, LabelEncoder\n",
    "from sklearn.svm import SVC\n",
    "from sklearn.tree import DecisionTreeRegressor\n",
    "from sklearn.ensemble import RandomForestRegressor\n",
    "from sklearn.metrics import r2_score,accuracy_score\n",
    "from sklearn.feature_selection import mutual_info_regression\n",
    "from sklearn.neural_network import MLPRegressor\n",
    "from sklearn.pipeline import  Pipeline\n",
    "import warnings\n"
   ]
  },
  {
   "cell_type": "markdown",
   "metadata": {},
   "source": [
    "Removing warnings"
   ]
  },
  {
   "cell_type": "code",
   "execution_count": 2,
   "metadata": {},
   "outputs": [],
   "source": [
    "warnings.filterwarnings(\"ignore\")"
   ]
  },
  {
   "cell_type": "markdown",
   "metadata": {},
   "source": [
    "Reading in the dataset using pandas"
   ]
  },
  {
   "cell_type": "code",
   "execution_count": 3,
   "metadata": {},
   "outputs": [
    {
     "data": {
      "text/html": [
       "<div>\n",
       "<style scoped>\n",
       "    .dataframe tbody tr th:only-of-type {\n",
       "        vertical-align: middle;\n",
       "    }\n",
       "\n",
       "    .dataframe tbody tr th {\n",
       "        vertical-align: top;\n",
       "    }\n",
       "\n",
       "    .dataframe thead th {\n",
       "        text-align: right;\n",
       "    }\n",
       "</style>\n",
       "<table border=\"1\" class=\"dataframe\">\n",
       "  <thead>\n",
       "    <tr style=\"text-align: right;\">\n",
       "      <th></th>\n",
       "      <th>Phone Name</th>\n",
       "      <th>Rating ?/5</th>\n",
       "      <th>Number of Ratings</th>\n",
       "      <th>RAM</th>\n",
       "      <th>ROM/Storage</th>\n",
       "      <th>Back/Rare Camera</th>\n",
       "      <th>Front Camera</th>\n",
       "      <th>Battery</th>\n",
       "      <th>Processor</th>\n",
       "      <th>Price in INR</th>\n",
       "      <th>Date of Scraping</th>\n",
       "    </tr>\n",
       "  </thead>\n",
       "  <tbody>\n",
       "    <tr>\n",
       "      <th>0</th>\n",
       "      <td>POCO C50 (Royal Blue, 32 GB)</td>\n",
       "      <td>4.2</td>\n",
       "      <td>33,561</td>\n",
       "      <td>2 GB RAM</td>\n",
       "      <td>32 GB ROM</td>\n",
       "      <td>8MP Dual Camera</td>\n",
       "      <td>5MP Front Camera</td>\n",
       "      <td>5000 mAh</td>\n",
       "      <td>Mediatek Helio A22 Processor, Upto 2.0 GHz Pro...</td>\n",
       "      <td>₹5,649</td>\n",
       "      <td>2023-06-17</td>\n",
       "    </tr>\n",
       "    <tr>\n",
       "      <th>1</th>\n",
       "      <td>POCO M4 5G (Cool Blue, 64 GB)</td>\n",
       "      <td>4.2</td>\n",
       "      <td>77,128</td>\n",
       "      <td>4 GB RAM</td>\n",
       "      <td>64 GB ROM</td>\n",
       "      <td>50MP + 2MP</td>\n",
       "      <td>8MP Front Camera</td>\n",
       "      <td>5000 mAh</td>\n",
       "      <td>Mediatek Dimensity 700 Processor</td>\n",
       "      <td>₹11,999</td>\n",
       "      <td>2023-06-17</td>\n",
       "    </tr>\n",
       "    <tr>\n",
       "      <th>2</th>\n",
       "      <td>POCO C51 (Royal Blue, 64 GB)</td>\n",
       "      <td>4.3</td>\n",
       "      <td>15,175</td>\n",
       "      <td>4 GB RAM</td>\n",
       "      <td>64 GB ROM</td>\n",
       "      <td>8MP Dual Rear Camera</td>\n",
       "      <td>5MP Front Camera</td>\n",
       "      <td>5000 mAh</td>\n",
       "      <td>Helio G36 Processor</td>\n",
       "      <td>₹6,999</td>\n",
       "      <td>2023-06-17</td>\n",
       "    </tr>\n",
       "  </tbody>\n",
       "</table>\n",
       "</div>"
      ],
      "text/plain": [
       "                      Phone Name  Rating ?/5 Number of Ratings       RAM  \\\n",
       "0   POCO C50 (Royal Blue, 32 GB)         4.2            33,561  2 GB RAM   \n",
       "1  POCO M4 5G (Cool Blue, 64 GB)         4.2            77,128  4 GB RAM   \n",
       "2   POCO C51 (Royal Blue, 64 GB)         4.3            15,175  4 GB RAM   \n",
       "\n",
       "  ROM/Storage      Back/Rare Camera      Front Camera   Battery  \\\n",
       "0   32 GB ROM       8MP Dual Camera  5MP Front Camera  5000 mAh   \n",
       "1   64 GB ROM            50MP + 2MP  8MP Front Camera  5000 mAh   \n",
       "2   64 GB ROM  8MP Dual Rear Camera  5MP Front Camera  5000 mAh   \n",
       "\n",
       "                                           Processor Price in INR  \\\n",
       "0  Mediatek Helio A22 Processor, Upto 2.0 GHz Pro...       ₹5,649   \n",
       "1                   Mediatek Dimensity 700 Processor      ₹11,999   \n",
       "2                                Helio G36 Processor       ₹6,999   \n",
       "\n",
       "  Date of Scraping  \n",
       "0       2023-06-17  \n",
       "1       2023-06-17  \n",
       "2       2023-06-17  "
      ]
     },
     "execution_count": 3,
     "metadata": {},
     "output_type": "execute_result"
    }
   ],
   "source": [
    "df=pd.read_csv(\"File_mobile_prices_2023.csv\")\n",
    "df.head(3)"
   ]
  },
  {
   "cell_type": "markdown",
   "metadata": {},
   "source": [
    "Checking for the dataset information"
   ]
  },
  {
   "cell_type": "code",
   "execution_count": 4,
   "metadata": {},
   "outputs": [
    {
     "name": "stdout",
     "output_type": "stream",
     "text": [
      "<class 'pandas.core.frame.DataFrame'>\n",
      "RangeIndex: 1836 entries, 0 to 1835\n",
      "Data columns (total 11 columns):\n",
      " #   Column             Non-Null Count  Dtype  \n",
      "---  ------             --------------  -----  \n",
      " 0   Phone Name         1836 non-null   object \n",
      " 1   Rating ?/5         1836 non-null   float64\n",
      " 2   Number of Ratings  1836 non-null   object \n",
      " 3   RAM                1836 non-null   object \n",
      " 4   ROM/Storage        1662 non-null   object \n",
      " 5   Back/Rare Camera   1827 non-null   object \n",
      " 6   Front Camera       1435 non-null   object \n",
      " 7   Battery            1826 non-null   object \n",
      " 8   Processor          1781 non-null   object \n",
      " 9   Price in INR       1836 non-null   object \n",
      " 10  Date of Scraping   1836 non-null   object \n",
      "dtypes: float64(1), object(10)\n",
      "memory usage: 157.9+ KB\n"
     ]
    }
   ],
   "source": [
    "df.info()"
   ]
  },
  {
   "cell_type": "markdown",
   "metadata": {},
   "source": [
    "Checking for the null or na values "
   ]
  },
  {
   "cell_type": "code",
   "execution_count": 5,
   "metadata": {},
   "outputs": [
    {
     "data": {
      "text/plain": [
       "Phone Name             0\n",
       "Rating ?/5             0\n",
       "Number of Ratings      0\n",
       "RAM                    0\n",
       "ROM/Storage          174\n",
       "Back/Rare Camera       9\n",
       "Front Camera         401\n",
       "Battery               10\n",
       "Processor             55\n",
       "Price in INR           0\n",
       "Date of Scraping       0\n",
       "dtype: int64"
      ]
     },
     "execution_count": 5,
     "metadata": {},
     "output_type": "execute_result"
    }
   ],
   "source": [
    "df.isna().sum()"
   ]
  },
  {
   "cell_type": "markdown",
   "metadata": {},
   "source": [
    "Checking for the percentage of null value to a dataset"
   ]
  },
  {
   "cell_type": "code",
   "execution_count": 6,
   "metadata": {},
   "outputs": [
    {
     "data": {
      "text/plain": [
       "Phone Name            0.000000\n",
       "Rating ?/5            0.000000\n",
       "Number of Ratings     0.000000\n",
       "RAM                   0.000000\n",
       "ROM/Storage           9.477124\n",
       "Back/Rare Camera      0.490196\n",
       "Front Camera         21.840959\n",
       "Battery               0.544662\n",
       "Processor             2.995643\n",
       "Price in INR          0.000000\n",
       "Date of Scraping      0.000000\n",
       "dtype: float64"
      ]
     },
     "execution_count": 6,
     "metadata": {},
     "output_type": "execute_result"
    }
   ],
   "source": [
    "df.isnull().sum()/df.shape[0]*100"
   ]
  },
  {
   "cell_type": "markdown",
   "metadata": {},
   "source": [
    "### I filled the Null value with the mode and mean"
   ]
  },
  {
   "cell_type": "code",
   "execution_count": 7,
   "metadata": {},
   "outputs": [
    {
     "name": "stdout",
     "output_type": "stream",
     "text": [
      "Phone Name             0\n",
      "Rating ?/5             0\n",
      "Number of Ratings      0\n",
      "RAM                    0\n",
      "ROM/Storage          174\n",
      "Back/Rare Camera       9\n",
      "Front Camera         401\n",
      "Battery               10\n",
      "Processor             55\n",
      "Price in INR           0\n",
      "Date of Scraping       0\n",
      "dtype: int64\n",
      "Phone Name             0\n",
      "Rating ?/5             0\n",
      "Number of Ratings      0\n",
      "RAM                    0\n",
      "ROM/Storage          174\n",
      "Back/Rare Camera       9\n",
      "Front Camera         401\n",
      "Battery               10\n",
      "Processor             55\n",
      "Price in INR           0\n",
      "Date of Scraping       0\n",
      "dtype: int64\n",
      "Phone Name             0\n",
      "Rating ?/5             0\n",
      "Number of Ratings      0\n",
      "RAM                    0\n",
      "ROM/Storage          174\n",
      "Back/Rare Camera       9\n",
      "Front Camera         401\n",
      "Battery               10\n",
      "Processor             55\n",
      "Price in INR           0\n",
      "Date of Scraping       0\n",
      "dtype: int64\n",
      "Phone Name             0\n",
      "Rating ?/5             0\n",
      "Number of Ratings      0\n",
      "RAM                    0\n",
      "ROM/Storage            0\n",
      "Back/Rare Camera       9\n",
      "Front Camera         401\n",
      "Battery               10\n",
      "Processor             55\n",
      "Price in INR           0\n",
      "Date of Scraping       0\n",
      "dtype: int64\n",
      "Phone Name             0\n",
      "Rating ?/5             0\n",
      "Number of Ratings      0\n",
      "RAM                    0\n",
      "ROM/Storage            0\n",
      "Back/Rare Camera       0\n",
      "Front Camera         401\n",
      "Battery               10\n",
      "Processor             55\n",
      "Price in INR           0\n",
      "Date of Scraping       0\n",
      "dtype: int64\n",
      "Phone Name            0\n",
      "Rating ?/5            0\n",
      "Number of Ratings     0\n",
      "RAM                   0\n",
      "ROM/Storage           0\n",
      "Back/Rare Camera      0\n",
      "Front Camera          0\n",
      "Battery              10\n",
      "Processor            55\n",
      "Price in INR          0\n",
      "Date of Scraping      0\n",
      "dtype: int64\n",
      "Phone Name            0\n",
      "Rating ?/5            0\n",
      "Number of Ratings     0\n",
      "RAM                   0\n",
      "ROM/Storage           0\n",
      "Back/Rare Camera      0\n",
      "Front Camera          0\n",
      "Battery               0\n",
      "Processor            55\n",
      "Price in INR          0\n",
      "Date of Scraping      0\n",
      "dtype: int64\n",
      "Phone Name           0\n",
      "Rating ?/5           0\n",
      "Number of Ratings    0\n",
      "RAM                  0\n",
      "ROM/Storage          0\n",
      "Back/Rare Camera     0\n",
      "Front Camera         0\n",
      "Battery              0\n",
      "Processor            0\n",
      "Price in INR         0\n",
      "Date of Scraping     0\n",
      "dtype: int64\n",
      "Phone Name           0\n",
      "Rating ?/5           0\n",
      "Number of Ratings    0\n",
      "RAM                  0\n",
      "ROM/Storage          0\n",
      "Back/Rare Camera     0\n",
      "Front Camera         0\n",
      "Battery              0\n",
      "Processor            0\n",
      "Price in INR         0\n",
      "Date of Scraping     0\n",
      "dtype: int64\n",
      "Phone Name           0\n",
      "Rating ?/5           0\n",
      "Number of Ratings    0\n",
      "RAM                  0\n",
      "ROM/Storage          0\n",
      "Back/Rare Camera     0\n",
      "Front Camera         0\n",
      "Battery              0\n",
      "Processor            0\n",
      "Price in INR         0\n",
      "Date of Scraping     0\n",
      "dtype: int64\n"
     ]
    }
   ],
   "source": [
    "categorical_df=df.select_dtypes(include=[\"object\",\"category\"])\n",
    "for x in categorical_df:\n",
    "    df[x].fillna(df[x].mode()[0],inplace=True)\n",
    "    print(df.isnull().sum())"
   ]
  },
  {
   "cell_type": "code",
   "execution_count": 8,
   "metadata": {},
   "outputs": [
    {
     "data": {
      "text/plain": [
       "Phone Name           0\n",
       "Rating ?/5           0\n",
       "Number of Ratings    0\n",
       "RAM                  0\n",
       "ROM/Storage          0\n",
       "Back/Rare Camera     0\n",
       "Front Camera         0\n",
       "Battery              0\n",
       "Processor            0\n",
       "Price in INR         0\n",
       "Date of Scraping     0\n",
       "dtype: int64"
      ]
     },
     "execution_count": 8,
     "metadata": {},
     "output_type": "execute_result"
    }
   ],
   "source": [
    "numerical_df=df.select_dtypes(include=[\"int64\",\"float64\"])\n",
    "for x in numerical_df:\n",
    "    df[x].fillna(df[x].mean(),inplace=True)\n",
    "df.isnull().sum()"
   ]
  },
  {
   "cell_type": "code",
   "execution_count": 9,
   "metadata": {},
   "outputs": [
    {
     "data": {
      "text/html": [
       "<div>\n",
       "<style scoped>\n",
       "    .dataframe tbody tr th:only-of-type {\n",
       "        vertical-align: middle;\n",
       "    }\n",
       "\n",
       "    .dataframe tbody tr th {\n",
       "        vertical-align: top;\n",
       "    }\n",
       "\n",
       "    .dataframe thead th {\n",
       "        text-align: right;\n",
       "    }\n",
       "</style>\n",
       "<table border=\"1\" class=\"dataframe\">\n",
       "  <thead>\n",
       "    <tr style=\"text-align: right;\">\n",
       "      <th></th>\n",
       "      <th>Phone Name</th>\n",
       "      <th>Rating ?/5</th>\n",
       "      <th>Number of Ratings</th>\n",
       "      <th>RAM</th>\n",
       "      <th>ROM/Storage</th>\n",
       "      <th>Back/Rare Camera</th>\n",
       "      <th>Front Camera</th>\n",
       "      <th>Battery</th>\n",
       "      <th>Processor</th>\n",
       "      <th>Price in INR</th>\n",
       "      <th>Date of Scraping</th>\n",
       "    </tr>\n",
       "  </thead>\n",
       "  <tbody>\n",
       "    <tr>\n",
       "      <th>0</th>\n",
       "      <td>POCO C50 (Royal Blue, 32 GB)</td>\n",
       "      <td>4.2</td>\n",
       "      <td>33,561</td>\n",
       "      <td>2 GB RAM</td>\n",
       "      <td>32 GB ROM</td>\n",
       "      <td>8MP Dual Camera</td>\n",
       "      <td>5MP Front Camera</td>\n",
       "      <td>5000 mAh</td>\n",
       "      <td>Mediatek Helio A22 Processor, Upto 2.0 GHz Pro...</td>\n",
       "      <td>₹5,649</td>\n",
       "      <td>2023-06-17</td>\n",
       "    </tr>\n",
       "    <tr>\n",
       "      <th>1</th>\n",
       "      <td>POCO M4 5G (Cool Blue, 64 GB)</td>\n",
       "      <td>4.2</td>\n",
       "      <td>77,128</td>\n",
       "      <td>4 GB RAM</td>\n",
       "      <td>64 GB ROM</td>\n",
       "      <td>50MP + 2MP</td>\n",
       "      <td>8MP Front Camera</td>\n",
       "      <td>5000 mAh</td>\n",
       "      <td>Mediatek Dimensity 700 Processor</td>\n",
       "      <td>₹11,999</td>\n",
       "      <td>2023-06-17</td>\n",
       "    </tr>\n",
       "    <tr>\n",
       "      <th>2</th>\n",
       "      <td>POCO C51 (Royal Blue, 64 GB)</td>\n",
       "      <td>4.3</td>\n",
       "      <td>15,175</td>\n",
       "      <td>4 GB RAM</td>\n",
       "      <td>64 GB ROM</td>\n",
       "      <td>8MP Dual Rear Camera</td>\n",
       "      <td>5MP Front Camera</td>\n",
       "      <td>5000 mAh</td>\n",
       "      <td>Helio G36 Processor</td>\n",
       "      <td>₹6,999</td>\n",
       "      <td>2023-06-17</td>\n",
       "    </tr>\n",
       "    <tr>\n",
       "      <th>3</th>\n",
       "      <td>POCO C55 (Cool Blue, 64 GB)</td>\n",
       "      <td>4.2</td>\n",
       "      <td>22,621</td>\n",
       "      <td>4 GB RAM</td>\n",
       "      <td>64 GB ROM</td>\n",
       "      <td>50MP Dual Rear Camera</td>\n",
       "      <td>5MP Front Camera</td>\n",
       "      <td>5000 mAh</td>\n",
       "      <td>Mediatek Helio G85 Processor</td>\n",
       "      <td>₹7,749</td>\n",
       "      <td>2023-06-17</td>\n",
       "    </tr>\n",
       "    <tr>\n",
       "      <th>4</th>\n",
       "      <td>POCO C51 (Power Black, 64 GB)</td>\n",
       "      <td>4.3</td>\n",
       "      <td>15,175</td>\n",
       "      <td>4 GB RAM</td>\n",
       "      <td>64 GB ROM</td>\n",
       "      <td>8MP Dual Rear Camera</td>\n",
       "      <td>5MP Front Camera</td>\n",
       "      <td>5000 mAh</td>\n",
       "      <td>Helio G36 Processor</td>\n",
       "      <td>₹6,999</td>\n",
       "      <td>2023-06-17</td>\n",
       "    </tr>\n",
       "  </tbody>\n",
       "</table>\n",
       "</div>"
      ],
      "text/plain": [
       "                      Phone Name  Rating ?/5 Number of Ratings       RAM  \\\n",
       "0   POCO C50 (Royal Blue, 32 GB)         4.2            33,561  2 GB RAM   \n",
       "1  POCO M4 5G (Cool Blue, 64 GB)         4.2            77,128  4 GB RAM   \n",
       "2   POCO C51 (Royal Blue, 64 GB)         4.3            15,175  4 GB RAM   \n",
       "3    POCO C55 (Cool Blue, 64 GB)         4.2            22,621  4 GB RAM   \n",
       "4  POCO C51 (Power Black, 64 GB)         4.3            15,175  4 GB RAM   \n",
       "\n",
       "  ROM/Storage       Back/Rare Camera      Front Camera   Battery  \\\n",
       "0   32 GB ROM        8MP Dual Camera  5MP Front Camera  5000 mAh   \n",
       "1   64 GB ROM             50MP + 2MP  8MP Front Camera  5000 mAh   \n",
       "2   64 GB ROM   8MP Dual Rear Camera  5MP Front Camera  5000 mAh   \n",
       "3   64 GB ROM  50MP Dual Rear Camera  5MP Front Camera  5000 mAh   \n",
       "4   64 GB ROM   8MP Dual Rear Camera  5MP Front Camera  5000 mAh   \n",
       "\n",
       "                                           Processor Price in INR  \\\n",
       "0  Mediatek Helio A22 Processor, Upto 2.0 GHz Pro...       ₹5,649   \n",
       "1                   Mediatek Dimensity 700 Processor      ₹11,999   \n",
       "2                                Helio G36 Processor       ₹6,999   \n",
       "3                       Mediatek Helio G85 Processor       ₹7,749   \n",
       "4                                Helio G36 Processor       ₹6,999   \n",
       "\n",
       "  Date of Scraping  \n",
       "0       2023-06-17  \n",
       "1       2023-06-17  \n",
       "2       2023-06-17  \n",
       "3       2023-06-17  \n",
       "4       2023-06-17  "
      ]
     },
     "execution_count": 9,
     "metadata": {},
     "output_type": "execute_result"
    }
   ],
   "source": [
    "df.head()"
   ]
  },
  {
   "cell_type": "markdown",
   "metadata": {},
   "source": [
    "Checking for the duplicated values in the dataset"
   ]
  },
  {
   "cell_type": "code",
   "execution_count": 10,
   "metadata": {},
   "outputs": [
    {
     "data": {
      "text/plain": [
       "69"
      ]
     },
     "execution_count": 10,
     "metadata": {},
     "output_type": "execute_result"
    }
   ],
   "source": [
    "df.duplicated().sum()"
   ]
  },
  {
   "cell_type": "markdown",
   "metadata": {},
   "source": [
    "Dropping the duplicate values"
   ]
  },
  {
   "cell_type": "code",
   "execution_count": 11,
   "metadata": {},
   "outputs": [],
   "source": [
    "df.drop_duplicates(inplace=True)"
   ]
  },
  {
   "cell_type": "markdown",
   "metadata": {},
   "source": [
    "Recheck if the duplicate value was dropped successfully"
   ]
  },
  {
   "cell_type": "code",
   "execution_count": 12,
   "metadata": {},
   "outputs": [
    {
     "data": {
      "text/plain": [
       "0"
      ]
     },
     "execution_count": 12,
     "metadata": {},
     "output_type": "execute_result"
    }
   ],
   "source": [
    "df.duplicated().sum()"
   ]
  },
  {
   "cell_type": "code",
   "execution_count": 13,
   "metadata": {},
   "outputs": [
    {
     "data": {
      "text/html": [
       "<div>\n",
       "<style scoped>\n",
       "    .dataframe tbody tr th:only-of-type {\n",
       "        vertical-align: middle;\n",
       "    }\n",
       "\n",
       "    .dataframe tbody tr th {\n",
       "        vertical-align: top;\n",
       "    }\n",
       "\n",
       "    .dataframe thead th {\n",
       "        text-align: right;\n",
       "    }\n",
       "</style>\n",
       "<table border=\"1\" class=\"dataframe\">\n",
       "  <thead>\n",
       "    <tr style=\"text-align: right;\">\n",
       "      <th></th>\n",
       "      <th>Phone Name</th>\n",
       "      <th>Rating ?/5</th>\n",
       "      <th>Number of Ratings</th>\n",
       "      <th>RAM</th>\n",
       "      <th>ROM/Storage</th>\n",
       "      <th>Back/Rare Camera</th>\n",
       "      <th>Front Camera</th>\n",
       "      <th>Battery</th>\n",
       "      <th>Processor</th>\n",
       "      <th>Price in INR</th>\n",
       "      <th>Date of Scraping</th>\n",
       "    </tr>\n",
       "  </thead>\n",
       "  <tbody>\n",
       "    <tr>\n",
       "      <th>0</th>\n",
       "      <td>POCO C50 (Royal Blue, 32 GB)</td>\n",
       "      <td>4.2</td>\n",
       "      <td>33,561</td>\n",
       "      <td>2 GB RAM</td>\n",
       "      <td>32 GB ROM</td>\n",
       "      <td>8MP Dual Camera</td>\n",
       "      <td>5MP Front Camera</td>\n",
       "      <td>5000 mAh</td>\n",
       "      <td>Mediatek Helio A22 Processor, Upto 2.0 GHz Pro...</td>\n",
       "      <td>₹5,649</td>\n",
       "      <td>2023-06-17</td>\n",
       "    </tr>\n",
       "    <tr>\n",
       "      <th>1</th>\n",
       "      <td>POCO M4 5G (Cool Blue, 64 GB)</td>\n",
       "      <td>4.2</td>\n",
       "      <td>77,128</td>\n",
       "      <td>4 GB RAM</td>\n",
       "      <td>64 GB ROM</td>\n",
       "      <td>50MP + 2MP</td>\n",
       "      <td>8MP Front Camera</td>\n",
       "      <td>5000 mAh</td>\n",
       "      <td>Mediatek Dimensity 700 Processor</td>\n",
       "      <td>₹11,999</td>\n",
       "      <td>2023-06-17</td>\n",
       "    </tr>\n",
       "    <tr>\n",
       "      <th>2</th>\n",
       "      <td>POCO C51 (Royal Blue, 64 GB)</td>\n",
       "      <td>4.3</td>\n",
       "      <td>15,175</td>\n",
       "      <td>4 GB RAM</td>\n",
       "      <td>64 GB ROM</td>\n",
       "      <td>8MP Dual Rear Camera</td>\n",
       "      <td>5MP Front Camera</td>\n",
       "      <td>5000 mAh</td>\n",
       "      <td>Helio G36 Processor</td>\n",
       "      <td>₹6,999</td>\n",
       "      <td>2023-06-17</td>\n",
       "    </tr>\n",
       "    <tr>\n",
       "      <th>3</th>\n",
       "      <td>POCO C55 (Cool Blue, 64 GB)</td>\n",
       "      <td>4.2</td>\n",
       "      <td>22,621</td>\n",
       "      <td>4 GB RAM</td>\n",
       "      <td>64 GB ROM</td>\n",
       "      <td>50MP Dual Rear Camera</td>\n",
       "      <td>5MP Front Camera</td>\n",
       "      <td>5000 mAh</td>\n",
       "      <td>Mediatek Helio G85 Processor</td>\n",
       "      <td>₹7,749</td>\n",
       "      <td>2023-06-17</td>\n",
       "    </tr>\n",
       "    <tr>\n",
       "      <th>4</th>\n",
       "      <td>POCO C51 (Power Black, 64 GB)</td>\n",
       "      <td>4.3</td>\n",
       "      <td>15,175</td>\n",
       "      <td>4 GB RAM</td>\n",
       "      <td>64 GB ROM</td>\n",
       "      <td>8MP Dual Rear Camera</td>\n",
       "      <td>5MP Front Camera</td>\n",
       "      <td>5000 mAh</td>\n",
       "      <td>Helio G36 Processor</td>\n",
       "      <td>₹6,999</td>\n",
       "      <td>2023-06-17</td>\n",
       "    </tr>\n",
       "  </tbody>\n",
       "</table>\n",
       "</div>"
      ],
      "text/plain": [
       "                      Phone Name  Rating ?/5 Number of Ratings       RAM  \\\n",
       "0   POCO C50 (Royal Blue, 32 GB)         4.2            33,561  2 GB RAM   \n",
       "1  POCO M4 5G (Cool Blue, 64 GB)         4.2            77,128  4 GB RAM   \n",
       "2   POCO C51 (Royal Blue, 64 GB)         4.3            15,175  4 GB RAM   \n",
       "3    POCO C55 (Cool Blue, 64 GB)         4.2            22,621  4 GB RAM   \n",
       "4  POCO C51 (Power Black, 64 GB)         4.3            15,175  4 GB RAM   \n",
       "\n",
       "  ROM/Storage       Back/Rare Camera      Front Camera   Battery  \\\n",
       "0   32 GB ROM        8MP Dual Camera  5MP Front Camera  5000 mAh   \n",
       "1   64 GB ROM             50MP + 2MP  8MP Front Camera  5000 mAh   \n",
       "2   64 GB ROM   8MP Dual Rear Camera  5MP Front Camera  5000 mAh   \n",
       "3   64 GB ROM  50MP Dual Rear Camera  5MP Front Camera  5000 mAh   \n",
       "4   64 GB ROM   8MP Dual Rear Camera  5MP Front Camera  5000 mAh   \n",
       "\n",
       "                                           Processor Price in INR  \\\n",
       "0  Mediatek Helio A22 Processor, Upto 2.0 GHz Pro...       ₹5,649   \n",
       "1                   Mediatek Dimensity 700 Processor      ₹11,999   \n",
       "2                                Helio G36 Processor       ₹6,999   \n",
       "3                       Mediatek Helio G85 Processor       ₹7,749   \n",
       "4                                Helio G36 Processor       ₹6,999   \n",
       "\n",
       "  Date of Scraping  \n",
       "0       2023-06-17  \n",
       "1       2023-06-17  \n",
       "2       2023-06-17  \n",
       "3       2023-06-17  \n",
       "4       2023-06-17  "
      ]
     },
     "execution_count": 13,
     "metadata": {},
     "output_type": "execute_result"
    }
   ],
   "source": [
    "df.head()"
   ]
  },
  {
   "cell_type": "markdown",
   "metadata": {},
   "source": [
    "## Removing marks and punctuation from the colymns in the Dataset"
   ]
  },
  {
   "cell_type": "code",
   "execution_count": 14,
   "metadata": {},
   "outputs": [
    {
     "data": {
      "text/html": [
       "<div>\n",
       "<style scoped>\n",
       "    .dataframe tbody tr th:only-of-type {\n",
       "        vertical-align: middle;\n",
       "    }\n",
       "\n",
       "    .dataframe tbody tr th {\n",
       "        vertical-align: top;\n",
       "    }\n",
       "\n",
       "    .dataframe thead th {\n",
       "        text-align: right;\n",
       "    }\n",
       "</style>\n",
       "<table border=\"1\" class=\"dataframe\">\n",
       "  <thead>\n",
       "    <tr style=\"text-align: right;\">\n",
       "      <th></th>\n",
       "      <th>Phone Name</th>\n",
       "      <th>Rating ?/5</th>\n",
       "      <th>Number of Ratings</th>\n",
       "      <th>RAM</th>\n",
       "      <th>ROM/Storage</th>\n",
       "      <th>Back/Rare Camera</th>\n",
       "      <th>Front Camera</th>\n",
       "      <th>Battery</th>\n",
       "      <th>Processor</th>\n",
       "      <th>Price in INR</th>\n",
       "      <th>Date of Scraping</th>\n",
       "    </tr>\n",
       "  </thead>\n",
       "  <tbody>\n",
       "    <tr>\n",
       "      <th>0</th>\n",
       "      <td>POCO C50 (Royal Blue 32 GB)</td>\n",
       "      <td>4.2</td>\n",
       "      <td>33,561</td>\n",
       "      <td>2 GB RAM</td>\n",
       "      <td>32 GB ROM</td>\n",
       "      <td>8MP Dual Camera</td>\n",
       "      <td>5MP Front Camera</td>\n",
       "      <td>5000 mAh</td>\n",
       "      <td>Mediatek Helio A22 Processor, Upto 2.0 GHz Pro...</td>\n",
       "      <td>₹5,649</td>\n",
       "      <td>2023-06-17</td>\n",
       "    </tr>\n",
       "    <tr>\n",
       "      <th>1</th>\n",
       "      <td>POCO M4 5G (Cool Blue 64 GB)</td>\n",
       "      <td>4.2</td>\n",
       "      <td>77,128</td>\n",
       "      <td>4 GB RAM</td>\n",
       "      <td>64 GB ROM</td>\n",
       "      <td>50MP + 2MP</td>\n",
       "      <td>8MP Front Camera</td>\n",
       "      <td>5000 mAh</td>\n",
       "      <td>Mediatek Dimensity 700 Processor</td>\n",
       "      <td>₹11,999</td>\n",
       "      <td>2023-06-17</td>\n",
       "    </tr>\n",
       "    <tr>\n",
       "      <th>2</th>\n",
       "      <td>POCO C51 (Royal Blue 64 GB)</td>\n",
       "      <td>4.3</td>\n",
       "      <td>15,175</td>\n",
       "      <td>4 GB RAM</td>\n",
       "      <td>64 GB ROM</td>\n",
       "      <td>8MP Dual Rear Camera</td>\n",
       "      <td>5MP Front Camera</td>\n",
       "      <td>5000 mAh</td>\n",
       "      <td>Helio G36 Processor</td>\n",
       "      <td>₹6,999</td>\n",
       "      <td>2023-06-17</td>\n",
       "    </tr>\n",
       "    <tr>\n",
       "      <th>3</th>\n",
       "      <td>POCO C55 (Cool Blue 64 GB)</td>\n",
       "      <td>4.2</td>\n",
       "      <td>22,621</td>\n",
       "      <td>4 GB RAM</td>\n",
       "      <td>64 GB ROM</td>\n",
       "      <td>50MP Dual Rear Camera</td>\n",
       "      <td>5MP Front Camera</td>\n",
       "      <td>5000 mAh</td>\n",
       "      <td>Mediatek Helio G85 Processor</td>\n",
       "      <td>₹7,749</td>\n",
       "      <td>2023-06-17</td>\n",
       "    </tr>\n",
       "    <tr>\n",
       "      <th>4</th>\n",
       "      <td>POCO C51 (Power Black 64 GB)</td>\n",
       "      <td>4.3</td>\n",
       "      <td>15,175</td>\n",
       "      <td>4 GB RAM</td>\n",
       "      <td>64 GB ROM</td>\n",
       "      <td>8MP Dual Rear Camera</td>\n",
       "      <td>5MP Front Camera</td>\n",
       "      <td>5000 mAh</td>\n",
       "      <td>Helio G36 Processor</td>\n",
       "      <td>₹6,999</td>\n",
       "      <td>2023-06-17</td>\n",
       "    </tr>\n",
       "  </tbody>\n",
       "</table>\n",
       "</div>"
      ],
      "text/plain": [
       "                     Phone Name  Rating ?/5 Number of Ratings       RAM  \\\n",
       "0   POCO C50 (Royal Blue 32 GB)         4.2            33,561  2 GB RAM   \n",
       "1  POCO M4 5G (Cool Blue 64 GB)         4.2            77,128  4 GB RAM   \n",
       "2   POCO C51 (Royal Blue 64 GB)         4.3            15,175  4 GB RAM   \n",
       "3    POCO C55 (Cool Blue 64 GB)         4.2            22,621  4 GB RAM   \n",
       "4  POCO C51 (Power Black 64 GB)         4.3            15,175  4 GB RAM   \n",
       "\n",
       "  ROM/Storage       Back/Rare Camera      Front Camera   Battery  \\\n",
       "0   32 GB ROM        8MP Dual Camera  5MP Front Camera  5000 mAh   \n",
       "1   64 GB ROM             50MP + 2MP  8MP Front Camera  5000 mAh   \n",
       "2   64 GB ROM   8MP Dual Rear Camera  5MP Front Camera  5000 mAh   \n",
       "3   64 GB ROM  50MP Dual Rear Camera  5MP Front Camera  5000 mAh   \n",
       "4   64 GB ROM   8MP Dual Rear Camera  5MP Front Camera  5000 mAh   \n",
       "\n",
       "                                           Processor Price in INR  \\\n",
       "0  Mediatek Helio A22 Processor, Upto 2.0 GHz Pro...       ₹5,649   \n",
       "1                   Mediatek Dimensity 700 Processor      ₹11,999   \n",
       "2                                Helio G36 Processor       ₹6,999   \n",
       "3                       Mediatek Helio G85 Processor       ₹7,749   \n",
       "4                                Helio G36 Processor       ₹6,999   \n",
       "\n",
       "  Date of Scraping  \n",
       "0       2023-06-17  \n",
       "1       2023-06-17  \n",
       "2       2023-06-17  \n",
       "3       2023-06-17  \n",
       "4       2023-06-17  "
      ]
     },
     "execution_count": 14,
     "metadata": {},
     "output_type": "execute_result"
    }
   ],
   "source": [
    "df[\"Phone Name\"]=df[\"Phone Name\"].str.replace(\",\",\"\")\n",
    "df.head()"
   ]
  },
  {
   "cell_type": "code",
   "execution_count": 15,
   "metadata": {},
   "outputs": [
    {
     "data": {
      "text/html": [
       "<div>\n",
       "<style scoped>\n",
       "    .dataframe tbody tr th:only-of-type {\n",
       "        vertical-align: middle;\n",
       "    }\n",
       "\n",
       "    .dataframe tbody tr th {\n",
       "        vertical-align: top;\n",
       "    }\n",
       "\n",
       "    .dataframe thead th {\n",
       "        text-align: right;\n",
       "    }\n",
       "</style>\n",
       "<table border=\"1\" class=\"dataframe\">\n",
       "  <thead>\n",
       "    <tr style=\"text-align: right;\">\n",
       "      <th></th>\n",
       "      <th>Phone Name</th>\n",
       "      <th>Rating ?/5</th>\n",
       "      <th>Number of Ratings</th>\n",
       "      <th>RAM</th>\n",
       "      <th>ROM/Storage</th>\n",
       "      <th>Back/Rare Camera</th>\n",
       "      <th>Front Camera</th>\n",
       "      <th>Battery</th>\n",
       "      <th>Processor</th>\n",
       "      <th>Price in INR</th>\n",
       "      <th>Date of Scraping</th>\n",
       "    </tr>\n",
       "  </thead>\n",
       "  <tbody>\n",
       "    <tr>\n",
       "      <th>0</th>\n",
       "      <td>POCO C50 (Royal Blue 32 GB)</td>\n",
       "      <td>4.2</td>\n",
       "      <td>33,561</td>\n",
       "      <td>2 GB RAM</td>\n",
       "      <td>32 GB ROM</td>\n",
       "      <td>8MP Dual Camera</td>\n",
       "      <td>5MP Front Camera</td>\n",
       "      <td>5000 mAh</td>\n",
       "      <td>Mediatek Helio A22 Processor, Upto 2.0 GHz Pro...</td>\n",
       "      <td>₹5,649</td>\n",
       "      <td>2023-06-17</td>\n",
       "    </tr>\n",
       "    <tr>\n",
       "      <th>1</th>\n",
       "      <td>POCO M4 5G (Cool Blue 64 GB)</td>\n",
       "      <td>4.2</td>\n",
       "      <td>77,128</td>\n",
       "      <td>4 GB RAM</td>\n",
       "      <td>64 GB ROM</td>\n",
       "      <td>50MP + 2MP</td>\n",
       "      <td>8MP Front Camera</td>\n",
       "      <td>5000 mAh</td>\n",
       "      <td>Mediatek Dimensity 700 Processor</td>\n",
       "      <td>₹11,999</td>\n",
       "      <td>2023-06-17</td>\n",
       "    </tr>\n",
       "    <tr>\n",
       "      <th>2</th>\n",
       "      <td>POCO C51 (Royal Blue 64 GB)</td>\n",
       "      <td>4.3</td>\n",
       "      <td>15,175</td>\n",
       "      <td>4 GB RAM</td>\n",
       "      <td>64 GB ROM</td>\n",
       "      <td>8MP Dual Rear Camera</td>\n",
       "      <td>5MP Front Camera</td>\n",
       "      <td>5000 mAh</td>\n",
       "      <td>Helio G36 Processor</td>\n",
       "      <td>₹6,999</td>\n",
       "      <td>2023-06-17</td>\n",
       "    </tr>\n",
       "    <tr>\n",
       "      <th>3</th>\n",
       "      <td>POCO C55 (Cool Blue 64 GB)</td>\n",
       "      <td>4.2</td>\n",
       "      <td>22,621</td>\n",
       "      <td>4 GB RAM</td>\n",
       "      <td>64 GB ROM</td>\n",
       "      <td>50MP Dual Rear Camera</td>\n",
       "      <td>5MP Front Camera</td>\n",
       "      <td>5000 mAh</td>\n",
       "      <td>Mediatek Helio G85 Processor</td>\n",
       "      <td>₹7,749</td>\n",
       "      <td>2023-06-17</td>\n",
       "    </tr>\n",
       "    <tr>\n",
       "      <th>4</th>\n",
       "      <td>POCO C51 (Power Black 64 GB)</td>\n",
       "      <td>4.3</td>\n",
       "      <td>15,175</td>\n",
       "      <td>4 GB RAM</td>\n",
       "      <td>64 GB ROM</td>\n",
       "      <td>8MP Dual Rear Camera</td>\n",
       "      <td>5MP Front Camera</td>\n",
       "      <td>5000 mAh</td>\n",
       "      <td>Helio G36 Processor</td>\n",
       "      <td>₹6,999</td>\n",
       "      <td>2023-06-17</td>\n",
       "    </tr>\n",
       "  </tbody>\n",
       "</table>\n",
       "</div>"
      ],
      "text/plain": [
       "                     Phone Name  Rating ?/5 Number of Ratings       RAM  \\\n",
       "0   POCO C50 (Royal Blue 32 GB)         4.2            33,561  2 GB RAM   \n",
       "1  POCO M4 5G (Cool Blue 64 GB)         4.2            77,128  4 GB RAM   \n",
       "2   POCO C51 (Royal Blue 64 GB)         4.3            15,175  4 GB RAM   \n",
       "3    POCO C55 (Cool Blue 64 GB)         4.2            22,621  4 GB RAM   \n",
       "4  POCO C51 (Power Black 64 GB)         4.3            15,175  4 GB RAM   \n",
       "\n",
       "  ROM/Storage       Back/Rare Camera      Front Camera   Battery  \\\n",
       "0   32 GB ROM        8MP Dual Camera  5MP Front Camera  5000 mAh   \n",
       "1   64 GB ROM             50MP + 2MP  8MP Front Camera  5000 mAh   \n",
       "2   64 GB ROM   8MP Dual Rear Camera  5MP Front Camera  5000 mAh   \n",
       "3   64 GB ROM  50MP Dual Rear Camera  5MP Front Camera  5000 mAh   \n",
       "4   64 GB ROM   8MP Dual Rear Camera  5MP Front Camera  5000 mAh   \n",
       "\n",
       "                                           Processor Price in INR  \\\n",
       "0  Mediatek Helio A22 Processor, Upto 2.0 GHz Pro...       ₹5,649   \n",
       "1                   Mediatek Dimensity 700 Processor      ₹11,999   \n",
       "2                                Helio G36 Processor       ₹6,999   \n",
       "3                       Mediatek Helio G85 Processor       ₹7,749   \n",
       "4                                Helio G36 Processor       ₹6,999   \n",
       "\n",
       "  Date of Scraping  \n",
       "0       2023-06-17  \n",
       "1       2023-06-17  \n",
       "2       2023-06-17  \n",
       "3       2023-06-17  \n",
       "4       2023-06-17  "
      ]
     },
     "execution_count": 15,
     "metadata": {},
     "output_type": "execute_result"
    }
   ],
   "source": [
    "df[\"Number of Ratings\"]=df[\"Number of Ratings\"].str.replace(\"(\",\"\")\n",
    "df.head()"
   ]
  },
  {
   "cell_type": "code",
   "execution_count": 16,
   "metadata": {},
   "outputs": [
    {
     "data": {
      "text/html": [
       "<div>\n",
       "<style scoped>\n",
       "    .dataframe tbody tr th:only-of-type {\n",
       "        vertical-align: middle;\n",
       "    }\n",
       "\n",
       "    .dataframe tbody tr th {\n",
       "        vertical-align: top;\n",
       "    }\n",
       "\n",
       "    .dataframe thead th {\n",
       "        text-align: right;\n",
       "    }\n",
       "</style>\n",
       "<table border=\"1\" class=\"dataframe\">\n",
       "  <thead>\n",
       "    <tr style=\"text-align: right;\">\n",
       "      <th></th>\n",
       "      <th>Phone Name</th>\n",
       "      <th>Rating ?/5</th>\n",
       "      <th>Number of Ratings</th>\n",
       "      <th>RAM</th>\n",
       "      <th>ROM/Storage</th>\n",
       "      <th>Back/Rare Camera</th>\n",
       "      <th>Front Camera</th>\n",
       "      <th>Battery</th>\n",
       "      <th>Processor</th>\n",
       "      <th>Price in INR</th>\n",
       "      <th>Date of Scraping</th>\n",
       "    </tr>\n",
       "  </thead>\n",
       "  <tbody>\n",
       "    <tr>\n",
       "      <th>0</th>\n",
       "      <td>POCO C50 (Royal Blue 32 GB</td>\n",
       "      <td>4.2</td>\n",
       "      <td>33,561</td>\n",
       "      <td>2 GB RAM</td>\n",
       "      <td>32 GB ROM</td>\n",
       "      <td>8MP Dual Camera</td>\n",
       "      <td>5MP Front Camera</td>\n",
       "      <td>5000 mAh</td>\n",
       "      <td>Mediatek Helio A22 Processor, Upto 2.0 GHz Pro...</td>\n",
       "      <td>₹5,649</td>\n",
       "      <td>2023-06-17</td>\n",
       "    </tr>\n",
       "    <tr>\n",
       "      <th>1</th>\n",
       "      <td>POCO M4 5G (Cool Blue 64 GB</td>\n",
       "      <td>4.2</td>\n",
       "      <td>77,128</td>\n",
       "      <td>4 GB RAM</td>\n",
       "      <td>64 GB ROM</td>\n",
       "      <td>50MP + 2MP</td>\n",
       "      <td>8MP Front Camera</td>\n",
       "      <td>5000 mAh</td>\n",
       "      <td>Mediatek Dimensity 700 Processor</td>\n",
       "      <td>₹11,999</td>\n",
       "      <td>2023-06-17</td>\n",
       "    </tr>\n",
       "    <tr>\n",
       "      <th>2</th>\n",
       "      <td>POCO C51 (Royal Blue 64 GB</td>\n",
       "      <td>4.3</td>\n",
       "      <td>15,175</td>\n",
       "      <td>4 GB RAM</td>\n",
       "      <td>64 GB ROM</td>\n",
       "      <td>8MP Dual Rear Camera</td>\n",
       "      <td>5MP Front Camera</td>\n",
       "      <td>5000 mAh</td>\n",
       "      <td>Helio G36 Processor</td>\n",
       "      <td>₹6,999</td>\n",
       "      <td>2023-06-17</td>\n",
       "    </tr>\n",
       "    <tr>\n",
       "      <th>3</th>\n",
       "      <td>POCO C55 (Cool Blue 64 GB</td>\n",
       "      <td>4.2</td>\n",
       "      <td>22,621</td>\n",
       "      <td>4 GB RAM</td>\n",
       "      <td>64 GB ROM</td>\n",
       "      <td>50MP Dual Rear Camera</td>\n",
       "      <td>5MP Front Camera</td>\n",
       "      <td>5000 mAh</td>\n",
       "      <td>Mediatek Helio G85 Processor</td>\n",
       "      <td>₹7,749</td>\n",
       "      <td>2023-06-17</td>\n",
       "    </tr>\n",
       "    <tr>\n",
       "      <th>4</th>\n",
       "      <td>POCO C51 (Power Black 64 GB</td>\n",
       "      <td>4.3</td>\n",
       "      <td>15,175</td>\n",
       "      <td>4 GB RAM</td>\n",
       "      <td>64 GB ROM</td>\n",
       "      <td>8MP Dual Rear Camera</td>\n",
       "      <td>5MP Front Camera</td>\n",
       "      <td>5000 mAh</td>\n",
       "      <td>Helio G36 Processor</td>\n",
       "      <td>₹6,999</td>\n",
       "      <td>2023-06-17</td>\n",
       "    </tr>\n",
       "  </tbody>\n",
       "</table>\n",
       "</div>"
      ],
      "text/plain": [
       "                    Phone Name  Rating ?/5 Number of Ratings       RAM  \\\n",
       "0   POCO C50 (Royal Blue 32 GB         4.2            33,561  2 GB RAM   \n",
       "1  POCO M4 5G (Cool Blue 64 GB         4.2            77,128  4 GB RAM   \n",
       "2   POCO C51 (Royal Blue 64 GB         4.3            15,175  4 GB RAM   \n",
       "3    POCO C55 (Cool Blue 64 GB         4.2            22,621  4 GB RAM   \n",
       "4  POCO C51 (Power Black 64 GB         4.3            15,175  4 GB RAM   \n",
       "\n",
       "  ROM/Storage       Back/Rare Camera      Front Camera   Battery  \\\n",
       "0   32 GB ROM        8MP Dual Camera  5MP Front Camera  5000 mAh   \n",
       "1   64 GB ROM             50MP + 2MP  8MP Front Camera  5000 mAh   \n",
       "2   64 GB ROM   8MP Dual Rear Camera  5MP Front Camera  5000 mAh   \n",
       "3   64 GB ROM  50MP Dual Rear Camera  5MP Front Camera  5000 mAh   \n",
       "4   64 GB ROM   8MP Dual Rear Camera  5MP Front Camera  5000 mAh   \n",
       "\n",
       "                                           Processor Price in INR  \\\n",
       "0  Mediatek Helio A22 Processor, Upto 2.0 GHz Pro...       ₹5,649   \n",
       "1                   Mediatek Dimensity 700 Processor      ₹11,999   \n",
       "2                                Helio G36 Processor       ₹6,999   \n",
       "3                       Mediatek Helio G85 Processor       ₹7,749   \n",
       "4                                Helio G36 Processor       ₹6,999   \n",
       "\n",
       "  Date of Scraping  \n",
       "0       2023-06-17  \n",
       "1       2023-06-17  \n",
       "2       2023-06-17  \n",
       "3       2023-06-17  \n",
       "4       2023-06-17  "
      ]
     },
     "execution_count": 16,
     "metadata": {},
     "output_type": "execute_result"
    }
   ],
   "source": [
    "df[\"Phone Name\"]=df[\"Phone Name\"].str.replace(\")\",\"\")\n",
    "df.head()"
   ]
  },
  {
   "cell_type": "code",
   "execution_count": 17,
   "metadata": {},
   "outputs": [
    {
     "data": {
      "text/html": [
       "<div>\n",
       "<style scoped>\n",
       "    .dataframe tbody tr th:only-of-type {\n",
       "        vertical-align: middle;\n",
       "    }\n",
       "\n",
       "    .dataframe tbody tr th {\n",
       "        vertical-align: top;\n",
       "    }\n",
       "\n",
       "    .dataframe thead th {\n",
       "        text-align: right;\n",
       "    }\n",
       "</style>\n",
       "<table border=\"1\" class=\"dataframe\">\n",
       "  <thead>\n",
       "    <tr style=\"text-align: right;\">\n",
       "      <th></th>\n",
       "      <th>Phone Name</th>\n",
       "      <th>Rating ?/5</th>\n",
       "      <th>Number of Ratings</th>\n",
       "      <th>RAM</th>\n",
       "      <th>ROM/Storage</th>\n",
       "      <th>Back/Rare Camera</th>\n",
       "      <th>Front Camera</th>\n",
       "      <th>Battery</th>\n",
       "      <th>Processor</th>\n",
       "      <th>Price in INR</th>\n",
       "      <th>Date of Scraping</th>\n",
       "    </tr>\n",
       "  </thead>\n",
       "  <tbody>\n",
       "    <tr>\n",
       "      <th>0</th>\n",
       "      <td>POCO C50 (Royal Blue 32 GB</td>\n",
       "      <td>4.2</td>\n",
       "      <td>33,561</td>\n",
       "      <td>2 GB RAM</td>\n",
       "      <td>32 GB ROM</td>\n",
       "      <td>8MP Dual Camera</td>\n",
       "      <td>5MP Front Camera</td>\n",
       "      <td>5000 mAh</td>\n",
       "      <td>Mediatek Helio A22 Processor, Upto 2.0 GHz Pro...</td>\n",
       "      <td>₹5,649</td>\n",
       "      <td>2023-06-17</td>\n",
       "    </tr>\n",
       "    <tr>\n",
       "      <th>1</th>\n",
       "      <td>POCO M4 5G (Cool Blue 64 GB</td>\n",
       "      <td>4.2</td>\n",
       "      <td>77,128</td>\n",
       "      <td>4 GB RAM</td>\n",
       "      <td>64 GB ROM</td>\n",
       "      <td>50MP + 2MP</td>\n",
       "      <td>8MP Front Camera</td>\n",
       "      <td>5000 mAh</td>\n",
       "      <td>Mediatek Dimensity 700 Processor</td>\n",
       "      <td>₹11,999</td>\n",
       "      <td>2023-06-17</td>\n",
       "    </tr>\n",
       "    <tr>\n",
       "      <th>2</th>\n",
       "      <td>POCO C51 (Royal Blue 64 GB</td>\n",
       "      <td>4.3</td>\n",
       "      <td>15,175</td>\n",
       "      <td>4 GB RAM</td>\n",
       "      <td>64 GB ROM</td>\n",
       "      <td>8MP Dual Rear Camera</td>\n",
       "      <td>5MP Front Camera</td>\n",
       "      <td>5000 mAh</td>\n",
       "      <td>Helio G36 Processor</td>\n",
       "      <td>₹6,999</td>\n",
       "      <td>2023-06-17</td>\n",
       "    </tr>\n",
       "    <tr>\n",
       "      <th>3</th>\n",
       "      <td>POCO C55 (Cool Blue 64 GB</td>\n",
       "      <td>4.2</td>\n",
       "      <td>22,621</td>\n",
       "      <td>4 GB RAM</td>\n",
       "      <td>64 GB ROM</td>\n",
       "      <td>50MP Dual Rear Camera</td>\n",
       "      <td>5MP Front Camera</td>\n",
       "      <td>5000 mAh</td>\n",
       "      <td>Mediatek Helio G85 Processor</td>\n",
       "      <td>₹7,749</td>\n",
       "      <td>2023-06-17</td>\n",
       "    </tr>\n",
       "    <tr>\n",
       "      <th>4</th>\n",
       "      <td>POCO C51 (Power Black 64 GB</td>\n",
       "      <td>4.3</td>\n",
       "      <td>15,175</td>\n",
       "      <td>4 GB RAM</td>\n",
       "      <td>64 GB ROM</td>\n",
       "      <td>8MP Dual Rear Camera</td>\n",
       "      <td>5MP Front Camera</td>\n",
       "      <td>5000 mAh</td>\n",
       "      <td>Helio G36 Processor</td>\n",
       "      <td>₹6,999</td>\n",
       "      <td>2023-06-17</td>\n",
       "    </tr>\n",
       "  </tbody>\n",
       "</table>\n",
       "</div>"
      ],
      "text/plain": [
       "                    Phone Name  Rating ?/5 Number of Ratings       RAM  \\\n",
       "0   POCO C50 (Royal Blue 32 GB         4.2            33,561  2 GB RAM   \n",
       "1  POCO M4 5G (Cool Blue 64 GB         4.2            77,128  4 GB RAM   \n",
       "2   POCO C51 (Royal Blue 64 GB         4.3            15,175  4 GB RAM   \n",
       "3    POCO C55 (Cool Blue 64 GB         4.2            22,621  4 GB RAM   \n",
       "4  POCO C51 (Power Black 64 GB         4.3            15,175  4 GB RAM   \n",
       "\n",
       "  ROM/Storage       Back/Rare Camera      Front Camera   Battery  \\\n",
       "0   32 GB ROM        8MP Dual Camera  5MP Front Camera  5000 mAh   \n",
       "1   64 GB ROM             50MP + 2MP  8MP Front Camera  5000 mAh   \n",
       "2   64 GB ROM   8MP Dual Rear Camera  5MP Front Camera  5000 mAh   \n",
       "3   64 GB ROM  50MP Dual Rear Camera  5MP Front Camera  5000 mAh   \n",
       "4   64 GB ROM   8MP Dual Rear Camera  5MP Front Camera  5000 mAh   \n",
       "\n",
       "                                           Processor Price in INR  \\\n",
       "0  Mediatek Helio A22 Processor, Upto 2.0 GHz Pro...       ₹5,649   \n",
       "1                   Mediatek Dimensity 700 Processor      ₹11,999   \n",
       "2                                Helio G36 Processor       ₹6,999   \n",
       "3                       Mediatek Helio G85 Processor       ₹7,749   \n",
       "4                                Helio G36 Processor       ₹6,999   \n",
       "\n",
       "  Date of Scraping  \n",
       "0       2023-06-17  \n",
       "1       2023-06-17  \n",
       "2       2023-06-17  \n",
       "3       2023-06-17  \n",
       "4       2023-06-17  "
      ]
     },
     "execution_count": 17,
     "metadata": {},
     "output_type": "execute_result"
    }
   ],
   "source": [
    "df[\"Phone Name\"]=df[\"Phone Name\"].str.replace(\")\",\"\")\n",
    "df.head()"
   ]
  },
  {
   "cell_type": "code",
   "execution_count": 18,
   "metadata": {},
   "outputs": [
    {
     "data": {
      "text/html": [
       "<div>\n",
       "<style scoped>\n",
       "    .dataframe tbody tr th:only-of-type {\n",
       "        vertical-align: middle;\n",
       "    }\n",
       "\n",
       "    .dataframe tbody tr th {\n",
       "        vertical-align: top;\n",
       "    }\n",
       "\n",
       "    .dataframe thead th {\n",
       "        text-align: right;\n",
       "    }\n",
       "</style>\n",
       "<table border=\"1\" class=\"dataframe\">\n",
       "  <thead>\n",
       "    <tr style=\"text-align: right;\">\n",
       "      <th></th>\n",
       "      <th>Phone Name</th>\n",
       "      <th>Rating ?/5</th>\n",
       "      <th>Number of Ratings</th>\n",
       "      <th>RAM</th>\n",
       "      <th>ROM/Storage</th>\n",
       "      <th>Back/Rare Camera</th>\n",
       "      <th>Front Camera</th>\n",
       "      <th>Battery</th>\n",
       "      <th>Processor</th>\n",
       "      <th>Price in INR</th>\n",
       "      <th>Date of Scraping</th>\n",
       "    </tr>\n",
       "  </thead>\n",
       "  <tbody>\n",
       "    <tr>\n",
       "      <th>0</th>\n",
       "      <td>POCO C50 (Royal Blue 32 GB</td>\n",
       "      <td>4.2</td>\n",
       "      <td>33,561</td>\n",
       "      <td>2 GB RAM</td>\n",
       "      <td>32 GB ROM</td>\n",
       "      <td>8MP Dual Camera</td>\n",
       "      <td>5MP Front Camera</td>\n",
       "      <td>5000 mAh</td>\n",
       "      <td>Mediatek Helio A22 Processor Upto 2.0 GHz Proc...</td>\n",
       "      <td>₹5,649</td>\n",
       "      <td>2023-06-17</td>\n",
       "    </tr>\n",
       "    <tr>\n",
       "      <th>1</th>\n",
       "      <td>POCO M4 5G (Cool Blue 64 GB</td>\n",
       "      <td>4.2</td>\n",
       "      <td>77,128</td>\n",
       "      <td>4 GB RAM</td>\n",
       "      <td>64 GB ROM</td>\n",
       "      <td>50MP + 2MP</td>\n",
       "      <td>8MP Front Camera</td>\n",
       "      <td>5000 mAh</td>\n",
       "      <td>Mediatek Dimensity 700 Processor</td>\n",
       "      <td>₹11,999</td>\n",
       "      <td>2023-06-17</td>\n",
       "    </tr>\n",
       "    <tr>\n",
       "      <th>2</th>\n",
       "      <td>POCO C51 (Royal Blue 64 GB</td>\n",
       "      <td>4.3</td>\n",
       "      <td>15,175</td>\n",
       "      <td>4 GB RAM</td>\n",
       "      <td>64 GB ROM</td>\n",
       "      <td>8MP Dual Rear Camera</td>\n",
       "      <td>5MP Front Camera</td>\n",
       "      <td>5000 mAh</td>\n",
       "      <td>Helio G36 Processor</td>\n",
       "      <td>₹6,999</td>\n",
       "      <td>2023-06-17</td>\n",
       "    </tr>\n",
       "    <tr>\n",
       "      <th>3</th>\n",
       "      <td>POCO C55 (Cool Blue 64 GB</td>\n",
       "      <td>4.2</td>\n",
       "      <td>22,621</td>\n",
       "      <td>4 GB RAM</td>\n",
       "      <td>64 GB ROM</td>\n",
       "      <td>50MP Dual Rear Camera</td>\n",
       "      <td>5MP Front Camera</td>\n",
       "      <td>5000 mAh</td>\n",
       "      <td>Mediatek Helio G85 Processor</td>\n",
       "      <td>₹7,749</td>\n",
       "      <td>2023-06-17</td>\n",
       "    </tr>\n",
       "    <tr>\n",
       "      <th>4</th>\n",
       "      <td>POCO C51 (Power Black 64 GB</td>\n",
       "      <td>4.3</td>\n",
       "      <td>15,175</td>\n",
       "      <td>4 GB RAM</td>\n",
       "      <td>64 GB ROM</td>\n",
       "      <td>8MP Dual Rear Camera</td>\n",
       "      <td>5MP Front Camera</td>\n",
       "      <td>5000 mAh</td>\n",
       "      <td>Helio G36 Processor</td>\n",
       "      <td>₹6,999</td>\n",
       "      <td>2023-06-17</td>\n",
       "    </tr>\n",
       "  </tbody>\n",
       "</table>\n",
       "</div>"
      ],
      "text/plain": [
       "                    Phone Name  Rating ?/5 Number of Ratings       RAM  \\\n",
       "0   POCO C50 (Royal Blue 32 GB         4.2            33,561  2 GB RAM   \n",
       "1  POCO M4 5G (Cool Blue 64 GB         4.2            77,128  4 GB RAM   \n",
       "2   POCO C51 (Royal Blue 64 GB         4.3            15,175  4 GB RAM   \n",
       "3    POCO C55 (Cool Blue 64 GB         4.2            22,621  4 GB RAM   \n",
       "4  POCO C51 (Power Black 64 GB         4.3            15,175  4 GB RAM   \n",
       "\n",
       "  ROM/Storage       Back/Rare Camera      Front Camera   Battery  \\\n",
       "0   32 GB ROM        8MP Dual Camera  5MP Front Camera  5000 mAh   \n",
       "1   64 GB ROM             50MP + 2MP  8MP Front Camera  5000 mAh   \n",
       "2   64 GB ROM   8MP Dual Rear Camera  5MP Front Camera  5000 mAh   \n",
       "3   64 GB ROM  50MP Dual Rear Camera  5MP Front Camera  5000 mAh   \n",
       "4   64 GB ROM   8MP Dual Rear Camera  5MP Front Camera  5000 mAh   \n",
       "\n",
       "                                           Processor Price in INR  \\\n",
       "0  Mediatek Helio A22 Processor Upto 2.0 GHz Proc...       ₹5,649   \n",
       "1                   Mediatek Dimensity 700 Processor      ₹11,999   \n",
       "2                                Helio G36 Processor       ₹6,999   \n",
       "3                       Mediatek Helio G85 Processor       ₹7,749   \n",
       "4                                Helio G36 Processor       ₹6,999   \n",
       "\n",
       "  Date of Scraping  \n",
       "0       2023-06-17  \n",
       "1       2023-06-17  \n",
       "2       2023-06-17  \n",
       "3       2023-06-17  \n",
       "4       2023-06-17  "
      ]
     },
     "execution_count": 18,
     "metadata": {},
     "output_type": "execute_result"
    }
   ],
   "source": [
    "df[\"Processor\"]=df[\"Processor\"].str.replace(\",\",\"\")\n",
    "df.head()"
   ]
  },
  {
   "cell_type": "code",
   "execution_count": 19,
   "metadata": {},
   "outputs": [
    {
     "data": {
      "text/html": [
       "<div>\n",
       "<style scoped>\n",
       "    .dataframe tbody tr th:only-of-type {\n",
       "        vertical-align: middle;\n",
       "    }\n",
       "\n",
       "    .dataframe tbody tr th {\n",
       "        vertical-align: top;\n",
       "    }\n",
       "\n",
       "    .dataframe thead th {\n",
       "        text-align: right;\n",
       "    }\n",
       "</style>\n",
       "<table border=\"1\" class=\"dataframe\">\n",
       "  <thead>\n",
       "    <tr style=\"text-align: right;\">\n",
       "      <th></th>\n",
       "      <th>Phone Name</th>\n",
       "      <th>Rating ?/5</th>\n",
       "      <th>Number of Ratings</th>\n",
       "      <th>RAM</th>\n",
       "      <th>ROM/Storage</th>\n",
       "      <th>Back/Rare Camera</th>\n",
       "      <th>Front Camera</th>\n",
       "      <th>Battery</th>\n",
       "      <th>Processor</th>\n",
       "      <th>Price in INR</th>\n",
       "      <th>Date of Scraping</th>\n",
       "    </tr>\n",
       "  </thead>\n",
       "  <tbody>\n",
       "    <tr>\n",
       "      <th>0</th>\n",
       "      <td>POCO C50 (Royal Blue 32 GB</td>\n",
       "      <td>4.2</td>\n",
       "      <td>33,561</td>\n",
       "      <td>2 GB RAM</td>\n",
       "      <td>32 GB ROM</td>\n",
       "      <td>8MP Dual Camera</td>\n",
       "      <td>5MP Front Camera</td>\n",
       "      <td>5000 mAh</td>\n",
       "      <td>Mediatek Helio A22 Processor Upto 2.0 GHz Proc...</td>\n",
       "      <td>5,649</td>\n",
       "      <td>2023-06-17</td>\n",
       "    </tr>\n",
       "    <tr>\n",
       "      <th>1</th>\n",
       "      <td>POCO M4 5G (Cool Blue 64 GB</td>\n",
       "      <td>4.2</td>\n",
       "      <td>77,128</td>\n",
       "      <td>4 GB RAM</td>\n",
       "      <td>64 GB ROM</td>\n",
       "      <td>50MP + 2MP</td>\n",
       "      <td>8MP Front Camera</td>\n",
       "      <td>5000 mAh</td>\n",
       "      <td>Mediatek Dimensity 700 Processor</td>\n",
       "      <td>11,999</td>\n",
       "      <td>2023-06-17</td>\n",
       "    </tr>\n",
       "    <tr>\n",
       "      <th>2</th>\n",
       "      <td>POCO C51 (Royal Blue 64 GB</td>\n",
       "      <td>4.3</td>\n",
       "      <td>15,175</td>\n",
       "      <td>4 GB RAM</td>\n",
       "      <td>64 GB ROM</td>\n",
       "      <td>8MP Dual Rear Camera</td>\n",
       "      <td>5MP Front Camera</td>\n",
       "      <td>5000 mAh</td>\n",
       "      <td>Helio G36 Processor</td>\n",
       "      <td>6,999</td>\n",
       "      <td>2023-06-17</td>\n",
       "    </tr>\n",
       "    <tr>\n",
       "      <th>3</th>\n",
       "      <td>POCO C55 (Cool Blue 64 GB</td>\n",
       "      <td>4.2</td>\n",
       "      <td>22,621</td>\n",
       "      <td>4 GB RAM</td>\n",
       "      <td>64 GB ROM</td>\n",
       "      <td>50MP Dual Rear Camera</td>\n",
       "      <td>5MP Front Camera</td>\n",
       "      <td>5000 mAh</td>\n",
       "      <td>Mediatek Helio G85 Processor</td>\n",
       "      <td>7,749</td>\n",
       "      <td>2023-06-17</td>\n",
       "    </tr>\n",
       "    <tr>\n",
       "      <th>4</th>\n",
       "      <td>POCO C51 (Power Black 64 GB</td>\n",
       "      <td>4.3</td>\n",
       "      <td>15,175</td>\n",
       "      <td>4 GB RAM</td>\n",
       "      <td>64 GB ROM</td>\n",
       "      <td>8MP Dual Rear Camera</td>\n",
       "      <td>5MP Front Camera</td>\n",
       "      <td>5000 mAh</td>\n",
       "      <td>Helio G36 Processor</td>\n",
       "      <td>6,999</td>\n",
       "      <td>2023-06-17</td>\n",
       "    </tr>\n",
       "  </tbody>\n",
       "</table>\n",
       "</div>"
      ],
      "text/plain": [
       "                    Phone Name  Rating ?/5 Number of Ratings       RAM  \\\n",
       "0   POCO C50 (Royal Blue 32 GB         4.2            33,561  2 GB RAM   \n",
       "1  POCO M4 5G (Cool Blue 64 GB         4.2            77,128  4 GB RAM   \n",
       "2   POCO C51 (Royal Blue 64 GB         4.3            15,175  4 GB RAM   \n",
       "3    POCO C55 (Cool Blue 64 GB         4.2            22,621  4 GB RAM   \n",
       "4  POCO C51 (Power Black 64 GB         4.3            15,175  4 GB RAM   \n",
       "\n",
       "  ROM/Storage       Back/Rare Camera      Front Camera   Battery  \\\n",
       "0   32 GB ROM        8MP Dual Camera  5MP Front Camera  5000 mAh   \n",
       "1   64 GB ROM             50MP + 2MP  8MP Front Camera  5000 mAh   \n",
       "2   64 GB ROM   8MP Dual Rear Camera  5MP Front Camera  5000 mAh   \n",
       "3   64 GB ROM  50MP Dual Rear Camera  5MP Front Camera  5000 mAh   \n",
       "4   64 GB ROM   8MP Dual Rear Camera  5MP Front Camera  5000 mAh   \n",
       "\n",
       "                                           Processor Price in INR  \\\n",
       "0  Mediatek Helio A22 Processor Upto 2.0 GHz Proc...        5,649   \n",
       "1                   Mediatek Dimensity 700 Processor       11,999   \n",
       "2                                Helio G36 Processor        6,999   \n",
       "3                       Mediatek Helio G85 Processor        7,749   \n",
       "4                                Helio G36 Processor        6,999   \n",
       "\n",
       "  Date of Scraping  \n",
       "0       2023-06-17  \n",
       "1       2023-06-17  \n",
       "2       2023-06-17  \n",
       "3       2023-06-17  \n",
       "4       2023-06-17  "
      ]
     },
     "execution_count": 19,
     "metadata": {},
     "output_type": "execute_result"
    }
   ],
   "source": [
    "df[\"Price in INR\"]=df[\"Price in INR\"].str.replace(\"₹\",\"\")\n",
    "df.head()"
   ]
  },
  {
   "cell_type": "code",
   "execution_count": 20,
   "metadata": {},
   "outputs": [],
   "source": [
    "df[\"Price in INR\"]=df[\"Price in INR\"].str.replace(\",\",\"\")"
   ]
  },
  {
   "cell_type": "markdown",
   "metadata": {},
   "source": [
    "### Changing Categorical values in a dataset to Numerical values"
   ]
  },
  {
   "cell_type": "code",
   "execution_count": 21,
   "metadata": {},
   "outputs": [
    {
     "data": {
      "text/html": [
       "<div>\n",
       "<style scoped>\n",
       "    .dataframe tbody tr th:only-of-type {\n",
       "        vertical-align: middle;\n",
       "    }\n",
       "\n",
       "    .dataframe tbody tr th {\n",
       "        vertical-align: top;\n",
       "    }\n",
       "\n",
       "    .dataframe thead th {\n",
       "        text-align: right;\n",
       "    }\n",
       "</style>\n",
       "<table border=\"1\" class=\"dataframe\">\n",
       "  <thead>\n",
       "    <tr style=\"text-align: right;\">\n",
       "      <th></th>\n",
       "      <th>Phone Name</th>\n",
       "      <th>Rating ?/5</th>\n",
       "      <th>Number of Ratings</th>\n",
       "      <th>RAM</th>\n",
       "      <th>ROM/Storage</th>\n",
       "      <th>Back/Rare Camera</th>\n",
       "      <th>Front Camera</th>\n",
       "      <th>Battery</th>\n",
       "      <th>Processor</th>\n",
       "      <th>Price in INR</th>\n",
       "      <th>Date of Scraping</th>\n",
       "    </tr>\n",
       "  </thead>\n",
       "  <tbody>\n",
       "    <tr>\n",
       "      <th>0</th>\n",
       "      <td>746</td>\n",
       "      <td>4.2</td>\n",
       "      <td>427</td>\n",
       "      <td>16</td>\n",
       "      <td>14</td>\n",
       "      <td>171</td>\n",
       "      <td>26</td>\n",
       "      <td>78</td>\n",
       "      <td>187</td>\n",
       "      <td>407</td>\n",
       "      <td>0</td>\n",
       "    </tr>\n",
       "    <tr>\n",
       "      <th>1</th>\n",
       "      <td>789</td>\n",
       "      <td>4.2</td>\n",
       "      <td>642</td>\n",
       "      <td>25</td>\n",
       "      <td>20</td>\n",
       "      <td>118</td>\n",
       "      <td>32</td>\n",
       "      <td>78</td>\n",
       "      <td>173</td>\n",
       "      <td>45</td>\n",
       "      <td>0</td>\n",
       "    </tr>\n",
       "    <tr>\n",
       "      <th>2</th>\n",
       "      <td>748</td>\n",
       "      <td>4.3</td>\n",
       "      <td>186</td>\n",
       "      <td>25</td>\n",
       "      <td>20</td>\n",
       "      <td>172</td>\n",
       "      <td>26</td>\n",
       "      <td>78</td>\n",
       "      <td>106</td>\n",
       "      <td>441</td>\n",
       "      <td>0</td>\n",
       "    </tr>\n",
       "    <tr>\n",
       "      <th>3</th>\n",
       "      <td>750</td>\n",
       "      <td>4.2</td>\n",
       "      <td>309</td>\n",
       "      <td>25</td>\n",
       "      <td>20</td>\n",
       "      <td>137</td>\n",
       "      <td>26</td>\n",
       "      <td>78</td>\n",
       "      <td>193</td>\n",
       "      <td>459</td>\n",
       "      <td>0</td>\n",
       "    </tr>\n",
       "    <tr>\n",
       "      <th>4</th>\n",
       "      <td>747</td>\n",
       "      <td>4.3</td>\n",
       "      <td>186</td>\n",
       "      <td>25</td>\n",
       "      <td>20</td>\n",
       "      <td>172</td>\n",
       "      <td>26</td>\n",
       "      <td>78</td>\n",
       "      <td>106</td>\n",
       "      <td>441</td>\n",
       "      <td>0</td>\n",
       "    </tr>\n",
       "  </tbody>\n",
       "</table>\n",
       "</div>"
      ],
      "text/plain": [
       "   Phone Name  Rating ?/5  Number of Ratings  RAM  ROM/Storage  \\\n",
       "0         746         4.2                427   16           14   \n",
       "1         789         4.2                642   25           20   \n",
       "2         748         4.3                186   25           20   \n",
       "3         750         4.2                309   25           20   \n",
       "4         747         4.3                186   25           20   \n",
       "\n",
       "   Back/Rare Camera  Front Camera  Battery  Processor  Price in INR  \\\n",
       "0               171            26       78        187           407   \n",
       "1               118            32       78        173            45   \n",
       "2               172            26       78        106           441   \n",
       "3               137            26       78        193           459   \n",
       "4               172            26       78        106           441   \n",
       "\n",
       "   Date of Scraping  \n",
       "0                 0  \n",
       "1                 0  \n",
       "2                 0  \n",
       "3                 0  \n",
       "4                 0  "
      ]
     },
     "execution_count": 21,
     "metadata": {},
     "output_type": "execute_result"
    }
   ],
   "source": [
    "encoder=LabelEncoder()\n",
    "category=df.select_dtypes(include=[\"object\",\"category\"])\n",
    "for x in category:\n",
    "    df[x]=encoder.fit_transform(df[x])\n",
    "df.head()"
   ]
  },
  {
   "cell_type": "markdown",
   "metadata": {},
   "source": [
    "## Dataset Analysis"
   ]
  },
  {
   "cell_type": "code",
   "execution_count": 22,
   "metadata": {},
   "outputs": [
    {
     "data": {
      "text/html": [
       "<div>\n",
       "<style scoped>\n",
       "    .dataframe tbody tr th:only-of-type {\n",
       "        vertical-align: middle;\n",
       "    }\n",
       "\n",
       "    .dataframe tbody tr th {\n",
       "        vertical-align: top;\n",
       "    }\n",
       "\n",
       "    .dataframe thead th {\n",
       "        text-align: right;\n",
       "    }\n",
       "</style>\n",
       "<table border=\"1\" class=\"dataframe\">\n",
       "  <thead>\n",
       "    <tr style=\"text-align: right;\">\n",
       "      <th></th>\n",
       "      <th>Phone Name</th>\n",
       "      <th>Rating ?/5</th>\n",
       "      <th>Number of Ratings</th>\n",
       "      <th>RAM</th>\n",
       "      <th>ROM/Storage</th>\n",
       "      <th>Back/Rare Camera</th>\n",
       "      <th>Front Camera</th>\n",
       "      <th>Battery</th>\n",
       "      <th>Processor</th>\n",
       "      <th>Price in INR</th>\n",
       "      <th>Date of Scraping</th>\n",
       "    </tr>\n",
       "  </thead>\n",
       "  <tbody>\n",
       "    <tr>\n",
       "      <th>count</th>\n",
       "      <td>1767.000000</td>\n",
       "      <td>1767.000000</td>\n",
       "      <td>1767.000000</td>\n",
       "      <td>1767.000000</td>\n",
       "      <td>1767.000000</td>\n",
       "      <td>1767.000000</td>\n",
       "      <td>1767.000000</td>\n",
       "      <td>1767.000000</td>\n",
       "      <td>1767.000000</td>\n",
       "      <td>1767.000000</td>\n",
       "      <td>1767.0</td>\n",
       "    </tr>\n",
       "    <tr>\n",
       "      <th>mean</th>\n",
       "      <td>777.946237</td>\n",
       "      <td>4.212281</td>\n",
       "      <td>349.226938</td>\n",
       "      <td>26.264290</td>\n",
       "      <td>10.937182</td>\n",
       "      <td>92.587436</td>\n",
       "      <td>17.957555</td>\n",
       "      <td>67.748727</td>\n",
       "      <td>164.869836</td>\n",
       "      <td>245.051500</td>\n",
       "      <td>0.0</td>\n",
       "    </tr>\n",
       "    <tr>\n",
       "      <th>std</th>\n",
       "      <td>426.587490</td>\n",
       "      <td>0.534338</td>\n",
       "      <td>209.114863</td>\n",
       "      <td>9.080849</td>\n",
       "      <td>6.362583</td>\n",
       "      <td>50.031622</td>\n",
       "      <td>8.848985</td>\n",
       "      <td>22.317239</td>\n",
       "      <td>95.144404</td>\n",
       "      <td>156.257309</td>\n",
       "      <td>0.0</td>\n",
       "    </tr>\n",
       "    <tr>\n",
       "      <th>min</th>\n",
       "      <td>0.000000</td>\n",
       "      <td>0.000000</td>\n",
       "      <td>0.000000</td>\n",
       "      <td>0.000000</td>\n",
       "      <td>0.000000</td>\n",
       "      <td>0.000000</td>\n",
       "      <td>0.000000</td>\n",
       "      <td>0.000000</td>\n",
       "      <td>0.000000</td>\n",
       "      <td>0.000000</td>\n",
       "      <td>0.0</td>\n",
       "    </tr>\n",
       "    <tr>\n",
       "      <th>25%</th>\n",
       "      <td>424.500000</td>\n",
       "      <td>4.200000</td>\n",
       "      <td>162.000000</td>\n",
       "      <td>20.000000</td>\n",
       "      <td>5.000000</td>\n",
       "      <td>43.000000</td>\n",
       "      <td>12.000000</td>\n",
       "      <td>58.000000</td>\n",
       "      <td>69.500000</td>\n",
       "      <td>106.000000</td>\n",
       "      <td>0.0</td>\n",
       "    </tr>\n",
       "    <tr>\n",
       "      <th>50%</th>\n",
       "      <td>778.000000</td>\n",
       "      <td>4.300000</td>\n",
       "      <td>354.000000</td>\n",
       "      <td>26.000000</td>\n",
       "      <td>8.000000</td>\n",
       "      <td>97.000000</td>\n",
       "      <td>12.000000</td>\n",
       "      <td>78.000000</td>\n",
       "      <td>174.000000</td>\n",
       "      <td>222.000000</td>\n",
       "      <td>0.0</td>\n",
       "    </tr>\n",
       "    <tr>\n",
       "      <th>75%</th>\n",
       "      <td>1147.500000</td>\n",
       "      <td>4.400000</td>\n",
       "      <td>526.500000</td>\n",
       "      <td>36.000000</td>\n",
       "      <td>17.000000</td>\n",
       "      <td>138.000000</td>\n",
       "      <td>26.000000</td>\n",
       "      <td>78.000000</td>\n",
       "      <td>250.000000</td>\n",
       "      <td>388.000000</td>\n",
       "      <td>0.0</td>\n",
       "    </tr>\n",
       "    <tr>\n",
       "      <th>max</th>\n",
       "      <td>1506.000000</td>\n",
       "      <td>4.800000</td>\n",
       "      <td>716.000000</td>\n",
       "      <td>45.000000</td>\n",
       "      <td>26.000000</td>\n",
       "      <td>173.000000</td>\n",
       "      <td>32.000000</td>\n",
       "      <td>101.000000</td>\n",
       "      <td>331.000000</td>\n",
       "      <td>518.000000</td>\n",
       "      <td>0.0</td>\n",
       "    </tr>\n",
       "  </tbody>\n",
       "</table>\n",
       "</div>"
      ],
      "text/plain": [
       "        Phone Name   Rating ?/5  Number of Ratings          RAM  ROM/Storage  \\\n",
       "count  1767.000000  1767.000000        1767.000000  1767.000000  1767.000000   \n",
       "mean    777.946237     4.212281         349.226938    26.264290    10.937182   \n",
       "std     426.587490     0.534338         209.114863     9.080849     6.362583   \n",
       "min       0.000000     0.000000           0.000000     0.000000     0.000000   \n",
       "25%     424.500000     4.200000         162.000000    20.000000     5.000000   \n",
       "50%     778.000000     4.300000         354.000000    26.000000     8.000000   \n",
       "75%    1147.500000     4.400000         526.500000    36.000000    17.000000   \n",
       "max    1506.000000     4.800000         716.000000    45.000000    26.000000   \n",
       "\n",
       "       Back/Rare Camera  Front Camera      Battery    Processor  Price in INR  \\\n",
       "count       1767.000000   1767.000000  1767.000000  1767.000000   1767.000000   \n",
       "mean          92.587436     17.957555    67.748727   164.869836    245.051500   \n",
       "std           50.031622      8.848985    22.317239    95.144404    156.257309   \n",
       "min            0.000000      0.000000     0.000000     0.000000      0.000000   \n",
       "25%           43.000000     12.000000    58.000000    69.500000    106.000000   \n",
       "50%           97.000000     12.000000    78.000000   174.000000    222.000000   \n",
       "75%          138.000000     26.000000    78.000000   250.000000    388.000000   \n",
       "max          173.000000     32.000000   101.000000   331.000000    518.000000   \n",
       "\n",
       "       Date of Scraping  \n",
       "count            1767.0  \n",
       "mean                0.0  \n",
       "std                 0.0  \n",
       "min                 0.0  \n",
       "25%                 0.0  \n",
       "50%                 0.0  \n",
       "75%                 0.0  \n",
       "max                 0.0  "
      ]
     },
     "execution_count": 22,
     "metadata": {},
     "output_type": "execute_result"
    }
   ],
   "source": [
    "df1=df.describe()\n",
    "df1"
   ]
  },
  {
   "cell_type": "code",
   "execution_count": 23,
   "metadata": {},
   "outputs": [],
   "source": [
    "df1.to_csv(\"Analysis.csv\", index=False)"
   ]
  },
  {
   "cell_type": "markdown",
   "metadata": {},
   "source": [
    "## Checking for the distribution of the Dataset"
   ]
  },
  {
   "cell_type": "code",
   "execution_count": 24,
   "metadata": {},
   "outputs": [
    {
     "data": {
      "image/png": "[encoded data removed]",
      "text/plain": [
       "<Figure size 640x480 with 1 Axes>"
      ]
     },
     "metadata": {},
     "output_type": "display_data"
    },
    {
     "data": {
      "image/png": "[encoded data removed]",
      "text/plain": [
       "<Figure size 640x480 with 1 Axes>"
      ]
     },
     "metadata": {},
     "output_type": "display_data"
    },
    {
     "data": {
      "image/png": "[encoded data removed]",
      "text/plain": [
       "<Figure size 640x480 with 1 Axes>"
      ]
     },
     "metadata": {},
     "output_type": "display_data"
    },
    {
     "data": {
      "image/png": "[encoded data removed]",
      "text/plain": [
       "<Figure size 640x480 with 1 Axes>"
      ]
     },
     "metadata": {},
     "output_type": "display_data"
    },
    {
     "data": {
      "image/png": "[encoded data removed]",
      "text/plain": [
       "<Figure size 640x480 with 1 Axes>"
      ]
     },
     "metadata": {},
     "output_type": "display_data"
    },
    {
     "data": {
      "image/png": "[encoded data removed]",
      "text/plain": [
       "<Figure size 640x480 with 1 Axes>"
      ]
     },
     "metadata": {},
     "output_type": "display_data"
    },
    {
     "data": {
      "image/png": "[encoded data removed]",
      "text/plain": [
       "<Figure size 640x480 with 1 Axes>"
      ]
     },
     "metadata": {},
     "output_type": "display_data"
    },
    {
     "data": {
      "image/png": "[encoded data removed]",
      "text/plain": [
       "<Figure size 640x480 with 1 Axes>"
      ]
     },
     "metadata": {},
     "output_type": "display_data"
    },
    {
     "data": {
      "image/png": "[encoded data removed]",
      "text/plain": [
       "<Figure size 640x480 with 1 Axes>"
      ]
     },
     "metadata": {},
     "output_type": "display_data"
    },
    {
     "data": {
      "image/png": "[encoded data removed]",
      "text/plain": [
       "<Figure size 640x480 with 1 Axes>"
      ]
     },
     "metadata": {},
     "output_type": "display_data"
    },
    {
     "data": {
      "image/png": "[encoded data removed]",
      "text/plain": [
       "<Figure size 640x480 with 1 Axes>"
      ]
     },
     "metadata": {},
     "output_type": "display_data"
    }
   ],
   "source": [
    "distribution=df.select_dtypes(include=[\"object\",\"int\",\"float\"]).columns\n",
    "for i in distribution:\n",
    "    sns.histplot(data=df,x=i,color=\"blue\")\n",
    "    plt.show()"
   ]
  },
  {
   "cell_type": "markdown",
   "metadata": {},
   "source": [
    "### * Checking for the outliers in a Dataset"
   ]
  },
  {
   "cell_type": "code",
   "execution_count": 25,
   "metadata": {},
   "outputs": [
    {
     "data": {
      "image/png": "[encoded data removed]",
      "text/plain": [
       "<Figure size 640x480 with 1 Axes>"
      ]
     },
     "metadata": {},
     "output_type": "display_data"
    },
    {
     "data": {
      "image/png": "[encoded data removed]",
      "text/plain": [
       "<Figure size 640x480 with 1 Axes>"
      ]
     },
     "metadata": {},
     "output_type": "display_data"
    },
    {
     "data": {
      "image/png": "[encoded data removed]",
      "text/plain": [
       "<Figure size 640x480 with 1 Axes>"
      ]
     },
     "metadata": {},
     "output_type": "display_data"
    },
    {
     "data": {
      "image/png": "[encoded data removed]",
      "text/plain": [
       "<Figure size 640x480 with 1 Axes>"
      ]
     },
     "metadata": {},
     "output_type": "display_data"
    },
    {
     "data": {
      "image/png": "[encoded data removed]",
      "text/plain": [
       "<Figure size 640x480 with 1 Axes>"
      ]
     },
     "metadata": {},
     "output_type": "display_data"
    },
    {
     "data": {
      "image/png": "[encoded data removed]",
      "text/plain": [
       "<Figure size 640x480 with 1 Axes>"
      ]
     },
     "metadata": {},
     "output_type": "display_data"
    },
    {
     "data": {
      "image/png": "[encoded data removed]",
      "text/plain": [
       "<Figure size 640x480 with 1 Axes>"
      ]
     },
     "metadata": {},
     "output_type": "display_data"
    },
    {
     "data": {
      "image/png": "[encoded data removed]",
      "text/plain": [
       "<Figure size 640x480 with 1 Axes>"
      ]
     },
     "metadata": {},
     "output_type": "display_data"
    },
    {
     "data": {
      "image/png": "[encoded data removed]",
      "text/plain": [
       "<Figure size 640x480 with 1 Axes>"
      ]
     },
     "metadata": {},
     "output_type": "display_data"
    },
    {
     "data": {
      "image/png": "[encoded data removed]",
      "text/plain": [
       "<Figure size 640x480 with 1 Axes>"
      ]
     },
     "metadata": {},
     "output_type": "display_data"
    },
    {
     "data": {
      "image/png": "[encoded data removed]",
      "text/plain": [
       "<Figure size 640x480 with 1 Axes>"
      ]
     },
     "metadata": {},
     "output_type": "display_data"
    }
   ],
   "source": [
    "outliers=df.select_dtypes(include=[\"object\",\"int\",\"float\"]).columns\n",
    "for d in outliers:\n",
    "    sns.boxplot(data=df,x=d)\n",
    "    plt.show()"
   ]
  },
  {
   "cell_type": "markdown",
   "metadata": {},
   "source": [
    "#### * Treating the columns with outliers in a dataset"
   ]
  },
  {
   "cell_type": "code",
   "execution_count": 26,
   "metadata": {},
   "outputs": [],
   "source": [
    "def rating(col):\n",
    "    q1,q3=np.percentile(col,(25,75))\n",
    "    iqr=q3-q1\n",
    "    lw=q1-1.5*iqr\n",
    "    uw=q3+1.5*iqr\n",
    "    return lw,uw"
   ]
  },
  {
   "cell_type": "code",
   "execution_count": 27,
   "metadata": {},
   "outputs": [
    {
     "data": {
      "text/plain": [
       "(3.9, 4.700000000000001)"
      ]
     },
     "execution_count": 27,
     "metadata": {},
     "output_type": "execute_result"
    }
   ],
   "source": [
    "rating(df[\"Rating ?/5\"])"
   ]
  },
  {
   "cell_type": "code",
   "execution_count": 28,
   "metadata": {},
   "outputs": [],
   "source": [
    "Rating=[\"Rating ?/5\"]\n",
    "for i in Rating:\n",
    "    lw,uw=rating(df[i])\n",
    "    df[i]=np.where(df[i]<lw,lw,df[i])\n",
    "    df[i]=np.where(df[i]>uw,uw,df[i])"
   ]
  },
  {
   "cell_type": "code",
   "execution_count": 29,
   "metadata": {},
   "outputs": [],
   "source": [
    "def battery(col):\n",
    "    q1,q3=np.percentile(col,(25,75))\n",
    "    iqr=q3-q1\n",
    "    lw=q1-1.5*iqr\n",
    "    uw=q3+1.5*iqr\n",
    "    return lw,uw"
   ]
  },
  {
   "cell_type": "code",
   "execution_count": 30,
   "metadata": {},
   "outputs": [
    {
     "data": {
      "text/plain": [
       "(28.0, 108.0)"
      ]
     },
     "execution_count": 30,
     "metadata": {},
     "output_type": "execute_result"
    }
   ],
   "source": [
    "battery(df[\"Battery\"])"
   ]
  },
  {
   "cell_type": "code",
   "execution_count": 31,
   "metadata": {},
   "outputs": [],
   "source": [
    "Batteries=[\"Battery\"]\n",
    "for i in Batteries:\n",
    "    lw,uw=rating(df[i])\n",
    "    df[i]=np.where(df[i]<lw,lw,df[i])\n",
    "    df[i]=np.where(df[i]>uw,uw,df[i])"
   ]
  },
  {
   "cell_type": "markdown",
   "metadata": {},
   "source": [
    "* Rechecking for the outliers after outlier treatment"
   ]
  },
  {
   "cell_type": "code",
   "execution_count": 32,
   "metadata": {},
   "outputs": [
    {
     "data": {
      "image/png": "[encoded data removed]",
      "text/plain": [
       "<Figure size 640x480 with 1 Axes>"
      ]
     },
     "metadata": {},
     "output_type": "display_data"
    },
    {
     "data": {
      "image/png": "[encoded data removed]",
      "text/plain": [
       "<Figure size 640x480 with 1 Axes>"
      ]
     },
     "metadata": {},
     "output_type": "display_data"
    },
    {
     "data": {
      "image/png": "[encoded data removed]",
      "text/plain": [
       "<Figure size 640x480 with 1 Axes>"
      ]
     },
     "metadata": {},
     "output_type": "display_data"
    },
    {
     "data": {
      "image/png": "[encoded data removed]",
      "text/plain": [
       "<Figure size 640x480 with 1 Axes>"
      ]
     },
     "metadata": {},
     "output_type": "display_data"
    },
    {
     "data": {
      "image/png": "[encoded data removed]",
      "text/plain": [
       "<Figure size 640x480 with 1 Axes>"
      ]
     },
     "metadata": {},
     "output_type": "display_data"
    },
    {
     "data": {
      "image/png": "[encoded data removed]",
      "text/plain": [
       "<Figure size 640x480 with 1 Axes>"
      ]
     },
     "metadata": {},
     "output_type": "display_data"
    },
    {
     "data": {
      "image/png": "[encoded data removed]",
      "text/plain": [
       "<Figure size 640x480 with 1 Axes>"
      ]
     },
     "metadata": {},
     "output_type": "display_data"
    },
    {
     "data": {
      "image/png": "[encoded data removed]",
      "text/plain": [
       "<Figure size 640x480 with 1 Axes>"
      ]
     },
     "metadata": {},
     "output_type": "display_data"
    },
    {
     "data": {
      "image/png": "[encoded data removed]",
      "text/plain": [
       "<Figure size 640x480 with 1 Axes>"
      ]
     },
     "metadata": {},
     "output_type": "display_data"
    },
    {
     "data": {
      "image/png": "[encoded data removed]",
      "text/plain": [
       "<Figure size 640x480 with 1 Axes>"
      ]
     },
     "metadata": {},
     "output_type": "display_data"
    },
    {
     "data": {
      "image/png": "[encoded data removed]",
      "text/plain": [
       "<Figure size 640x480 with 1 Axes>"
      ]
     },
     "metadata": {},
     "output_type": "display_data"
    }
   ],
   "source": [
    "outliers=df.select_dtypes(include=[\"object\",\"int\",\"float\"]).columns\n",
    "for d in outliers:\n",
    "    sns.boxplot(data=df,x=d)\n",
    "    plt.show()"
   ]
  },
  {
   "cell_type": "code",
   "execution_count": 33,
   "metadata": {},
   "outputs": [
    {
     "data": {
      "text/plain": [
       "Index(['Phone Name', 'Rating ?/5', 'Number of Ratings', 'RAM', 'ROM/Storage',\n",
       "       'Back/Rare Camera', 'Front Camera', 'Battery', 'Processor',\n",
       "       'Price in INR', 'Date of Scraping'],\n",
       "      dtype='object')"
      ]
     },
     "execution_count": 33,
     "metadata": {},
     "output_type": "execute_result"
    }
   ],
   "source": [
    "df.columns"
   ]
  },
  {
   "cell_type": "markdown",
   "metadata": {},
   "source": [
    "* ### Dividing the dataset into x and y (independent, and targeted)"
   ]
  },
  {
   "cell_type": "code",
   "execution_count": 34,
   "metadata": {},
   "outputs": [],
   "source": [
    "x=df.drop([\"Price in INR\"],axis=1)\n",
    "y=(df[\"Price in INR\"])"
   ]
  },
  {
   "cell_type": "code",
   "execution_count": 35,
   "metadata": {},
   "outputs": [
    {
     "data": {
      "text/html": [
       "<div>\n",
       "<style scoped>\n",
       "    .dataframe tbody tr th:only-of-type {\n",
       "        vertical-align: middle;\n",
       "    }\n",
       "\n",
       "    .dataframe tbody tr th {\n",
       "        vertical-align: top;\n",
       "    }\n",
       "\n",
       "    .dataframe thead th {\n",
       "        text-align: right;\n",
       "    }\n",
       "</style>\n",
       "<table border=\"1\" class=\"dataframe\">\n",
       "  <thead>\n",
       "    <tr style=\"text-align: right;\">\n",
       "      <th></th>\n",
       "      <th>Phone Name</th>\n",
       "      <th>Rating ?/5</th>\n",
       "      <th>Number of Ratings</th>\n",
       "      <th>RAM</th>\n",
       "      <th>ROM/Storage</th>\n",
       "      <th>Back/Rare Camera</th>\n",
       "      <th>Front Camera</th>\n",
       "      <th>Battery</th>\n",
       "      <th>Processor</th>\n",
       "      <th>Date of Scraping</th>\n",
       "    </tr>\n",
       "  </thead>\n",
       "  <tbody>\n",
       "    <tr>\n",
       "      <th>0</th>\n",
       "      <td>746</td>\n",
       "      <td>4.2</td>\n",
       "      <td>427</td>\n",
       "      <td>16</td>\n",
       "      <td>14</td>\n",
       "      <td>171</td>\n",
       "      <td>26</td>\n",
       "      <td>78.0</td>\n",
       "      <td>187</td>\n",
       "      <td>0</td>\n",
       "    </tr>\n",
       "    <tr>\n",
       "      <th>1</th>\n",
       "      <td>789</td>\n",
       "      <td>4.2</td>\n",
       "      <td>642</td>\n",
       "      <td>25</td>\n",
       "      <td>20</td>\n",
       "      <td>118</td>\n",
       "      <td>32</td>\n",
       "      <td>78.0</td>\n",
       "      <td>173</td>\n",
       "      <td>0</td>\n",
       "    </tr>\n",
       "    <tr>\n",
       "      <th>2</th>\n",
       "      <td>748</td>\n",
       "      <td>4.3</td>\n",
       "      <td>186</td>\n",
       "      <td>25</td>\n",
       "      <td>20</td>\n",
       "      <td>172</td>\n",
       "      <td>26</td>\n",
       "      <td>78.0</td>\n",
       "      <td>106</td>\n",
       "      <td>0</td>\n",
       "    </tr>\n",
       "    <tr>\n",
       "      <th>3</th>\n",
       "      <td>750</td>\n",
       "      <td>4.2</td>\n",
       "      <td>309</td>\n",
       "      <td>25</td>\n",
       "      <td>20</td>\n",
       "      <td>137</td>\n",
       "      <td>26</td>\n",
       "      <td>78.0</td>\n",
       "      <td>193</td>\n",
       "      <td>0</td>\n",
       "    </tr>\n",
       "    <tr>\n",
       "      <th>4</th>\n",
       "      <td>747</td>\n",
       "      <td>4.3</td>\n",
       "      <td>186</td>\n",
       "      <td>25</td>\n",
       "      <td>20</td>\n",
       "      <td>172</td>\n",
       "      <td>26</td>\n",
       "      <td>78.0</td>\n",
       "      <td>106</td>\n",
       "      <td>0</td>\n",
       "    </tr>\n",
       "    <tr>\n",
       "      <th>...</th>\n",
       "      <td>...</td>\n",
       "      <td>...</td>\n",
       "      <td>...</td>\n",
       "      <td>...</td>\n",
       "      <td>...</td>\n",
       "      <td>...</td>\n",
       "      <td>...</td>\n",
       "      <td>...</td>\n",
       "      <td>...</td>\n",
       "      <td>...</td>\n",
       "    </tr>\n",
       "    <tr>\n",
       "      <th>1831</th>\n",
       "      <td>262</td>\n",
       "      <td>4.3</td>\n",
       "      <td>335</td>\n",
       "      <td>25</td>\n",
       "      <td>20</td>\n",
       "      <td>87</td>\n",
       "      <td>12</td>\n",
       "      <td>78.0</td>\n",
       "      <td>144</td>\n",
       "      <td>0</td>\n",
       "    </tr>\n",
       "    <tr>\n",
       "      <th>1832</th>\n",
       "      <td>261</td>\n",
       "      <td>4.3</td>\n",
       "      <td>335</td>\n",
       "      <td>25</td>\n",
       "      <td>20</td>\n",
       "      <td>87</td>\n",
       "      <td>12</td>\n",
       "      <td>78.0</td>\n",
       "      <td>144</td>\n",
       "      <td>0</td>\n",
       "    </tr>\n",
       "    <tr>\n",
       "      <th>1833</th>\n",
       "      <td>260</td>\n",
       "      <td>4.3</td>\n",
       "      <td>335</td>\n",
       "      <td>25</td>\n",
       "      <td>20</td>\n",
       "      <td>87</td>\n",
       "      <td>12</td>\n",
       "      <td>78.0</td>\n",
       "      <td>144</td>\n",
       "      <td>0</td>\n",
       "    </tr>\n",
       "    <tr>\n",
       "      <th>1834</th>\n",
       "      <td>301</td>\n",
       "      <td>4.2</td>\n",
       "      <td>615</td>\n",
       "      <td>36</td>\n",
       "      <td>5</td>\n",
       "      <td>95</td>\n",
       "      <td>10</td>\n",
       "      <td>64.0</td>\n",
       "      <td>149</td>\n",
       "      <td>0</td>\n",
       "    </tr>\n",
       "    <tr>\n",
       "      <th>1835</th>\n",
       "      <td>263</td>\n",
       "      <td>4.3</td>\n",
       "      <td>189</td>\n",
       "      <td>25</td>\n",
       "      <td>20</td>\n",
       "      <td>62</td>\n",
       "      <td>20</td>\n",
       "      <td>45.0</td>\n",
       "      <td>109</td>\n",
       "      <td>0</td>\n",
       "    </tr>\n",
       "  </tbody>\n",
       "</table>\n",
       "<p>1767 rows × 10 columns</p>\n",
       "</div>"
      ],
      "text/plain": [
       "      Phone Name  Rating ?/5  Number of Ratings  RAM  ROM/Storage  \\\n",
       "0            746         4.2                427   16           14   \n",
       "1            789         4.2                642   25           20   \n",
       "2            748         4.3                186   25           20   \n",
       "3            750         4.2                309   25           20   \n",
       "4            747         4.3                186   25           20   \n",
       "...          ...         ...                ...  ...          ...   \n",
       "1831         262         4.3                335   25           20   \n",
       "1832         261         4.3                335   25           20   \n",
       "1833         260         4.3                335   25           20   \n",
       "1834         301         4.2                615   36            5   \n",
       "1835         263         4.3                189   25           20   \n",
       "\n",
       "      Back/Rare Camera  Front Camera  Battery  Processor  Date of Scraping  \n",
       "0                  171            26     78.0        187                 0  \n",
       "1                  118            32     78.0        173                 0  \n",
       "2                  172            26     78.0        106                 0  \n",
       "3                  137            26     78.0        193                 0  \n",
       "4                  172            26     78.0        106                 0  \n",
       "...                ...           ...      ...        ...               ...  \n",
       "1831                87            12     78.0        144                 0  \n",
       "1832                87            12     78.0        144                 0  \n",
       "1833                87            12     78.0        144                 0  \n",
       "1834                95            10     64.0        149                 0  \n",
       "1835                62            20     45.0        109                 0  \n",
       "\n",
       "[1767 rows x 10 columns]"
      ]
     },
     "execution_count": 35,
     "metadata": {},
     "output_type": "execute_result"
    }
   ],
   "source": [
    "x"
   ]
  },
  {
   "cell_type": "code",
   "execution_count": 36,
   "metadata": {},
   "outputs": [
    {
     "data": {
      "text/plain": [
       "0       407\n",
       "1        45\n",
       "2       441\n",
       "3       459\n",
       "4       441\n",
       "       ... \n",
       "1831    106\n",
       "1832    106\n",
       "1833    106\n",
       "1834    182\n",
       "1835     23\n",
       "Name: Price in INR, Length: 1767, dtype: int32"
      ]
     },
     "execution_count": 36,
     "metadata": {},
     "output_type": "execute_result"
    }
   ],
   "source": [
    "y"
   ]
  },
  {
   "cell_type": "markdown",
   "metadata": {},
   "source": [
    "# Feature Engineering\n",
    "* Using feature engineering to check for less important columns"
   ]
  },
  {
   "cell_type": "code",
   "execution_count": 37,
   "metadata": {},
   "outputs": [
    {
     "data": {
      "image/png": "[encoded data removed]",
      "text/plain": [
       "<Figure size 640x480 with 1 Axes>"
      ]
     },
     "metadata": {},
     "output_type": "display_data"
    }
   ],
   "source": [
    "plt.style.use(\"ggplot\")\n",
    "important=mutual_info_regression(x,y)\n",
    "feature_impo=pd.Series(important,x.columns[0:len(x.columns)])\n",
    "feature_impo.plot(kind=\"barh\",color=\"blue\")\n",
    "plt.show()"
   ]
  },
  {
   "cell_type": "markdown",
   "metadata": {},
   "source": [
    "* ### Dropping less important Column"
   ]
  },
  {
   "cell_type": "code",
   "execution_count": 38,
   "metadata": {},
   "outputs": [
    {
     "data": {
      "text/plain": [
       "Index(['Phone Name', 'Rating ?/5', 'Number of Ratings', 'RAM', 'ROM/Storage',\n",
       "       'Back/Rare Camera', 'Front Camera', 'Battery', 'Processor'],\n",
       "      dtype='object')"
      ]
     },
     "execution_count": 38,
     "metadata": {},
     "output_type": "execute_result"
    }
   ],
   "source": [
    "x.drop([\"Date of Scraping\"],axis=1,inplace=True)\n",
    "x.columns"
   ]
  },
  {
   "cell_type": "markdown",
   "metadata": {},
   "source": [
    "* ### Spliting the dataset"
   ]
  },
  {
   "cell_type": "code",
   "execution_count": 39,
   "metadata": {},
   "outputs": [],
   "source": [
    "xtrain,xtest,ytrain,ytest=train_test_split(x,y,test_size=0.2,random_state=1)"
   ]
  },
  {
   "cell_type": "markdown",
   "metadata": {},
   "source": [
    "* #### Building a pipeline"
   ]
  },
  {
   "cell_type": "code",
   "execution_count": 40,
   "metadata": {},
   "outputs": [],
   "source": [
    "Models_in_pipe={\n",
    "    \"Linear Regression Model \":Pipeline([(\"Scaler\",StandardScaler()),(\"Regression\",LinearRegression())]),\n",
    "    \"Decision Tree Regression\":Pipeline([(\"scaler\",StandardScaler()),(\"Regression\",DecisionTreeRegressor())]),\n",
    "    \"MLP Regressor Model     \":Pipeline([(\"Scaler\",StandardScaler()),(\"Regression\",MLPRegressor())]),\n",
    "    \"RandomForestRegressor_Model\":Pipeline([('Scaler',StandardScaler()),('Regression',RandomForestRegressor())])\n",
    "}"
   ]
  },
  {
   "cell_type": "markdown",
   "metadata": {},
   "source": [
    "* #### Fitting in the train dataset with models in a pipeline"
   ]
  },
  {
   "cell_type": "code",
   "execution_count": 41,
   "metadata": {},
   "outputs": [
    {
     "name": "stdout",
     "output_type": "stream",
     "text": [
      "Linear Regression Model  Fitting in progress... \n",
      " Linear Regression Model  fitted successfully \n",
      "\n",
      "Decision Tree Regression Fitting in progress... \n",
      " Decision Tree Regression fitted successfully \n",
      "\n",
      "MLP Regressor Model      Fitting in progress... \n",
      " MLP Regressor Model      fitted successfully \n",
      "\n",
      "RandomForestRegressor_Model Fitting in progress... \n",
      " RandomForestRegressor_Model fitted successfully \n",
      "\n"
     ]
    }
   ],
   "source": [
    "models=Models_in_pipe\n",
    "for name,Pipeline in models.items():\n",
    "    fitting=Pipeline.fit(xtrain,ytrain)\n",
    "    print(name,\"Fitting in progress...\",\"\\n\",name,\"fitted successfully\",\"\\n\")"
   ]
  },
  {
   "cell_type": "markdown",
   "metadata": {},
   "source": [
    "* #### Checking for accuracy of each models"
   ]
  },
  {
   "cell_type": "code",
   "execution_count": 43,
   "metadata": {},
   "outputs": [
    {
     "name": "stdout",
     "output_type": "stream",
     "text": [
      "Linear Regression Model  accuracy is : 0.06800634633925207\n",
      "Linear Regression Model  perfamance, R-Squared: -------------- 0.06800634633925207\n",
      "Decision Tree Regression accuracy is : 0.6401632580055632\n",
      "Decision Tree Regression perfamance, R-Squared: -------------- 0.6401632580055632\n",
      "MLP Regressor Model      accuracy is : 0.15167091561906476\n",
      "MLP Regressor Model      perfamance, R-Squared: -------------- 0.15167091561906476\n",
      "RandomForestRegressor_Model accuracy is : 0.7492471796616567\n",
      "RandomForestRegressor_Model perfamance, R-Squared: -------------- 0.7492471796616567\n"
     ]
    }
   ],
   "source": [
    "for name, Pipeline in models.items():\n",
    "    accuracy=Pipeline.score(xtest,ytest)\n",
    "    print(name,\"accuracy is :\",accuracy)\n",
    "    print(name,\"perfamance, R-Squared:\",\"--------------\",r2_score(ytest,Pipeline.predict(xtest)))"
   ]
  },
  {
   "cell_type": "markdown",
   "metadata": {},
   "source": [
    "- ### prediction of the models "
   ]
  },
  {
   "cell_type": "code",
   "execution_count": null,
   "metadata": {},
   "outputs": [
    {
     "name": "stdout",
     "output_type": "stream",
     "text": [
      "prediction of Linear Regression Model  \n",
      " [292.03101189 284.05252503 194.77986542 214.14285916 183.313454\n",
      " 279.08988482 269.82638163 279.59586606 224.12891331 229.88491184\n",
      " 215.09228472 274.43062665 295.2560264  248.95370292 250.17632254\n",
      " 289.12185005 251.42667817 260.31370179 223.50160627 249.85603298\n",
      " 207.15952634 211.33732797 208.04865338 197.75587026 206.38087699\n",
      " 235.71143632 299.80424631 240.75194275 305.43277513 272.4456375\n",
      " 297.04977614 210.11801138 258.83803168 239.33758639 270.89238524\n",
      " 286.30946773 257.61943267 345.80253308 219.12782245 218.27296861\n",
      " 250.11308102 314.4982063  246.88802501 228.87895876 233.45441174\n",
      " 245.74249173 222.07632672 282.57569407 275.65720635 285.08920809\n",
      " 192.13923399 205.28498249 237.44795011 190.31377006 252.60016667\n",
      " 235.66144245 262.74553183 271.26542893 223.601594   336.34714965\n",
      " 336.6485802  185.98697845 235.88232018 382.27140323 210.32606569\n",
      " 210.37605955 225.67155376 206.03624768 315.95451329 255.70384166\n",
      " 185.52091233 273.02175404 251.98019949 222.25132538 333.50019124\n",
      " 174.32697716 295.05033841 248.07865021 198.91750486 239.21955156\n",
      " 187.41789529 241.55267323 239.02925842 224.61149021 263.40873273\n",
      " 207.41482522 216.12077713 248.65373972 302.38411548 313.68288297\n",
      " 306.16720808 240.9978889  290.24966015 241.27402283 197.56339397\n",
      " 205.88609525 205.68611979 253.53023273 171.06813471 290.49839537\n",
      " 286.47807694 260.5199257  210.98832301 243.1302054  215.8677755\n",
      " 199.92637698 253.23704232 215.73911841 174.79663621 243.76570919\n",
      " 267.58192834 236.63955396 194.91471444 237.71871339 293.53971468\n",
      " 260.21371406 225.80362738 320.24933423 282.4600163  252.18017495\n",
      " 261.07343881 299.85424018 173.73123954 257.92651678 266.2930879\n",
      " 216.08015822 225.57156603 243.03245792 256.62303401 184.91926315\n",
      " 226.51920712 323.72081814 308.30341031 241.60179497 237.24632349\n",
      " 210.23826292 260.06770638 187.36790142 175.61581343 316.35827966\n",
      " 313.4589267  186.92564054 185.38048566 249.13349127 264.79126584\n",
      " 259.71151976 321.88391467 288.41131886 237.99877886 215.72394103\n",
      " 220.5767062  242.83441001 207.64873677 256.00798216 217.93312109\n",
      " 222.67312549 202.58201949 217.13013786 253.14039488 236.7395417\n",
      " 178.01722606 254.50533665 267.52000582 206.16983122 176.73754306\n",
      " 207.75591449 239.13999428 217.03951007 278.75925576 273.85646226\n",
      " 208.51859783 285.68000983 284.54086441 209.0006803  320.28246248\n",
      " 239.42934947 188.11946366 218.90752062 265.42746037 184.81927541\n",
      " 267.53768129 217.03015012 235.71571915 253.1981484  204.60834387\n",
      " 248.0034206  241.2518379  320.19934037 155.11886713 249.57241894\n",
      " 260.40071239 217.37922488 242.04708646 324.73159093 191.58127141\n",
      " 308.25341645 257.61609619 301.6456413  238.37891172 188.54177164\n",
      " 237.34631122 221.10391912 201.49421871 176.73593464 206.50238259\n",
      " 199.82638924 247.76301101 266.63804154 306.4448576  345.25299546\n",
      " 295.62312779 295.16722918 328.76592595 173.34790845 209.37772881\n",
      " 190.90950768 264.60344016 280.76490387 191.12071394 208.28690761\n",
      " 321.32458967 234.02864954 207.06017273 249.79735874 302.4417919\n",
      " 272.28903677 316.90821219 256.54215694 257.35472823 237.25470679\n",
      " 288.4994216  241.45181337 231.58990675 242.82358381 174.62282145\n",
      " 226.16515867 205.91566888 247.91980701 222.79447686 238.42890559\n",
      " 234.40580499 301.2393654  295.66024922 257.2547405  229.86914162\n",
      " 228.98044597 286.73154708 204.53249931 226.37095712 296.98009695\n",
      " 189.59732328 282.5257002  325.19417641 278.85924349 180.98610291\n",
      " 197.44108313 220.0176009  207.53357446 228.18640471 387.70660589\n",
      " 278.20543731 245.19217737 224.00078686 222.72311936 226.186115\n",
      " 289.60038934 257.71608392 190.83242713 175.83806959 249.89734647\n",
      " 288.86126366 269.67941409 259.99643384 246.61904127 317.11126092\n",
      " 208.78136256 194.32147165 298.84275166 248.80372132 253.29037648\n",
      " 296.46381539 243.03021766 226.2651464  194.59506057 245.51019786\n",
      " 187.44749017 196.00936901 183.6475884  199.67300236 333.28033985\n",
      " 241.06397608 273.66350282 223.64016618 229.51787154 193.8097468\n",
      " 174.72280117 209.15629168 275.22120634 266.2041228  289.66288299\n",
      " 258.29208264 279.00922509 198.3664931  222.17273171 214.90697466\n",
      " 333.82561907 220.18399057 208.44280038 191.1707078  265.47745423\n",
      " 195.71044819 232.74274805 195.75939968 198.00939525 210.43167168\n",
      " 376.16941542 262.81915489 326.75350544 285.6547028  196.86137312\n",
      " 319.43662594 280.65445613 205.58613206 256.77732006 290.29965402\n",
      " 255.33944387 300.72703985 289.06903819 191.53611741 253.29813613\n",
      " 260.09068976 222.65745149 217.88312723 287.18539121 218.21650829\n",
      " 141.01688837 296.71200459 259.15241222 207.42746336 210.29649569\n",
      " 162.17101212 279.00210346 211.49724496 290.54600504 274.46323409\n",
      " 211.53730344 213.53213338 210.53165941 283.98316926 262.69553796\n",
      " 216.0898852  208.54278811 196.16627366 197.56339397] \n",
      "\n",
      "prediction of Decision Tree Regression \n",
      " [ 36.         366.         130.         128.         109.\n",
      " 155.         128.         155.         192.         155.\n",
      " 495.         370.         249.          25.         166.\n",
      " 514.         114.         127.         295.         106.\n",
      " 307.         167.         188.          53.         139.\n",
      " 280.         450.         456.         465.         505.\n",
      " 451.          23.          22.         201.         106.\n",
      " 301.           9.         378.         166.         167.\n",
      " 474.         249.         401.         209.         409.\n",
      "   9.         496.         477.         478.          23.\n",
      " 194.         507.         104.         323.         469.\n",
      " 280.         145.33333333 278.         295.         106.\n",
      "  43.         142.          92.         413.          92.\n",
      "  92.          92.         302.         315.          45.\n",
      " 238.         518.         479.         388.         238.\n",
      " 382.         338.33333333 238.         106.         194.\n",
      " 128.         456.         167.          92.          92.\n",
      " 396.          71.          25.         310.         346.\n",
      " 126.          73.         281.          79.         192.\n",
      "  92.         114.         255.         114.         518.\n",
      "   2.         244.         232.          53.         155.\n",
      " 257.         495.         189.         283.         485.\n",
      " 485.         209.         507.         194.         435.\n",
      " 127.          92.         456.         472.         479.\n",
      " 126.         450.         335.          73.         145.33333333\n",
      "  98.          92.          23.          36.         135.\n",
      " 197.         421.         451.         400.          36.\n",
      " 334.         354.5        128.         152.         442.\n",
      " 441.          44.         233.5        258.          73.\n",
      " 126.          65.          74.         182.         175.\n",
      " 226.         106.         292.         439.         216.\n",
      " 167.         194.         217.          73.         226.\n",
      " 208.          82.          45.         388.         226.\n",
      " 182.         300.         117.         495.         211.\n",
      " 147.         465.         323.         228.         441.\n",
      " 175.          70.          73.         147.         135.\n",
      " 495.         217.         409.         495.         257.\n",
      " 114.         400.         456.         251.         501.\n",
      " 147.         103.         348.          23.         249.\n",
      " 451.         427.         310.         128.         182.\n",
      "  36.         277.          36.         172.         301.\n",
      " 262.         202.         163.33333333 373.           9.\n",
      "  37.         106.          94.         244.         146.\n",
      " 363.         495.         242.         194.         202.\n",
      " 441.          61.5        287.         104.         340.5\n",
      " 379.         442.          92.         506.         459.\n",
      " 411.         400.          92.         106.         147.\n",
      " 209.          53.         456.         231.         128.\n",
      "  23.         413.         434.         506.         310.\n",
      " 475.         286.         270.         518.         310.\n",
      "  73.         477.         472.         495.          62.\n",
      " 166.         292.         257.         235.         359.\n",
      " 407.         106.         226.         167.         202.\n",
      " 517.         427.         167.         167.         104.\n",
      "  74.         456.         147.         121.         346.\n",
      " 346.         256.         323.          25.          45.\n",
      " 495.          53.         209.         167.          92.\n",
      " 123.         202.         236.         167.         409.\n",
      "  23.         163.         202.         135.         183.\n",
      " 315.         297.         218.         238.         495.\n",
      " 506.           9.         226.         106.         182.\n",
      " 370.          40.         104.         194.         147.\n",
      " 280.         192.5        202.         346.         480.\n",
      " 300.         183.         419.         138.         388.\n",
      "   9.         495.         114.          16.         281.\n",
      " 456.         306.         518.          49.         495.\n",
      " 364.         314.         216.         451.         114.\n",
      " 431.         310.         473.         219.         320.\n",
      " 190.           4.         397.         500.         413.\n",
      " 167.         301.         480.         366.         145.33333333\n",
      " 128.         104.         263.         192.        ] \n",
      "\n",
      "prediction of MLP Regressor Model      \n",
      " [305.77951283 332.8416154  202.91916245 195.85601147 124.31979876\n",
      " 238.40630506 238.72922937 254.2394879  212.96010143 208.71698223\n",
      " 261.61906219 217.62149736 252.08687415 335.33391369 156.91117701\n",
      " 274.31102666 233.97069729 238.22739597 194.95841734 173.55143985\n",
      " 250.93722585 200.19996613 197.35952602 146.07517609 143.7746303\n",
      " 168.08839633 308.67695644 177.42907245 298.21449161 271.44551929\n",
      " 344.63586152 146.29561037 239.97471195 200.06635427 225.7987338\n",
      " 267.04690118 237.96665939 404.70528989 209.39169823 224.61906929\n",
      " 319.31229716 291.26295098 289.13767106 185.05876158 261.46423483\n",
      " 255.63825689 152.97917046 291.40115099 325.75951557 255.90905075\n",
      " 212.81630868 235.17805506 300.47703619 232.37224847 269.98447813\n",
      " 168.0156418  227.74988799 280.27096908 194.90815704 325.07658743\n",
      " 309.17937571 106.88978616 275.98662979 402.30928984 207.88538868\n",
      " 207.86640276 197.94774639 173.8099058  292.17566769 266.41786578\n",
      " 230.19062647 280.88183731 219.30890044 263.56421336 314.51278246\n",
      " 162.45662673 254.36519468 218.09378833 247.12754797 187.2594377\n",
      " 201.57384061 295.60942536 234.58860262 195.0278899  200.19816925\n",
      " 242.49349861 249.01217151 334.78991053 296.18429222 291.49945615\n",
      " 298.9802793  171.58420926 241.5172124  173.70291821 254.45842917\n",
      " 177.07297855 177.21608403 258.48548128 218.80887052 246.12043669\n",
      " 253.77689899 231.4596666  213.73897604 172.87939505 199.35311108\n",
      " 226.10753082 234.23299563 233.18284424 220.04185878 174.44826281\n",
      " 265.04223331 192.06847448 197.44416352 183.85990169 271.58829595\n",
      " 238.25527568 154.04102773 331.96105519 331.66229381 219.58418856\n",
      " 227.18794899 308.73038981 209.54185133 286.06520508 276.11386496\n",
      " 235.32472051 198.0216459  199.81032677 280.04418194 187.45450376\n",
      " 195.11012513 366.46972038 307.85728796 311.53180791 165.9760425\n",
      " 183.95579371 299.10866582 201.61484927 208.75506571 354.84147512\n",
      " 315.04082196 152.318581   284.34422382 218.34137012 241.55696858\n",
      " 217.35482602 339.26870675 328.20199377 218.97692349 166.85693131\n",
      " 217.60267637 278.65436494 222.04969318 215.32764284 242.20623337\n",
      " 205.20903199 197.85121104 191.31230425 197.71051568 192.07823528\n",
      " 220.20273747 226.76135882 286.35096553 225.5405047  225.56039448\n",
      " 241.25655987 201.18988634 172.77645898 276.15390767 222.46752556\n",
      " 186.49479451 274.43148487 251.19706001 221.0072179  279.17174018\n",
      " 210.76926081 278.48528448 197.51337595 216.14324822 187.49622773\n",
      " 297.88106248 191.31871511 292.03481696 285.3156867  221.34705529\n",
      " 184.46263187 310.94073424 331.88295245 213.31922766 187.56336821\n",
      " 202.45756924 262.17943519 313.76390863 313.98421799 194.50555068\n",
      " 307.77382369 332.740773   297.51174345 210.30230185 230.86431478\n",
      " 165.96179018 221.60892945 140.70119266 198.98139725 188.88874471\n",
      " 226.08172388 222.27628908 242.02564278 297.96807065 423.05746267\n",
      " 276.96914594 300.15755809 347.61358257 231.76597594 208.39818447\n",
      " 203.3134502  342.57357196 205.99001424 246.62575968 229.56978639\n",
      " 269.23932592 199.3445657  228.09001606 264.55057504 259.28052755\n",
      " 263.59732432 355.9872212  261.67591785 287.32836271 235.75689186\n",
      " 272.5325759  311.27849062 186.18346626 172.52608716 217.75416897\n",
      " 187.6896163  152.70608194 284.74964238 231.45420455 210.32886098\n",
      " 202.03908356 281.48238577 333.54373083 287.27155056 208.68740805\n",
      " 176.50538803 277.82692207 256.50953706 289.75165958 321.06895805\n",
      " 185.76829753 291.35221798 373.00606394 276.25022858 118.53329879\n",
      " 105.12602002 206.68423071 253.29093322 225.85924943 383.39919828\n",
      " 268.33082573 192.51963082 226.29944312 205.24773021 182.26404663\n",
      " 260.90963827 332.73023482 144.63723205 209.95901195 264.58344652\n",
      " 328.9872031  313.12848367 257.19233528 312.8878853  362.23567435\n",
      " 225.30761882 234.20897161 286.47821956 335.06191211 197.71438502\n",
      " 305.94703597 172.69586397 187.73156529 188.36332066 178.27329355\n",
      " 193.34092777 197.13921419 229.6642696  146.26682774 360.8697678\n",
      " 165.32615819 256.56002792 234.52822688 151.3877243  189.46390046\n",
      " 242.51932549 174.32568056 258.04136464 199.24782027 346.7076335\n",
      " 233.27773458 276.39470994 234.46287217 207.01423241 240.12882987\n",
      " 363.12887975 200.42108079 201.92763324 246.56981911 216.21772374\n",
      " 163.57801589 223.13610141 197.32341071 306.26715191 322.00440284\n",
      " 374.32824777 194.41453025 361.42090909 222.08123472 237.39835246\n",
      " 360.79944983 279.69832825 177.28763678 311.74545323 241.54916968\n",
      " 287.81110191 251.08579868 342.08739446 207.20043405 285.29844046\n",
      " 249.83512405 170.84646641 242.25207449 312.93429284 176.61512486\n",
      " 238.23894894 309.00896442 302.94074149 234.41549358 230.1183152\n",
      " 208.07622277 314.18346402 249.0761515  351.47232241 353.5753172\n",
      " 200.06088512 179.92327035 321.98005773 332.98581133 227.66431801\n",
      " 183.84220963 201.85843069 203.15748579 254.45842917] \n",
      "\n",
      "prediction of RandomForestRegressor_Model \n",
      " [ 55.78       365.86292857 137.70166667  81.14       153.99\n",
      " 169.725       96.27       163.81       213.73       158.9\n",
      " 435.86       351.46       264.56        38.11        92.09\n",
      " 506.7        106.68       146.48       299.76       110.15\n",
      " 289.70416667 164.15       180.15        72.45       135.416\n",
      " 315.0975     404.33       442.03       446.24       279.93\n",
      " 414.88        98.45        35.17       253.015      116.98\n",
      " 315.35        95.97       327.15966667 103.93       220.98083333\n",
      " 428.67       268.83       401.54       286.125      406.39\n",
      "  77.57       413.56       471.04       411.4        357.16\n",
      " 198.91       401.81       179.68       308.34       452.34\n",
      " 315.0975     208.15861905 318.72       299.76       141.8\n",
      " 165.96       109.52        84.7        406.15       131.95\n",
      " 131.95       128.11       186.07666667 339.386       42.29\n",
      " 238.062      426.87       349.8        375.29       246.585\n",
      " 382.63       367.57033333 234.76       124.97       180.26\n",
      " 132.88       477.59       142.49666667 101.25        89.34\n",
      " 321.93        72.595       38.8        332.00666667 330.61666667\n",
      " 204.40516667  66.90533333 212.03        78.51       207.1\n",
      " 121.91       131.81       254.74928571 138.58       497.865\n",
      " 281.45666667 269.73       246.87        55.11       154.5\n",
      " 256.734      414.65       221.06       283.32666667 332.11\n",
      " 479.18       208.94       378.965      175.01666667 435.38\n",
      " 146.48        91.77       432.57       464.45       380.97\n",
      " 124.31933333 404.33       333.82       133.43       140.84614286\n",
      "  95.4        131.32       206.91       130.86       141.34\n",
      " 213.17       439.22       407.69       395.72        80.84\n",
      " 321.37       356.5025     132.88       155.05       445.16\n",
      " 414.76666667  43.96       219.9495     255.5         82.61\n",
      " 129.14266667  72.28        86.06       188.2        178.03\n",
      " 228.75       106.19       273.62       445.05666667 221.02666667\n",
      " 152.6775     196.79       218.5         76.81       211.26\n",
      " 199.71        83.42        49.75       303.62916667 232.16\n",
      " 166.29       300.98       136.35       256.55       171.26\n",
      " 161.92       450.44       313.92       174.305      435.11\n",
      " 173.73        77.82       106.68       197.94       140.85\n",
      " 478.05       218.5        261.76       466.75       260.72952381\n",
      " 140.37       397.76       432.57       246.43       477.95\n",
      " 142.24       116.49       358.58       164.47       229.03916667\n",
      " 407.69       422.74       368.405      115.02       225.34166667\n",
      "  81.05       283.038       45.62666667 183.7        310.59\n",
      " 260.34       215.15       195.59141667 381.78       245.61316667\n",
      " 249.0075     171.865      349.14983333 251.64       142.95\n",
      " 371.49       465.3025     129.5202381  254.         213.32\n",
      " 440.02        84.32511905 283.52733333 180.14       351.90516667\n",
      " 387.97333333 436.55        89.32       503.61       432.92\n",
      " 357.01383333 397.54        89.47       106.53       153.68\n",
      " 200.21        58.66       450.97       231.66166667 115.67\n",
      "  81.63       415.2        424.21       503.28       300.53\n",
      " 473.33       296.912      271.00033333 461.33       337.67\n",
      " 105.255      471.04       472.29       247.25        67.15\n",
      " 149.75       231.125      262.678      225.8        321.71816667\n",
      " 416.36       133.41       218.24       152.6775     198.39\n",
      " 505.24       422.74       175.98       164.72       180.14\n",
      "  86.94       446.56       155.065      114.53       326.65\n",
      " 313.49       251.79       336.73        38.8         73.73\n",
      " 388.77        55.91       200.21       135.51        96.58\n",
      " 131.12333333 221.305      244.49333333 170.96       410.46\n",
      "  73.48       171.115      203.54       123.72       143.62916667\n",
      " 277.255      290.31       177.7005     246.65       484.44\n",
      " 506.11       241.93       213.22       109.79       185.53\n",
      " 368.2         56.095      115.08       254.         197.94\n",
      " 276.12       206.62071429 221.305      318.275      375.11\n",
      " 301.67       170.83       419.32       153.79       405.34\n",
      " 357.42966667 492.67       131.81       186.06       207.55\n",
      " 312.8        308.53       509.         169.68369048 465.1\n",
      " 367.19       316.05       221.02666667 449.34       124.33\n",
      " 310.4        301.6        450.5        277.08111905 319.1\n",
      " 188.645      265.58       355.585      497.62       416.67\n",
      " 163.74       239.05       375.11       365.86292857 204.43195238\n",
      " 138.14       115.09       261.54766667 207.1       ] \n",
      "\n"
     ]
    }
   ],
   "source": [
    "for name,Pipeline in models.items():\n",
    "    prediction=Pipeline.predict(xtest)\n",
    "    print(\"prediction of\",name,\"\\n\",prediction,\"\\n\")"
   ]
  }
 ],
 "metadata": {
  "kernelspec": {
   "display_name": "Python 3",
   "language": "python",
   "name": "python3"
  },
  "language_info": {
   "codemirror_mode": {
    "name": "ipython",
    "version": 3
   },
   "file_extension": ".py",
   "mimetype": "text/x-python",
   "name": "python",
   "nbconvert_exporter": "python",
   "pygments_lexer": "ipython3",
   "version": "3.12.1"
  }
 },
 "nbformat": 4,
 "nbformat_minor": 2
}
