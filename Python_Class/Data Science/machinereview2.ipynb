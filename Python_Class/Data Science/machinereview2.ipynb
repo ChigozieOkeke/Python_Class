{
 "cells": [
  {
   "cell_type": "code",
   "execution_count": 1,
   "metadata": {},
   "outputs": [],
   "source": [
    "import numpy as np\n",
    "import pandas as pd\n",
    "import matplotlib.pyplot as plt\n",
    "import seaborn as sns\n",
    "import plotly.express as px\n",
    "from sklearn.model_selection import train_test_split\n",
    "from sklearn.linear_model import LinearRegression,Lasso,Ridge,ElasticNet\n",
    "from sklearn.preprocessing import StandardScaler,LabelEncoder\n",
    "from sklearn.tree import DecisionTreeRegressor\n",
    "from sklearn.svm import SVR\n",
    "from sklearn.ensemble import RandomForestRegressor\n",
    "from sklearn.neural_network import MLPRegressor\n",
    "from sklearn.metrics import r2_score,mean_squared_error,mean_absolute_error,mean_absolute_percentage_error"
   ]
  },
  {
   "cell_type": "code",
   "execution_count": 2,
   "metadata": {},
   "outputs": [
    {
     "data": {
      "text/html": [
       "<div>\n",
       "<style scoped>\n",
       "    .dataframe tbody tr th:only-of-type {\n",
       "        vertical-align: middle;\n",
       "    }\n",
       "\n",
       "    .dataframe tbody tr th {\n",
       "        vertical-align: top;\n",
       "    }\n",
       "\n",
       "    .dataframe thead th {\n",
       "        text-align: right;\n",
       "    }\n",
       "</style>\n",
       "<table border=\"1\" class=\"dataframe\">\n",
       "  <thead>\n",
       "    <tr style=\"text-align: right;\">\n",
       "      <th></th>\n",
       "      <th>Flight_ID</th>\n",
       "      <th>Airline</th>\n",
       "      <th>Departure_City</th>\n",
       "      <th>Arrival_City</th>\n",
       "      <th>Distance</th>\n",
       "      <th>Departure_Time</th>\n",
       "      <th>Arrival_Time</th>\n",
       "      <th>Duration</th>\n",
       "      <th>Aircraft_Type</th>\n",
       "      <th>Number_of_Stops</th>\n",
       "      <th>Day_of_Week</th>\n",
       "      <th>Month_of_Travel</th>\n",
       "      <th>Holiday_Season</th>\n",
       "      <th>Demand</th>\n",
       "      <th>Weather_Conditions</th>\n",
       "      <th>Passenger_Count</th>\n",
       "      <th>Promotion_Type</th>\n",
       "      <th>Fuel_Price</th>\n",
       "      <th>Flight_Price</th>\n",
       "    </tr>\n",
       "  </thead>\n",
       "  <tbody>\n",
       "    <tr>\n",
       "      <th>0</th>\n",
       "      <td>F1</td>\n",
       "      <td>Airline B</td>\n",
       "      <td>NaN</td>\n",
       "      <td>Greenshire</td>\n",
       "      <td>8286.0</td>\n",
       "      <td>8:23</td>\n",
       "      <td>20:19</td>\n",
       "      <td>11.94</td>\n",
       "      <td>Boeing 787</td>\n",
       "      <td>0</td>\n",
       "      <td>Wednesday</td>\n",
       "      <td>December</td>\n",
       "      <td>Summer</td>\n",
       "      <td>Low</td>\n",
       "      <td>Rain</td>\n",
       "      <td>240</td>\n",
       "      <td>Special Offer</td>\n",
       "      <td>0.91</td>\n",
       "      <td>643.93</td>\n",
       "    </tr>\n",
       "    <tr>\n",
       "      <th>1</th>\n",
       "      <td>F2</td>\n",
       "      <td>Airline C</td>\n",
       "      <td>Leonardland</td>\n",
       "      <td>New Stephen</td>\n",
       "      <td>2942.0</td>\n",
       "      <td>20:28</td>\n",
       "      <td>1:45</td>\n",
       "      <td>5.29</td>\n",
       "      <td>Airbus A320</td>\n",
       "      <td>0</td>\n",
       "      <td>Wednesday</td>\n",
       "      <td>March</td>\n",
       "      <td>Spring</td>\n",
       "      <td>Low</td>\n",
       "      <td>Rain</td>\n",
       "      <td>107</td>\n",
       "      <td>NaN</td>\n",
       "      <td>1.08</td>\n",
       "      <td>423.13</td>\n",
       "    </tr>\n",
       "    <tr>\n",
       "      <th>2</th>\n",
       "      <td>F3</td>\n",
       "      <td>Airline B</td>\n",
       "      <td>South Dylanville</td>\n",
       "      <td>Port Ambermouth</td>\n",
       "      <td>2468.0</td>\n",
       "      <td>11:30</td>\n",
       "      <td>15:54</td>\n",
       "      <td>4.41</td>\n",
       "      <td>Boeing 787</td>\n",
       "      <td>1</td>\n",
       "      <td>Sunday</td>\n",
       "      <td>September</td>\n",
       "      <td>Summer</td>\n",
       "      <td>High</td>\n",
       "      <td>Cloudy</td>\n",
       "      <td>131</td>\n",
       "      <td>NaN</td>\n",
       "      <td>0.52</td>\n",
       "      <td>442.17</td>\n",
       "    </tr>\n",
       "    <tr>\n",
       "      <th>3</th>\n",
       "      <td>F4</td>\n",
       "      <td>NaN</td>\n",
       "      <td>Blakefort</td>\n",
       "      <td>Crosbyberg</td>\n",
       "      <td>3145.0</td>\n",
       "      <td>20:24</td>\n",
       "      <td>1:21</td>\n",
       "      <td>4.96</td>\n",
       "      <td>Boeing 787</td>\n",
       "      <td>0</td>\n",
       "      <td>Sunday</td>\n",
       "      <td>February</td>\n",
       "      <td>Fall</td>\n",
       "      <td>Low</td>\n",
       "      <td>Cloudy</td>\n",
       "      <td>170</td>\n",
       "      <td>Discount</td>\n",
       "      <td>0.71</td>\n",
       "      <td>394.42</td>\n",
       "    </tr>\n",
       "    <tr>\n",
       "      <th>4</th>\n",
       "      <td>F5</td>\n",
       "      <td>Airline B</td>\n",
       "      <td>Michaelport</td>\n",
       "      <td>Onealborough</td>\n",
       "      <td>5558.0</td>\n",
       "      <td>21:59</td>\n",
       "      <td>6:04</td>\n",
       "      <td>8.09</td>\n",
       "      <td>Boeing 737</td>\n",
       "      <td>1</td>\n",
       "      <td>Thursday</td>\n",
       "      <td>January</td>\n",
       "      <td>NaN</td>\n",
       "      <td>NaN</td>\n",
       "      <td>Clear</td>\n",
       "      <td>181</td>\n",
       "      <td>NaN</td>\n",
       "      <td>1.09</td>\n",
       "      <td>804.35</td>\n",
       "    </tr>\n",
       "    <tr>\n",
       "      <th>5</th>\n",
       "      <td>F6</td>\n",
       "      <td>Airline B</td>\n",
       "      <td>Lake Steveville</td>\n",
       "      <td>East Patriciafurt</td>\n",
       "      <td>6254.0</td>\n",
       "      <td>2:08</td>\n",
       "      <td>10:33</td>\n",
       "      <td>8.43</td>\n",
       "      <td>NaN</td>\n",
       "      <td>0</td>\n",
       "      <td>Tuesday</td>\n",
       "      <td>December</td>\n",
       "      <td>NaN</td>\n",
       "      <td>Low</td>\n",
       "      <td>Snow</td>\n",
       "      <td>267</td>\n",
       "      <td>NaN</td>\n",
       "      <td>1.15</td>\n",
       "      <td>596.86</td>\n",
       "    </tr>\n",
       "    <tr>\n",
       "      <th>6</th>\n",
       "      <td>F7</td>\n",
       "      <td>Airline B</td>\n",
       "      <td>West Samanthaland</td>\n",
       "      <td>Port Brentport</td>\n",
       "      <td>3274.0</td>\n",
       "      <td>16:21</td>\n",
       "      <td>21:57</td>\n",
       "      <td>5.60</td>\n",
       "      <td>Boeing 787</td>\n",
       "      <td>0</td>\n",
       "      <td>Wednesday</td>\n",
       "      <td>January</td>\n",
       "      <td>Spring</td>\n",
       "      <td>Low</td>\n",
       "      <td>Clear</td>\n",
       "      <td>248</td>\n",
       "      <td>Special Offer</td>\n",
       "      <td>1.03</td>\n",
       "      <td>429.53</td>\n",
       "    </tr>\n",
       "    <tr>\n",
       "      <th>7</th>\n",
       "      <td>F8</td>\n",
       "      <td>Airline A</td>\n",
       "      <td>Port Eric</td>\n",
       "      <td>NaN</td>\n",
       "      <td>6460.0</td>\n",
       "      <td>12:46</td>\n",
       "      <td>22:44</td>\n",
       "      <td>9.98</td>\n",
       "      <td>Boeing 777</td>\n",
       "      <td>3</td>\n",
       "      <td>Thursday</td>\n",
       "      <td>May</td>\n",
       "      <td>Fall</td>\n",
       "      <td>Medium</td>\n",
       "      <td>Cloudy</td>\n",
       "      <td>226</td>\n",
       "      <td>NaN</td>\n",
       "      <td>1.14</td>\n",
       "      <td>835.36</td>\n",
       "    </tr>\n",
       "    <tr>\n",
       "      <th>8</th>\n",
       "      <td>F9</td>\n",
       "      <td>Airline C</td>\n",
       "      <td>Bryanland</td>\n",
       "      <td>Jessebury</td>\n",
       "      <td>1116.0</td>\n",
       "      <td>11:31</td>\n",
       "      <td>13:58</td>\n",
       "      <td>2.46</td>\n",
       "      <td>Airbus A320</td>\n",
       "      <td>0</td>\n",
       "      <td>Wednesday</td>\n",
       "      <td>June</td>\n",
       "      <td>Fall</td>\n",
       "      <td>Medium</td>\n",
       "      <td>Cloudy</td>\n",
       "      <td>56</td>\n",
       "      <td>NaN</td>\n",
       "      <td>0.85</td>\n",
       "      <td>385.73</td>\n",
       "    </tr>\n",
       "    <tr>\n",
       "      <th>9</th>\n",
       "      <td>F10</td>\n",
       "      <td>Airline B</td>\n",
       "      <td>Suechester</td>\n",
       "      <td>Clintonhaven</td>\n",
       "      <td>8677.0</td>\n",
       "      <td>5:32</td>\n",
       "      <td>17:01</td>\n",
       "      <td>11.49</td>\n",
       "      <td>Airbus A380</td>\n",
       "      <td>0</td>\n",
       "      <td>Friday</td>\n",
       "      <td>July</td>\n",
       "      <td>Summer</td>\n",
       "      <td>Low</td>\n",
       "      <td>Snow</td>\n",
       "      <td>236</td>\n",
       "      <td>Special Offer</td>\n",
       "      <td>0.80</td>\n",
       "      <td>652.88</td>\n",
       "    </tr>\n",
       "  </tbody>\n",
       "</table>\n",
       "</div>"
      ],
      "text/plain": [
       "  Flight_ID    Airline     Departure_City       Arrival_City  Distance  \\\n",
       "0        F1  Airline B                NaN         Greenshire    8286.0   \n",
       "1        F2  Airline C        Leonardland        New Stephen    2942.0   \n",
       "2        F3  Airline B   South Dylanville    Port Ambermouth    2468.0   \n",
       "3        F4        NaN          Blakefort         Crosbyberg    3145.0   \n",
       "4        F5  Airline B        Michaelport       Onealborough    5558.0   \n",
       "5        F6  Airline B    Lake Steveville  East Patriciafurt    6254.0   \n",
       "6        F7  Airline B  West Samanthaland     Port Brentport    3274.0   \n",
       "7        F8  Airline A          Port Eric                NaN    6460.0   \n",
       "8        F9  Airline C          Bryanland          Jessebury    1116.0   \n",
       "9       F10  Airline B         Suechester       Clintonhaven    8677.0   \n",
       "\n",
       "  Departure_Time Arrival_Time  Duration Aircraft_Type  Number_of_Stops  \\\n",
       "0           8:23        20:19     11.94    Boeing 787                0   \n",
       "1          20:28         1:45      5.29   Airbus A320                0   \n",
       "2          11:30        15:54      4.41    Boeing 787                1   \n",
       "3          20:24         1:21      4.96    Boeing 787                0   \n",
       "4          21:59         6:04      8.09    Boeing 737                1   \n",
       "5           2:08        10:33      8.43           NaN                0   \n",
       "6          16:21        21:57      5.60    Boeing 787                0   \n",
       "7          12:46        22:44      9.98    Boeing 777                3   \n",
       "8          11:31        13:58      2.46   Airbus A320                0   \n",
       "9           5:32        17:01     11.49   Airbus A380                0   \n",
       "\n",
       "  Day_of_Week Month_of_Travel Holiday_Season  Demand Weather_Conditions  \\\n",
       "0   Wednesday        December         Summer     Low               Rain   \n",
       "1   Wednesday           March         Spring     Low               Rain   \n",
       "2      Sunday       September         Summer    High             Cloudy   \n",
       "3      Sunday        February           Fall     Low             Cloudy   \n",
       "4    Thursday         January            NaN     NaN              Clear   \n",
       "5     Tuesday        December            NaN     Low               Snow   \n",
       "6   Wednesday         January         Spring     Low              Clear   \n",
       "7    Thursday             May           Fall  Medium             Cloudy   \n",
       "8   Wednesday            June           Fall  Medium             Cloudy   \n",
       "9      Friday            July         Summer     Low               Snow   \n",
       "\n",
       "   Passenger_Count Promotion_Type  Fuel_Price  Flight_Price  \n",
       "0              240  Special Offer        0.91        643.93  \n",
       "1              107            NaN        1.08        423.13  \n",
       "2              131            NaN        0.52        442.17  \n",
       "3              170       Discount        0.71        394.42  \n",
       "4              181            NaN        1.09        804.35  \n",
       "5              267            NaN        1.15        596.86  \n",
       "6              248  Special Offer        1.03        429.53  \n",
       "7              226            NaN        1.14        835.36  \n",
       "8               56            NaN        0.85        385.73  \n",
       "9              236  Special Offer        0.80        652.88  "
      ]
     },
     "execution_count": 2,
     "metadata": {},
     "output_type": "execute_result"
    }
   ],
   "source": [
    "## Reading in datset.\n",
    "df=pd.read_csv(\"train.csv\")\n",
    "df.head(10)"
   ]
  },
  {
   "cell_type": "code",
   "execution_count": 3,
   "metadata": {},
   "outputs": [
    {
     "name": "stdout",
     "output_type": "stream",
     "text": [
      "<class 'pandas.core.frame.DataFrame'>\n",
      "RangeIndex: 45000 entries, 0 to 44999\n",
      "Data columns (total 19 columns):\n",
      " #   Column              Non-Null Count  Dtype  \n",
      "---  ------              --------------  -----  \n",
      " 0   Flight_ID           45000 non-null  object \n",
      " 1   Airline             41427 non-null  object \n",
      " 2   Departure_City      44660 non-null  object \n",
      " 3   Arrival_City        44814 non-null  object \n",
      " 4   Distance            44909 non-null  float64\n",
      " 5   Departure_Time      45000 non-null  object \n",
      " 6   Arrival_Time        45000 non-null  object \n",
      " 7   Duration            45000 non-null  float64\n",
      " 8   Aircraft_Type       44957 non-null  object \n",
      " 9   Number_of_Stops     45000 non-null  int64  \n",
      " 10  Day_of_Week         44775 non-null  object \n",
      " 11  Month_of_Travel     44733 non-null  object \n",
      " 12  Holiday_Season      35980 non-null  object \n",
      " 13  Demand              44683 non-null  object \n",
      " 14  Weather_Conditions  44698 non-null  object \n",
      " 15  Passenger_Count     45000 non-null  int64  \n",
      " 16  Promotion_Type      29785 non-null  object \n",
      " 17  Fuel_Price          44910 non-null  float64\n",
      " 18  Flight_Price        45000 non-null  float64\n",
      "dtypes: float64(4), int64(2), object(13)\n",
      "memory usage: 6.5+ MB\n"
     ]
    }
   ],
   "source": [
    "df.info()"
   ]
  },
  {
   "cell_type": "code",
   "execution_count": 4,
   "metadata": {},
   "outputs": [
    {
     "data": {
      "text/plain": [
       "Flight_ID                 0\n",
       "Airline                3573\n",
       "Departure_City          340\n",
       "Arrival_City            186\n",
       "Distance                 91\n",
       "Departure_Time            0\n",
       "Arrival_Time              0\n",
       "Duration                  0\n",
       "Aircraft_Type            43\n",
       "Number_of_Stops           0\n",
       "Day_of_Week             225\n",
       "Month_of_Travel         267\n",
       "Holiday_Season         9020\n",
       "Demand                  317\n",
       "Weather_Conditions      302\n",
       "Passenger_Count           0\n",
       "Promotion_Type        15215\n",
       "Fuel_Price               90\n",
       "Flight_Price              0\n",
       "dtype: int64"
      ]
     },
     "execution_count": 4,
     "metadata": {},
     "output_type": "execute_result"
    }
   ],
   "source": [
    "df.isnull().sum()"
   ]
  },
  {
   "cell_type": "code",
   "execution_count": 5,
   "metadata": {},
   "outputs": [
    {
     "data": {
      "text/plain": [
       "Flight_ID              0.000000\n",
       "Airline                7.940000\n",
       "Departure_City         0.755556\n",
       "Arrival_City           0.413333\n",
       "Distance               0.202222\n",
       "Departure_Time         0.000000\n",
       "Arrival_Time           0.000000\n",
       "Duration               0.000000\n",
       "Aircraft_Type          0.095556\n",
       "Number_of_Stops        0.000000\n",
       "Day_of_Week            0.500000\n",
       "Month_of_Travel        0.593333\n",
       "Holiday_Season        20.044444\n",
       "Demand                 0.704444\n",
       "Weather_Conditions     0.671111\n",
       "Passenger_Count        0.000000\n",
       "Promotion_Type        33.811111\n",
       "Fuel_Price             0.200000\n",
       "Flight_Price           0.000000\n",
       "dtype: float64"
      ]
     },
     "execution_count": 5,
     "metadata": {},
     "output_type": "execute_result"
    }
   ],
   "source": [
    "## Checkinfg for percentage using isnull.\n",
    "df.isnull().sum()/df.shape[0]*100"
   ]
  },
  {
   "cell_type": "code",
   "execution_count": 6,
   "metadata": {},
   "outputs": [
    {
     "data": {
      "text/plain": [
       "0"
      ]
     },
     "execution_count": 6,
     "metadata": {},
     "output_type": "execute_result"
    }
   ],
   "source": [
    "# check for duplicates in the dataset\n",
    "# df.drop_duplicates(inplace=True)\n",
    "df.duplicated().sum()"
   ]
  },
  {
   "cell_type": "code",
   "execution_count": 7,
   "metadata": {},
   "outputs": [
    {
     "data": {
      "text/html": [
       "<div>\n",
       "<style scoped>\n",
       "    .dataframe tbody tr th:only-of-type {\n",
       "        vertical-align: middle;\n",
       "    }\n",
       "\n",
       "    .dataframe tbody tr th {\n",
       "        vertical-align: top;\n",
       "    }\n",
       "\n",
       "    .dataframe thead th {\n",
       "        text-align: right;\n",
       "    }\n",
       "</style>\n",
       "<table border=\"1\" class=\"dataframe\">\n",
       "  <thead>\n",
       "    <tr style=\"text-align: right;\">\n",
       "      <th></th>\n",
       "      <th>Distance</th>\n",
       "      <th>Duration</th>\n",
       "      <th>Number_of_Stops</th>\n",
       "      <th>Passenger_Count</th>\n",
       "      <th>Fuel_Price</th>\n",
       "      <th>Flight_Price</th>\n",
       "    </tr>\n",
       "  </thead>\n",
       "  <tbody>\n",
       "    <tr>\n",
       "      <th>count</th>\n",
       "      <td>44909.000000</td>\n",
       "      <td>45000.000000</td>\n",
       "      <td>45000.000000</td>\n",
       "      <td>45000.000000</td>\n",
       "      <td>44910.000000</td>\n",
       "      <td>45000.000000</td>\n",
       "    </tr>\n",
       "    <tr>\n",
       "      <th>mean</th>\n",
       "      <td>5482.238727</td>\n",
       "      <td>7.852555</td>\n",
       "      <td>0.665667</td>\n",
       "      <td>174.928822</td>\n",
       "      <td>0.850192</td>\n",
       "      <td>574.606270</td>\n",
       "    </tr>\n",
       "    <tr>\n",
       "      <th>std</th>\n",
       "      <td>2594.847860</td>\n",
       "      <td>3.292880</td>\n",
       "      <td>0.750578</td>\n",
       "      <td>72.372980</td>\n",
       "      <td>0.201736</td>\n",
       "      <td>160.239344</td>\n",
       "    </tr>\n",
       "    <tr>\n",
       "      <th>min</th>\n",
       "      <td>1000.000000</td>\n",
       "      <td>1.280000</td>\n",
       "      <td>0.000000</td>\n",
       "      <td>50.000000</td>\n",
       "      <td>0.500000</td>\n",
       "      <td>173.350000</td>\n",
       "    </tr>\n",
       "    <tr>\n",
       "      <th>25%</th>\n",
       "      <td>3230.000000</td>\n",
       "      <td>5.040000</td>\n",
       "      <td>0.000000</td>\n",
       "      <td>112.000000</td>\n",
       "      <td>0.680000</td>\n",
       "      <td>455.297500</td>\n",
       "    </tr>\n",
       "    <tr>\n",
       "      <th>50%</th>\n",
       "      <td>5476.000000</td>\n",
       "      <td>7.840000</td>\n",
       "      <td>1.000000</td>\n",
       "      <td>175.000000</td>\n",
       "      <td>0.850000</td>\n",
       "      <td>565.750000</td>\n",
       "    </tr>\n",
       "    <tr>\n",
       "      <th>75%</th>\n",
       "      <td>7725.000000</td>\n",
       "      <td>10.650000</td>\n",
       "      <td>1.000000</td>\n",
       "      <td>238.000000</td>\n",
       "      <td>1.020000</td>\n",
       "      <td>679.692500</td>\n",
       "    </tr>\n",
       "    <tr>\n",
       "      <th>max</th>\n",
       "      <td>10000.000000</td>\n",
       "      <td>14.450000</td>\n",
       "      <td>3.000000</td>\n",
       "      <td>300.000000</td>\n",
       "      <td>1.200000</td>\n",
       "      <td>1261.640000</td>\n",
       "    </tr>\n",
       "  </tbody>\n",
       "</table>\n",
       "</div>"
      ],
      "text/plain": [
       "           Distance      Duration  Number_of_Stops  Passenger_Count  \\\n",
       "count  44909.000000  45000.000000     45000.000000     45000.000000   \n",
       "mean    5482.238727      7.852555         0.665667       174.928822   \n",
       "std     2594.847860      3.292880         0.750578        72.372980   \n",
       "min     1000.000000      1.280000         0.000000        50.000000   \n",
       "25%     3230.000000      5.040000         0.000000       112.000000   \n",
       "50%     5476.000000      7.840000         1.000000       175.000000   \n",
       "75%     7725.000000     10.650000         1.000000       238.000000   \n",
       "max    10000.000000     14.450000         3.000000       300.000000   \n",
       "\n",
       "         Fuel_Price  Flight_Price  \n",
       "count  44910.000000  45000.000000  \n",
       "mean       0.850192    574.606270  \n",
       "std        0.201736    160.239344  \n",
       "min        0.500000    173.350000  \n",
       "25%        0.680000    455.297500  \n",
       "50%        0.850000    565.750000  \n",
       "75%        1.020000    679.692500  \n",
       "max        1.200000   1261.640000  "
      ]
     },
     "execution_count": 7,
     "metadata": {},
     "output_type": "execute_result"
    }
   ],
   "source": [
    "## Descriptive annalysis\n",
    "df1=df.describe()\n",
    "df1"
   ]
  },
  {
   "cell_type": "code",
   "execution_count": 8,
   "metadata": {},
   "outputs": [
    {
     "name": "stdout",
     "output_type": "stream",
     "text": [
      "<class 'pandas.core.frame.DataFrame'>\n",
      "RangeIndex: 45000 entries, 0 to 44999\n",
      "Data columns (total 19 columns):\n",
      " #   Column              Non-Null Count  Dtype  \n",
      "---  ------              --------------  -----  \n",
      " 0   Flight_ID           45000 non-null  object \n",
      " 1   Airline             41427 non-null  object \n",
      " 2   Departure_City      44660 non-null  object \n",
      " 3   Arrival_City        44814 non-null  object \n",
      " 4   Distance            44909 non-null  float64\n",
      " 5   Departure_Time      45000 non-null  object \n",
      " 6   Arrival_Time        45000 non-null  object \n",
      " 7   Duration            45000 non-null  float64\n",
      " 8   Aircraft_Type       44957 non-null  object \n",
      " 9   Number_of_Stops     45000 non-null  int64  \n",
      " 10  Day_of_Week         44775 non-null  object \n",
      " 11  Month_of_Travel     44733 non-null  object \n",
      " 12  Holiday_Season      35980 non-null  object \n",
      " 13  Demand              44683 non-null  object \n",
      " 14  Weather_Conditions  44698 non-null  object \n",
      " 15  Passenger_Count     45000 non-null  int64  \n",
      " 16  Promotion_Type      29785 non-null  object \n",
      " 17  Fuel_Price          44910 non-null  float64\n",
      " 18  Flight_Price        45000 non-null  float64\n",
      "dtypes: float64(4), int64(2), object(13)\n",
      "memory usage: 6.5+ MB\n"
     ]
    }
   ],
   "source": [
    "df.info()"
   ]
  },
  {
   "cell_type": "code",
   "execution_count": 9,
   "metadata": {},
   "outputs": [],
   "source": [
    "df1.to_csv(\"Descriptive Analysis.csv\")"
   ]
  },
  {
   "cell_type": "code",
   "execution_count": 10,
   "metadata": {},
   "outputs": [
    {
     "data": {
      "image/png": "[encoded data removed]",
      "text/plain": [
       "<Figure size 640x480 with 1 Axes>"
      ]
     },
     "metadata": {},
     "output_type": "display_data"
    },
    {
     "data": {
      "image/png": "[encoded data removed]",
      "text/plain": [
       "<Figure size 640x480 with 1 Axes>"
      ]
     },
     "metadata": {},
     "output_type": "display_data"
    },
    {
     "data": {
      "image/png": "[encoded data removed]",
      "text/plain": [
       "<Figure size 640x480 with 1 Axes>"
      ]
     },
     "metadata": {},
     "output_type": "display_data"
    },
    {
     "data": {
      "image/png": "[encoded data removed]",
      "text/plain": [
       "<Figure size 640x480 with 1 Axes>"
      ]
     },
     "metadata": {},
     "output_type": "display_data"
    },
    {
     "data": {
      "image/png": "[encoded data removed]",
      "text/plain": [
       "<Figure size 640x480 with 1 Axes>"
      ]
     },
     "metadata": {},
     "output_type": "display_data"
    },
    {
     "data": {
      "image/png": "[encoded data removed]",
      "text/plain": [
       "<Figure size 640x480 with 1 Axes>"
      ]
     },
     "metadata": {},
     "output_type": "display_data"
    }
   ],
   "source": [
    "## distribution for numeric variable in the dataset.\n",
    "for i in df.select_dtypes(include=\"number\" or \"numeric\").columns:\n",
    "    sns.histplot(data=df,x=i)\n",
    "    plt.show()"
   ]
  },
  {
   "cell_type": "code",
   "execution_count": 11,
   "metadata": {},
   "outputs": [
    {
     "data": {
      "image/png": "[encoded data removed]",
      "text/plain": [
       "<Figure size 640x480 with 1 Axes>"
      ]
     },
     "metadata": {},
     "output_type": "display_data"
    },
    {
     "data": {
      "image/png": "[encoded data removed]",
      "text/plain": [
       "<Figure size 640x480 with 1 Axes>"
      ]
     },
     "metadata": {},
     "output_type": "display_data"
    },
    {
     "data": {
      "image/png": "[encoded data removed]",
      "text/plain": [
       "<Figure size 640x480 with 1 Axes>"
      ]
     },
     "metadata": {},
     "output_type": "display_data"
    },
    {
     "data": {
      "image/png": "[encoded data removed]",
      "text/plain": [
       "<Figure size 640x480 with 1 Axes>"
      ]
     },
     "metadata": {},
     "output_type": "display_data"
    },
    {
     "data": {
      "image/png": "[encoded data removed]",
      "text/plain": [
       "<Figure size 640x480 with 1 Axes>"
      ]
     },
     "metadata": {},
     "output_type": "display_data"
    },
    {
     "data": {
      "image/png": "[encoded data removed]",
      "text/plain": [
       "<Figure size 640x480 with 1 Axes>"
      ]
     },
     "metadata": {},
     "output_type": "display_data"
    }
   ],
   "source": [
    "## Box-plot to identify outliers in the datset\n",
    "for i in df.select_dtypes(include=\"number\" or \"numeric\").columns:\n",
    "    sns.boxplot(data=df,x=i)\n",
    "    plt.show()"
   ]
  },
  {
   "cell_type": "code",
   "execution_count": 12,
   "metadata": {},
   "outputs": [],
   "source": [
    "## OUTLIER TREAtMENT\n",
    "def wisker(col):\n",
    "    q1,q3=np.percentile(col,(25,75))\n",
    "    iqr=q3-q1\n",
    "    lw=q1-1.5*iqr\n",
    "    uw=q3+1.5*iqr\n",
    "    return lw,uw"
   ]
  },
  {
   "cell_type": "code",
   "execution_count": 13,
   "metadata": {},
   "outputs": [
    {
     "data": {
      "text/plain": [
       "(118.70499999999987, 1016.2850000000003)"
      ]
     },
     "execution_count": 13,
     "metadata": {},
     "output_type": "execute_result"
    }
   ],
   "source": [
    "## show the function of the wisker on a particular dataset\n",
    "wisker(df[\"Flight_Price\"])"
   ]
  },
  {
   "cell_type": "code",
   "execution_count": 14,
   "metadata": {},
   "outputs": [],
   "source": [
    "for i in ['Flight_Price']:\n",
    "    lw,uw=wisker(df[i])\n",
    "    df[i]=np.where(df[i]<lw,lw,df[i])\n",
    "    df[i]=np.where(df[i]>uw,uw,df[i])\n",
    "# We implement the wisker to the various columns."
   ]
  },
  {
   "cell_type": "code",
   "execution_count": 15,
   "metadata": {},
   "outputs": [
    {
     "data": {
      "image/png": "[encoded data removed]",
      "text/plain": [
       "<Figure size 640x480 with 1 Axes>"
      ]
     },
     "metadata": {},
     "output_type": "display_data"
    },
    {
     "data": {
      "image/png": "[encoded data removed]",
      "text/plain": [
       "<Figure size 640x480 with 1 Axes>"
      ]
     },
     "metadata": {},
     "output_type": "display_data"
    },
    {
     "data": {
      "image/png": "[encoded data removed]",
      "text/plain": [
       "<Figure size 640x480 with 1 Axes>"
      ]
     },
     "metadata": {},
     "output_type": "display_data"
    },
    {
     "data": {
      "image/png": "[encoded data removed]",
      "text/plain": [
       "<Figure size 640x480 with 1 Axes>"
      ]
     },
     "metadata": {},
     "output_type": "display_data"
    },
    {
     "data": {
      "image/png": "[encoded data removed]",
      "text/plain": [
       "<Figure size 640x480 with 1 Axes>"
      ]
     },
     "metadata": {},
     "output_type": "display_data"
    },
    {
     "data": {
      "image/png": "[encoded data removed]",
      "text/plain": [
       "<Figure size 640x480 with 1 Axes>"
      ]
     },
     "metadata": {},
     "output_type": "display_data"
    }
   ],
   "source": [
    "## Box-plot to identify outliers in the datset\n",
    "for i in df.select_dtypes(include=\"number\" or \"numeric\").columns:\n",
    "    sns.boxplot(data=df,x=i)\n",
    "    plt.show()"
   ]
  },
  {
   "cell_type": "code",
   "execution_count": 16,
   "metadata": {},
   "outputs": [
    {
     "data": {
      "text/plain": [
       "Flight_ID                 0\n",
       "Airline                3573\n",
       "Departure_City          340\n",
       "Arrival_City            186\n",
       "Distance                  0\n",
       "Departure_Time            0\n",
       "Arrival_Time              0\n",
       "Duration                  0\n",
       "Aircraft_Type            43\n",
       "Number_of_Stops           0\n",
       "Day_of_Week             225\n",
       "Month_of_Travel         267\n",
       "Holiday_Season         9020\n",
       "Demand                  317\n",
       "Weather_Conditions      302\n",
       "Passenger_Count           0\n",
       "Promotion_Type        15215\n",
       "Fuel_Price                0\n",
       "Flight_Price              0\n",
       "dtype: int64"
      ]
     },
     "execution_count": 16,
     "metadata": {},
     "output_type": "execute_result"
    }
   ],
   "source": [
    "## MISSING VALUE TREAMENT\n",
    "import warnings\n",
    "warnings.filterwarnings(\"ignore\")\n",
    "numerical_data=df.select_dtypes(include=[\"int64\",\"float64\"])\n",
    "for x in numerical_data:\n",
    "    df[x].fillna(df[x].mean(),inplace=True)\n",
    "df.isnull().sum()"
   ]
  },
  {
   "cell_type": "code",
   "execution_count": 17,
   "metadata": {},
   "outputs": [
    {
     "data": {
      "text/plain": [
       "Flight_ID             0\n",
       "Airline               0\n",
       "Departure_City        0\n",
       "Arrival_City          0\n",
       "Distance              0\n",
       "Departure_Time        0\n",
       "Arrival_Time          0\n",
       "Duration              0\n",
       "Aircraft_Type         0\n",
       "Number_of_Stops       0\n",
       "Day_of_Week           0\n",
       "Month_of_Travel       0\n",
       "Holiday_Season        0\n",
       "Demand                0\n",
       "Weather_Conditions    0\n",
       "Passenger_Count       0\n",
       "Promotion_Type        0\n",
       "Fuel_Price            0\n",
       "Flight_Price          0\n",
       "dtype: int64"
      ]
     },
     "execution_count": 17,
     "metadata": {},
     "output_type": "execute_result"
    }
   ],
   "source": [
    "## MISSING VALUE TREAMENT\n",
    "import warnings\n",
    "warnings.filterwarnings(\"ignore\")\n",
    "category_data=df.select_dtypes(include=[\"object\",\"category\"])\n",
    "for x in category_data:\n",
    "    df[x].fillna(df[x].mode()[0],inplace=True)\n",
    "df.isnull().sum()"
   ]
  },
  {
   "cell_type": "code",
   "execution_count": 18,
   "metadata": {},
   "outputs": [
    {
     "data": {
      "text/plain": [
       "Index(['Flight_ID', 'Airline', 'Departure_City', 'Arrival_City', 'Distance',\n",
       "       'Departure_Time', 'Arrival_Time', 'Duration', 'Aircraft_Type',\n",
       "       'Number_of_Stops', 'Day_of_Week', 'Month_of_Travel', 'Holiday_Season',\n",
       "       'Demand', 'Weather_Conditions', 'Passenger_Count', 'Promotion_Type',\n",
       "       'Fuel_Price', 'Flight_Price'],\n",
       "      dtype='object')"
      ]
     },
     "execution_count": 18,
     "metadata": {},
     "output_type": "execute_result"
    }
   ],
   "source": [
    "df.columns"
   ]
  },
  {
   "cell_type": "code",
   "execution_count": 19,
   "metadata": {},
   "outputs": [
    {
     "data": {
      "text/html": [
       "<div>\n",
       "<style scoped>\n",
       "    .dataframe tbody tr th:only-of-type {\n",
       "        vertical-align: middle;\n",
       "    }\n",
       "\n",
       "    .dataframe tbody tr th {\n",
       "        vertical-align: top;\n",
       "    }\n",
       "\n",
       "    .dataframe thead th {\n",
       "        text-align: right;\n",
       "    }\n",
       "</style>\n",
       "<table border=\"1\" class=\"dataframe\">\n",
       "  <thead>\n",
       "    <tr style=\"text-align: right;\">\n",
       "      <th></th>\n",
       "      <th>Flight_ID</th>\n",
       "      <th>Airline</th>\n",
       "      <th>Departure_City</th>\n",
       "      <th>Arrival_City</th>\n",
       "      <th>Distance</th>\n",
       "      <th>Departure_Time</th>\n",
       "      <th>Arrival_Time</th>\n",
       "      <th>Duration</th>\n",
       "      <th>Aircraft_Type</th>\n",
       "      <th>Number_of_Stops</th>\n",
       "      <th>Day_of_Week</th>\n",
       "      <th>Month_of_Travel</th>\n",
       "      <th>Holiday_Season</th>\n",
       "      <th>Demand</th>\n",
       "      <th>Weather_Conditions</th>\n",
       "      <th>Passenger_Count</th>\n",
       "      <th>Promotion_Type</th>\n",
       "      <th>Fuel_Price</th>\n",
       "      <th>Flight_Price</th>\n",
       "    </tr>\n",
       "  </thead>\n",
       "  <tbody>\n",
       "    <tr>\n",
       "      <th>0</th>\n",
       "      <td>0</td>\n",
       "      <td>1</td>\n",
       "      <td>16378</td>\n",
       "      <td>5763</td>\n",
       "      <td>8286.0</td>\n",
       "      <td>1343</td>\n",
       "      <td>739</td>\n",
       "      <td>11.94</td>\n",
       "      <td>4</td>\n",
       "      <td>0</td>\n",
       "      <td>6</td>\n",
       "      <td>2</td>\n",
       "      <td>2</td>\n",
       "      <td>1</td>\n",
       "      <td>2</td>\n",
       "      <td>240</td>\n",
       "      <td>1</td>\n",
       "      <td>0.91</td>\n",
       "      <td>643.93</td>\n",
       "    </tr>\n",
       "    <tr>\n",
       "      <th>1</th>\n",
       "      <td>11111</td>\n",
       "      <td>2</td>\n",
       "      <td>9554</td>\n",
       "      <td>12751</td>\n",
       "      <td>2942.0</td>\n",
       "      <td>748</td>\n",
       "      <td>705</td>\n",
       "      <td>5.29</td>\n",
       "      <td>0</td>\n",
       "      <td>0</td>\n",
       "      <td>6</td>\n",
       "      <td>7</td>\n",
       "      <td>1</td>\n",
       "      <td>1</td>\n",
       "      <td>2</td>\n",
       "      <td>107</td>\n",
       "      <td>1</td>\n",
       "      <td>1.08</td>\n",
       "      <td>423.13</td>\n",
       "    </tr>\n",
       "    <tr>\n",
       "      <th>2</th>\n",
       "      <td>22222</td>\n",
       "      <td>1</td>\n",
       "      <td>18756</td>\n",
       "      <td>15392</td>\n",
       "      <td>2468.0</td>\n",
       "      <td>150</td>\n",
       "      <td>414</td>\n",
       "      <td>4.41</td>\n",
       "      <td>4</td>\n",
       "      <td>1</td>\n",
       "      <td>3</td>\n",
       "      <td>11</td>\n",
       "      <td>2</td>\n",
       "      <td>0</td>\n",
       "      <td>1</td>\n",
       "      <td>131</td>\n",
       "      <td>1</td>\n",
       "      <td>0.52</td>\n",
       "      <td>442.17</td>\n",
       "    </tr>\n",
       "    <tr>\n",
       "      <th>3</th>\n",
       "      <td>33333</td>\n",
       "      <td>0</td>\n",
       "      <td>1000</td>\n",
       "      <td>2425</td>\n",
       "      <td>3145.0</td>\n",
       "      <td>744</td>\n",
       "      <td>681</td>\n",
       "      <td>4.96</td>\n",
       "      <td>4</td>\n",
       "      <td>0</td>\n",
       "      <td>3</td>\n",
       "      <td>3</td>\n",
       "      <td>0</td>\n",
       "      <td>1</td>\n",
       "      <td>1</td>\n",
       "      <td>170</td>\n",
       "      <td>0</td>\n",
       "      <td>0.71</td>\n",
       "      <td>394.42</td>\n",
       "    </tr>\n",
       "    <tr>\n",
       "      <th>4</th>\n",
       "      <td>39445</td>\n",
       "      <td>1</td>\n",
       "      <td>10526</td>\n",
       "      <td>14858</td>\n",
       "      <td>5558.0</td>\n",
       "      <td>839</td>\n",
       "      <td>1204</td>\n",
       "      <td>8.09</td>\n",
       "      <td>2</td>\n",
       "      <td>1</td>\n",
       "      <td>4</td>\n",
       "      <td>4</td>\n",
       "      <td>1</td>\n",
       "      <td>1</td>\n",
       "      <td>0</td>\n",
       "      <td>181</td>\n",
       "      <td>1</td>\n",
       "      <td>1.09</td>\n",
       "      <td>804.35</td>\n",
       "    </tr>\n",
       "  </tbody>\n",
       "</table>\n",
       "</div>"
      ],
      "text/plain": [
       "   Flight_ID  Airline  Departure_City  Arrival_City  Distance  Departure_Time  \\\n",
       "0          0        1           16378          5763    8286.0            1343   \n",
       "1      11111        2            9554         12751    2942.0             748   \n",
       "2      22222        1           18756         15392    2468.0             150   \n",
       "3      33333        0            1000          2425    3145.0             744   \n",
       "4      39445        1           10526         14858    5558.0             839   \n",
       "\n",
       "   Arrival_Time  Duration  Aircraft_Type  Number_of_Stops  Day_of_Week  \\\n",
       "0           739     11.94              4                0            6   \n",
       "1           705      5.29              0                0            6   \n",
       "2           414      4.41              4                1            3   \n",
       "3           681      4.96              4                0            3   \n",
       "4          1204      8.09              2                1            4   \n",
       "\n",
       "   Month_of_Travel  Holiday_Season  Demand  Weather_Conditions  \\\n",
       "0                2               2       1                   2   \n",
       "1                7               1       1                   2   \n",
       "2               11               2       0                   1   \n",
       "3                3               0       1                   1   \n",
       "4                4               1       1                   0   \n",
       "\n",
       "   Passenger_Count  Promotion_Type  Fuel_Price  Flight_Price  \n",
       "0              240               1        0.91        643.93  \n",
       "1              107               1        1.08        423.13  \n",
       "2              131               1        0.52        442.17  \n",
       "3              170               0        0.71        394.42  \n",
       "4              181               1        1.09        804.35  "
      ]
     },
     "execution_count": 19,
     "metadata": {},
     "output_type": "execute_result"
    }
   ],
   "source": [
    "encoder=LabelEncoder()\n",
    "category=df.select_dtypes(include=[\"object\",\"category\"])\n",
    "for x in category:\n",
    "    df[x]=encoder.fit_transform(df[x])\n",
    "df.head()"
   ]
  },
  {
   "cell_type": "code",
   "execution_count": 20,
   "metadata": {},
   "outputs": [],
   "source": [
    "X=df.drop([\"Flight_Price\"],axis=1)\n",
    "y=df[\"Flight_Price\"]"
   ]
  },
  {
   "cell_type": "code",
   "execution_count": 21,
   "metadata": {},
   "outputs": [
    {
     "data": {
      "image/png": "[encoded data removed]",
      "text/plain": [
       "<Figure size 640x480 with 1 Axes>"
      ]
     },
     "metadata": {},
     "output_type": "display_data"
    }
   ],
   "source": [
    "from sklearn.feature_selection import mutual_info_regression\n",
    "\n",
    "# Perform feature selection using mutual information regression\n",
    "importance = mutual_info_regression(X, y)\n",
    "feature_impo = pd.Series(importance, index=X.columns)\n",
    "feature_impo.plot(kind=\"barh\", color=\"purple\")\n",
    "plt.show()\n"
   ]
  },
  {
   "cell_type": "code",
   "execution_count": 22,
   "metadata": {},
   "outputs": [
    {
     "ename": "NameError",
     "evalue": "name 'X_train' is not defined",
     "output_type": "error",
     "traceback": [
      "\u001b[1;31m---------------------------------------------------------------------------\u001b[0m",
      "\u001b[1;31mNameError\u001b[0m                                 Traceback (most recent call last)",
      "Cell \u001b[1;32mIn[22], line 5\u001b[0m\n\u001b[0;32m      2\u001b[0m columns_to_drop \u001b[38;5;241m=\u001b[39m [\u001b[38;5;124m'\u001b[39m\u001b[38;5;124mcolumn1\u001b[39m\u001b[38;5;124m'\u001b[39m, \u001b[38;5;124m'\u001b[39m\u001b[38;5;124mcolumn2\u001b[39m\u001b[38;5;124m'\u001b[39m, \u001b[38;5;124m'\u001b[39m\u001b[38;5;124mcolumn3\u001b[39m\u001b[38;5;124m'\u001b[39m]\n\u001b[0;32m      4\u001b[0m \u001b[38;5;66;03m# Drop the specified columns from X_train\u001b[39;00m\n\u001b[1;32m----> 5\u001b[0m X_train_processed \u001b[38;5;241m=\u001b[39m \u001b[43mX_train\u001b[49m\u001b[38;5;241m.\u001b[39mdrop(columns\u001b[38;5;241m=\u001b[39mcolumns_to_drop, axis\u001b[38;5;241m=\u001b[39m\u001b[38;5;241m1\u001b[39m)\n",
      "\u001b[1;31mNameError\u001b[0m: name 'X_train' is not defined"
     ]
    }
   ],
   "source": [
    "# Define a list of column names to drop\n",
    "columns_to_drop = ['column1', 'column2', 'column3']\n",
    "\n",
    "# Drop the specified columns from X_train\n",
    "X_train_processed = X_train.drop(columns=columns_to_drop, axis=1)\n"
   ]
  },
  {
   "cell_type": "code",
   "execution_count": null,
   "metadata": {},
   "outputs": [
    {
     "data": {
      "text/html": [
       "<div>\n",
       "<style scoped>\n",
       "    .dataframe tbody tr th:only-of-type {\n",
       "        vertical-align: middle;\n",
       "    }\n",
       "\n",
       "    .dataframe tbody tr th {\n",
       "        vertical-align: top;\n",
       "    }\n",
       "\n",
       "    .dataframe thead th {\n",
       "        text-align: right;\n",
       "    }\n",
       "</style>\n",
       "<table border=\"1\" class=\"dataframe\">\n",
       "  <thead>\n",
       "    <tr style=\"text-align: right;\">\n",
       "      <th></th>\n",
       "      <th>Flight_ID</th>\n",
       "      <th>Airline</th>\n",
       "      <th>Departure_City</th>\n",
       "      <th>Arrival_City</th>\n",
       "      <th>Distance</th>\n",
       "      <th>Departure_Time</th>\n",
       "      <th>Arrival_Time</th>\n",
       "      <th>Duration</th>\n",
       "      <th>Aircraft_Type</th>\n",
       "      <th>Number_of_Stops</th>\n",
       "      <th>Day_of_Week</th>\n",
       "      <th>Month_of_Travel</th>\n",
       "      <th>Holiday_Season</th>\n",
       "      <th>Demand</th>\n",
       "      <th>Weather_Conditions</th>\n",
       "      <th>Passenger_Count</th>\n",
       "      <th>Promotion_Type</th>\n",
       "      <th>Fuel_Price</th>\n",
       "    </tr>\n",
       "  </thead>\n",
       "  <tbody>\n",
       "    <tr>\n",
       "      <th>0</th>\n",
       "      <td>0</td>\n",
       "      <td>1</td>\n",
       "      <td>16378</td>\n",
       "      <td>5763</td>\n",
       "      <td>8286.0</td>\n",
       "      <td>1343</td>\n",
       "      <td>739</td>\n",
       "      <td>11.94</td>\n",
       "      <td>4</td>\n",
       "      <td>0</td>\n",
       "      <td>6</td>\n",
       "      <td>2</td>\n",
       "      <td>2</td>\n",
       "      <td>1</td>\n",
       "      <td>2</td>\n",
       "      <td>240</td>\n",
       "      <td>1</td>\n",
       "      <td>0.91</td>\n",
       "    </tr>\n",
       "    <tr>\n",
       "      <th>1</th>\n",
       "      <td>11111</td>\n",
       "      <td>2</td>\n",
       "      <td>9554</td>\n",
       "      <td>12751</td>\n",
       "      <td>2942.0</td>\n",
       "      <td>748</td>\n",
       "      <td>705</td>\n",
       "      <td>5.29</td>\n",
       "      <td>0</td>\n",
       "      <td>0</td>\n",
       "      <td>6</td>\n",
       "      <td>7</td>\n",
       "      <td>1</td>\n",
       "      <td>1</td>\n",
       "      <td>2</td>\n",
       "      <td>107</td>\n",
       "      <td>1</td>\n",
       "      <td>1.08</td>\n",
       "    </tr>\n",
       "    <tr>\n",
       "      <th>2</th>\n",
       "      <td>22222</td>\n",
       "      <td>1</td>\n",
       "      <td>18756</td>\n",
       "      <td>15392</td>\n",
       "      <td>2468.0</td>\n",
       "      <td>150</td>\n",
       "      <td>414</td>\n",
       "      <td>4.41</td>\n",
       "      <td>4</td>\n",
       "      <td>1</td>\n",
       "      <td>3</td>\n",
       "      <td>11</td>\n",
       "      <td>2</td>\n",
       "      <td>0</td>\n",
       "      <td>1</td>\n",
       "      <td>131</td>\n",
       "      <td>1</td>\n",
       "      <td>0.52</td>\n",
       "    </tr>\n",
       "    <tr>\n",
       "      <th>3</th>\n",
       "      <td>33333</td>\n",
       "      <td>0</td>\n",
       "      <td>1000</td>\n",
       "      <td>2425</td>\n",
       "      <td>3145.0</td>\n",
       "      <td>744</td>\n",
       "      <td>681</td>\n",
       "      <td>4.96</td>\n",
       "      <td>4</td>\n",
       "      <td>0</td>\n",
       "      <td>3</td>\n",
       "      <td>3</td>\n",
       "      <td>0</td>\n",
       "      <td>1</td>\n",
       "      <td>1</td>\n",
       "      <td>170</td>\n",
       "      <td>0</td>\n",
       "      <td>0.71</td>\n",
       "    </tr>\n",
       "    <tr>\n",
       "      <th>4</th>\n",
       "      <td>39445</td>\n",
       "      <td>1</td>\n",
       "      <td>10526</td>\n",
       "      <td>14858</td>\n",
       "      <td>5558.0</td>\n",
       "      <td>839</td>\n",
       "      <td>1204</td>\n",
       "      <td>8.09</td>\n",
       "      <td>2</td>\n",
       "      <td>1</td>\n",
       "      <td>4</td>\n",
       "      <td>4</td>\n",
       "      <td>1</td>\n",
       "      <td>1</td>\n",
       "      <td>0</td>\n",
       "      <td>181</td>\n",
       "      <td>1</td>\n",
       "      <td>1.09</td>\n",
       "    </tr>\n",
       "  </tbody>\n",
       "</table>\n",
       "</div>"
      ],
      "text/plain": [
       "   Flight_ID  Airline  Departure_City  Arrival_City  Distance  Departure_Time  \\\n",
       "0          0        1           16378          5763    8286.0            1343   \n",
       "1      11111        2            9554         12751    2942.0             748   \n",
       "2      22222        1           18756         15392    2468.0             150   \n",
       "3      33333        0            1000          2425    3145.0             744   \n",
       "4      39445        1           10526         14858    5558.0             839   \n",
       "\n",
       "   Arrival_Time  Duration  Aircraft_Type  Number_of_Stops  Day_of_Week  \\\n",
       "0           739     11.94              4                0            6   \n",
       "1           705      5.29              0                0            6   \n",
       "2           414      4.41              4                1            3   \n",
       "3           681      4.96              4                0            3   \n",
       "4          1204      8.09              2                1            4   \n",
       "\n",
       "   Month_of_Travel  Holiday_Season  Demand  Weather_Conditions  \\\n",
       "0                2               2       1                   2   \n",
       "1                7               1       1                   2   \n",
       "2               11               2       0                   1   \n",
       "3                3               0       1                   1   \n",
       "4                4               1       1                   0   \n",
       "\n",
       "   Passenger_Count  Promotion_Type  Fuel_Price  \n",
       "0              240               1        0.91  \n",
       "1              107               1        1.08  \n",
       "2              131               1        0.52  \n",
       "3              170               0        0.71  \n",
       "4              181               1        1.09  "
      ]
     },
     "execution_count": 22,
     "metadata": {},
     "output_type": "execute_result"
    }
   ],
   "source": [
    "X.head()"
   ]
  },
  {
   "cell_type": "code",
   "execution_count": null,
   "metadata": {},
   "outputs": [],
   "source": [
    "xtrain,xtest,ytrain,ytest=train_test_split(X,y,test_size=0.10,random_state=1)"
   ]
  },
  {
   "cell_type": "code",
   "execution_count": null,
   "metadata": {},
   "outputs": [
    {
     "name": "stdout",
     "output_type": "stream",
     "text": [
      "LinearRegression in process....\n",
      "Done fitting Trainning set.\n"
     ]
    }
   ],
   "source": [
    "from sklearn.pipeline import Pipeline\n",
    "LinearModel=Pipeline([(\"scaler\",StandardScaler()),(\"Regression\",LinearRegression())])\n",
    "Decision=Pipeline([(\"scaler\",StandardScaler()),(\"Regression\",DecisionTreeRegressor())])\n",
    "print(\"LinearRegression in process....\")\n",
    "Decision.fit(xtrain,ytrain)\n",
    "LinearModel.fit(xtrain,ytrain)\n",
    "print(\"Done fitting Trainning set.\")"
   ]
  },
  {
   "cell_type": "code",
   "execution_count": null,
   "metadata": {},
   "outputs": [
    {
     "data": {
      "text/plain": [
       "array([581.46, 549.81, 885.06, ..., 503.25, 513.16, 589.  ])"
      ]
     },
     "execution_count": 64,
     "metadata": {},
     "output_type": "execute_result"
    }
   ],
   "source": [
    "pred2=Decision.predict(xtest)\n",
    "pred2"
   ]
  },
  {
   "cell_type": "code",
   "execution_count": null,
   "metadata": {},
   "outputs": [
    {
     "name": "stdout",
     "output_type": "stream",
     "text": [
      "MAE 23.722708888888892\n",
      "MAPE 0.04316219148846358\n",
      "MSE 1083.1523050333335\n",
      "R2 SCORE 0.9571336037992119\n"
     ]
    }
   ],
   "source": [
    "print(\"MAE\",mean_absolute_error(ytest,pred2))\n",
    "print(\"MAPE\",mean_absolute_percentage_error(ytest,pred2))\n",
    "print(\"MSE\",mean_squared_error(ytest,pred2))\n",
    "print(\"R2 SCORE\",r2_score(ytest,pred2))"
   ]
  },
  {
   "cell_type": "code",
   "execution_count": null,
   "metadata": {},
   "outputs": [
    {
     "data": {
      "text/plain": [
       "array([670.03316477, 664.56811963, 735.37702429, ..., 469.64330989,\n",
       "       494.83604324, 700.47682166])"
      ]
     },
     "execution_count": 26,
     "metadata": {},
     "output_type": "execute_result"
    }
   ],
   "source": [
    "pred1=LinearModel.predict(xtest)\n",
    "pred1"
   ]
  },
  {
   "cell_type": "code",
   "execution_count": null,
   "metadata": {},
   "outputs": [
    {
     "name": "stdout",
     "output_type": "stream",
     "text": [
      "MAE 47.842564267339505\n",
      "MAPE 0.08588455416338191\n",
      "MSE 3622.0945130543923\n",
      "R2 SCORE 0.8566534569960482\n"
     ]
    }
   ],
   "source": [
    "print(\"MAE\",mean_absolute_error(ytest,pred1))\n",
    "print(\"MAPE\",mean_absolute_percentage_error(ytest,pred1))\n",
    "print(\"MSE\",mean_squared_error(ytest,pred1))\n",
    "print(\"R2 SCORE\",r2_score(ytest,pred1))"
   ]
  },
  {
   "cell_type": "code",
   "execution_count": null,
   "metadata": {},
   "outputs": [
    {
     "data": {
      "text/html": [
       "<div>\n",
       "<style scoped>\n",
       "    .dataframe tbody tr th:only-of-type {\n",
       "        vertical-align: middle;\n",
       "    }\n",
       "\n",
       "    .dataframe tbody tr th {\n",
       "        vertical-align: top;\n",
       "    }\n",
       "\n",
       "    .dataframe thead th {\n",
       "        text-align: right;\n",
       "    }\n",
       "</style>\n",
       "<table border=\"1\" class=\"dataframe\">\n",
       "  <thead>\n",
       "    <tr style=\"text-align: right;\">\n",
       "      <th></th>\n",
       "      <th>Flight_ID</th>\n",
       "      <th>Airline</th>\n",
       "      <th>Departure_City</th>\n",
       "      <th>Arrival_City</th>\n",
       "      <th>Distance</th>\n",
       "      <th>Departure_Time</th>\n",
       "      <th>Arrival_Time</th>\n",
       "      <th>Duration</th>\n",
       "      <th>Aircraft_Type</th>\n",
       "      <th>Number_of_Stops</th>\n",
       "      <th>Day_of_Week</th>\n",
       "      <th>Month_of_Travel</th>\n",
       "      <th>Holiday_Season</th>\n",
       "      <th>Demand</th>\n",
       "      <th>Weather_Conditions</th>\n",
       "      <th>Passenger_Count</th>\n",
       "      <th>Promotion_Type</th>\n",
       "      <th>Fuel_Price</th>\n",
       "    </tr>\n",
       "  </thead>\n",
       "  <tbody>\n",
       "    <tr>\n",
       "      <th>0</th>\n",
       "      <td>F45001</td>\n",
       "      <td>Airline B</td>\n",
       "      <td>Davidstad</td>\n",
       "      <td>Moorebury</td>\n",
       "      <td>3096.0</td>\n",
       "      <td>18:43</td>\n",
       "      <td>0:14</td>\n",
       "      <td>5.52</td>\n",
       "      <td>Boeing 737</td>\n",
       "      <td>1</td>\n",
       "      <td>Saturday</td>\n",
       "      <td>August</td>\n",
       "      <td>Summer</td>\n",
       "      <td>Medium</td>\n",
       "      <td>Clear</td>\n",
       "      <td>110</td>\n",
       "      <td>NaN</td>\n",
       "      <td>0.95</td>\n",
       "    </tr>\n",
       "    <tr>\n",
       "      <th>1</th>\n",
       "      <td>F45002</td>\n",
       "      <td>Airline A</td>\n",
       "      <td>Lake Tyler</td>\n",
       "      <td>Camachoberg</td>\n",
       "      <td>8760.0</td>\n",
       "      <td>1:16</td>\n",
       "      <td>13:04</td>\n",
       "      <td>11.80</td>\n",
       "      <td>Airbus A380</td>\n",
       "      <td>1</td>\n",
       "      <td>Thursday</td>\n",
       "      <td>April</td>\n",
       "      <td>NaN</td>\n",
       "      <td>High</td>\n",
       "      <td>Clear</td>\n",
       "      <td>295</td>\n",
       "      <td>Discount</td>\n",
       "      <td>1.05</td>\n",
       "    </tr>\n",
       "    <tr>\n",
       "      <th>2</th>\n",
       "      <td>F45003</td>\n",
       "      <td>Airline C</td>\n",
       "      <td>New Carol</td>\n",
       "      <td>West Ryanfurt</td>\n",
       "      <td>6365.0</td>\n",
       "      <td>12:17</td>\n",
       "      <td>21:52</td>\n",
       "      <td>9.59</td>\n",
       "      <td>Boeing 777</td>\n",
       "      <td>1</td>\n",
       "      <td>Sunday</td>\n",
       "      <td>January</td>\n",
       "      <td>NaN</td>\n",
       "      <td>Low</td>\n",
       "      <td>Rain</td>\n",
       "      <td>223</td>\n",
       "      <td>Discount</td>\n",
       "      <td>0.63</td>\n",
       "    </tr>\n",
       "    <tr>\n",
       "      <th>3</th>\n",
       "      <td>F45004</td>\n",
       "      <td>Airline A</td>\n",
       "      <td>Richardsonshire</td>\n",
       "      <td>Jordanburgh</td>\n",
       "      <td>7836.0</td>\n",
       "      <td>0:11</td>\n",
       "      <td>10:23</td>\n",
       "      <td>10.21</td>\n",
       "      <td>Airbus A380</td>\n",
       "      <td>0</td>\n",
       "      <td>Thursday</td>\n",
       "      <td>March</td>\n",
       "      <td>NaN</td>\n",
       "      <td>Low</td>\n",
       "      <td>Rain</td>\n",
       "      <td>223</td>\n",
       "      <td>NaN</td>\n",
       "      <td>0.88</td>\n",
       "    </tr>\n",
       "    <tr>\n",
       "      <th>4</th>\n",
       "      <td>F45005</td>\n",
       "      <td>Airline B</td>\n",
       "      <td>Tiffanytown</td>\n",
       "      <td>Morganstad</td>\n",
       "      <td>1129.0</td>\n",
       "      <td>3:22</td>\n",
       "      <td>5:13</td>\n",
       "      <td>1.86</td>\n",
       "      <td>Airbus A320</td>\n",
       "      <td>1</td>\n",
       "      <td>Saturday</td>\n",
       "      <td>August</td>\n",
       "      <td>Summer</td>\n",
       "      <td>High</td>\n",
       "      <td>Cloudy</td>\n",
       "      <td>145</td>\n",
       "      <td>Special Offer</td>\n",
       "      <td>1.11</td>\n",
       "    </tr>\n",
       "  </tbody>\n",
       "</table>\n",
       "</div>"
      ],
      "text/plain": [
       "  Flight_ID    Airline   Departure_City   Arrival_City  Distance  \\\n",
       "0    F45001  Airline B        Davidstad      Moorebury    3096.0   \n",
       "1    F45002  Airline A       Lake Tyler    Camachoberg    8760.0   \n",
       "2    F45003  Airline C        New Carol  West Ryanfurt    6365.0   \n",
       "3    F45004  Airline A  Richardsonshire    Jordanburgh    7836.0   \n",
       "4    F45005  Airline B      Tiffanytown     Morganstad    1129.0   \n",
       "\n",
       "  Departure_Time Arrival_Time  Duration Aircraft_Type  Number_of_Stops  \\\n",
       "0          18:43         0:14      5.52    Boeing 737                1   \n",
       "1           1:16        13:04     11.80   Airbus A380                1   \n",
       "2          12:17        21:52      9.59    Boeing 777                1   \n",
       "3           0:11        10:23     10.21   Airbus A380                0   \n",
       "4           3:22         5:13      1.86   Airbus A320                1   \n",
       "\n",
       "  Day_of_Week Month_of_Travel Holiday_Season  Demand Weather_Conditions  \\\n",
       "0    Saturday          August         Summer  Medium              Clear   \n",
       "1    Thursday           April            NaN    High              Clear   \n",
       "2      Sunday         January            NaN     Low               Rain   \n",
       "3    Thursday           March            NaN     Low               Rain   \n",
       "4    Saturday          August         Summer    High             Cloudy   \n",
       "\n",
       "   Passenger_Count Promotion_Type  Fuel_Price  \n",
       "0              110            NaN        0.95  \n",
       "1              295       Discount        1.05  \n",
       "2              223       Discount        0.63  \n",
       "3              223            NaN        0.88  \n",
       "4              145  Special Offer        1.11  "
      ]
     },
     "execution_count": 37,
     "metadata": {},
     "output_type": "execute_result"
    }
   ],
   "source": [
    "x_test=pd.read_csv(\"test.csv\")\n",
    "x_test.head()"
   ]
  },
  {
   "cell_type": "code",
   "execution_count": null,
   "metadata": {},
   "outputs": [
    {
     "data": {
      "text/plain": [
       "Flight_ID              0\n",
       "Airline                0\n",
       "Departure_City         0\n",
       "Arrival_City           0\n",
       "Distance               9\n",
       "Departure_Time         0\n",
       "Arrival_Time           0\n",
       "Duration               0\n",
       "Aircraft_Type          0\n",
       "Number_of_Stops        0\n",
       "Day_of_Week            0\n",
       "Month_of_Travel        0\n",
       "Holiday_Season         0\n",
       "Demand                 0\n",
       "Weather_Conditions     0\n",
       "Passenger_Count        0\n",
       "Promotion_Type         0\n",
       "Fuel_Price            10\n",
       "dtype: int64"
      ]
     },
     "execution_count": 45,
     "metadata": {},
     "output_type": "execute_result"
    }
   ],
   "source": [
    "x_test.isnull().sum()"
   ]
  },
  {
   "cell_type": "code",
   "execution_count": null,
   "metadata": {},
   "outputs": [
    {
     "data": {
      "text/plain": [
       "(5000, 18)"
      ]
     },
     "execution_count": 46,
     "metadata": {},
     "output_type": "execute_result"
    }
   ],
   "source": [
    "x_test.shape"
   ]
  },
  {
   "cell_type": "code",
   "execution_count": null,
   "metadata": {},
   "outputs": [],
   "source": [
    "x_test.dropna(inplace=True)"
   ]
  },
  {
   "cell_type": "code",
   "execution_count": null,
   "metadata": {},
   "outputs": [
    {
     "data": {
      "text/plain": [
       "Flight_ID             0\n",
       "Airline               0\n",
       "Departure_City        0\n",
       "Arrival_City          0\n",
       "Distance              0\n",
       "Departure_Time        0\n",
       "Arrival_Time          0\n",
       "Duration              0\n",
       "Aircraft_Type         0\n",
       "Number_of_Stops       0\n",
       "Day_of_Week           0\n",
       "Month_of_Travel       0\n",
       "Holiday_Season        0\n",
       "Demand                0\n",
       "Weather_Conditions    0\n",
       "Passenger_Count       0\n",
       "Promotion_Type        0\n",
       "Fuel_Price            0\n",
       "dtype: int64"
      ]
     },
     "execution_count": 48,
     "metadata": {},
     "output_type": "execute_result"
    }
   ],
   "source": [
    "x_test.isnull().sum()"
   ]
  },
  {
   "cell_type": "code",
   "execution_count": null,
   "metadata": {},
   "outputs": [],
   "source": []
  }
 ],
 "metadata": {
  "kernelspec": {
   "display_name": "Python 3",
   "language": "python",
   "name": "python3"
  },
  "language_info": {
   "codemirror_mode": {
    "name": "ipython",
    "version": 3
   },
   "file_extension": ".py",
   "mimetype": "text/x-python",
   "name": "python",
   "nbconvert_exporter": "python",
   "pygments_lexer": "ipython3",
   "version": "3.12.1"
  }
 },
 "nbformat": 4,
 "nbformat_minor": 2
}
