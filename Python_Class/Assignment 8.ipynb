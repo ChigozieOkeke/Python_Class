{
 "cells": [
  {
   "cell_type": "code",
   "execution_count": 1,
   "id": "10d748e7",
   "metadata": {},
   "outputs": [
    {
     "name": "stdout",
     "output_type": "stream",
     "text": [
      "<<<\n",
      "Area And Parameter Of A Rectangle\n",
      ">>>>\n",
      "1. Area Of A Rectangle\n",
      "2. Parameter Of A Rectangle\n",
      "3. Stopped\n",
      "\n",
      "select an option3\n",
      "Done\n"
     ]
    }
   ],
   "source": [
    "class Rectangle:\n",
    "    def __init__(self,width,height):\n",
    "        self.width=width\n",
    "        self.height=height\n",
    "    def area(self):\n",
    "        return self.width * self.height\n",
    "    def parameter(self):\n",
    "        return 2*(self.width + self.height)\n",
    "rect=Rectangle(5,4) \n",
    "## main function\n",
    "def main():\n",
    "    rect=Rectangle(5,4)\n",
    "    while True:\n",
    "        print(\"<<<\\nArea And Parameter Of A Rectangle\\n>>>>\")\n",
    "        print(\"1. Area Of A Rectangle\")\n",
    "        print(\"2. Parameter Of A Rectangle\")\n",
    "        print(\"3. Stopped\")\n",
    "        choice=input(\"\\nselect an option\")\n",
    "        if choice == \"1\":\n",
    "            rect.area()\n",
    "        elif choice == \"2\":\n",
    "            rect.parameter()\n",
    "        elif choice == \"3\":\n",
    "            print(\"Done\")\n",
    "            break\n",
    "        else:\n",
    "            print(\"<<< INVALID OPTION >>>!!!.\")\n",
    "if __name__==\"__main__\":\n",
    "    main()"
   ]
  },
  {
   "cell_type": "code",
   "execution_count": 28,
   "id": "13c82b26",
   "metadata": {},
   "outputs": [
    {
     "name": "stdout",
     "output_type": "stream",
     "text": [
      "<<<< WELCOME >>>>\n",
      "<<<< YOUR MERCEDES BENZ IS ON>>>>\n",
      "ENGINE CHECK IS ON\n",
      "1. Gear Selection\n",
      "2. Acceralation\n",
      "3. Stopped\n",
      "\n",
      "select an option2\n",
      "CHOOSE OPTION [ON,OFF]OFF\n",
      "Nitro In Safe Mode\n",
      "<<<< WELCOME >>>>\n",
      "<<<< YOUR MERCEDES BENZ IS ON>>>>\n",
      "ENGINE CHECK IS ON\n",
      "1. Gear Selection\n",
      "2. Acceralation\n",
      "3. Stopped\n",
      "\n",
      "select an option3\n",
      "<<<< YOUR MERCEDES BENZ IS OFF >>>>\n",
      "<<<< GOOD BYE >>>>\n"
     ]
    }
   ],
   "source": [
    "class car:\n",
    "    def __init__(self,brand, model,color,year,speed):\n",
    "        self.brand=brand\n",
    "        self.model=model\n",
    "        self.color=color\n",
    "        self.year=year\n",
    "        self.speed=speed\n",
    "    def start():\n",
    "        print(f\"{self.brand}{self.model} has started\")\n",
    "    def gear(self):\n",
    "        option=input(\"choose gear option with [1,2,3,4,5,R]\")\n",
    "        if option == \"1\":\n",
    "            print(f\"Gear selection has been changed one{self.model}\")\n",
    "        elif option == \"2\":\n",
    "            print(f\"Gear selection has been changed Two{self.model}\")\n",
    "        elif option == \"3\":\n",
    "            print(f\"Gear selection has been changed Three{self.model}\")\n",
    "        elif option == \"4\":\n",
    "            print(f\"Gear selection has been changed Four{self.model}\")\n",
    "        elif option == \"5\":\n",
    "            print(f\"Gear selection has been changed Five`{self.model}\") \n",
    "        elif option == \"R\":\n",
    "            print(\"Reverse\")\n",
    "    def acceralation(self):\n",
    "        option=input(\"CHOOSE OPTION [ON,OFF]\")\n",
    "        if option == \"ON\":\n",
    "            print(\"Nitro Engaged!!!\")\n",
    "        elif option == \"OFF\":\n",
    "            print(\"Nitro In Safe Mode\")                  \n",
    "    def stop(self):\n",
    "        print (\"Engine OFF\")\n",
    "car1=car(\"MERCEDES BENZ\", \"AMG\",\"BLACK\",2022,\"300mph\")\n",
    "## Main function\n",
    "def main():\n",
    "    car1=car(\"MERCEDES BENZ\", \"AMG\",\"BLACK\",2022,\"300mph\")\n",
    "    while True:\n",
    "        print(\"<<<< WELCOME >>>>\\n<<<< YOUR MERCEDES BENZ IS ON>>>>\\nENGINE CHECK IS ON\")\n",
    "        print(\"1. Gear Selection\")\n",
    "        print(\"2. Acceralation\")\n",
    "        print(\"3. Stopped\")\n",
    "        choice=input(\"\\nselect an option\")\n",
    "        if choice == \"1\":\n",
    "            car1.gear()\n",
    "        elif choice == \"2\":\n",
    "            car1.acceralation()\n",
    "        elif choice == \"3\":\n",
    "            print(\"<<<< YOUR MERCEDES BENZ IS OFF >>>>\\n<<<< GOOD BYE >>>>\")\n",
    "            break\n",
    "        else:\n",
    "            print(\"INVALID KEY SELECTION !!!.\")\n",
    "if __name__==\"__main__\":\n",
    "    main()"
   ]
  },
  {
   "cell_type": "code",
   "execution_count": null,
   "id": "2b850d69",
   "metadata": {},
   "outputs": [],
   "source": []
  }
 ],
 "metadata": {
  "kernelspec": {
   "display_name": "Python 3 (ipykernel)",
   "language": "python",
   "name": "python3"
  },
  "language_info": {
   "codemirror_mode": {
    "name": "ipython",
    "version": 3
   },
   "file_extension": ".py",
   "mimetype": "text/x-python",
   "name": "python",
   "nbconvert_exporter": "python",
   "pygments_lexer": "ipython3",
   "version": "3.11.5"
  }
 },
 "nbformat": 4,
 "nbformat_minor": 5
}
