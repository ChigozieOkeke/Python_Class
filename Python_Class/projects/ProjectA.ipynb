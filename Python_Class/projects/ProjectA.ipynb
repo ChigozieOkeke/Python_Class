{
 "cells": [
  {
   "cell_type": "markdown",
   "metadata": {},
   "source": [
    "# Importing Libraries "
   ]
  },
  {
   "cell_type": "code",
   "execution_count": 1,
   "metadata": {},
   "outputs": [],
   "source": [
    "import numpy as np\n",
    "import pandas as pd\n",
    "import matplotlib.pyplot as plt\n",
    "import seaborn as sns\n",
    "import plotly.express as px \n",
    "from sklearn.neighbors import KNeighborsClassifier\n",
    "from sklearn.feature_selection import mutual_info_classif\n",
    "from sklearn.model_selection import train_test_split\n",
    "from sklearn.linear_model import LinearRegression,Lasso,Ridge,ElasticNet,LogisticRegression\n",
    "from sklearn.preprocessing import StandardScaler, LabelEncoder\n",
    "from sklearn.tree import DecisionTreeRegressor,DecisionTreeClassifier\n",
    "from sklearn.naive_bayes import GaussianNB\n",
    "from sklearn.pipeline import Pipeline\n",
    "from sklearn.svm import SVR,SVC\n",
    "from sklearn.ensemble import RandomForestRegressor,RandomForestClassifier\n",
    "from sklearn.neural_network import MLPRegressor\n",
    "from sklearn.metrics import r2_score,mean_squared_error,confusion_matrix,mean_absolute_error,mean_absolute_percentage_error"
   ]
  },
  {
   "cell_type": "markdown",
   "metadata": {},
   "source": [
    "# Loading the dataset"
   ]
  },
  {
   "cell_type": "code",
   "execution_count": 2,
   "metadata": {},
   "outputs": [
    {
     "data": {
      "text/html": [
       "<div>\n",
       "<style scoped>\n",
       "    .dataframe tbody tr th:only-of-type {\n",
       "        vertical-align: middle;\n",
       "    }\n",
       "\n",
       "    .dataframe tbody tr th {\n",
       "        vertical-align: top;\n",
       "    }\n",
       "\n",
       "    .dataframe thead th {\n",
       "        text-align: right;\n",
       "    }\n",
       "</style>\n",
       "<table border=\"1\" class=\"dataframe\">\n",
       "  <thead>\n",
       "    <tr style=\"text-align: right;\">\n",
       "      <th></th>\n",
       "      <th>Phone Name</th>\n",
       "      <th>Rating ?/5</th>\n",
       "      <th>Number of Ratings</th>\n",
       "      <th>RAM</th>\n",
       "      <th>ROM/Storage</th>\n",
       "      <th>Back/Rare Camera</th>\n",
       "      <th>Front Camera</th>\n",
       "      <th>Battery</th>\n",
       "      <th>Processor</th>\n",
       "      <th>Price in INR</th>\n",
       "      <th>Date of Scraping</th>\n",
       "    </tr>\n",
       "  </thead>\n",
       "  <tbody>\n",
       "    <tr>\n",
       "      <th>0</th>\n",
       "      <td>POCO C50 (Royal Blue, 32 GB)</td>\n",
       "      <td>4.2</td>\n",
       "      <td>33,561</td>\n",
       "      <td>2 GB RAM</td>\n",
       "      <td>32 GB ROM</td>\n",
       "      <td>8MP Dual Camera</td>\n",
       "      <td>5MP Front Camera</td>\n",
       "      <td>5000 mAh</td>\n",
       "      <td>Mediatek Helio A22 Processor, Upto 2.0 GHz Pro...</td>\n",
       "      <td>₹5,649</td>\n",
       "      <td>2023-06-17</td>\n",
       "    </tr>\n",
       "    <tr>\n",
       "      <th>1</th>\n",
       "      <td>POCO M4 5G (Cool Blue, 64 GB)</td>\n",
       "      <td>4.2</td>\n",
       "      <td>77,128</td>\n",
       "      <td>4 GB RAM</td>\n",
       "      <td>64 GB ROM</td>\n",
       "      <td>50MP + 2MP</td>\n",
       "      <td>8MP Front Camera</td>\n",
       "      <td>5000 mAh</td>\n",
       "      <td>Mediatek Dimensity 700 Processor</td>\n",
       "      <td>₹11,999</td>\n",
       "      <td>2023-06-17</td>\n",
       "    </tr>\n",
       "    <tr>\n",
       "      <th>2</th>\n",
       "      <td>POCO C51 (Royal Blue, 64 GB)</td>\n",
       "      <td>4.3</td>\n",
       "      <td>15,175</td>\n",
       "      <td>4 GB RAM</td>\n",
       "      <td>64 GB ROM</td>\n",
       "      <td>8MP Dual Rear Camera</td>\n",
       "      <td>5MP Front Camera</td>\n",
       "      <td>5000 mAh</td>\n",
       "      <td>Helio G36 Processor</td>\n",
       "      <td>₹6,999</td>\n",
       "      <td>2023-06-17</td>\n",
       "    </tr>\n",
       "    <tr>\n",
       "      <th>3</th>\n",
       "      <td>POCO C55 (Cool Blue, 64 GB)</td>\n",
       "      <td>4.2</td>\n",
       "      <td>22,621</td>\n",
       "      <td>4 GB RAM</td>\n",
       "      <td>64 GB ROM</td>\n",
       "      <td>50MP Dual Rear Camera</td>\n",
       "      <td>5MP Front Camera</td>\n",
       "      <td>5000 mAh</td>\n",
       "      <td>Mediatek Helio G85 Processor</td>\n",
       "      <td>₹7,749</td>\n",
       "      <td>2023-06-17</td>\n",
       "    </tr>\n",
       "    <tr>\n",
       "      <th>4</th>\n",
       "      <td>POCO C51 (Power Black, 64 GB)</td>\n",
       "      <td>4.3</td>\n",
       "      <td>15,175</td>\n",
       "      <td>4 GB RAM</td>\n",
       "      <td>64 GB ROM</td>\n",
       "      <td>8MP Dual Rear Camera</td>\n",
       "      <td>5MP Front Camera</td>\n",
       "      <td>5000 mAh</td>\n",
       "      <td>Helio G36 Processor</td>\n",
       "      <td>₹6,999</td>\n",
       "      <td>2023-06-17</td>\n",
       "    </tr>\n",
       "  </tbody>\n",
       "</table>\n",
       "</div>"
      ],
      "text/plain": [
       "                      Phone Name  Rating ?/5 Number of Ratings       RAM  \\\n",
       "0   POCO C50 (Royal Blue, 32 GB)         4.2            33,561  2 GB RAM   \n",
       "1  POCO M4 5G (Cool Blue, 64 GB)         4.2            77,128  4 GB RAM   \n",
       "2   POCO C51 (Royal Blue, 64 GB)         4.3            15,175  4 GB RAM   \n",
       "3    POCO C55 (Cool Blue, 64 GB)         4.2            22,621  4 GB RAM   \n",
       "4  POCO C51 (Power Black, 64 GB)         4.3            15,175  4 GB RAM   \n",
       "\n",
       "  ROM/Storage       Back/Rare Camera      Front Camera   Battery  \\\n",
       "0   32 GB ROM        8MP Dual Camera  5MP Front Camera  5000 mAh   \n",
       "1   64 GB ROM             50MP + 2MP  8MP Front Camera  5000 mAh   \n",
       "2   64 GB ROM   8MP Dual Rear Camera  5MP Front Camera  5000 mAh   \n",
       "3   64 GB ROM  50MP Dual Rear Camera  5MP Front Camera  5000 mAh   \n",
       "4   64 GB ROM   8MP Dual Rear Camera  5MP Front Camera  5000 mAh   \n",
       "\n",
       "                                           Processor Price in INR  \\\n",
       "0  Mediatek Helio A22 Processor, Upto 2.0 GHz Pro...       ₹5,649   \n",
       "1                   Mediatek Dimensity 700 Processor      ₹11,999   \n",
       "2                                Helio G36 Processor       ₹6,999   \n",
       "3                       Mediatek Helio G85 Processor       ₹7,749   \n",
       "4                                Helio G36 Processor       ₹6,999   \n",
       "\n",
       "  Date of Scraping  \n",
       "0       2023-06-17  \n",
       "1       2023-06-17  \n",
       "2       2023-06-17  \n",
       "3       2023-06-17  \n",
       "4       2023-06-17  "
      ]
     },
     "execution_count": 2,
     "metadata": {},
     "output_type": "execute_result"
    }
   ],
   "source": [
    "df=pd.read_csv(\"File_mobile_prices_2023.csv\")\n",
    "df.head()"
   ]
  },
  {
   "cell_type": "markdown",
   "metadata": {},
   "source": [
    "  # DATA PREPARATION"
   ]
  },
  {
   "cell_type": "markdown",
   "metadata": {},
   "source": [
    "1 Checking for the missing values"
   ]
  },
  {
   "cell_type": "code",
   "execution_count": 3,
   "metadata": {},
   "outputs": [
    {
     "data": {
      "text/plain": [
       "Phone Name             0\n",
       "Rating ?/5             0\n",
       "Number of Ratings      0\n",
       "RAM                    0\n",
       "ROM/Storage          174\n",
       "Back/Rare Camera       9\n",
       "Front Camera         401\n",
       "Battery               10\n",
       "Processor             55\n",
       "Price in INR           0\n",
       "Date of Scraping       0\n",
       "dtype: int64"
      ]
     },
     "execution_count": 3,
     "metadata": {},
     "output_type": "execute_result"
    }
   ],
   "source": [
    "df.isnull().sum()"
   ]
  },
  {
   "cell_type": "markdown",
   "metadata": {},
   "source": [
    "# 2 Check for the number of Columns and Rows"
   ]
  },
  {
   "cell_type": "markdown",
   "metadata": {},
   "source": [
    "This is to Know if the missing values have a significant effect on the dataset"
   ]
  },
  {
   "cell_type": "code",
   "execution_count": 4,
   "metadata": {},
   "outputs": [
    {
     "data": {
      "text/plain": [
       "(1836, 11)"
      ]
     },
     "execution_count": 4,
     "metadata": {},
     "output_type": "execute_result"
    }
   ],
   "source": [
    "df.shape"
   ]
  },
  {
   "cell_type": "markdown",
   "metadata": {},
   "source": [
    "df.info() will help us to know if the values are of numerical or object and also if datatype of date"
   ]
  },
  {
   "cell_type": "code",
   "execution_count": 5,
   "metadata": {},
   "outputs": [
    {
     "name": "stdout",
     "output_type": "stream",
     "text": [
      "<class 'pandas.core.frame.DataFrame'>\n",
      "RangeIndex: 1836 entries, 0 to 1835\n",
      "Data columns (total 11 columns):\n",
      " #   Column             Non-Null Count  Dtype  \n",
      "---  ------             --------------  -----  \n",
      " 0   Phone Name         1836 non-null   object \n",
      " 1   Rating ?/5         1836 non-null   float64\n",
      " 2   Number of Ratings  1836 non-null   object \n",
      " 3   RAM                1836 non-null   object \n",
      " 4   ROM/Storage        1662 non-null   object \n",
      " 5   Back/Rare Camera   1827 non-null   object \n",
      " 6   Front Camera       1435 non-null   object \n",
      " 7   Battery            1826 non-null   object \n",
      " 8   Processor          1781 non-null   object \n",
      " 9   Price in INR       1836 non-null   object \n",
      " 10  Date of Scraping   1836 non-null   object \n",
      "dtypes: float64(1), object(10)\n",
      "memory usage: 157.9+ KB\n"
     ]
    }
   ],
   "source": [
    "df.info()"
   ]
  },
  {
   "cell_type": "markdown",
   "metadata": {},
   "source": [
    "# Dropping or Filling the columns of the missing values first\n",
    "\n",
    "Though the Missing Values has no significant on the dataset \n",
    "# However i would fill the missing values rather than dropping it.\n",
    "\n",
    "# Filling the missing values using mode because it's a categorical value"
   ]
  },
  {
   "cell_type": "code",
   "execution_count": 6,
   "metadata": {},
   "outputs": [
    {
     "name": "stderr",
     "output_type": "stream",
     "text": [
      "C:\\Users\\hdwipe\\AppData\\Local\\Temp\\ipykernel_13152\\2313805261.py:3: FutureWarning: A value is trying to be set on a copy of a DataFrame or Series through chained assignment using an inplace method.\n",
      "The behavior will change in pandas 3.0. This inplace method will never work because the intermediate object on which we are setting values always behaves as a copy.\n",
      "\n",
      "For example, when doing 'df[col].method(value, inplace=True)', try using 'df.method({col: value}, inplace=True)' or df[col] = df[col].method(value) instead, to perform the operation inplace on the original object.\n",
      "\n",
      "\n",
      "  df[x].fillna(df[x].mode()[0],inplace=True)\n"
     ]
    },
    {
     "data": {
      "text/plain": [
       "Phone Name           0\n",
       "Rating ?/5           0\n",
       "Number of Ratings    0\n",
       "RAM                  0\n",
       "ROM/Storage          0\n",
       "Back/Rare Camera     0\n",
       "Front Camera         0\n",
       "Battery              0\n",
       "Processor            0\n",
       "Price in INR         0\n",
       "Date of Scraping     0\n",
       "dtype: int64"
      ]
     },
     "execution_count": 6,
     "metadata": {},
     "output_type": "execute_result"
    }
   ],
   "source": [
    "categorical_df=df.select_dtypes(include=[\"object\",\"category\"])\n",
    "for x in categorical_df:\n",
    "    df[x].fillna(df[x].mode()[0],inplace=True)\n",
    "df.isnull().sum()    "
   ]
  },
  {
   "cell_type": "markdown",
   "metadata": {},
   "source": [
    "# Removing Puntuation Marks or Symbols From the Columns in the Dataset"
   ]
  },
  {
   "cell_type": "code",
   "execution_count": 7,
   "metadata": {},
   "outputs": [
    {
     "name": "stdout",
     "output_type": "stream",
     "text": [
      "<class 'pandas.core.frame.DataFrame'>\n",
      "RangeIndex: 1836 entries, 0 to 1835\n",
      "Data columns (total 11 columns):\n",
      " #   Column             Non-Null Count  Dtype  \n",
      "---  ------             --------------  -----  \n",
      " 0   Phone Name         1836 non-null   object \n",
      " 1   Rating ?/5         1836 non-null   float64\n",
      " 2   Number of Ratings  1836 non-null   object \n",
      " 3   RAM                1836 non-null   object \n",
      " 4   ROM/Storage        1836 non-null   object \n",
      " 5   Back/Rare Camera   1836 non-null   object \n",
      " 6   Front Camera       1836 non-null   object \n",
      " 7   Battery            1836 non-null   object \n",
      " 8   Processor          1836 non-null   object \n",
      " 9   Price in INR       1836 non-null   object \n",
      " 10  Date of Scraping   1836 non-null   object \n",
      "dtypes: float64(1), object(10)\n",
      "memory usage: 157.9+ KB\n"
     ]
    }
   ],
   "source": [
    "df[\"Phone Name\"]= df[\"Phone Name\"].str.replace(\",\",\"\")\n",
    "df.info()\n",
    "## it means \",\",\"\" \"\" means replace those coma with empty space "
   ]
  },
  {
   "cell_type": "code",
   "execution_count": 8,
   "metadata": {},
   "outputs": [
    {
     "data": {
      "text/html": [
       "<div>\n",
       "<style scoped>\n",
       "    .dataframe tbody tr th:only-of-type {\n",
       "        vertical-align: middle;\n",
       "    }\n",
       "\n",
       "    .dataframe tbody tr th {\n",
       "        vertical-align: top;\n",
       "    }\n",
       "\n",
       "    .dataframe thead th {\n",
       "        text-align: right;\n",
       "    }\n",
       "</style>\n",
       "<table border=\"1\" class=\"dataframe\">\n",
       "  <thead>\n",
       "    <tr style=\"text-align: right;\">\n",
       "      <th></th>\n",
       "      <th>Phone Name</th>\n",
       "      <th>Rating ?/5</th>\n",
       "      <th>Number of Ratings</th>\n",
       "      <th>RAM</th>\n",
       "      <th>ROM/Storage</th>\n",
       "      <th>Back/Rare Camera</th>\n",
       "      <th>Front Camera</th>\n",
       "      <th>Battery</th>\n",
       "      <th>Processor</th>\n",
       "      <th>Price in INR</th>\n",
       "      <th>Date of Scraping</th>\n",
       "    </tr>\n",
       "  </thead>\n",
       "  <tbody>\n",
       "    <tr>\n",
       "      <th>0</th>\n",
       "      <td>POCO C50 (Royal Blue 32 GB)</td>\n",
       "      <td>4.2</td>\n",
       "      <td>33561</td>\n",
       "      <td>2 GB RAM</td>\n",
       "      <td>32 GB ROM</td>\n",
       "      <td>8MP Dual Camera</td>\n",
       "      <td>5MP Front Camera</td>\n",
       "      <td>5000 mAh</td>\n",
       "      <td>Mediatek Helio A22 Processor, Upto 2.0 GHz Pro...</td>\n",
       "      <td>₹5,649</td>\n",
       "      <td>2023-06-17</td>\n",
       "    </tr>\n",
       "    <tr>\n",
       "      <th>1</th>\n",
       "      <td>POCO M4 5G (Cool Blue 64 GB)</td>\n",
       "      <td>4.2</td>\n",
       "      <td>77128</td>\n",
       "      <td>4 GB RAM</td>\n",
       "      <td>64 GB ROM</td>\n",
       "      <td>50MP + 2MP</td>\n",
       "      <td>8MP Front Camera</td>\n",
       "      <td>5000 mAh</td>\n",
       "      <td>Mediatek Dimensity 700 Processor</td>\n",
       "      <td>₹11,999</td>\n",
       "      <td>2023-06-17</td>\n",
       "    </tr>\n",
       "  </tbody>\n",
       "</table>\n",
       "</div>"
      ],
      "text/plain": [
       "                     Phone Name  Rating ?/5 Number of Ratings       RAM  \\\n",
       "0   POCO C50 (Royal Blue 32 GB)         4.2             33561  2 GB RAM   \n",
       "1  POCO M4 5G (Cool Blue 64 GB)         4.2             77128  4 GB RAM   \n",
       "\n",
       "  ROM/Storage Back/Rare Camera      Front Camera   Battery  \\\n",
       "0   32 GB ROM  8MP Dual Camera  5MP Front Camera  5000 mAh   \n",
       "1   64 GB ROM       50MP + 2MP  8MP Front Camera  5000 mAh   \n",
       "\n",
       "                                           Processor Price in INR  \\\n",
       "0  Mediatek Helio A22 Processor, Upto 2.0 GHz Pro...       ₹5,649   \n",
       "1                   Mediatek Dimensity 700 Processor      ₹11,999   \n",
       "\n",
       "  Date of Scraping  \n",
       "0       2023-06-17  \n",
       "1       2023-06-17  "
      ]
     },
     "execution_count": 8,
     "metadata": {},
     "output_type": "execute_result"
    }
   ],
   "source": [
    "df[\"Number of Ratings\"]= df[\"Number of Ratings\"].str.replace(\",\",\"\")\n",
    "df.head(2)"
   ]
  },
  {
   "cell_type": "code",
   "execution_count": 9,
   "metadata": {},
   "outputs": [
    {
     "data": {
      "text/html": [
       "<div>\n",
       "<style scoped>\n",
       "    .dataframe tbody tr th:only-of-type {\n",
       "        vertical-align: middle;\n",
       "    }\n",
       "\n",
       "    .dataframe tbody tr th {\n",
       "        vertical-align: top;\n",
       "    }\n",
       "\n",
       "    .dataframe thead th {\n",
       "        text-align: right;\n",
       "    }\n",
       "</style>\n",
       "<table border=\"1\" class=\"dataframe\">\n",
       "  <thead>\n",
       "    <tr style=\"text-align: right;\">\n",
       "      <th></th>\n",
       "      <th>Phone Name</th>\n",
       "      <th>Rating ?/5</th>\n",
       "      <th>Number of Ratings</th>\n",
       "      <th>RAM</th>\n",
       "      <th>ROM/Storage</th>\n",
       "      <th>Back/Rare Camera</th>\n",
       "      <th>Front Camera</th>\n",
       "      <th>Battery</th>\n",
       "      <th>Processor</th>\n",
       "      <th>Price in INR</th>\n",
       "      <th>Date of Scraping</th>\n",
       "    </tr>\n",
       "  </thead>\n",
       "  <tbody>\n",
       "    <tr>\n",
       "      <th>0</th>\n",
       "      <td>POCO C50 Royal Blue 32 GB)</td>\n",
       "      <td>4.2</td>\n",
       "      <td>33561</td>\n",
       "      <td>2 GB RAM</td>\n",
       "      <td>32 GB ROM</td>\n",
       "      <td>8MP Dual Camera</td>\n",
       "      <td>5MP Front Camera</td>\n",
       "      <td>5000 mAh</td>\n",
       "      <td>Mediatek Helio A22 Processor, Upto 2.0 GHz Pro...</td>\n",
       "      <td>₹5,649</td>\n",
       "      <td>2023-06-17</td>\n",
       "    </tr>\n",
       "    <tr>\n",
       "      <th>1</th>\n",
       "      <td>POCO M4 5G Cool Blue 64 GB)</td>\n",
       "      <td>4.2</td>\n",
       "      <td>77128</td>\n",
       "      <td>4 GB RAM</td>\n",
       "      <td>64 GB ROM</td>\n",
       "      <td>50MP + 2MP</td>\n",
       "      <td>8MP Front Camera</td>\n",
       "      <td>5000 mAh</td>\n",
       "      <td>Mediatek Dimensity 700 Processor</td>\n",
       "      <td>₹11,999</td>\n",
       "      <td>2023-06-17</td>\n",
       "    </tr>\n",
       "  </tbody>\n",
       "</table>\n",
       "</div>"
      ],
      "text/plain": [
       "                    Phone Name  Rating ?/5 Number of Ratings       RAM  \\\n",
       "0   POCO C50 Royal Blue 32 GB)         4.2             33561  2 GB RAM   \n",
       "1  POCO M4 5G Cool Blue 64 GB)         4.2             77128  4 GB RAM   \n",
       "\n",
       "  ROM/Storage Back/Rare Camera      Front Camera   Battery  \\\n",
       "0   32 GB ROM  8MP Dual Camera  5MP Front Camera  5000 mAh   \n",
       "1   64 GB ROM       50MP + 2MP  8MP Front Camera  5000 mAh   \n",
       "\n",
       "                                           Processor Price in INR  \\\n",
       "0  Mediatek Helio A22 Processor, Upto 2.0 GHz Pro...       ₹5,649   \n",
       "1                   Mediatek Dimensity 700 Processor      ₹11,999   \n",
       "\n",
       "  Date of Scraping  \n",
       "0       2023-06-17  \n",
       "1       2023-06-17  "
      ]
     },
     "execution_count": 9,
     "metadata": {},
     "output_type": "execute_result"
    }
   ],
   "source": [
    "df[\"Phone Name\"]= df[\"Phone Name\"].str.replace(\"(\",\"\")\n",
    "df.head(2)"
   ]
  },
  {
   "cell_type": "code",
   "execution_count": 10,
   "metadata": {},
   "outputs": [
    {
     "data": {
      "text/html": [
       "<div>\n",
       "<style scoped>\n",
       "    .dataframe tbody tr th:only-of-type {\n",
       "        vertical-align: middle;\n",
       "    }\n",
       "\n",
       "    .dataframe tbody tr th {\n",
       "        vertical-align: top;\n",
       "    }\n",
       "\n",
       "    .dataframe thead th {\n",
       "        text-align: right;\n",
       "    }\n",
       "</style>\n",
       "<table border=\"1\" class=\"dataframe\">\n",
       "  <thead>\n",
       "    <tr style=\"text-align: right;\">\n",
       "      <th></th>\n",
       "      <th>Phone Name</th>\n",
       "      <th>Rating ?/5</th>\n",
       "      <th>Number of Ratings</th>\n",
       "      <th>RAM</th>\n",
       "      <th>ROM/Storage</th>\n",
       "      <th>Back/Rare Camera</th>\n",
       "      <th>Front Camera</th>\n",
       "      <th>Battery</th>\n",
       "      <th>Processor</th>\n",
       "      <th>Price in INR</th>\n",
       "      <th>Date of Scraping</th>\n",
       "    </tr>\n",
       "  </thead>\n",
       "  <tbody>\n",
       "    <tr>\n",
       "      <th>0</th>\n",
       "      <td>POCO C50 Royal Blue 32 GB</td>\n",
       "      <td>4.2</td>\n",
       "      <td>33561</td>\n",
       "      <td>2 GB RAM</td>\n",
       "      <td>32 GB ROM</td>\n",
       "      <td>8MP Dual Camera</td>\n",
       "      <td>5MP Front Camera</td>\n",
       "      <td>5000 mAh</td>\n",
       "      <td>Mediatek Helio A22 Processor, Upto 2.0 GHz Pro...</td>\n",
       "      <td>₹5,649</td>\n",
       "      <td>2023-06-17</td>\n",
       "    </tr>\n",
       "    <tr>\n",
       "      <th>1</th>\n",
       "      <td>POCO M4 5G Cool Blue 64 GB</td>\n",
       "      <td>4.2</td>\n",
       "      <td>77128</td>\n",
       "      <td>4 GB RAM</td>\n",
       "      <td>64 GB ROM</td>\n",
       "      <td>50MP + 2MP</td>\n",
       "      <td>8MP Front Camera</td>\n",
       "      <td>5000 mAh</td>\n",
       "      <td>Mediatek Dimensity 700 Processor</td>\n",
       "      <td>₹11,999</td>\n",
       "      <td>2023-06-17</td>\n",
       "    </tr>\n",
       "  </tbody>\n",
       "</table>\n",
       "</div>"
      ],
      "text/plain": [
       "                   Phone Name  Rating ?/5 Number of Ratings       RAM  \\\n",
       "0   POCO C50 Royal Blue 32 GB         4.2             33561  2 GB RAM   \n",
       "1  POCO M4 5G Cool Blue 64 GB         4.2             77128  4 GB RAM   \n",
       "\n",
       "  ROM/Storage Back/Rare Camera      Front Camera   Battery  \\\n",
       "0   32 GB ROM  8MP Dual Camera  5MP Front Camera  5000 mAh   \n",
       "1   64 GB ROM       50MP + 2MP  8MP Front Camera  5000 mAh   \n",
       "\n",
       "                                           Processor Price in INR  \\\n",
       "0  Mediatek Helio A22 Processor, Upto 2.0 GHz Pro...       ₹5,649   \n",
       "1                   Mediatek Dimensity 700 Processor      ₹11,999   \n",
       "\n",
       "  Date of Scraping  \n",
       "0       2023-06-17  \n",
       "1       2023-06-17  "
      ]
     },
     "execution_count": 10,
     "metadata": {},
     "output_type": "execute_result"
    }
   ],
   "source": [
    "df[\"Phone Name\"]= df[\"Phone Name\"].str.replace(\")\",\"\")\n",
    "df.head(2)"
   ]
  },
  {
   "cell_type": "code",
   "execution_count": 11,
   "metadata": {},
   "outputs": [
    {
     "data": {
      "text/html": [
       "<div>\n",
       "<style scoped>\n",
       "    .dataframe tbody tr th:only-of-type {\n",
       "        vertical-align: middle;\n",
       "    }\n",
       "\n",
       "    .dataframe tbody tr th {\n",
       "        vertical-align: top;\n",
       "    }\n",
       "\n",
       "    .dataframe thead th {\n",
       "        text-align: right;\n",
       "    }\n",
       "</style>\n",
       "<table border=\"1\" class=\"dataframe\">\n",
       "  <thead>\n",
       "    <tr style=\"text-align: right;\">\n",
       "      <th></th>\n",
       "      <th>Phone Name</th>\n",
       "      <th>Rating ?/5</th>\n",
       "      <th>Number of Ratings</th>\n",
       "      <th>RAM</th>\n",
       "      <th>ROM/Storage</th>\n",
       "      <th>Back/Rare Camera</th>\n",
       "      <th>Front Camera</th>\n",
       "      <th>Battery</th>\n",
       "      <th>Processor</th>\n",
       "      <th>Price in INR</th>\n",
       "      <th>Date of Scraping</th>\n",
       "    </tr>\n",
       "  </thead>\n",
       "  <tbody>\n",
       "    <tr>\n",
       "      <th>0</th>\n",
       "      <td>POCO C50 Royal Blue 32 GB</td>\n",
       "      <td>4.2</td>\n",
       "      <td>33561</td>\n",
       "      <td>2 GB RAM</td>\n",
       "      <td>32 GB ROM</td>\n",
       "      <td>8MP Dual Camera</td>\n",
       "      <td>5MP Front Camera</td>\n",
       "      <td>5000 mAh</td>\n",
       "      <td>Mediatek Helio A22 Processor Upto 2.0 GHz Proc...</td>\n",
       "      <td>₹5,649</td>\n",
       "      <td>2023-06-17</td>\n",
       "    </tr>\n",
       "    <tr>\n",
       "      <th>1</th>\n",
       "      <td>POCO M4 5G Cool Blue 64 GB</td>\n",
       "      <td>4.2</td>\n",
       "      <td>77128</td>\n",
       "      <td>4 GB RAM</td>\n",
       "      <td>64 GB ROM</td>\n",
       "      <td>50MP + 2MP</td>\n",
       "      <td>8MP Front Camera</td>\n",
       "      <td>5000 mAh</td>\n",
       "      <td>Mediatek Dimensity 700 Processor</td>\n",
       "      <td>₹11,999</td>\n",
       "      <td>2023-06-17</td>\n",
       "    </tr>\n",
       "  </tbody>\n",
       "</table>\n",
       "</div>"
      ],
      "text/plain": [
       "                   Phone Name  Rating ?/5 Number of Ratings       RAM  \\\n",
       "0   POCO C50 Royal Blue 32 GB         4.2             33561  2 GB RAM   \n",
       "1  POCO M4 5G Cool Blue 64 GB         4.2             77128  4 GB RAM   \n",
       "\n",
       "  ROM/Storage Back/Rare Camera      Front Camera   Battery  \\\n",
       "0   32 GB ROM  8MP Dual Camera  5MP Front Camera  5000 mAh   \n",
       "1   64 GB ROM       50MP + 2MP  8MP Front Camera  5000 mAh   \n",
       "\n",
       "                                           Processor Price in INR  \\\n",
       "0  Mediatek Helio A22 Processor Upto 2.0 GHz Proc...       ₹5,649   \n",
       "1                   Mediatek Dimensity 700 Processor      ₹11,999   \n",
       "\n",
       "  Date of Scraping  \n",
       "0       2023-06-17  \n",
       "1       2023-06-17  "
      ]
     },
     "execution_count": 11,
     "metadata": {},
     "output_type": "execute_result"
    }
   ],
   "source": [
    "df[\"Processor\"]= df[\"Processor\"].str.replace(\",\",\"\")\n",
    "df.head(2)"
   ]
  },
  {
   "cell_type": "code",
   "execution_count": 12,
   "metadata": {},
   "outputs": [
    {
     "data": {
      "text/html": [
       "<div>\n",
       "<style scoped>\n",
       "    .dataframe tbody tr th:only-of-type {\n",
       "        vertical-align: middle;\n",
       "    }\n",
       "\n",
       "    .dataframe tbody tr th {\n",
       "        vertical-align: top;\n",
       "    }\n",
       "\n",
       "    .dataframe thead th {\n",
       "        text-align: right;\n",
       "    }\n",
       "</style>\n",
       "<table border=\"1\" class=\"dataframe\">\n",
       "  <thead>\n",
       "    <tr style=\"text-align: right;\">\n",
       "      <th></th>\n",
       "      <th>Phone Name</th>\n",
       "      <th>Rating ?/5</th>\n",
       "      <th>Number of Ratings</th>\n",
       "      <th>RAM</th>\n",
       "      <th>ROM/Storage</th>\n",
       "      <th>Back/Rare Camera</th>\n",
       "      <th>Front Camera</th>\n",
       "      <th>Battery</th>\n",
       "      <th>Processor</th>\n",
       "      <th>Price in INR</th>\n",
       "      <th>Date of Scraping</th>\n",
       "    </tr>\n",
       "  </thead>\n",
       "  <tbody>\n",
       "    <tr>\n",
       "      <th>0</th>\n",
       "      <td>POCO C50 Royal Blue 32 GB</td>\n",
       "      <td>4.2</td>\n",
       "      <td>33561</td>\n",
       "      <td>2 GB RAM</td>\n",
       "      <td>32 GB ROM</td>\n",
       "      <td>8MP Dual Camera</td>\n",
       "      <td>5MP Front Camera</td>\n",
       "      <td>5000 mAh</td>\n",
       "      <td>Mediatek Helio A22 Processor Upto 2.0 GHz Proc...</td>\n",
       "      <td>5,649</td>\n",
       "      <td>2023-06-17</td>\n",
       "    </tr>\n",
       "    <tr>\n",
       "      <th>1</th>\n",
       "      <td>POCO M4 5G Cool Blue 64 GB</td>\n",
       "      <td>4.2</td>\n",
       "      <td>77128</td>\n",
       "      <td>4 GB RAM</td>\n",
       "      <td>64 GB ROM</td>\n",
       "      <td>50MP + 2MP</td>\n",
       "      <td>8MP Front Camera</td>\n",
       "      <td>5000 mAh</td>\n",
       "      <td>Mediatek Dimensity 700 Processor</td>\n",
       "      <td>11,999</td>\n",
       "      <td>2023-06-17</td>\n",
       "    </tr>\n",
       "  </tbody>\n",
       "</table>\n",
       "</div>"
      ],
      "text/plain": [
       "                   Phone Name  Rating ?/5 Number of Ratings       RAM  \\\n",
       "0   POCO C50 Royal Blue 32 GB         4.2             33561  2 GB RAM   \n",
       "1  POCO M4 5G Cool Blue 64 GB         4.2             77128  4 GB RAM   \n",
       "\n",
       "  ROM/Storage Back/Rare Camera      Front Camera   Battery  \\\n",
       "0   32 GB ROM  8MP Dual Camera  5MP Front Camera  5000 mAh   \n",
       "1   64 GB ROM       50MP + 2MP  8MP Front Camera  5000 mAh   \n",
       "\n",
       "                                           Processor Price in INR  \\\n",
       "0  Mediatek Helio A22 Processor Upto 2.0 GHz Proc...        5,649   \n",
       "1                   Mediatek Dimensity 700 Processor       11,999   \n",
       "\n",
       "  Date of Scraping  \n",
       "0       2023-06-17  \n",
       "1       2023-06-17  "
      ]
     },
     "execution_count": 12,
     "metadata": {},
     "output_type": "execute_result"
    }
   ],
   "source": [
    "df[\"Price in INR\"]= df[\"Price in INR\"].str.replace(\"₹\",\"\")\n",
    "df.head(2)"
   ]
  },
  {
   "cell_type": "code",
   "execution_count": 13,
   "metadata": {},
   "outputs": [
    {
     "data": {
      "text/html": [
       "<div>\n",
       "<style scoped>\n",
       "    .dataframe tbody tr th:only-of-type {\n",
       "        vertical-align: middle;\n",
       "    }\n",
       "\n",
       "    .dataframe tbody tr th {\n",
       "        vertical-align: top;\n",
       "    }\n",
       "\n",
       "    .dataframe thead th {\n",
       "        text-align: right;\n",
       "    }\n",
       "</style>\n",
       "<table border=\"1\" class=\"dataframe\">\n",
       "  <thead>\n",
       "    <tr style=\"text-align: right;\">\n",
       "      <th></th>\n",
       "      <th>Phone Name</th>\n",
       "      <th>Rating ?/5</th>\n",
       "      <th>Number of Ratings</th>\n",
       "      <th>RAM</th>\n",
       "      <th>ROM/Storage</th>\n",
       "      <th>Back/Rare Camera</th>\n",
       "      <th>Front Camera</th>\n",
       "      <th>Battery</th>\n",
       "      <th>Processor</th>\n",
       "      <th>Price in INR</th>\n",
       "      <th>Date of Scraping</th>\n",
       "    </tr>\n",
       "  </thead>\n",
       "  <tbody>\n",
       "    <tr>\n",
       "      <th>0</th>\n",
       "      <td>POCO C50 Royal Blue 32 GB</td>\n",
       "      <td>4.2</td>\n",
       "      <td>33561</td>\n",
       "      <td>2 GB RAM</td>\n",
       "      <td>32 GB ROM</td>\n",
       "      <td>8MP Dual Camera</td>\n",
       "      <td>5MP Front Camera</td>\n",
       "      <td>5000 mAh</td>\n",
       "      <td>Mediatek Helio A22 Processor Upto 2.0 GHz Proc...</td>\n",
       "      <td>5649</td>\n",
       "      <td>2023-06-17</td>\n",
       "    </tr>\n",
       "    <tr>\n",
       "      <th>1</th>\n",
       "      <td>POCO M4 5G Cool Blue 64 GB</td>\n",
       "      <td>4.2</td>\n",
       "      <td>77128</td>\n",
       "      <td>4 GB RAM</td>\n",
       "      <td>64 GB ROM</td>\n",
       "      <td>50MP + 2MP</td>\n",
       "      <td>8MP Front Camera</td>\n",
       "      <td>5000 mAh</td>\n",
       "      <td>Mediatek Dimensity 700 Processor</td>\n",
       "      <td>11999</td>\n",
       "      <td>2023-06-17</td>\n",
       "    </tr>\n",
       "  </tbody>\n",
       "</table>\n",
       "</div>"
      ],
      "text/plain": [
       "                   Phone Name  Rating ?/5 Number of Ratings       RAM  \\\n",
       "0   POCO C50 Royal Blue 32 GB         4.2             33561  2 GB RAM   \n",
       "1  POCO M4 5G Cool Blue 64 GB         4.2             77128  4 GB RAM   \n",
       "\n",
       "  ROM/Storage Back/Rare Camera      Front Camera   Battery  \\\n",
       "0   32 GB ROM  8MP Dual Camera  5MP Front Camera  5000 mAh   \n",
       "1   64 GB ROM       50MP + 2MP  8MP Front Camera  5000 mAh   \n",
       "\n",
       "                                           Processor Price in INR  \\\n",
       "0  Mediatek Helio A22 Processor Upto 2.0 GHz Proc...         5649   \n",
       "1                   Mediatek Dimensity 700 Processor        11999   \n",
       "\n",
       "  Date of Scraping  \n",
       "0       2023-06-17  \n",
       "1       2023-06-17  "
      ]
     },
     "execution_count": 13,
     "metadata": {},
     "output_type": "execute_result"
    }
   ],
   "source": [
    "df[\"Price in INR\"]= df[\"Price in INR\"].str.replace(\",\",\"\")\n",
    "df.head(2)"
   ]
  },
  {
   "cell_type": "markdown",
   "metadata": {},
   "source": [
    "# Using labelencoder to convert categorical values to numeric"
   ]
  },
  {
   "cell_type": "code",
   "execution_count": 14,
   "metadata": {},
   "outputs": [
    {
     "data": {
      "text/html": [
       "<div>\n",
       "<style scoped>\n",
       "    .dataframe tbody tr th:only-of-type {\n",
       "        vertical-align: middle;\n",
       "    }\n",
       "\n",
       "    .dataframe tbody tr th {\n",
       "        vertical-align: top;\n",
       "    }\n",
       "\n",
       "    .dataframe thead th {\n",
       "        text-align: right;\n",
       "    }\n",
       "</style>\n",
       "<table border=\"1\" class=\"dataframe\">\n",
       "  <thead>\n",
       "    <tr style=\"text-align: right;\">\n",
       "      <th></th>\n",
       "      <th>Phone Name</th>\n",
       "      <th>Rating ?/5</th>\n",
       "      <th>Number of Ratings</th>\n",
       "      <th>RAM</th>\n",
       "      <th>ROM/Storage</th>\n",
       "      <th>Back/Rare Camera</th>\n",
       "      <th>Front Camera</th>\n",
       "      <th>Battery</th>\n",
       "      <th>Processor</th>\n",
       "      <th>Price in INR</th>\n",
       "      <th>Date of Scraping</th>\n",
       "    </tr>\n",
       "  </thead>\n",
       "  <tbody>\n",
       "    <tr>\n",
       "      <th>0</th>\n",
       "      <td>746</td>\n",
       "      <td>4.2</td>\n",
       "      <td>404</td>\n",
       "      <td>16</td>\n",
       "      <td>14</td>\n",
       "      <td>171</td>\n",
       "      <td>26</td>\n",
       "      <td>78</td>\n",
       "      <td>187</td>\n",
       "      <td>407</td>\n",
       "      <td>0</td>\n",
       "    </tr>\n",
       "    <tr>\n",
       "      <th>1</th>\n",
       "      <td>789</td>\n",
       "      <td>4.2</td>\n",
       "      <td>639</td>\n",
       "      <td>25</td>\n",
       "      <td>20</td>\n",
       "      <td>118</td>\n",
       "      <td>32</td>\n",
       "      <td>78</td>\n",
       "      <td>173</td>\n",
       "      <td>45</td>\n",
       "      <td>0</td>\n",
       "    </tr>\n",
       "    <tr>\n",
       "      <th>2</th>\n",
       "      <td>748</td>\n",
       "      <td>4.3</td>\n",
       "      <td>147</td>\n",
       "      <td>25</td>\n",
       "      <td>20</td>\n",
       "      <td>172</td>\n",
       "      <td>26</td>\n",
       "      <td>78</td>\n",
       "      <td>106</td>\n",
       "      <td>441</td>\n",
       "      <td>0</td>\n",
       "    </tr>\n",
       "  </tbody>\n",
       "</table>\n",
       "</div>"
      ],
      "text/plain": [
       "   Phone Name  Rating ?/5  Number of Ratings  RAM  ROM/Storage  \\\n",
       "0         746         4.2                404   16           14   \n",
       "1         789         4.2                639   25           20   \n",
       "2         748         4.3                147   25           20   \n",
       "\n",
       "   Back/Rare Camera  Front Camera  Battery  Processor  Price in INR  \\\n",
       "0               171            26       78        187           407   \n",
       "1               118            32       78        173            45   \n",
       "2               172            26       78        106           441   \n",
       "\n",
       "   Date of Scraping  \n",
       "0                 0  \n",
       "1                 0  \n",
       "2                 0  "
      ]
     },
     "execution_count": 14,
     "metadata": {},
     "output_type": "execute_result"
    }
   ],
   "source": [
    "encoder=LabelEncoder()\n",
    "category=df.select_dtypes(include=[\"object\",\"category\"])\n",
    "for x in category:\n",
    "    df[x]=encoder.fit_transform(df[x])\n",
    "df.head(3)"
   ]
  },
  {
   "cell_type": "markdown",
   "metadata": {},
   "source": [
    "# FEATURE ENGINEERING\n",
    "spliting the dataset into X and y into dependent and independent variable, the X should be capital letter \n",
    "X is independent variables "
   ]
  },
  {
   "cell_type": "code",
   "execution_count": 15,
   "metadata": {},
   "outputs": [
    {
     "name": "stdout",
     "output_type": "stream",
     "text": [
      "The independent variables: Index(['Phone Name', 'Rating ?/5', 'Number of Ratings', 'RAM', 'ROM/Storage',\n",
      "       'Back/Rare Camera', 'Front Camera', 'Battery', 'Processor',\n",
      "       'Date of Scraping'],\n",
      "      dtype='object')\n",
      "The dependent variables are: Price in INR 0       407\n",
      "1        45\n",
      "2       441\n",
      "3       459\n",
      "4       441\n",
      "       ... \n",
      "1831    106\n",
      "1832    106\n",
      "1833    106\n",
      "1834    182\n",
      "1835     23\n",
      "Name: Price in INR, Length: 1836, dtype: int32\n"
     ]
    }
   ],
   "source": [
    "X=df.drop([\"Price in INR\"],axis=1) #independent variables\n",
    "y=df[\"Price in INR\"] # dependent variables\n",
    "print(\"The independent variables:\",X.columns)\n",
    "print(\"The dependent variables are: Price in INR\",y)"
   ]
  },
  {
   "cell_type": "markdown",
   "metadata": {},
   "source": [
    "# Using Feature Engineering to know which Column(s) are important"
   ]
  },
  {
   "cell_type": "code",
   "execution_count": 16,
   "metadata": {},
   "outputs": [
    {
     "data": {
      "image/png": "[encoded data removed]",
      "text/plain": [
       "<Figure size 640x480 with 1 Axes>"
      ]
     },
     "metadata": {},
     "output_type": "display_data"
    }
   ],
   "source": [
    "plt.style.use(\"ggplot\")\n",
    "importance=mutual_info_classif(X,y)\n",
    "feature_impo=pd.Series(importance,X.columns[0:len(X.columns)])\n",
    "feature_impo.plot(kind=\"barh\",color=\"purple\")\n",
    "plt.show()"
   ]
  },
  {
   "cell_type": "code",
   "execution_count": 17,
   "metadata": {},
   "outputs": [],
   "source": [
    "X=df.drop([\"Date of Scraping\"],axis=1)"
   ]
  },
  {
   "cell_type": "code",
   "execution_count": 18,
   "metadata": {},
   "outputs": [
    {
     "data": {
      "text/html": [
       "<div>\n",
       "<style scoped>\n",
       "    .dataframe tbody tr th:only-of-type {\n",
       "        vertical-align: middle;\n",
       "    }\n",
       "\n",
       "    .dataframe tbody tr th {\n",
       "        vertical-align: top;\n",
       "    }\n",
       "\n",
       "    .dataframe thead th {\n",
       "        text-align: right;\n",
       "    }\n",
       "</style>\n",
       "<table border=\"1\" class=\"dataframe\">\n",
       "  <thead>\n",
       "    <tr style=\"text-align: right;\">\n",
       "      <th></th>\n",
       "      <th>Phone Name</th>\n",
       "      <th>Rating ?/5</th>\n",
       "      <th>Number of Ratings</th>\n",
       "      <th>RAM</th>\n",
       "      <th>ROM/Storage</th>\n",
       "      <th>Back/Rare Camera</th>\n",
       "      <th>Front Camera</th>\n",
       "      <th>Battery</th>\n",
       "      <th>Processor</th>\n",
       "      <th>Price in INR</th>\n",
       "    </tr>\n",
       "  </thead>\n",
       "  <tbody>\n",
       "    <tr>\n",
       "      <th>0</th>\n",
       "      <td>746</td>\n",
       "      <td>4.2</td>\n",
       "      <td>404</td>\n",
       "      <td>16</td>\n",
       "      <td>14</td>\n",
       "      <td>171</td>\n",
       "      <td>26</td>\n",
       "      <td>78</td>\n",
       "      <td>187</td>\n",
       "      <td>407</td>\n",
       "    </tr>\n",
       "    <tr>\n",
       "      <th>1</th>\n",
       "      <td>789</td>\n",
       "      <td>4.2</td>\n",
       "      <td>639</td>\n",
       "      <td>25</td>\n",
       "      <td>20</td>\n",
       "      <td>118</td>\n",
       "      <td>32</td>\n",
       "      <td>78</td>\n",
       "      <td>173</td>\n",
       "      <td>45</td>\n",
       "    </tr>\n",
       "  </tbody>\n",
       "</table>\n",
       "</div>"
      ],
      "text/plain": [
       "   Phone Name  Rating ?/5  Number of Ratings  RAM  ROM/Storage  \\\n",
       "0         746         4.2                404   16           14   \n",
       "1         789         4.2                639   25           20   \n",
       "\n",
       "   Back/Rare Camera  Front Camera  Battery  Processor  Price in INR  \n",
       "0               171            26       78        187           407  \n",
       "1               118            32       78        173            45  "
      ]
     },
     "execution_count": 18,
     "metadata": {},
     "output_type": "execute_result"
    }
   ],
   "source": [
    "X.head(2)"
   ]
  },
  {
   "cell_type": "markdown",
   "metadata": {},
   "source": [
    "# Splitting the Dataset into Train and Test set"
   ]
  },
  {
   "cell_type": "code",
   "execution_count": 19,
   "metadata": {},
   "outputs": [],
   "source": [
    "Xtrain, xtest,ytrain,ytest=train_test_split(X,y,test_size=0.20,random_state=1)"
   ]
  },
  {
   "cell_type": "code",
   "execution_count": 20,
   "metadata": {},
   "outputs": [
    {
     "data": {
      "text/plain": [
       "<function matplotlib.pyplot.show(close=None, block=None)>"
      ]
     },
     "execution_count": 20,
     "metadata": {},
     "output_type": "execute_result"
    },
    {
     "data": {
      "image/png": "[encoded data removed]",
      "text/plain": [
       "<Figure size 640x480 with 1 Axes>"
      ]
     },
     "metadata": {},
     "output_type": "display_data"
    }
   ],
   "source": [
    "sns.countplot(x=\"Price in INR\",data=df)\n",
    "plt.show"
   ]
  },
  {
   "cell_type": "markdown",
   "metadata": {},
   "source": [
    "Putting all the algorithm into a pipeline"
   ]
  },
  {
   "cell_type": "code",
   "execution_count": 21,
   "metadata": {},
   "outputs": [],
   "source": [
    "from sklearn.pipeline import Pipeline\n",
    "Pipelines={\n",
    "      \"LinearRegression_Model\":Pipeline([(\"Scaler\",StandardScaler()),(\"Regression\",LinearRegression())]),\n",
    "      \"DecisionTreeRegressor_Model\":Pipeline([(\"Scaler\",StandardScaler()),(\"Regression\",DecisionTreeRegressor())]),\n",
    "      \"MLPRegressor_Model\":Pipeline([('Scaler',StandardScaler()),('Regression',MLPRegressor())]),\n",
    "      \"RandomForestRegressor_Model\":Pipeline([('Scaler',StandardScaler()),('Regression',RandomForestRegressor())]),\n",
    "}"
   ]
  },
  {
   "cell_type": "markdown",
   "metadata": {},
   "source": [
    "FITTING TRAIN DATASET TO THE DIFFERENT MODELS"
   ]
  },
  {
   "cell_type": "code",
   "execution_count": 22,
   "metadata": {},
   "outputs": [
    {
     "name": "stdout",
     "output_type": "stream",
     "text": [
      "LinearRegression_Model in process.....\n",
      "Done fitting Training set to the LinearRegression_Model .\n",
      "\n",
      "DecisionTreeRegressor_Model in process.....\n",
      "Done fitting Training set to the DecisionTreeRegressor_Model .\n",
      "\n"
     ]
    },
    {
     "name": "stderr",
     "output_type": "stream",
     "text": [
      "c:\\Users\\hdwipe\\AppData\\Local\\Programs\\Python\\Python312\\Lib\\site-packages\\sklearn\\neural_network\\_multilayer_perceptron.py:691: ConvergenceWarning: Stochastic Optimizer: Maximum iterations (200) reached and the optimization hasn't converged yet.\n",
      "  warnings.warn(\n"
     ]
    },
    {
     "name": "stdout",
     "output_type": "stream",
     "text": [
      "MLPRegressor_Model in process.....\n",
      "Done fitting Training set to the MLPRegressor_Model .\n",
      "\n",
      "RandomForestRegressor_Model in process.....\n",
      "Done fitting Training set to the RandomForestRegressor_Model .\n",
      "\n"
     ]
    }
   ],
   "source": [
    "for name,pipeline in Pipelines.items():\n",
    "    accuracy=pipeline.fit(Xtrain,ytrain)\n",
    "    print(name,\"in process.....\")\n",
    "    print(\"Done fitting Training set to the\",name,\".\\n\")"
   ]
  },
  {
   "cell_type": "markdown",
   "metadata": {},
   "source": [
    "# prediction"
   ]
  },
  {
   "cell_type": "code",
   "execution_count": 23,
   "metadata": {},
   "outputs": [
    {
     "name": "stdout",
     "output_type": "stream",
     "text": [
      "LinearRegression_Model Prediction \n",
      " [202.  55. 135. 106. 128. 441. 506. 106. 495. 311. 388. 201. 113. 518.\n",
      " 235. 147.  79. 323. 244. 301. 335. 461. 442.  92.  95. 485. 472. 311.\n",
      " 382. 258. 506. 317. 357.   2. 413.  71. 188. 226. 225.  92. 451.  79.\n",
      " 495.  92.  21. 244.  87. 200. 110. 249.  92. 114. 300. 409.  92. 209.\n",
      " 160.  79. 469. 238. 380.  36. 226.  23. 433. 255. 441. 518. 258.  45.\n",
      " 106.  40. 518.  65. 164. 123.  36. 388. 145. 349.  23. 507. 127. 167.\n",
      " 363. 485. 238. 244. 244. 518.  29.  88.  36. 202.  59. 329. 516. 194.\n",
      " 495.  92. 465. 258. 203. 173. 315. 128.   2.  92. 182. 182. 518.  18.\n",
      " 127. 394. 112. 198. 261. 106.  60. 456. 238.  79. 182. 166. 335. 106.\n",
      " 518. 335. 156. 209. 294. 276.  43. 378. 128. 483. 441. 167. 295. 472.\n",
      " 352. 226. 248.  73.  61. 473.  96. 462.   6. 202. 243. 224. 147. 255.\n",
      "  89. 209. 419. 241.  23. 506.  23.  45. 238.   8.  45. 340.  89. 163.\n",
      " 232. 106. 257. 161. 485. 485.  53. 238.  96. 414. 314.  74. 518. 518.\n",
      " 417. 173. 147. 518. 295. 474. 504. 287.  23. 311. 403. 359. 418.  45.\n",
      " 183. 204. 310. 234. 363. 169. 167.  85.   9. 217. 174. 400. 182. 487.\n",
      " 388. 217. 495. 495. 218. 346. 495. 270. 518. 167. 506. 234.  98. 202.\n",
      " 278.  60. 182. 485. 167.  92. 301.  45. 258. 106. 518. 159. 441.  57.\n",
      " 188. 456. 372. 128. 375. 300. 182.  97. 501. 388. 364.  70. 172.  23.\n",
      " 106. 432. 106. 427. 137. 459.  23. 441. 370. 472.  73.  79. 409. 413.\n",
      "  45. 373. 518. 273. 216. 238. 235. 119. 456. 348. 249. 461. 182. 486.\n",
      " 506.  92.  24.  82. 419.   2.  22. 506. 182. 466. 233.  98.  11. 224.\n",
      " 407. 182.  80. 235. 167. 202. 475. 238. 353. 167. 348. 465. 225.  54.\n",
      " 127. 208.  23.  79. 361. 167. 358. 470.  22. 346. 466. 129. 413. 453.\n",
      " 209. 400. 441. 385. 194. 301. 135.  96. 295. 202.   9. 421.  33. 147.\n",
      " 352. 376. 106. 168. 111. 381. 128. 157.  23. 158. 238. 441. 192. 517.\n",
      " 185. 415.  98. 221.  92. 102. 280.  21. 135. 300. 495. 135. 209.  92.\n",
      "  22.  79. 319. 322.] \n",
      "\n",
      "DecisionTreeRegressor_Model Prediction \n",
      " [202.  53. 135. 106. 128. 441. 506. 106. 495. 310. 388. 201. 113. 518.\n",
      " 235. 147.  79. 323. 244. 301. 333. 460. 442.  92.  95. 485. 472. 310.\n",
      " 382. 258. 506. 318. 358.   2. 413.  71. 186. 226. 225.  92. 451.  79.\n",
      " 495.  92.  19. 244.  86. 201. 109. 249.  92. 114. 300. 408.  92. 209.\n",
      " 160.  79. 469. 238. 379.  36. 226.  23. 436. 255. 441. 518. 258.  45.\n",
      " 105.  39. 518.  65. 165. 123.  36. 388. 145. 348.  23. 507. 127. 167.\n",
      " 363. 484. 238. 244. 244. 518.  29.  88.  36. 202.  60. 329. 517. 194.\n",
      " 495.  92. 465. 258. 205. 172. 315. 128.   2.  92. 182. 182. 518.  17.\n",
      " 127. 394. 112. 195. 260. 106.  60. 456. 238.  79. 182. 167. 333. 106.\n",
      " 518. 333. 155. 209. 295. 276.  43. 379. 128. 482. 441. 167. 294. 472.\n",
      " 352. 226. 248.  73.  60. 472.  96. 459.   5. 202. 243. 224. 147. 255.\n",
      "  89. 209. 419. 239.  23. 506.  23.  45. 238.   7.  45. 342.  89. 163.\n",
      " 233. 106. 255. 160. 485. 485.  53. 238.  95. 414. 314.  74. 518. 518.\n",
      " 416. 172. 147. 518. 295. 474. 502. 288.  23. 311. 403. 358. 418.  45.\n",
      " 183. 204. 310. 233. 363. 170. 167.  85.   9. 217. 175. 400. 182. 486.\n",
      " 388. 217. 495. 495. 219. 346. 495. 271. 518. 167. 506. 233.  98. 202.\n",
      " 277.  60. 182. 485. 167.  92. 301.  45. 258. 106. 518. 160. 441.  53.\n",
      " 186. 456. 369. 128. 373. 300. 182.  97. 501. 388. 364.  70. 172.  23.\n",
      " 106. 431. 106. 427. 135. 459.  23. 441. 370. 472.  73.  79. 409. 413.\n",
      "  45. 373. 518. 273. 216. 238. 235. 118. 456. 348. 249. 460. 182. 486.\n",
      " 506.  92.  24.  81. 419.   2.  22. 506. 182. 466. 233.  98.   9. 224.\n",
      " 407. 182.  80. 235. 167. 202. 476. 238. 352. 167. 348. 465. 225.  54.\n",
      " 127. 208.  23.  79. 361. 167. 358. 468.  22. 346. 466. 128. 413. 452.\n",
      " 209. 400. 441. 384. 194. 301. 135.  96. 294. 202.   9. 421.  33. 147.\n",
      " 352. 376. 106. 167. 111. 382. 128. 154.  23. 160. 238. 441. 192. 517.\n",
      " 184. 415.  98. 218.  92. 100. 280.  19. 135. 300. 495. 135. 209.  92.\n",
      "  22.  79. 318. 322.] \n",
      "\n",
      "MLPRegressor_Model Prediction \n",
      " [ 1.99732856e+02  5.59486511e+01  1.26347443e+02  6.67581607e+01\n",
      "  1.44789209e+02  4.19843910e+02  4.67175478e+02  6.00314449e+01\n",
      "  4.82462631e+02  2.98552345e+02  3.79256278e+02  1.84066191e+02\n",
      "  1.21681356e+02  5.54460249e+02  2.66540867e+02  1.24814773e+02\n",
      "  4.76073908e+01  3.34463284e+02  2.10831287e+02  2.81868440e+02\n",
      "  3.08350026e+02  4.40532872e+02  4.45681694e+02  6.70518516e+01\n",
      "  1.28471151e+02  4.15039294e+02  4.60802075e+02  2.84448643e+02\n",
      "  3.23271272e+02  1.81386346e+02  4.63422872e+02  2.97023976e+02\n",
      "  3.96154565e+02  1.20430197e+02  4.95953591e+02  8.41745261e+01\n",
      "  1.84140068e+02  2.63956280e+02  2.17141025e+02  6.71212407e+01\n",
      "  4.35972856e+02  6.77991966e+01  5.01293505e+02  1.07490000e+02\n",
      "  4.53179585e+00  2.11163979e+02  9.54809270e+01  1.83461248e+02\n",
      "  1.26008007e+02  2.60459648e+02  8.55631856e+01  1.22747446e+02\n",
      "  2.67800303e+02  3.75357532e+02  8.71769303e+01  1.81554379e+02\n",
      "  1.80644814e+02  4.75916200e+01  4.62964234e+02  2.39526635e+02\n",
      "  3.42719323e+02  6.15483094e+01  2.64497740e+02  4.92031326e+01\n",
      "  3.62073123e+02  2.72400879e+02  4.00594982e+02  5.17531769e+02\n",
      "  1.81409828e+02  7.64344395e+01  1.08855380e+02  7.77177865e+01\n",
      "  4.85386002e+02  1.41581148e+02  1.87957619e+02  1.38814858e+02\n",
      "  9.18179970e+00  3.79214455e+02  2.32975639e+02  2.99097174e+02\n",
      "  4.35513715e+01  4.51376155e+02  1.21927702e+02  1.46716209e+02\n",
      "  3.31060265e+02  4.91731597e+02  2.18450622e+02  2.62711956e+02\n",
      "  2.11769823e+02  5.01146935e+02  2.90853937e+01  1.85084750e+02\n",
      "  7.53432381e+01  2.22484701e+02  1.19543392e+02  3.19233426e+02\n",
      "  4.83058825e+02  1.76476821e+02  4.93755948e+02  1.25787006e+02\n",
      "  4.20640094e+02  2.35461361e+02  1.95805076e+02  1.33165618e+02\n",
      "  2.88207843e+02  1.00115423e+02  1.22334018e+02  1.08444785e+02\n",
      "  1.84604812e+02  1.88073014e+02  4.87599255e+02  1.72848662e+01\n",
      "  1.56667423e+02  3.99156955e+02  1.14394701e+02  1.49929146e+02\n",
      "  2.50685924e+02  1.16998293e+02  1.41286443e+02  4.37704655e+02\n",
      "  2.21433548e+02  3.94082171e+01  1.72682613e+02  7.44004010e+01\n",
      "  3.08558898e+02  1.17520668e+02  5.11253427e+02  3.08454462e+02\n",
      "  1.35315554e+02  1.86204143e+02  2.76201669e+02  3.45157542e+02\n",
      "  5.04582305e+01  3.68913283e+02  1.44797186e+02  4.58734602e+02\n",
      "  4.05445744e+02  1.73321679e+02  2.52746678e+02  4.64020174e+02\n",
      "  3.59925232e+02  2.20958357e+02  2.38654021e+02  1.62843222e+02\n",
      "  1.16974306e+02  3.81881243e+02  2.26204388e+02  4.06497383e+02\n",
      "  7.17425334e+01  2.01851422e+02  2.72022222e+02  2.08586832e+02\n",
      "  1.16677355e+02  2.59048934e+02  9.34321577e+01  1.92393915e+02\n",
      "  4.16686979e+02  2.51963980e+02  4.40684490e+01  4.67198540e+02\n",
      "  6.03517395e+01  4.87017101e+01  2.47230569e+02  4.47242168e+01\n",
      "  5.81137821e+01  2.87764659e+02  9.25445307e+01  1.14768211e+02\n",
      "  2.33894536e+02  1.23919109e+02  2.30609809e+02  1.48351617e+02\n",
      "  4.15004063e+02  4.91025307e+02  4.51227947e+01  2.68818273e+02\n",
      "  9.03342772e+01  3.51915760e+02  2.97655608e+02  1.43634109e+02\n",
      "  5.44821763e+02  5.23433434e+02  3.80596791e+02  2.66112786e+02\n",
      "  9.62867773e+01  5.17593311e+02  2.84813817e+02  4.62382117e+02\n",
      "  4.62498964e+02  2.55995064e+02  1.27074498e+02  2.61897479e+02\n",
      "  3.89039990e+02  3.49020800e+02  4.73551622e+02  7.30126200e+01\n",
      "  1.35000643e+02  1.98437171e+02  2.39944990e+02  3.10511910e+02\n",
      "  3.22768652e+02  1.42070331e+02  1.46718763e+02  6.45025151e+01\n",
      "  6.31272295e+01  1.79747160e+02  1.23168998e+02  3.98269476e+02\n",
      "  1.79140287e+02  4.64785207e+02  3.99237955e+02  2.03147369e+02\n",
      "  5.29347785e+02  5.26185748e+02  2.33936948e+02  2.88697744e+02\n",
      "  4.92484281e+02  2.87754378e+02  4.28303906e+02  1.45913246e+02\n",
      "  4.79489668e+02  3.09936958e+02  1.16781594e+02  2.30643765e+02\n",
      "  2.30767646e+02  1.40789084e+02  2.22744963e+02  4.79138756e+02\n",
      "  1.65241994e+02  1.11213336e+02  2.49090871e+02  1.03610429e+02\n",
      "  2.42867159e+02  1.57882808e+02  4.85363211e+02  1.45362734e+02\n",
      "  4.12330511e+02  1.15122889e+02  1.84274126e+02  4.60969701e+02\n",
      "  3.38862725e+02  1.65648720e+02  3.90699040e+02  3.30013064e+02\n",
      "  1.89055483e+02  1.21817125e+02  4.52637367e+02  3.59893732e+02\n",
      "  3.18416717e+02  7.15823696e+01  1.89979839e+02  5.67989480e+01\n",
      "  9.74294501e+01  3.69120651e+02  1.16901846e+02  4.21861334e+02\n",
      "  1.82654011e+02  4.22687521e+02  3.83762863e+01  4.22212472e+02\n",
      "  3.91711763e+02  4.96452824e+02  7.96063865e+01  3.89728450e+01\n",
      "  4.22256862e+02  4.05608625e+02  2.56190542e+01  3.56092408e+02\n",
      "  5.07759844e+02  2.37520996e+02  2.00772830e+02  2.02287537e+02\n",
      "  2.37855284e+02  2.27455791e+02  4.53329346e+02  2.73192135e+02\n",
      "  1.97891362e+02  3.68817617e+02  1.47448724e+02  4.32071470e+02\n",
      "  4.39482826e+02  1.11177636e+02 -5.51235272e-01  8.00946454e+01\n",
      "  4.30165884e+02  1.22198031e+02  3.70983184e+01  4.67857315e+02\n",
      "  1.57127336e+02  4.45102387e+02  3.09218869e+02  1.16863409e+02\n",
      "  2.96919225e+01  2.60305692e+02  3.86603049e+02  1.82846691e+02\n",
      "  8.39100351e+01  2.71128376e+02  2.09872908e+02  1.70044317e+02\n",
      "  3.84056043e+02  1.77795307e+02  3.31911413e+02  1.09570061e+02\n",
      "  3.57060697e+02  4.62008778e+02  2.17122065e+02  3.90993506e+01\n",
      "  1.42535256e+02  2.18480107e+02  5.66723462e+00  9.65187195e+01\n",
      "  3.47809353e+02  1.80131902e+02  3.13163883e+02  4.66300175e+02\n",
      "  6.48168314e+01  2.91429181e+02  4.46799486e+02  2.15117191e+02\n",
      "  4.24854241e+02  3.94315260e+02  1.86217108e+02  3.98517054e+02\n",
      "  4.44972023e+02  4.21636749e+02  1.47104480e+02  2.35747063e+02\n",
      "  1.32683460e+02  1.23477466e+02  3.02707240e+02  2.59212622e+02\n",
      "  5.01651369e+01  3.80353573e+02  4.05847294e+01  1.16667484e+02\n",
      "  3.01910467e+02  3.17646920e+02  1.38341106e+02  1.80168693e+02\n",
      "  1.80296591e+02  3.48775794e+02  1.50589271e+02  2.19507543e+02\n",
      "  5.66816447e+01  1.51669070e+02  1.77078808e+02  4.51266594e+02\n",
      "  1.88386829e+02  5.04636391e+02  1.71635109e+02  4.11099480e+02\n",
      "  1.25378965e+02  2.96610334e+02  6.30637514e+01  1.25260648e+02\n",
      "  2.17598937e+02  4.62879671e+00  1.21176550e+02  2.67936229e+02\n",
      "  4.47553363e+02  1.48852604e+02  1.85626404e+02  9.55193039e+01\n",
      "  3.78976553e+01  6.63362033e+01  3.15678389e+02  2.89005795e+02] \n",
      "\n",
      "RandomForestRegressor_Model Prediction \n",
      " [202.    53.51 135.15 106.   128.   441.01 506.   106.   494.91 310.38\n",
      " 387.94 200.91 112.42 518.   235.03 147.    79.   322.97 244.06 301.02\n",
      " 334.98 459.39 441.94  92.    96.03 485.08 472.   310.78 382.64 258.06\n",
      " 506.02 317.16 358.12   1.96 412.99  70.04 187.   226.   225.17  92.\n",
      " 450.99  78.99 494.96  92.    20.6  243.99  86.77 201.16 109.3  248.98\n",
      "  92.   114.04 299.99 408.97  92.   209.01 160.09  79.   468.35 238.\n",
      " 378.94  36.   226.    23.   434.32 254.99 440.97 518.   258.06  45.\n",
      " 106.02  39.54 518.    64.9  164.12 122.84  36.01 387.94 144.95 348.19\n",
      "  23.   507.18 126.76 167.   362.97 485.01 238.15 244.57 243.99 518.\n",
      "  28.78  87.92  36.19 202.    58.7  328.8  515.18 194.01 495.    92.\n",
      " 465.   258.01 203.39 172.48 314.98 128.     1.96  92.   182.   182.27\n",
      " 518.    17.64 126.89 393.55 112.06 196.89 260.21 106.    60.45 456.\n",
      " 238.16  79.01 182.   167.04 334.98 106.04 518.   334.98 155.11 209.02\n",
      " 293.95 275.53  42.93 377.18 128.   482.21 441.   167.   294.77 472.\n",
      " 351.68 225.99 248.06  73.    60.51 472.57  96.1  461.4    4.9  202.05\n",
      " 242.94 223.69 147.   255.02  88.47 209.18 419.   239.93  23.   506.\n",
      "  22.95  45.   238.02   7.77  45.   340.35  88.91 162.62 233.13 106.\n",
      " 256.71 159.95 485.08 484.95  53.03 238.02  96.22 413.93 314.19  73.86\n",
      " 518.   518.   417.53 172.49 147.   518.   294.9  473.99 503.41 287.68\n",
      "  23.   310.58 403.02 357.44 418.02  45.   182.43 204.44 309.42 233.92\n",
      " 362.84 168.78 167.    85.18   8.95 217.   175.61 400.03 182.   485.62\n",
      " 388.02 217.08 495.   494.98 217.86 346.01 495.   271.15 517.86 167.\n",
      " 506.04 233.92  97.98 202.   277.97  60.45 181.96 485.   167.    92.\n",
      " 301.08  45.   258.02 105.98 518.   159.76 441.    55.8  187.   456.\n",
      " 371.65 128.   374.68 299.92 182.31  96.95 500.85 387.99 363.86  69.96\n",
      " 171.65  23.   106.   431.51 106.   426.96 136.39 458.78  23.   441.\n",
      " 370.25 472.03  73.02  79.01 409.02 413.02  45.01 373.08 518.   272.71\n",
      " 216.26 237.89 234.9  119.11 456.03 347.98 249.03 459.4  182.   485.95\n",
      " 505.99  92.    23.7   81.11 419.     1.96  22.02 505.92 181.99 466.07\n",
      " 233.02  97.98   9.49 223.98 406.71 182.11  79.83 234.79 167.   202.02\n",
      " 474.01 238.   352.46 167.   348.07 464.67 225.17  53.85 126.89 207.99\n",
      "  23.    79.1  360.52 167.   357.88 468.71  22.02 345.92 466.25 128.\n",
      " 412.36 452.57 209.02 400.03 441.   384.28 194.   300.96 135.01  96.17\n",
      " 294.75 202.     8.95 420.93  33.27 147.   351.65 376.93 106.   167.08\n",
      " 111.38 381.51 128.   154.78  23.   159.97 238.   441.   191.9  517.\n",
      " 185.05 414.98  97.92 220.02  92.   101.29 280.03  20.6  135.   299.99\n",
      " 495.01 134.94 209.01  92.    22.02  78.99 318.94 322.39] \n",
      "\n"
     ]
    }
   ],
   "source": [
    "for name,pipeline in Pipelines.items():\n",
    "    pred1=pipeline.predict(xtest)\n",
    "    print(name,\"Prediction\",\"\\n\",pred1,\"\\n\")"
   ]
  },
  {
   "cell_type": "code",
   "execution_count": 24,
   "metadata": {},
   "outputs": [
    {
     "name": "stdout",
     "output_type": "stream",
     "text": [
      "accuracy of LinearRegression_Model: ------------------------ 1.0\n",
      "Mean Absolute Error for: LinearRegression_Model ------------ 1.1465224904737703e-13\n",
      "Mean Absolute Percentage Error for: LinearRegression_Model - 2.011170220833214e-15\n",
      "Mean Squared Error for: LinearRegression_Model ------------- 2.367790015831026e-26\n",
      "LinearRegression_Model perfamance, R-Squared: -------------- 1.0\n",
      "\n",
      "accuracy of DecisionTreeRegressor_Model: ------------------------ 0.9999767827937657\n",
      "Mean Absolute Error for: DecisionTreeRegressor_Model ------------ 0.32608695652173914\n",
      "Mean Absolute Percentage Error for: DecisionTreeRegressor_Model - 0.0036068958360955324\n",
      "Mean Squared Error for: DecisionTreeRegressor_Model ------------- 0.5597826086956522\n",
      "DecisionTreeRegressor_Model perfamance, R-Squared: -------------- 0.9999767827937657\n",
      "\n",
      "accuracy of MLPRegressor_Model: ------------------------ 0.938579185551352\n",
      "Mean Absolute Error for: MLPRegressor_Model ------------ 29.448832304507572\n",
      "Mean Absolute Percentage Error for: MLPRegressor_Model - 0.7761356969220341\n",
      "Mean Squared Error for: MLPRegressor_Model ------------- 1480.8975461260725\n",
      "MLPRegressor_Model perfamance, R-Squared: -------------- 0.938579185551352\n",
      "\n",
      "accuracy of RandomForestRegressor_Model: ------------------------ 0.9999920116919165\n",
      "Mean Absolute Error for: RandomForestRegressor_Model ------------ 0.22747282608695568\n",
      "Mean Absolute Percentage Error for: RandomForestRegressor_Model - 0.002592522458631619\n",
      "Mean Squared Error for: RandomForestRegressor_Model ------------- 0.19260353260869648\n",
      "RandomForestRegressor_Model perfamance, R-Squared: -------------- 0.9999920116919165\n",
      "\n"
     ]
    }
   ],
   "source": [
    "for name,pipeline in Pipelines.items():\n",
    "    accuracy=pipeline.score(xtest,ytest)\n",
    "    print(F\"accuracy of {name}:\",\"------------------------\", accuracy)\n",
    "    print(\"Mean Absolute Error for:\",name,\"------------\", mean_absolute_error(ytest,pipeline.predict(xtest)))\n",
    "    print(\"Mean Absolute Percentage Error for:\",name,\"-\", mean_absolute_percentage_error(ytest,pipeline.predict(xtest)))\n",
    "    print(\"Mean Squared Error for:\",name,\"-------------\", mean_squared_error(ytest,pipeline.predict(xtest)))\n",
    "    # R-Squared i use only on regression model There fore,\n",
    "    print(name,\"perfamance, R-Squared:\",\"--------------\",r2_score(ytest,pipeline.predict(xtest)))\n",
    "    # will excluded\n",
    "    print(\"\")"
   ]
  },
  {
   "cell_type": "markdown",
   "metadata": {},
   "source": [
    "Actual price versus predicted price"
   ]
  },
  {
   "cell_type": "code",
   "execution_count": 25,
   "metadata": {},
   "outputs": [
    {
     "name": "stdout",
     "output_type": "stream",
     "text": [
      "LinearRegression_Model accuracy: 1.0\n",
      "LinearRegression_Model accuracy: 1.0\n",
      "LinearRegression_Model \n",
      "       Actual Price  predicted Price\n",
      "556            202            202.0\n",
      "1386            55             55.0\n",
      "1450           135            135.0\n",
      "111            106            106.0\n",
      "1787           128            128.0 \n",
      "\n",
      "DecisionTreeRegressor_Model accuracy: 0.9999767827937657\n",
      "DecisionTreeRegressor_Model accuracy: 0.9999767827937657\n",
      "DecisionTreeRegressor_Model \n",
      "       Actual Price  predicted Price\n",
      "556            202            202.0\n",
      "1386            55             53.0\n",
      "1450           135            135.0\n",
      "111            106            106.0\n",
      "1787           128            128.0 \n",
      "\n",
      "MLPRegressor_Model accuracy: 0.938579185551352\n",
      "MLPRegressor_Model accuracy: 0.938579185551352\n",
      "MLPRegressor_Model \n",
      "       Actual Price  predicted Price\n",
      "556            202       199.732856\n",
      "1386            55        55.948651\n",
      "1450           135       126.347443\n",
      "111            106        66.758161\n",
      "1787           128       144.789209 \n",
      "\n",
      "RandomForestRegressor_Model accuracy: 0.9999920116919165\n",
      "RandomForestRegressor_Model accuracy: 0.9999920116919165\n",
      "RandomForestRegressor_Model \n",
      "       Actual Price  predicted Price\n",
      "556            202           202.00\n",
      "1386            55            53.51\n",
      "1450           135           135.15\n",
      "111            106           106.00\n",
      "1787           128           128.00 \n",
      "\n"
     ]
    }
   ],
   "source": [
    "for name,pipeline in Pipelines.items():\n",
    "    accuracy=pipeline.score(xtest,ytest)\n",
    "    Precision=r2_score(ytest,pipeline.predict(xtest))\n",
    "    print(F\"{name} accuracy:\",accuracy)\n",
    "    print(F\"{name} accuracy:\",Precision)\n",
    "    outcome={\n",
    "        \"Actual Price\":ytest,\n",
    "        \"predicted Price\":pipeline.predict(xtest)\n",
    "        }\n",
    "    df3=pd.DataFrame(outcome)\n",
    "    print(name,\"\\n\",df3.head(),\"\\n\")"
   ]
  },
  {
   "cell_type": "markdown",
   "metadata": {},
   "source": [
    "# REGRESSION MATRIX"
   ]
  },
  {
   "cell_type": "code",
   "execution_count": 26,
   "metadata": {},
   "outputs": [
    {
     "name": "stdout",
     "output_type": "stream",
     "text": [
      "LinearRegression_Model accuracy: 1.0\n",
      "Evaluating LinearRegression_Model on the testing data\n",
      "LinearRegression_Model perfamance, R-Squared: 1.0\n"
     ]
    },
    {
     "data": {
      "image/png": "[encoded data removed]",
      "text/plain": [
       "<Figure size 640x480 with 1 Axes>"
      ]
     },
     "metadata": {},
     "output_type": "display_data"
    },
    {
     "name": "stdout",
     "output_type": "stream",
     "text": [
      "DecisionTreeRegressor_Model accuracy: 0.9999767827937657\n",
      "Evaluating DecisionTreeRegressor_Model on the testing data\n",
      "DecisionTreeRegressor_Model perfamance, R-Squared: 0.9999767827937657\n"
     ]
    },
    {
     "data": {
      "image/png": "[encoded data removed]",
      "text/plain": [
       "<Figure size 640x480 with 1 Axes>"
      ]
     },
     "metadata": {},
     "output_type": "display_data"
    },
    {
     "name": "stdout",
     "output_type": "stream",
     "text": [
      "MLPRegressor_Model accuracy: 0.938579185551352\n",
      "Evaluating MLPRegressor_Model on the testing data\n",
      "MLPRegressor_Model perfamance, R-Squared: 0.938579185551352\n"
     ]
    },
    {
     "data": {
      "image/png": "[encoded data removed]",
      "text/plain": [
       "<Figure size 640x480 with 1 Axes>"
      ]
     },
     "metadata": {},
     "output_type": "display_data"
    },
    {
     "name": "stdout",
     "output_type": "stream",
     "text": [
      "RandomForestRegressor_Model accuracy: 0.9999920116919165\n",
      "Evaluating RandomForestRegressor_Model on the testing data\n",
      "RandomForestRegressor_Model perfamance, R-Squared: 0.9999920116919165\n"
     ]
    },
    {
     "data": {
      "image/png": "[encoded data removed]",
      "text/plain": [
       "<Figure size 640x480 with 1 Axes>"
      ]
     },
     "metadata": {},
     "output_type": "display_data"
    }
   ],
   "source": [
    "for name,pipeline in Pipelines.items():\n",
    "    accuracy=pipeline.score(xtest,ytest)\n",
    "    print(F\"{name} accuracy:\",accuracy)\n",
    "    print(f\"Evaluating {name} on the testing data\")\n",
    "    print(name,\"perfamance, R-Squared:\",r2_score(ytest,pipeline.predict(xtest)))\n",
    "    plt.figure()\n",
    "    sns.regplot(x=ytest,y=pipeline.predict(xtest))\n",
    "    plt.title(f\"Regression Matrix for {name}\")\n",
    "    plt.xlabel(\"Predicted Price\")\n",
    "    plt.ylabel(\"Actual Price\")\n",
    "    plt.show()"
   ]
  },
  {
   "cell_type": "code",
   "execution_count": 27,
   "metadata": {},
   "outputs": [],
   "source": [
    "import joblib"
   ]
  },
  {
   "cell_type": "code",
   "execution_count": 28,
   "metadata": {},
   "outputs": [
    {
     "name": "stdout",
     "output_type": "stream",
     "text": [
      "LinearRegression_Model saved successfully\n",
      "DecisionTreeRegressor_Model saved successfully\n",
      "MLPRegressor_Model saved successfully\n",
      "RandomForestRegressor_Model saved successfully\n"
     ]
    }
   ],
   "source": [
    "for name,pipeline in Pipelines.items():\n",
    "    joblib.dump(pipeline,f\"{name}.joblib\")\n",
    "    print(f\"{name} saved successfully\")"
   ]
  },
  {
   "cell_type": "code",
   "execution_count": null,
   "metadata": {},
   "outputs": [],
   "source": []
  }
 ],
 "metadata": {
  "kernelspec": {
   "display_name": "Python 3",
   "language": "python",
   "name": "python3"
  },
  "language_info": {
   "codemirror_mode": {
    "name": "ipython",
    "version": 3
   },
   "file_extension": ".py",
   "mimetype": "text/x-python",
   "name": "python",
   "nbconvert_exporter": "python",
   "pygments_lexer": "ipython3",
   "version": "3.12.1"
  }
 },
 "nbformat": 4,
 "nbformat_minor": 2
}
