{
 "cells": [
  {
   "cell_type": "code",
   "execution_count": 1,
   "metadata": {},
   "outputs": [],
   "source": [
    "# conda install -c anaconda pymysql"
   ]
  },
  {
   "cell_type": "code",
   "execution_count": 2,
   "metadata": {},
   "outputs": [
    {
     "ename": "ModuleNotFoundError",
     "evalue": "No module named 'pymysql'",
     "output_type": "error",
     "traceback": [
      "\u001b[1;31m---------------------------------------------------------------------------\u001b[0m",
      "\u001b[1;31mModuleNotFoundError\u001b[0m                       Traceback (most recent call last)",
      "Cell \u001b[1;32mIn[2], line 1\u001b[0m\n\u001b[1;32m----> 1\u001b[0m \u001b[38;5;28;01mimport\u001b[39;00m \u001b[38;5;21;01mpymysql\u001b[39;00m\n",
      "\u001b[1;31mModuleNotFoundError\u001b[0m: No module named 'pymysql'"
     ]
    }
   ],
   "source": [
    "import pymysql"
   ]
  },
  {
   "cell_type": "code",
   "execution_count": null,
   "metadata": {},
   "outputs": [],
   "source": [
    "mydb=pymysql.connect(\n",
    "    host=\"localhost\",\n",
    "    port=3306,\n",
    "    user=\"root\",\n",
    "    password=\"1234\"\n",
    ")\n",
    "mycursor=mydb.cursor()"
   ]
  },
  {
   "cell_type": "code",
   "execution_count": null,
   "metadata": {},
   "outputs": [
    {
     "name": "stdout",
     "output_type": "stream",
     "text": [
      "('information_schema',)\n",
      "('jambregistration',)\n",
      "('mysql',)\n",
      "('performance_schema',)\n",
      "('sakila',)\n",
      "('staffinfo',)\n",
      "('sys',)\n",
      "('world',)\n"
     ]
    }
   ],
   "source": [
    "mycursor.execute(\"show databases\")\n",
    "for x in mycursor:\n",
    "    print(x)"
   ]
  },
  {
   "cell_type": "code",
   "execution_count": null,
   "metadata": {},
   "outputs": [
    {
     "name": "stdout",
     "output_type": "stream",
     "text": [
      "('information_schema',)\n",
      "('jambregistration',)\n",
      "('mysql',)\n",
      "('performance_schema',)\n",
      "('sakila',)\n",
      "('staffinfo',)\n",
      "('sys',)\n",
      "('valentine_project',)\n",
      "('world',)\n"
     ]
    }
   ],
   "source": [
    "mycursor.execute(\"create database valentine_project\")\n",
    "mycursor.execute(\"show databases\")\n",
    "for x in mycursor:\n",
    "    print(x)"
   ]
  },
  {
   "cell_type": "code",
   "execution_count": null,
   "metadata": {},
   "outputs": [
    {
     "name": "stdout",
     "output_type": "stream",
     "text": [
      "('id', 'int', 'NO', 'PRI', None, '')\n",
      "('val_friends', 'varchar(255)', 'NO', '', None, '')\n",
      "('phone_number', 'varchar(20)', 'NO', '', None, '')\n",
      "('email', 'text', 'NO', '', None, '')\n"
     ]
    }
   ],
   "source": [
    "mycursor.execute(\"use valentine_project\")\n",
    "mycursor.execute(\"Create table valentine(id int primary key not null,val_friends varchar(255) not null,phone_number varchar(20) not null,email text not null)\")\n",
    "mycursor.execute(\"show columns from valentine\")\n",
    "for x in mycursor:\n",
    "    print(x)"
   ]
  },
  {
   "cell_type": "code",
   "execution_count": null,
   "metadata": {},
   "outputs": [],
   "source": [
    "mycursor.execute(\"use valentine_project\")\n",
    "def val_record():\n",
    "    id=int(input(\"Enter your id:\"))\n",
    "    val_friends=input(\"Enter the valentine friend name:\")\n",
    "    phone_number=input(\"Enter your phione number:\")\n",
    "    email=input(\"Enter your email\")\n",
    "    query=\"INSERT INTO valentine (id, val_friends, phone_number, email) VALUES (%s, %s, %s, %s)\"\n",
    "    mycursor.execute(query,(id,val_friends,phone_number,email))\n",
    "    mydb.commit()\n",
    "    print(\"YOU ARE NOW FRIENDS WITH VALENTINE\")\n",
    "def display_records():\n",
    "    mycursor.execute(\"select * from val_friends\")\n",
    "    for x in mycursor:\n",
    "        print(x)\n",
    "\n",
    "def main():\n",
    "    print(\"WELCOME TO VALENTINE WORLD\")\n",
    "    print(\"1.Add a new valentine friend\")\n",
    "    print(\"2.Display all valentine friends\")\n",
    "    print(\"3.Logout\")\n",
    "    while True:\n",
    "        option=input(\"select operation:\").lower()\n",
    "        if option==\"1\":\n",
    "            val_record()\n",
    "        elif option==\"2\":\n",
    "            display_records()\n",
    "        elif option== \"3\":\n",
    "            print(\"THANK YOU FOR USING VALENTINE WORLD\")\n",
    "            break\n",
    "        else:\n",
    "            print(\"Invalid option\")"
   ]
  },
  {
   "cell_type": "code",
   "execution_count": null,
   "metadata": {},
   "outputs": [
    {
     "name": "stdout",
     "output_type": "stream",
     "text": [
      "WELCOME TO VALENTINE WORLD\n",
      "1.Add a new valentine friend\n",
      "2.Display all valentine friends\n",
      "3.Logout\n",
      "YOU ARE NOW FRIENDS WITH VALENTINE\n",
      "YOU ARE NOW FRIENDS WITH VALENTINE\n",
      "THANK YOU FOR USING VALENTINE WORLD\n"
     ]
    }
   ],
   "source": [
    "main()"
   ]
  },
  {
   "cell_type": "code",
   "execution_count": 4,
   "metadata": {},
   "outputs": [
    {
     "name": "stdout",
     "output_type": "stream",
     "text": [
      "hello word\n"
     ]
    }
   ],
   "source": [
    "print(\"hello\",end=\" \")\n",
    "print(\"word\")"
   ]
  },
  {
   "cell_type": "code",
   "execution_count": null,
   "metadata": {},
   "outputs": [],
   "source": []
  }
 ],
 "metadata": {
  "kernelspec": {
   "display_name": "Python 3",
   "language": "python",
   "name": "python3"
  },
  "language_info": {
   "codemirror_mode": {
    "name": "ipython",
    "version": 3
   },
   "file_extension": ".py",
   "mimetype": "text/x-python",
   "name": "python",
   "nbconvert_exporter": "python",
   "pygments_lexer": "ipython3",
   "version": "3.12.1"
  }
 },
 "nbformat": 4,
 "nbformat_minor": 2
}
