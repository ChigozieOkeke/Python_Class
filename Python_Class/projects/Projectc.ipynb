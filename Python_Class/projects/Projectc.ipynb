{
 "cells": [
  {
   "cell_type": "markdown",
   "metadata": {},
   "source": [
    "# Importing Libraries "
   ]
  },
  {
   "cell_type": "code",
   "execution_count": 1,
   "metadata": {},
   "outputs": [],
   "source": [
    "import numpy as np\n",
    "import pandas as pd\n",
    "import matplotlib.pyplot as plt\n",
    "import seaborn as sns\n",
    "import plotly.express as px \n",
    "from sklearn.neighbors import KNeighborsClassifier\n",
    "from sklearn.feature_selection import mutual_info_classif\n",
    "from sklearn.model_selection import train_test_split\n",
    "from sklearn.linear_model import LinearRegression,Lasso,Ridge,ElasticNet,LogisticRegression\n",
    "from sklearn.preprocessing import StandardScaler, LabelEncoder\n",
    "from sklearn.tree import DecisionTreeRegressor,DecisionTreeClassifier\n",
    "from sklearn.naive_bayes import GaussianNB\n",
    "from sklearn.pipeline import Pipeline\n",
    "from sklearn.svm import SVR,SVC\n",
    "from sklearn.ensemble import RandomForestRegressor,RandomForestClassifier\n",
    "from sklearn.neural_network import MLPRegressor\n",
    "from sklearn.metrics import r2_score,mean_squared_error,confusion_matrix,mean_absolute_error,mean_absolute_percentage_error"
   ]
  },
  {
   "cell_type": "markdown",
   "metadata": {},
   "source": [
    "# Loading the dataset"
   ]
  },
  {
   "cell_type": "code",
   "execution_count": 2,
   "metadata": {},
   "outputs": [
    {
     "data": {
      "text/html": [
       "<div>\n",
       "<style scoped>\n",
       "    .dataframe tbody tr th:only-of-type {\n",
       "        vertical-align: middle;\n",
       "    }\n",
       "\n",
       "    .dataframe tbody tr th {\n",
       "        vertical-align: top;\n",
       "    }\n",
       "\n",
       "    .dataframe thead th {\n",
       "        text-align: right;\n",
       "    }\n",
       "</style>\n",
       "<table border=\"1\" class=\"dataframe\">\n",
       "  <thead>\n",
       "    <tr style=\"text-align: right;\">\n",
       "      <th></th>\n",
       "      <th>Phone Name</th>\n",
       "      <th>Rating ?/5</th>\n",
       "      <th>Number of Ratings</th>\n",
       "      <th>RAM</th>\n",
       "      <th>ROM/Storage</th>\n",
       "      <th>Back/Rare Camera</th>\n",
       "      <th>Front Camera</th>\n",
       "      <th>Battery</th>\n",
       "      <th>Processor</th>\n",
       "      <th>Price in INR</th>\n",
       "      <th>Date of Scraping</th>\n",
       "    </tr>\n",
       "  </thead>\n",
       "  <tbody>\n",
       "    <tr>\n",
       "      <th>0</th>\n",
       "      <td>POCO C50 (Royal Blue, 32 GB)</td>\n",
       "      <td>4.2</td>\n",
       "      <td>33,561</td>\n",
       "      <td>2 GB RAM</td>\n",
       "      <td>32 GB ROM</td>\n",
       "      <td>8MP Dual Camera</td>\n",
       "      <td>5MP Front Camera</td>\n",
       "      <td>5000 mAh</td>\n",
       "      <td>Mediatek Helio A22 Processor, Upto 2.0 GHz Pro...</td>\n",
       "      <td>₹5,649</td>\n",
       "      <td>2023-06-17</td>\n",
       "    </tr>\n",
       "    <tr>\n",
       "      <th>1</th>\n",
       "      <td>POCO M4 5G (Cool Blue, 64 GB)</td>\n",
       "      <td>4.2</td>\n",
       "      <td>77,128</td>\n",
       "      <td>4 GB RAM</td>\n",
       "      <td>64 GB ROM</td>\n",
       "      <td>50MP + 2MP</td>\n",
       "      <td>8MP Front Camera</td>\n",
       "      <td>5000 mAh</td>\n",
       "      <td>Mediatek Dimensity 700 Processor</td>\n",
       "      <td>₹11,999</td>\n",
       "      <td>2023-06-17</td>\n",
       "    </tr>\n",
       "    <tr>\n",
       "      <th>2</th>\n",
       "      <td>POCO C51 (Royal Blue, 64 GB)</td>\n",
       "      <td>4.3</td>\n",
       "      <td>15,175</td>\n",
       "      <td>4 GB RAM</td>\n",
       "      <td>64 GB ROM</td>\n",
       "      <td>8MP Dual Rear Camera</td>\n",
       "      <td>5MP Front Camera</td>\n",
       "      <td>5000 mAh</td>\n",
       "      <td>Helio G36 Processor</td>\n",
       "      <td>₹6,999</td>\n",
       "      <td>2023-06-17</td>\n",
       "    </tr>\n",
       "    <tr>\n",
       "      <th>3</th>\n",
       "      <td>POCO C55 (Cool Blue, 64 GB)</td>\n",
       "      <td>4.2</td>\n",
       "      <td>22,621</td>\n",
       "      <td>4 GB RAM</td>\n",
       "      <td>64 GB ROM</td>\n",
       "      <td>50MP Dual Rear Camera</td>\n",
       "      <td>5MP Front Camera</td>\n",
       "      <td>5000 mAh</td>\n",
       "      <td>Mediatek Helio G85 Processor</td>\n",
       "      <td>₹7,749</td>\n",
       "      <td>2023-06-17</td>\n",
       "    </tr>\n",
       "    <tr>\n",
       "      <th>4</th>\n",
       "      <td>POCO C51 (Power Black, 64 GB)</td>\n",
       "      <td>4.3</td>\n",
       "      <td>15,175</td>\n",
       "      <td>4 GB RAM</td>\n",
       "      <td>64 GB ROM</td>\n",
       "      <td>8MP Dual Rear Camera</td>\n",
       "      <td>5MP Front Camera</td>\n",
       "      <td>5000 mAh</td>\n",
       "      <td>Helio G36 Processor</td>\n",
       "      <td>₹6,999</td>\n",
       "      <td>2023-06-17</td>\n",
       "    </tr>\n",
       "  </tbody>\n",
       "</table>\n",
       "</div>"
      ],
      "text/plain": [
       "                      Phone Name  Rating ?/5 Number of Ratings       RAM  \\\n",
       "0   POCO C50 (Royal Blue, 32 GB)         4.2            33,561  2 GB RAM   \n",
       "1  POCO M4 5G (Cool Blue, 64 GB)         4.2            77,128  4 GB RAM   \n",
       "2   POCO C51 (Royal Blue, 64 GB)         4.3            15,175  4 GB RAM   \n",
       "3    POCO C55 (Cool Blue, 64 GB)         4.2            22,621  4 GB RAM   \n",
       "4  POCO C51 (Power Black, 64 GB)         4.3            15,175  4 GB RAM   \n",
       "\n",
       "  ROM/Storage       Back/Rare Camera      Front Camera   Battery  \\\n",
       "0   32 GB ROM        8MP Dual Camera  5MP Front Camera  5000 mAh   \n",
       "1   64 GB ROM             50MP + 2MP  8MP Front Camera  5000 mAh   \n",
       "2   64 GB ROM   8MP Dual Rear Camera  5MP Front Camera  5000 mAh   \n",
       "3   64 GB ROM  50MP Dual Rear Camera  5MP Front Camera  5000 mAh   \n",
       "4   64 GB ROM   8MP Dual Rear Camera  5MP Front Camera  5000 mAh   \n",
       "\n",
       "                                           Processor Price in INR  \\\n",
       "0  Mediatek Helio A22 Processor, Upto 2.0 GHz Pro...       ₹5,649   \n",
       "1                   Mediatek Dimensity 700 Processor      ₹11,999   \n",
       "2                                Helio G36 Processor       ₹6,999   \n",
       "3                       Mediatek Helio G85 Processor       ₹7,749   \n",
       "4                                Helio G36 Processor       ₹6,999   \n",
       "\n",
       "  Date of Scraping  \n",
       "0       2023-06-17  \n",
       "1       2023-06-17  \n",
       "2       2023-06-17  \n",
       "3       2023-06-17  \n",
       "4       2023-06-17  "
      ]
     },
     "execution_count": 2,
     "metadata": {},
     "output_type": "execute_result"
    }
   ],
   "source": [
    "df=pd.read_csv(\"File_mobile_prices_2023.csv\")\n",
    "df.head()"
   ]
  },
  {
   "cell_type": "markdown",
   "metadata": {},
   "source": [
    "  # DATA PREPARATION"
   ]
  },
  {
   "cell_type": "markdown",
   "metadata": {},
   "source": [
    "1 Checking for the missing values"
   ]
  },
  {
   "cell_type": "code",
   "execution_count": 3,
   "metadata": {},
   "outputs": [
    {
     "data": {
      "text/plain": [
       "Phone Name             0\n",
       "Rating ?/5             0\n",
       "Number of Ratings      0\n",
       "RAM                    0\n",
       "ROM/Storage          174\n",
       "Back/Rare Camera       9\n",
       "Front Camera         401\n",
       "Battery               10\n",
       "Processor             55\n",
       "Price in INR           0\n",
       "Date of Scraping       0\n",
       "dtype: int64"
      ]
     },
     "execution_count": 3,
     "metadata": {},
     "output_type": "execute_result"
    }
   ],
   "source": [
    "df.isnull().sum()"
   ]
  },
  {
   "cell_type": "markdown",
   "metadata": {},
   "source": [
    "# 2 Check for the number of Columns and Rows"
   ]
  },
  {
   "cell_type": "markdown",
   "metadata": {},
   "source": [
    "This is to Know if the missing values have a significant effect on the dataset"
   ]
  },
  {
   "cell_type": "code",
   "execution_count": 4,
   "metadata": {},
   "outputs": [
    {
     "data": {
      "text/plain": [
       "(1836, 11)"
      ]
     },
     "execution_count": 4,
     "metadata": {},
     "output_type": "execute_result"
    }
   ],
   "source": [
    "df.shape"
   ]
  },
  {
   "cell_type": "markdown",
   "metadata": {},
   "source": [
    "df.info() will help us to know if the values are of numerical or object and also if datatype of date"
   ]
  },
  {
   "cell_type": "code",
   "execution_count": 5,
   "metadata": {},
   "outputs": [
    {
     "name": "stdout",
     "output_type": "stream",
     "text": [
      "<class 'pandas.core.frame.DataFrame'>\n",
      "RangeIndex: 1836 entries, 0 to 1835\n",
      "Data columns (total 11 columns):\n",
      " #   Column             Non-Null Count  Dtype  \n",
      "---  ------             --------------  -----  \n",
      " 0   Phone Name         1836 non-null   object \n",
      " 1   Rating ?/5         1836 non-null   float64\n",
      " 2   Number of Ratings  1836 non-null   object \n",
      " 3   RAM                1836 non-null   object \n",
      " 4   ROM/Storage        1662 non-null   object \n",
      " 5   Back/Rare Camera   1827 non-null   object \n",
      " 6   Front Camera       1435 non-null   object \n",
      " 7   Battery            1826 non-null   object \n",
      " 8   Processor          1781 non-null   object \n",
      " 9   Price in INR       1836 non-null   object \n",
      " 10  Date of Scraping   1836 non-null   object \n",
      "dtypes: float64(1), object(10)\n",
      "memory usage: 157.9+ KB\n"
     ]
    }
   ],
   "source": [
    "df.info()"
   ]
  },
  {
   "cell_type": "markdown",
   "metadata": {},
   "source": [
    "# Dropping or Filling the columns of the missing values first\n",
    "\n",
    "Though the Missing Values has no significant on the dataset \n",
    "# However i would fill the missing values rather than dropping it.\n",
    "\n",
    "# Filling the missing values using mode because it's a categorical value"
   ]
  },
  {
   "cell_type": "code",
   "execution_count": 6,
   "metadata": {},
   "outputs": [
    {
     "name": "stderr",
     "output_type": "stream",
     "text": [
      "C:\\Users\\hdwipe\\AppData\\Local\\Temp\\ipykernel_3164\\2313805261.py:3: FutureWarning: A value is trying to be set on a copy of a DataFrame or Series through chained assignment using an inplace method.\n",
      "The behavior will change in pandas 3.0. This inplace method will never work because the intermediate object on which we are setting values always behaves as a copy.\n",
      "\n",
      "For example, when doing 'df[col].method(value, inplace=True)', try using 'df.method({col: value}, inplace=True)' or df[col] = df[col].method(value) instead, to perform the operation inplace on the original object.\n",
      "\n",
      "\n",
      "  df[x].fillna(df[x].mode()[0],inplace=True)\n"
     ]
    },
    {
     "data": {
      "text/plain": [
       "Phone Name           0\n",
       "Rating ?/5           0\n",
       "Number of Ratings    0\n",
       "RAM                  0\n",
       "ROM/Storage          0\n",
       "Back/Rare Camera     0\n",
       "Front Camera         0\n",
       "Battery              0\n",
       "Processor            0\n",
       "Price in INR         0\n",
       "Date of Scraping     0\n",
       "dtype: int64"
      ]
     },
     "execution_count": 6,
     "metadata": {},
     "output_type": "execute_result"
    }
   ],
   "source": [
    "categorical_df=df.select_dtypes(include=[\"object\",\"category\"])\n",
    "for x in categorical_df:\n",
    "    df[x].fillna(df[x].mode()[0],inplace=True)\n",
    "df.isnull().sum()    "
   ]
  },
  {
   "cell_type": "markdown",
   "metadata": {},
   "source": [
    "# Removing Puntuation Marks or Symbols From the Columns in the Dataset"
   ]
  },
  {
   "cell_type": "code",
   "execution_count": 7,
   "metadata": {},
   "outputs": [
    {
     "name": "stdout",
     "output_type": "stream",
     "text": [
      "<class 'pandas.core.frame.DataFrame'>\n",
      "RangeIndex: 1836 entries, 0 to 1835\n",
      "Data columns (total 11 columns):\n",
      " #   Column             Non-Null Count  Dtype  \n",
      "---  ------             --------------  -----  \n",
      " 0   Phone Name         1836 non-null   object \n",
      " 1   Rating ?/5         1836 non-null   float64\n",
      " 2   Number of Ratings  1836 non-null   object \n",
      " 3   RAM                1836 non-null   object \n",
      " 4   ROM/Storage        1836 non-null   object \n",
      " 5   Back/Rare Camera   1836 non-null   object \n",
      " 6   Front Camera       1836 non-null   object \n",
      " 7   Battery            1836 non-null   object \n",
      " 8   Processor          1836 non-null   object \n",
      " 9   Price in INR       1836 non-null   object \n",
      " 10  Date of Scraping   1836 non-null   object \n",
      "dtypes: float64(1), object(10)\n",
      "memory usage: 157.9+ KB\n"
     ]
    }
   ],
   "source": [
    "df[\"Phone Name\"]= df[\"Phone Name\"].str.replace(\",\",\"\")\n",
    "df.info()\n",
    "## it means \",\",\"\" \"\" means replace those coma with empty space "
   ]
  },
  {
   "cell_type": "code",
   "execution_count": 8,
   "metadata": {},
   "outputs": [
    {
     "data": {
      "text/html": [
       "<div>\n",
       "<style scoped>\n",
       "    .dataframe tbody tr th:only-of-type {\n",
       "        vertical-align: middle;\n",
       "    }\n",
       "\n",
       "    .dataframe tbody tr th {\n",
       "        vertical-align: top;\n",
       "    }\n",
       "\n",
       "    .dataframe thead th {\n",
       "        text-align: right;\n",
       "    }\n",
       "</style>\n",
       "<table border=\"1\" class=\"dataframe\">\n",
       "  <thead>\n",
       "    <tr style=\"text-align: right;\">\n",
       "      <th></th>\n",
       "      <th>Phone Name</th>\n",
       "      <th>Rating ?/5</th>\n",
       "      <th>Number of Ratings</th>\n",
       "      <th>RAM</th>\n",
       "      <th>ROM/Storage</th>\n",
       "      <th>Back/Rare Camera</th>\n",
       "      <th>Front Camera</th>\n",
       "      <th>Battery</th>\n",
       "      <th>Processor</th>\n",
       "      <th>Price in INR</th>\n",
       "      <th>Date of Scraping</th>\n",
       "    </tr>\n",
       "  </thead>\n",
       "  <tbody>\n",
       "    <tr>\n",
       "      <th>0</th>\n",
       "      <td>POCO C50 (Royal Blue 32 GB)</td>\n",
       "      <td>4.2</td>\n",
       "      <td>33561</td>\n",
       "      <td>2 GB RAM</td>\n",
       "      <td>32 GB ROM</td>\n",
       "      <td>8MP Dual Camera</td>\n",
       "      <td>5MP Front Camera</td>\n",
       "      <td>5000 mAh</td>\n",
       "      <td>Mediatek Helio A22 Processor, Upto 2.0 GHz Pro...</td>\n",
       "      <td>₹5,649</td>\n",
       "      <td>2023-06-17</td>\n",
       "    </tr>\n",
       "    <tr>\n",
       "      <th>1</th>\n",
       "      <td>POCO M4 5G (Cool Blue 64 GB)</td>\n",
       "      <td>4.2</td>\n",
       "      <td>77128</td>\n",
       "      <td>4 GB RAM</td>\n",
       "      <td>64 GB ROM</td>\n",
       "      <td>50MP + 2MP</td>\n",
       "      <td>8MP Front Camera</td>\n",
       "      <td>5000 mAh</td>\n",
       "      <td>Mediatek Dimensity 700 Processor</td>\n",
       "      <td>₹11,999</td>\n",
       "      <td>2023-06-17</td>\n",
       "    </tr>\n",
       "  </tbody>\n",
       "</table>\n",
       "</div>"
      ],
      "text/plain": [
       "                     Phone Name  Rating ?/5 Number of Ratings       RAM  \\\n",
       "0   POCO C50 (Royal Blue 32 GB)         4.2             33561  2 GB RAM   \n",
       "1  POCO M4 5G (Cool Blue 64 GB)         4.2             77128  4 GB RAM   \n",
       "\n",
       "  ROM/Storage Back/Rare Camera      Front Camera   Battery  \\\n",
       "0   32 GB ROM  8MP Dual Camera  5MP Front Camera  5000 mAh   \n",
       "1   64 GB ROM       50MP + 2MP  8MP Front Camera  5000 mAh   \n",
       "\n",
       "                                           Processor Price in INR  \\\n",
       "0  Mediatek Helio A22 Processor, Upto 2.0 GHz Pro...       ₹5,649   \n",
       "1                   Mediatek Dimensity 700 Processor      ₹11,999   \n",
       "\n",
       "  Date of Scraping  \n",
       "0       2023-06-17  \n",
       "1       2023-06-17  "
      ]
     },
     "execution_count": 8,
     "metadata": {},
     "output_type": "execute_result"
    }
   ],
   "source": [
    "df[\"Number of Ratings\"]= df[\"Number of Ratings\"].str.replace(\",\",\"\")\n",
    "df.head(2)"
   ]
  },
  {
   "cell_type": "code",
   "execution_count": 9,
   "metadata": {},
   "outputs": [
    {
     "data": {
      "text/html": [
       "<div>\n",
       "<style scoped>\n",
       "    .dataframe tbody tr th:only-of-type {\n",
       "        vertical-align: middle;\n",
       "    }\n",
       "\n",
       "    .dataframe tbody tr th {\n",
       "        vertical-align: top;\n",
       "    }\n",
       "\n",
       "    .dataframe thead th {\n",
       "        text-align: right;\n",
       "    }\n",
       "</style>\n",
       "<table border=\"1\" class=\"dataframe\">\n",
       "  <thead>\n",
       "    <tr style=\"text-align: right;\">\n",
       "      <th></th>\n",
       "      <th>Phone Name</th>\n",
       "      <th>Rating ?/5</th>\n",
       "      <th>Number of Ratings</th>\n",
       "      <th>RAM</th>\n",
       "      <th>ROM/Storage</th>\n",
       "      <th>Back/Rare Camera</th>\n",
       "      <th>Front Camera</th>\n",
       "      <th>Battery</th>\n",
       "      <th>Processor</th>\n",
       "      <th>Price in INR</th>\n",
       "      <th>Date of Scraping</th>\n",
       "    </tr>\n",
       "  </thead>\n",
       "  <tbody>\n",
       "    <tr>\n",
       "      <th>0</th>\n",
       "      <td>POCO C50 Royal Blue 32 GB)</td>\n",
       "      <td>4.2</td>\n",
       "      <td>33561</td>\n",
       "      <td>2 GB RAM</td>\n",
       "      <td>32 GB ROM</td>\n",
       "      <td>8MP Dual Camera</td>\n",
       "      <td>5MP Front Camera</td>\n",
       "      <td>5000 mAh</td>\n",
       "      <td>Mediatek Helio A22 Processor, Upto 2.0 GHz Pro...</td>\n",
       "      <td>₹5,649</td>\n",
       "      <td>2023-06-17</td>\n",
       "    </tr>\n",
       "    <tr>\n",
       "      <th>1</th>\n",
       "      <td>POCO M4 5G Cool Blue 64 GB)</td>\n",
       "      <td>4.2</td>\n",
       "      <td>77128</td>\n",
       "      <td>4 GB RAM</td>\n",
       "      <td>64 GB ROM</td>\n",
       "      <td>50MP + 2MP</td>\n",
       "      <td>8MP Front Camera</td>\n",
       "      <td>5000 mAh</td>\n",
       "      <td>Mediatek Dimensity 700 Processor</td>\n",
       "      <td>₹11,999</td>\n",
       "      <td>2023-06-17</td>\n",
       "    </tr>\n",
       "  </tbody>\n",
       "</table>\n",
       "</div>"
      ],
      "text/plain": [
       "                    Phone Name  Rating ?/5 Number of Ratings       RAM  \\\n",
       "0   POCO C50 Royal Blue 32 GB)         4.2             33561  2 GB RAM   \n",
       "1  POCO M4 5G Cool Blue 64 GB)         4.2             77128  4 GB RAM   \n",
       "\n",
       "  ROM/Storage Back/Rare Camera      Front Camera   Battery  \\\n",
       "0   32 GB ROM  8MP Dual Camera  5MP Front Camera  5000 mAh   \n",
       "1   64 GB ROM       50MP + 2MP  8MP Front Camera  5000 mAh   \n",
       "\n",
       "                                           Processor Price in INR  \\\n",
       "0  Mediatek Helio A22 Processor, Upto 2.0 GHz Pro...       ₹5,649   \n",
       "1                   Mediatek Dimensity 700 Processor      ₹11,999   \n",
       "\n",
       "  Date of Scraping  \n",
       "0       2023-06-17  \n",
       "1       2023-06-17  "
      ]
     },
     "execution_count": 9,
     "metadata": {},
     "output_type": "execute_result"
    }
   ],
   "source": [
    "df[\"Phone Name\"]= df[\"Phone Name\"].str.replace(\"(\",\"\")\n",
    "df.head(2)"
   ]
  },
  {
   "cell_type": "code",
   "execution_count": 10,
   "metadata": {},
   "outputs": [
    {
     "data": {
      "text/html": [
       "<div>\n",
       "<style scoped>\n",
       "    .dataframe tbody tr th:only-of-type {\n",
       "        vertical-align: middle;\n",
       "    }\n",
       "\n",
       "    .dataframe tbody tr th {\n",
       "        vertical-align: top;\n",
       "    }\n",
       "\n",
       "    .dataframe thead th {\n",
       "        text-align: right;\n",
       "    }\n",
       "</style>\n",
       "<table border=\"1\" class=\"dataframe\">\n",
       "  <thead>\n",
       "    <tr style=\"text-align: right;\">\n",
       "      <th></th>\n",
       "      <th>Phone Name</th>\n",
       "      <th>Rating ?/5</th>\n",
       "      <th>Number of Ratings</th>\n",
       "      <th>RAM</th>\n",
       "      <th>ROM/Storage</th>\n",
       "      <th>Back/Rare Camera</th>\n",
       "      <th>Front Camera</th>\n",
       "      <th>Battery</th>\n",
       "      <th>Processor</th>\n",
       "      <th>Price in INR</th>\n",
       "      <th>Date of Scraping</th>\n",
       "    </tr>\n",
       "  </thead>\n",
       "  <tbody>\n",
       "    <tr>\n",
       "      <th>0</th>\n",
       "      <td>POCO C50 Royal Blue 32 GB</td>\n",
       "      <td>4.2</td>\n",
       "      <td>33561</td>\n",
       "      <td>2 GB RAM</td>\n",
       "      <td>32 GB ROM</td>\n",
       "      <td>8MP Dual Camera</td>\n",
       "      <td>5MP Front Camera</td>\n",
       "      <td>5000 mAh</td>\n",
       "      <td>Mediatek Helio A22 Processor, Upto 2.0 GHz Pro...</td>\n",
       "      <td>₹5,649</td>\n",
       "      <td>2023-06-17</td>\n",
       "    </tr>\n",
       "    <tr>\n",
       "      <th>1</th>\n",
       "      <td>POCO M4 5G Cool Blue 64 GB</td>\n",
       "      <td>4.2</td>\n",
       "      <td>77128</td>\n",
       "      <td>4 GB RAM</td>\n",
       "      <td>64 GB ROM</td>\n",
       "      <td>50MP + 2MP</td>\n",
       "      <td>8MP Front Camera</td>\n",
       "      <td>5000 mAh</td>\n",
       "      <td>Mediatek Dimensity 700 Processor</td>\n",
       "      <td>₹11,999</td>\n",
       "      <td>2023-06-17</td>\n",
       "    </tr>\n",
       "  </tbody>\n",
       "</table>\n",
       "</div>"
      ],
      "text/plain": [
       "                   Phone Name  Rating ?/5 Number of Ratings       RAM  \\\n",
       "0   POCO C50 Royal Blue 32 GB         4.2             33561  2 GB RAM   \n",
       "1  POCO M4 5G Cool Blue 64 GB         4.2             77128  4 GB RAM   \n",
       "\n",
       "  ROM/Storage Back/Rare Camera      Front Camera   Battery  \\\n",
       "0   32 GB ROM  8MP Dual Camera  5MP Front Camera  5000 mAh   \n",
       "1   64 GB ROM       50MP + 2MP  8MP Front Camera  5000 mAh   \n",
       "\n",
       "                                           Processor Price in INR  \\\n",
       "0  Mediatek Helio A22 Processor, Upto 2.0 GHz Pro...       ₹5,649   \n",
       "1                   Mediatek Dimensity 700 Processor      ₹11,999   \n",
       "\n",
       "  Date of Scraping  \n",
       "0       2023-06-17  \n",
       "1       2023-06-17  "
      ]
     },
     "execution_count": 10,
     "metadata": {},
     "output_type": "execute_result"
    }
   ],
   "source": [
    "df[\"Phone Name\"]= df[\"Phone Name\"].str.replace(\")\",\"\")\n",
    "df.head(2)"
   ]
  },
  {
   "cell_type": "code",
   "execution_count": 11,
   "metadata": {},
   "outputs": [
    {
     "data": {
      "text/html": [
       "<div>\n",
       "<style scoped>\n",
       "    .dataframe tbody tr th:only-of-type {\n",
       "        vertical-align: middle;\n",
       "    }\n",
       "\n",
       "    .dataframe tbody tr th {\n",
       "        vertical-align: top;\n",
       "    }\n",
       "\n",
       "    .dataframe thead th {\n",
       "        text-align: right;\n",
       "    }\n",
       "</style>\n",
       "<table border=\"1\" class=\"dataframe\">\n",
       "  <thead>\n",
       "    <tr style=\"text-align: right;\">\n",
       "      <th></th>\n",
       "      <th>Phone Name</th>\n",
       "      <th>Rating ?/5</th>\n",
       "      <th>Number of Ratings</th>\n",
       "      <th>RAM</th>\n",
       "      <th>ROM/Storage</th>\n",
       "      <th>Back/Rare Camera</th>\n",
       "      <th>Front Camera</th>\n",
       "      <th>Battery</th>\n",
       "      <th>Processor</th>\n",
       "      <th>Price in INR</th>\n",
       "      <th>Date of Scraping</th>\n",
       "    </tr>\n",
       "  </thead>\n",
       "  <tbody>\n",
       "    <tr>\n",
       "      <th>0</th>\n",
       "      <td>POCO C50 Royal Blue 32 GB</td>\n",
       "      <td>4.2</td>\n",
       "      <td>33561</td>\n",
       "      <td>2 GB RAM</td>\n",
       "      <td>32 GB ROM</td>\n",
       "      <td>8MP Dual Camera</td>\n",
       "      <td>5MP Front Camera</td>\n",
       "      <td>5000 mAh</td>\n",
       "      <td>Mediatek Helio A22 Processor Upto 2.0 GHz Proc...</td>\n",
       "      <td>₹5,649</td>\n",
       "      <td>2023-06-17</td>\n",
       "    </tr>\n",
       "    <tr>\n",
       "      <th>1</th>\n",
       "      <td>POCO M4 5G Cool Blue 64 GB</td>\n",
       "      <td>4.2</td>\n",
       "      <td>77128</td>\n",
       "      <td>4 GB RAM</td>\n",
       "      <td>64 GB ROM</td>\n",
       "      <td>50MP + 2MP</td>\n",
       "      <td>8MP Front Camera</td>\n",
       "      <td>5000 mAh</td>\n",
       "      <td>Mediatek Dimensity 700 Processor</td>\n",
       "      <td>₹11,999</td>\n",
       "      <td>2023-06-17</td>\n",
       "    </tr>\n",
       "  </tbody>\n",
       "</table>\n",
       "</div>"
      ],
      "text/plain": [
       "                   Phone Name  Rating ?/5 Number of Ratings       RAM  \\\n",
       "0   POCO C50 Royal Blue 32 GB         4.2             33561  2 GB RAM   \n",
       "1  POCO M4 5G Cool Blue 64 GB         4.2             77128  4 GB RAM   \n",
       "\n",
       "  ROM/Storage Back/Rare Camera      Front Camera   Battery  \\\n",
       "0   32 GB ROM  8MP Dual Camera  5MP Front Camera  5000 mAh   \n",
       "1   64 GB ROM       50MP + 2MP  8MP Front Camera  5000 mAh   \n",
       "\n",
       "                                           Processor Price in INR  \\\n",
       "0  Mediatek Helio A22 Processor Upto 2.0 GHz Proc...       ₹5,649   \n",
       "1                   Mediatek Dimensity 700 Processor      ₹11,999   \n",
       "\n",
       "  Date of Scraping  \n",
       "0       2023-06-17  \n",
       "1       2023-06-17  "
      ]
     },
     "execution_count": 11,
     "metadata": {},
     "output_type": "execute_result"
    }
   ],
   "source": [
    "df[\"Processor\"]= df[\"Processor\"].str.replace(\",\",\"\")\n",
    "df.head(2)"
   ]
  },
  {
   "cell_type": "code",
   "execution_count": 12,
   "metadata": {},
   "outputs": [
    {
     "data": {
      "text/html": [
       "<div>\n",
       "<style scoped>\n",
       "    .dataframe tbody tr th:only-of-type {\n",
       "        vertical-align: middle;\n",
       "    }\n",
       "\n",
       "    .dataframe tbody tr th {\n",
       "        vertical-align: top;\n",
       "    }\n",
       "\n",
       "    .dataframe thead th {\n",
       "        text-align: right;\n",
       "    }\n",
       "</style>\n",
       "<table border=\"1\" class=\"dataframe\">\n",
       "  <thead>\n",
       "    <tr style=\"text-align: right;\">\n",
       "      <th></th>\n",
       "      <th>Phone Name</th>\n",
       "      <th>Rating ?/5</th>\n",
       "      <th>Number of Ratings</th>\n",
       "      <th>RAM</th>\n",
       "      <th>ROM/Storage</th>\n",
       "      <th>Back/Rare Camera</th>\n",
       "      <th>Front Camera</th>\n",
       "      <th>Battery</th>\n",
       "      <th>Processor</th>\n",
       "      <th>Price in INR</th>\n",
       "      <th>Date of Scraping</th>\n",
       "    </tr>\n",
       "  </thead>\n",
       "  <tbody>\n",
       "    <tr>\n",
       "      <th>0</th>\n",
       "      <td>POCO C50 Royal Blue 32 GB</td>\n",
       "      <td>4.2</td>\n",
       "      <td>33561</td>\n",
       "      <td>2 GB RAM</td>\n",
       "      <td>32 GB ROM</td>\n",
       "      <td>8MP Dual Camera</td>\n",
       "      <td>5MP Front Camera</td>\n",
       "      <td>5000 mAh</td>\n",
       "      <td>Mediatek Helio A22 Processor Upto 2.0 GHz Proc...</td>\n",
       "      <td>5,649</td>\n",
       "      <td>2023-06-17</td>\n",
       "    </tr>\n",
       "    <tr>\n",
       "      <th>1</th>\n",
       "      <td>POCO M4 5G Cool Blue 64 GB</td>\n",
       "      <td>4.2</td>\n",
       "      <td>77128</td>\n",
       "      <td>4 GB RAM</td>\n",
       "      <td>64 GB ROM</td>\n",
       "      <td>50MP + 2MP</td>\n",
       "      <td>8MP Front Camera</td>\n",
       "      <td>5000 mAh</td>\n",
       "      <td>Mediatek Dimensity 700 Processor</td>\n",
       "      <td>11,999</td>\n",
       "      <td>2023-06-17</td>\n",
       "    </tr>\n",
       "  </tbody>\n",
       "</table>\n",
       "</div>"
      ],
      "text/plain": [
       "                   Phone Name  Rating ?/5 Number of Ratings       RAM  \\\n",
       "0   POCO C50 Royal Blue 32 GB         4.2             33561  2 GB RAM   \n",
       "1  POCO M4 5G Cool Blue 64 GB         4.2             77128  4 GB RAM   \n",
       "\n",
       "  ROM/Storage Back/Rare Camera      Front Camera   Battery  \\\n",
       "0   32 GB ROM  8MP Dual Camera  5MP Front Camera  5000 mAh   \n",
       "1   64 GB ROM       50MP + 2MP  8MP Front Camera  5000 mAh   \n",
       "\n",
       "                                           Processor Price in INR  \\\n",
       "0  Mediatek Helio A22 Processor Upto 2.0 GHz Proc...        5,649   \n",
       "1                   Mediatek Dimensity 700 Processor       11,999   \n",
       "\n",
       "  Date of Scraping  \n",
       "0       2023-06-17  \n",
       "1       2023-06-17  "
      ]
     },
     "execution_count": 12,
     "metadata": {},
     "output_type": "execute_result"
    }
   ],
   "source": [
    "df[\"Price in INR\"]= df[\"Price in INR\"].str.replace(\"₹\",\"\")\n",
    "df.head(2)"
   ]
  },
  {
   "cell_type": "code",
   "execution_count": 13,
   "metadata": {},
   "outputs": [
    {
     "data": {
      "text/html": [
       "<div>\n",
       "<style scoped>\n",
       "    .dataframe tbody tr th:only-of-type {\n",
       "        vertical-align: middle;\n",
       "    }\n",
       "\n",
       "    .dataframe tbody tr th {\n",
       "        vertical-align: top;\n",
       "    }\n",
       "\n",
       "    .dataframe thead th {\n",
       "        text-align: right;\n",
       "    }\n",
       "</style>\n",
       "<table border=\"1\" class=\"dataframe\">\n",
       "  <thead>\n",
       "    <tr style=\"text-align: right;\">\n",
       "      <th></th>\n",
       "      <th>Phone Name</th>\n",
       "      <th>Rating ?/5</th>\n",
       "      <th>Number of Ratings</th>\n",
       "      <th>RAM</th>\n",
       "      <th>ROM/Storage</th>\n",
       "      <th>Back/Rare Camera</th>\n",
       "      <th>Front Camera</th>\n",
       "      <th>Battery</th>\n",
       "      <th>Processor</th>\n",
       "      <th>Price in INR</th>\n",
       "      <th>Date of Scraping</th>\n",
       "    </tr>\n",
       "  </thead>\n",
       "  <tbody>\n",
       "    <tr>\n",
       "      <th>0</th>\n",
       "      <td>POCO C50 Royal Blue 32 GB</td>\n",
       "      <td>4.2</td>\n",
       "      <td>33561</td>\n",
       "      <td>2 GB RAM</td>\n",
       "      <td>32 GB ROM</td>\n",
       "      <td>8MP Dual Camera</td>\n",
       "      <td>5MP Front Camera</td>\n",
       "      <td>5000 mAh</td>\n",
       "      <td>Mediatek Helio A22 Processor Upto 2.0 GHz Proc...</td>\n",
       "      <td>5649</td>\n",
       "      <td>2023-06-17</td>\n",
       "    </tr>\n",
       "    <tr>\n",
       "      <th>1</th>\n",
       "      <td>POCO M4 5G Cool Blue 64 GB</td>\n",
       "      <td>4.2</td>\n",
       "      <td>77128</td>\n",
       "      <td>4 GB RAM</td>\n",
       "      <td>64 GB ROM</td>\n",
       "      <td>50MP + 2MP</td>\n",
       "      <td>8MP Front Camera</td>\n",
       "      <td>5000 mAh</td>\n",
       "      <td>Mediatek Dimensity 700 Processor</td>\n",
       "      <td>11999</td>\n",
       "      <td>2023-06-17</td>\n",
       "    </tr>\n",
       "  </tbody>\n",
       "</table>\n",
       "</div>"
      ],
      "text/plain": [
       "                   Phone Name  Rating ?/5 Number of Ratings       RAM  \\\n",
       "0   POCO C50 Royal Blue 32 GB         4.2             33561  2 GB RAM   \n",
       "1  POCO M4 5G Cool Blue 64 GB         4.2             77128  4 GB RAM   \n",
       "\n",
       "  ROM/Storage Back/Rare Camera      Front Camera   Battery  \\\n",
       "0   32 GB ROM  8MP Dual Camera  5MP Front Camera  5000 mAh   \n",
       "1   64 GB ROM       50MP + 2MP  8MP Front Camera  5000 mAh   \n",
       "\n",
       "                                           Processor Price in INR  \\\n",
       "0  Mediatek Helio A22 Processor Upto 2.0 GHz Proc...         5649   \n",
       "1                   Mediatek Dimensity 700 Processor        11999   \n",
       "\n",
       "  Date of Scraping  \n",
       "0       2023-06-17  \n",
       "1       2023-06-17  "
      ]
     },
     "execution_count": 13,
     "metadata": {},
     "output_type": "execute_result"
    }
   ],
   "source": [
    "df[\"Price in INR\"]= df[\"Price in INR\"].str.replace(\",\",\"\")\n",
    "df.head(2)"
   ]
  },
  {
   "cell_type": "markdown",
   "metadata": {},
   "source": [
    "# Using labelencoder to convert categorical values to numeric"
   ]
  },
  {
   "cell_type": "code",
   "execution_count": 14,
   "metadata": {},
   "outputs": [
    {
     "data": {
      "text/html": [
       "<div>\n",
       "<style scoped>\n",
       "    .dataframe tbody tr th:only-of-type {\n",
       "        vertical-align: middle;\n",
       "    }\n",
       "\n",
       "    .dataframe tbody tr th {\n",
       "        vertical-align: top;\n",
       "    }\n",
       "\n",
       "    .dataframe thead th {\n",
       "        text-align: right;\n",
       "    }\n",
       "</style>\n",
       "<table border=\"1\" class=\"dataframe\">\n",
       "  <thead>\n",
       "    <tr style=\"text-align: right;\">\n",
       "      <th></th>\n",
       "      <th>Phone Name</th>\n",
       "      <th>Rating ?/5</th>\n",
       "      <th>Number of Ratings</th>\n",
       "      <th>RAM</th>\n",
       "      <th>ROM/Storage</th>\n",
       "      <th>Back/Rare Camera</th>\n",
       "      <th>Front Camera</th>\n",
       "      <th>Battery</th>\n",
       "      <th>Processor</th>\n",
       "      <th>Price in INR</th>\n",
       "      <th>Date of Scraping</th>\n",
       "    </tr>\n",
       "  </thead>\n",
       "  <tbody>\n",
       "    <tr>\n",
       "      <th>0</th>\n",
       "      <td>746</td>\n",
       "      <td>4.2</td>\n",
       "      <td>404</td>\n",
       "      <td>16</td>\n",
       "      <td>14</td>\n",
       "      <td>171</td>\n",
       "      <td>26</td>\n",
       "      <td>78</td>\n",
       "      <td>187</td>\n",
       "      <td>407</td>\n",
       "      <td>0</td>\n",
       "    </tr>\n",
       "    <tr>\n",
       "      <th>1</th>\n",
       "      <td>789</td>\n",
       "      <td>4.2</td>\n",
       "      <td>639</td>\n",
       "      <td>25</td>\n",
       "      <td>20</td>\n",
       "      <td>118</td>\n",
       "      <td>32</td>\n",
       "      <td>78</td>\n",
       "      <td>173</td>\n",
       "      <td>45</td>\n",
       "      <td>0</td>\n",
       "    </tr>\n",
       "    <tr>\n",
       "      <th>2</th>\n",
       "      <td>748</td>\n",
       "      <td>4.3</td>\n",
       "      <td>147</td>\n",
       "      <td>25</td>\n",
       "      <td>20</td>\n",
       "      <td>172</td>\n",
       "      <td>26</td>\n",
       "      <td>78</td>\n",
       "      <td>106</td>\n",
       "      <td>441</td>\n",
       "      <td>0</td>\n",
       "    </tr>\n",
       "  </tbody>\n",
       "</table>\n",
       "</div>"
      ],
      "text/plain": [
       "   Phone Name  Rating ?/5  Number of Ratings  RAM  ROM/Storage  \\\n",
       "0         746         4.2                404   16           14   \n",
       "1         789         4.2                639   25           20   \n",
       "2         748         4.3                147   25           20   \n",
       "\n",
       "   Back/Rare Camera  Front Camera  Battery  Processor  Price in INR  \\\n",
       "0               171            26       78        187           407   \n",
       "1               118            32       78        173            45   \n",
       "2               172            26       78        106           441   \n",
       "\n",
       "   Date of Scraping  \n",
       "0                 0  \n",
       "1                 0  \n",
       "2                 0  "
      ]
     },
     "execution_count": 14,
     "metadata": {},
     "output_type": "execute_result"
    }
   ],
   "source": [
    "encoder=LabelEncoder()\n",
    "category=df.select_dtypes(include=[\"object\",\"category\"])\n",
    "for x in category:\n",
    "    df[x]=encoder.fit_transform(df[x])\n",
    "df.head(3)"
   ]
  },
  {
   "cell_type": "markdown",
   "metadata": {},
   "source": [
    "# FEATURE ENGINEERING\n",
    "spliting the dataset into X and y into dependent and independent variable, the X should be capital letter \n",
    "X is independent variables "
   ]
  },
  {
   "cell_type": "code",
   "execution_count": 15,
   "metadata": {},
   "outputs": [
    {
     "name": "stdout",
     "output_type": "stream",
     "text": [
      "The independent variables: Index(['Phone Name', 'Rating ?/5', 'Number of Ratings', 'RAM', 'ROM/Storage',\n",
      "       'Back/Rare Camera', 'Front Camera', 'Battery', 'Processor',\n",
      "       'Date of Scraping'],\n",
      "      dtype='object')\n",
      "The dependent variables are: Price in INR 0       407\n",
      "1        45\n",
      "2       441\n",
      "3       459\n",
      "4       441\n",
      "       ... \n",
      "1831    106\n",
      "1832    106\n",
      "1833    106\n",
      "1834    182\n",
      "1835     23\n",
      "Name: Price in INR, Length: 1836, dtype: int32\n"
     ]
    }
   ],
   "source": [
    "X=df.drop([\"Price in INR\"],axis=1) #independent variables\n",
    "y=df[\"Price in INR\"] # dependent variables\n",
    "print(\"The independent variables:\",X.columns)\n",
    "print(\"The dependent variables are: Price in INR\",y)"
   ]
  },
  {
   "cell_type": "markdown",
   "metadata": {},
   "source": [
    "# Using Feature Engineering to know which Column(s) are important"
   ]
  },
  {
   "cell_type": "code",
   "execution_count": 16,
   "metadata": {},
   "outputs": [
    {
     "data": {
      "image/png": "[encoded data removed]",
      "text/plain": [
       "<Figure size 640x480 with 1 Axes>"
      ]
     },
     "metadata": {},
     "output_type": "display_data"
    }
   ],
   "source": [
    "plt.style.use(\"ggplot\")\n",
    "importance=mutual_info_classif(X,y)\n",
    "feature_impo=pd.Series(importance,X.columns[0:len(X.columns)])\n",
    "feature_impo.plot(kind=\"barh\",color=\"purple\")\n",
    "plt.show()"
   ]
  },
  {
   "cell_type": "code",
   "execution_count": 17,
   "metadata": {},
   "outputs": [],
   "source": [
    "X=df.drop([\"Date of Scraping\"],axis=1)"
   ]
  },
  {
   "cell_type": "code",
   "execution_count": 18,
   "metadata": {},
   "outputs": [
    {
     "data": {
      "text/html": [
       "<div>\n",
       "<style scoped>\n",
       "    .dataframe tbody tr th:only-of-type {\n",
       "        vertical-align: middle;\n",
       "    }\n",
       "\n",
       "    .dataframe tbody tr th {\n",
       "        vertical-align: top;\n",
       "    }\n",
       "\n",
       "    .dataframe thead th {\n",
       "        text-align: right;\n",
       "    }\n",
       "</style>\n",
       "<table border=\"1\" class=\"dataframe\">\n",
       "  <thead>\n",
       "    <tr style=\"text-align: right;\">\n",
       "      <th></th>\n",
       "      <th>Phone Name</th>\n",
       "      <th>Rating ?/5</th>\n",
       "      <th>Number of Ratings</th>\n",
       "      <th>RAM</th>\n",
       "      <th>ROM/Storage</th>\n",
       "      <th>Back/Rare Camera</th>\n",
       "      <th>Front Camera</th>\n",
       "      <th>Battery</th>\n",
       "      <th>Processor</th>\n",
       "      <th>Price in INR</th>\n",
       "    </tr>\n",
       "  </thead>\n",
       "  <tbody>\n",
       "    <tr>\n",
       "      <th>0</th>\n",
       "      <td>746</td>\n",
       "      <td>4.2</td>\n",
       "      <td>404</td>\n",
       "      <td>16</td>\n",
       "      <td>14</td>\n",
       "      <td>171</td>\n",
       "      <td>26</td>\n",
       "      <td>78</td>\n",
       "      <td>187</td>\n",
       "      <td>407</td>\n",
       "    </tr>\n",
       "    <tr>\n",
       "      <th>1</th>\n",
       "      <td>789</td>\n",
       "      <td>4.2</td>\n",
       "      <td>639</td>\n",
       "      <td>25</td>\n",
       "      <td>20</td>\n",
       "      <td>118</td>\n",
       "      <td>32</td>\n",
       "      <td>78</td>\n",
       "      <td>173</td>\n",
       "      <td>45</td>\n",
       "    </tr>\n",
       "  </tbody>\n",
       "</table>\n",
       "</div>"
      ],
      "text/plain": [
       "   Phone Name  Rating ?/5  Number of Ratings  RAM  ROM/Storage  \\\n",
       "0         746         4.2                404   16           14   \n",
       "1         789         4.2                639   25           20   \n",
       "\n",
       "   Back/Rare Camera  Front Camera  Battery  Processor  Price in INR  \n",
       "0               171            26       78        187           407  \n",
       "1               118            32       78        173            45  "
      ]
     },
     "execution_count": 18,
     "metadata": {},
     "output_type": "execute_result"
    }
   ],
   "source": [
    "X.head(2)"
   ]
  },
  {
   "cell_type": "markdown",
   "metadata": {},
   "source": [
    "# Splitting the Dataset into Train and Test set"
   ]
  },
  {
   "cell_type": "code",
   "execution_count": 19,
   "metadata": {},
   "outputs": [],
   "source": [
    "Xtrain, xtest,ytrain,ytest=train_test_split(X,y,test_size=0.20,random_state=1)"
   ]
  },
  {
   "cell_type": "code",
   "execution_count": 20,
   "metadata": {},
   "outputs": [
    {
     "data": {
      "text/plain": [
       "<function matplotlib.pyplot.show(close=None, block=None)>"
      ]
     },
     "execution_count": 20,
     "metadata": {},
     "output_type": "execute_result"
    },
    {
     "data": {
      "image/png": "[encoded data removed]",
      "text/plain": [
       "<Figure size 640x480 with 1 Axes>"
      ]
     },
     "metadata": {},
     "output_type": "display_data"
    }
   ],
   "source": [
    "sns.countplot(x=\"Price in INR\",data=df)\n",
    "plt.show"
   ]
  },
  {
   "cell_type": "markdown",
   "metadata": {},
   "source": [
    "Putting all the algorithm into a pipeline"
   ]
  },
  {
   "cell_type": "code",
   "execution_count": 21,
   "metadata": {},
   "outputs": [],
   "source": [
    "from sklearn.pipeline import Pipeline\n",
    "Pipelines={\n",
    "      \"KNeighbors\":Pipeline([(\"Scaler\",StandardScaler()), (\"Classifer\",KNeighborsClassifier())]),\n",
    "      \"DecisionTree\":Pipeline([(\"CLASSIFIER\",DecisionTreeClassifier())]),\n",
    "      \"LogisticRegression\":Pipeline([(\"memory=Scaler\",StandardScaler()),(\"CLASSIFIER\",LogisticRegression())]),\n",
    "      \"RandomForest\":Pipeline([(\"Scaler\",StandardScaler()),(\"CLASSIFIER\",RandomForestClassifier())]),\n",
    "      \"SVC\":Pipeline([(\"Scaler\",StandardScaler()),(\"CLASSIFIER\",SVC())]),\n",
    "      \"GaussianNB\":Pipeline([(\"Scaler\",StandardScaler()),(\"CLASSIFIER\",GaussianNB())]),\n",
    "      \"LinearModel\":Pipeline([(\"Scaler\",StandardScaler()),(\"Regression\",LinearRegression())]),\n",
    "      \"LinearModel2\":Pipeline([(\"Scaler\",StandardScaler()),(\"Regression\",DecisionTreeRegressor())]),\n",
    "      \"LinearModel3\":Pipeline([('Scaler',StandardScaler()),('Regression',MLPRegressor())]),\n",
    "      \"LinearModel4\":Pipeline([('Scaler',StandardScaler()),('Regression',RandomForestRegressor())]),\n",
    "}"
   ]
  },
  {
   "cell_type": "markdown",
   "metadata": {},
   "source": []
  },
  {
   "cell_type": "code",
   "execution_count": 22,
   "metadata": {},
   "outputs": [
    {
     "name": "stdout",
     "output_type": "stream",
     "text": [
      "accuracy of KNeighbors:Pipeline(steps=[('Scaler', StandardScaler()),\n",
      "                ('Classifer', KNeighborsClassifier())])\n",
      "accuracy of DecisionTree:Pipeline(steps=[('CLASSIFIER', DecisionTreeClassifier())])\n",
      "accuracy of LogisticRegression:Pipeline(steps=[('memory=Scaler', StandardScaler()),\n",
      "                ('CLASSIFIER', LogisticRegression())])\n",
      "accuracy of RandomForest:Pipeline(steps=[('Scaler', StandardScaler()),\n",
      "                ('CLASSIFIER', RandomForestClassifier())])\n",
      "accuracy of SVC:Pipeline(steps=[('Scaler', StandardScaler()), ('CLASSIFIER', SVC())])\n",
      "accuracy of GaussianNB:Pipeline(steps=[('Scaler', StandardScaler()), ('CLASSIFIER', GaussianNB())])\n",
      "accuracy of LinearModel:Pipeline(steps=[('Scaler', StandardScaler()),\n",
      "                ('Regression', LinearRegression())])\n",
      "accuracy of LinearModel2:Pipeline(steps=[('Scaler', StandardScaler()),\n",
      "                ('Regression', DecisionTreeRegressor())])\n"
     ]
    },
    {
     "name": "stderr",
     "output_type": "stream",
     "text": [
      "c:\\Users\\hdwipe\\AppData\\Local\\Programs\\Python\\Python312\\Lib\\site-packages\\sklearn\\neural_network\\_multilayer_perceptron.py:691: ConvergenceWarning: Stochastic Optimizer: Maximum iterations (200) reached and the optimization hasn't converged yet.\n",
      "  warnings.warn(\n"
     ]
    },
    {
     "name": "stdout",
     "output_type": "stream",
     "text": [
      "accuracy of LinearModel3:Pipeline(steps=[('Scaler', StandardScaler()), ('Regression', MLPRegressor())])\n",
      "accuracy of LinearModel4:Pipeline(steps=[('Scaler', StandardScaler()),\n",
      "                ('Regression', RandomForestRegressor())])\n"
     ]
    }
   ],
   "source": [
    "for name,pipeline in Pipelines.items():\n",
    "    accuracy=pipeline.fit(xtest,ytest)\n",
    "    print(F\"accuracy of {name}:{accuracy}\")"
   ]
  },
  {
   "cell_type": "code",
   "execution_count": 23,
   "metadata": {},
   "outputs": [
    {
     "name": "stdout",
     "output_type": "stream",
     "text": [
      "accuracy of KNeighbors:0.3016304347826087\n",
      "accuracy of DecisionTree:1.0\n",
      "accuracy of LogisticRegression:0.4701086956521739\n",
      "accuracy of RandomForest:1.0\n",
      "accuracy of SVC:0.28804347826086957\n",
      "accuracy of GaussianNB:1.0\n",
      "accuracy of LinearModel:1.0\n",
      "accuracy of LinearModel2:1.0\n",
      "accuracy of LinearModel3:-1.2600798040200396\n",
      "accuracy of LinearModel4:0.9999844754882072\n"
     ]
    }
   ],
   "source": [
    "for name,pipeline in Pipelines.items():\n",
    "    accuracy=pipeline.score(xtest,ytest)\n",
    "    print(F\"accuracy of {name}:{accuracy}\")"
   ]
  },
  {
   "cell_type": "code",
   "execution_count": 24,
   "metadata": {},
   "outputs": [
    {
     "name": "stdout",
     "output_type": "stream",
     "text": [
      "LinearRegression in process.....\n",
      "Done fitting Training set.\n"
     ]
    }
   ],
   "source": [
    "accuracy=Pipeline([(\"Scaler\",StandardScaler()),(\"Regression\",LinearRegression())])\n",
    "print(\"LinearRegression in process.....\")\n",
    "accuracy.fit(Xtrain,ytrain)\n",
    "print(\"Done fitting Training set.\")"
   ]
  },
  {
   "cell_type": "markdown",
   "metadata": {},
   "source": [
    "# prediction"
   ]
  },
  {
   "cell_type": "code",
   "execution_count": 25,
   "metadata": {},
   "outputs": [
    {
     "name": "stdout",
     "output_type": "stream",
     "text": [
      "accuracy of KNeighbors:[202  55  45  36 128 441 518  79 456 209 388   6  92 518 235 135  29 106\n",
      " 300 258 335 407 419  92  73 485 472 182 346 258 506 203 518   2 261  45\n",
      " 188 202  92  92 472  79 506  92  21 167  92  55  40 202  45  23 300 188\n",
      "  36 135 160  21 506  45 258  92 128  23 349 167 441 465 258  45  23  40\n",
      " 518  60  98  40   8 388  57 273  23 335  79 147 319 415 238 106 106 506\n",
      "  24  88  22 188  57 167 363 167 441   9 506 188 238 258 315  79   2  92\n",
      " 182  61 456  18 127 400  21 258 261 106   2 407 238  79 182  79 335 106\n",
      " 518 335 147 209 202 235  23  95 128 506 407 106 287 472 400 145 235  73\n",
      "  57 433  96 248   2 202 202 234 147 157  92 158 419 157  23 518  23  45\n",
      " 202   8  92 287 209 159 202  23 158 159 485 506  23 182  55 346 300  60\n",
      " 495 485 441 234  29 441 261 400 518 182  23 238 235 224 407  11  92 159\n",
      " 273 234 335  97 147  18  98  92 159 400 188 235 441  79 518 495 147 238\n",
      " 459  95 433 106 506 234  98 202 159   2 182 518 167  92 168  45 258 335\n",
      " 518 159 441  57 188 506 224 127 224 106 182  97 294 202 135  70 106  23\n",
      "  36 238 106 441 127 495  23 441 419 419   6  79 419 407  92 518 441 273\n",
      " 238 209 182 234 456 346 167 433 167 419 248  92  24 147 419   2  21 295\n",
      " 188 495 234  98   8 224 407  97  79 202 167 188 433 238 182 167 400 441\n",
      "  92  45 127 160  21  98  95 106 216 413  21 346 295 234  88 209 209 400\n",
      " 388 361 167 167  24  18 295 202  23 201  18 147 167 346 106  61  82 145\n",
      " 106 157  23 123 238 407 147 518  55 407  79 203  29  73 188  21 188 300\n",
      " 518 106 202  92  92  57 258 273]\n",
      "accuracy of DecisionTree:[202  55 135 106 128 441 506 106 495 311 388 201 113 518 235 147  79 323\n",
      " 244 301 335 461 442  92  95 485 472 311 382 258 506 317 357   2 413  71\n",
      " 188 226 225  92 451  79 495  92  21 244  87 200 110 249  92 114 300 409\n",
      "  92 209 160  79 469 238 380  36 226  23 433 255 441 518 258  45 106  40\n",
      " 518  65 164 123  36 388 145 349  23 507 127 167 363 485 238 244 244 518\n",
      "  29  88  36 202  59 329 516 194 495  92 465 258 203 173 315 128   2  92\n",
      " 182 182 518  18 127 394 112 198 261 106  60 456 238  79 182 166 335 106\n",
      " 518 335 156 209 294 276  43 378 128 483 441 167 295 472 352 226 248  73\n",
      "  61 473  96 462   6 202 243 224 147 255  89 209 419 241  23 506  23  45\n",
      " 238   8  45 340  89 163 232 106 257 161 485 485  53 238  96 414 314  74\n",
      " 518 518 417 173 147 518 295 474 504 287  23 311 403 359 418  45 183 204\n",
      " 310 234 363 169 167  85   9 217 174 400 182 487 388 217 495 495 218 346\n",
      " 495 270 518 167 506 234  98 202 278  60 182 485 167  92 301  45 258 106\n",
      " 518 159 441  57 188 456 372 128 375 300 182  97 501 388 364  70 172  23\n",
      " 106 432 106 427 137 459  23 441 370 472  73  79 409 413  45 373 518 273\n",
      " 216 238 235 119 456 348 249 461 182 486 506  92  24  82 419   2  22 506\n",
      " 182 466 233  98  11 224 407 182  80 235 167 202 475 238 353 167 348 465\n",
      " 225  54 127 208  23  79 361 167 358 470  22 346 466 129 413 453 209 400\n",
      " 441 385 194 301 135  96 295 202   9 421  33 147 352 376 106 168 111 381\n",
      " 128 157  23 158 238 441 192 517 185 415  98 221  92 102 280  21 135 300\n",
      " 495 135 209  92  22  79 319 322]\n",
      "accuracy of LogisticRegression:[202  55 135 106 128 441 506  92 518 311 388 238 113 518 235 182  92 323\n",
      " 311 258 335 466 472 167  95 485 472 311 414 258 506 317 357   2 413  92\n",
      " 202 226 225 167 472 106 518  79  21 128  92 200  79 202 135  23 300 202\n",
      "  92 182  98 106 495 441 380  92 202  23 433 226 441 518 258 135  23  79\n",
      " 518  65  98  79 106 388 145 349  23 335 127 147 465 495 182 518 244 518\n",
      "  92  88  92 202 128 238 518 167 518 106 506 202 221 167 315 106   2  92\n",
      " 182 182 518  79 127 400  22 167 261 182  60 456 182 167 182 166 335 106\n",
      " 518 335 147 128 202 276  23 378 128 495 441 182 182 472 400 226 248 202\n",
      " 128 518 119 462   6 202 226 224 167 238  23 258 419 182  23 506  23  45\n",
      " 202  23  23 182 128 163 238  23 257 161 485 485  23 202 147 414 226  60\n",
      " 495 495 441 234  92 518 261 400 518 353  23 300 226 359 495  92 183 204\n",
      " 310 234 335 182 147  96 106 167 163 400 182 487 441 106 495 495 218 311\n",
      " 518 270 518  92 506 234  98 202 278  60 202 518 167  92 182  92 258  92\n",
      " 518 161 441 128 202 495 372 182 375 300 182 182 501 388 364  70 128  23\n",
      "  92 432 182 427 202 518  23 441 419 472  45 167 472 441 167 373 518 273\n",
      " 182 238 202 234 518 506 209 518 167 486 506  92  92  45 472   2  22 300\n",
      " 182 518 234  98  23 224 466 182  80 226 202 202 518 209 353 167 400 518\n",
      " 225  54 127 182 106  98 361 167 182 441  22 506 466 234 413 453 128 400\n",
      " 495 385 182 301 135  96 373 202  23 421  79 167 352 414 106 182 111 381\n",
      " 182  98  23  98 209 518 192 518 185 495  98 221  92 102 202  21 182 300\n",
      " 485 128 167  23  23 106 319 322]\n",
      "accuracy of RandomForest:[202  55 135 106 128 441 506 106 495 311 388 201 113 518 235 147  79 323\n",
      " 244 301 335 461 442  92  95 485 472 311 382 258 506 317 357   2 413  71\n",
      " 188 226 225  92 451  79 495  92  21 244  87 200 110 249  92 114 300 409\n",
      "  92 209 160  79 469 238 380  36 226  23 433 255 441 518 258  45 106  40\n",
      " 518  65 164 123  36 388 145 349  23 507 127 167 363 485 238 244 244 518\n",
      "  29  88  36 202  59 329 516 194 495  92 465 258 203 173 315 128   2  92\n",
      " 182 182 518  18 127 394 112 198 261 106  60 456 238  79 182 166 335 106\n",
      " 518 335 156 209 294 276  43 378 128 483 441 167 295 472 352 226 248  73\n",
      "  61 473  96 462   6 202 243 224 147 255  89 209 419 241  23 506  23  45\n",
      " 238   8  45 340  89 163 232 106 257 161 485 485  53 238  96 414 314  74\n",
      " 518 518 417 173 147 518 295 474 504 287  23 311 403 359 418  45 183 204\n",
      " 310 234 363 169 167  85   9 217 174 400 182 487 388 217 495 495 218 346\n",
      " 495 270 518 167 506 234  98 202 278  60 182 485 167  92 301  45 258 106\n",
      " 518 159 441  57 188 456 372 128 375 300 182  97 501 388 364  70 172  23\n",
      " 106 432 106 427 137 459  23 441 370 472  73  79 409 413  45 373 518 273\n",
      " 216 238 235 119 456 348 249 461 182 486 506  92  24  82 419   2  22 506\n",
      " 182 466 233  98  11 224 407 182  80 235 167 202 475 238 353 167 348 465\n",
      " 225  54 127 208  23  79 361 167 358 470  22 346 466 129 413 453 209 400\n",
      " 441 385 194 301 135  96 295 202   9 421  33 147 352 376 106 168 111 381\n",
      " 128 157  23 158 238 441 192 517 185 415  98 221  92 102 280  21 135 300\n",
      " 495 135 209  92  22  79 319 322]\n",
      "accuracy of SVC:[182  92 182 106 128 441 518  92 518 311 388 182  92 518 235 182  92 106\n",
      " 244 258 335 518 472  92  92 485 472 167 238 167 518 182 518   2 413  23\n",
      " 182 182 225  92 472 106 518  92  23 167  92  92 182 202 182  23 182 182\n",
      "  92 182 182 106 518 238 258  92 167  23 518 167 441 518 167 182  23 182\n",
      " 518  60 182 182 106 388 182 441  23 335  92 167 441 518 182 518 106 518\n",
      "  92  88  92 202 182 167 518 167 518  92 518 182 182 167 441 106   2  92\n",
      " 182 182 518  79 167 400  92 167 441 167   2 518 182  79 182  79 335 106\n",
      " 518 335  92 167 202 276  23 378 128 518 441 182 182 472 400 182 248 182\n",
      " 182 518  96 462 106 167 106 224 167 182  23 182 472 182  23 518  23  92\n",
      " 202  23  23 182 106  92 182  23 182 106 485 518  23 202  92 238 182   2\n",
      " 518 518 441 234  92 518 295 472 518 182  23 238 238 224 441  92  92  92\n",
      " 518 234 335 182 167 106 106  92  92 400 182 506 441 106 518 518 238 238\n",
      " 518 518 518 167 506 234  98 202 238   2 182 518 167  92 182  92 258 106\n",
      " 518 106 441 182 182 518 372 167 375 106 182 182 506 182 182  92 167  23\n",
      "  92 238 167 518 202 518  23 518 472 472  92  79 472 441  92 295 518 441\n",
      " 182 238 182 234 518 182 167 518 167 472 506  92  92  92 472   2  23 506\n",
      " 182 518 234  98  23 224 441 182  92 238 167 182 518 167 182 167 400 518\n",
      " 225  92 167 182  23 182 518 167 182 441  23 238 518 234 413 388 167 400\n",
      " 518 385 182 167  92 106 295 202  23 238 106 167 238 238 106 182  92 182\n",
      " 182 182  23 182 167 441 182 518  92 518 182 182  92  92 167  23 182 182\n",
      " 518 106 167  23  92 106 258 441]\n",
      "accuracy of GaussianNB:[202  55 135 106 128 441 506 106 495 311 388 201 113 518 235 147  79 323\n",
      " 244 301 335 461 442  92  95 485 472 311 382 258 506 317 357   2 413  71\n",
      " 188 226 225  92 451  79 495  92  21 244  87 200 110 249  92 114 300 409\n",
      "  92 209 160  79 469 238 380  36 226  23 433 255 441 518 258  45 106  40\n",
      " 518  65 164 123  36 388 145 349  23 507 127 167 363 485 238 244 244 518\n",
      "  29  88  36 202  59 329 516 194 495  92 465 258 203 173 315 128   2  92\n",
      " 182 182 518  18 127 394 112 198 261 106  60 456 238  79 182 166 335 106\n",
      " 518 335 156 209 294 276  43 378 128 483 441 167 295 472 352 226 248  73\n",
      "  61 473  96 462   6 202 243 224 147 255  89 209 419 241  23 506  23  45\n",
      " 238   8  45 340  89 163 232 106 257 161 485 485  53 238  96 414 314  74\n",
      " 518 518 417 173 147 518 295 474 504 287  23 311 403 359 418  45 183 204\n",
      " 310 234 363 169 167  85   9 217 174 400 182 487 388 217 495 495 218 346\n",
      " 495 270 518 167 506 234  98 202 278  60 182 485 167  92 301  45 258 106\n",
      " 518 159 441  57 188 456 372 128 375 300 182  97 501 388 364  70 172  23\n",
      " 106 432 106 427 137 459  23 441 370 472  73  79 409 413  45 373 518 273\n",
      " 216 238 235 119 456 348 249 461 182 486 506  92  24  82 419   2  22 506\n",
      " 182 466 233  98  11 224 407 182  80 235 167 202 475 238 353 167 348 465\n",
      " 225  54 127 208  23  79 361 167 358 470  22 346 466 129 413 453 209 400\n",
      " 441 385 194 301 135  96 295 202   9 421  33 147 352 376 106 168 111 381\n",
      " 128 157  23 158 238 441 192 517 185 415  98 221  92 102 280  21 135 300\n",
      " 495 135 209  92  22  79 319 322]\n",
      "accuracy of LinearModel:[202.  55. 135. 106. 128. 441. 506. 106. 495. 311. 388. 201. 113. 518.\n",
      " 235. 147.  79. 323. 244. 301. 335. 461. 442.  92.  95. 485. 472. 311.\n",
      " 382. 258. 506. 317. 357.   2. 413.  71. 188. 226. 225.  92. 451.  79.\n",
      " 495.  92.  21. 244.  87. 200. 110. 249.  92. 114. 300. 409.  92. 209.\n",
      " 160.  79. 469. 238. 380.  36. 226.  23. 433. 255. 441. 518. 258.  45.\n",
      " 106.  40. 518.  65. 164. 123.  36. 388. 145. 349.  23. 507. 127. 167.\n",
      " 363. 485. 238. 244. 244. 518.  29.  88.  36. 202.  59. 329. 516. 194.\n",
      " 495.  92. 465. 258. 203. 173. 315. 128.   2.  92. 182. 182. 518.  18.\n",
      " 127. 394. 112. 198. 261. 106.  60. 456. 238.  79. 182. 166. 335. 106.\n",
      " 518. 335. 156. 209. 294. 276.  43. 378. 128. 483. 441. 167. 295. 472.\n",
      " 352. 226. 248.  73.  61. 473.  96. 462.   6. 202. 243. 224. 147. 255.\n",
      "  89. 209. 419. 241.  23. 506.  23.  45. 238.   8.  45. 340.  89. 163.\n",
      " 232. 106. 257. 161. 485. 485.  53. 238.  96. 414. 314.  74. 518. 518.\n",
      " 417. 173. 147. 518. 295. 474. 504. 287.  23. 311. 403. 359. 418.  45.\n",
      " 183. 204. 310. 234. 363. 169. 167.  85.   9. 217. 174. 400. 182. 487.\n",
      " 388. 217. 495. 495. 218. 346. 495. 270. 518. 167. 506. 234.  98. 202.\n",
      " 278.  60. 182. 485. 167.  92. 301.  45. 258. 106. 518. 159. 441.  57.\n",
      " 188. 456. 372. 128. 375. 300. 182.  97. 501. 388. 364.  70. 172.  23.\n",
      " 106. 432. 106. 427. 137. 459.  23. 441. 370. 472.  73.  79. 409. 413.\n",
      "  45. 373. 518. 273. 216. 238. 235. 119. 456. 348. 249. 461. 182. 486.\n",
      " 506.  92.  24.  82. 419.   2.  22. 506. 182. 466. 233.  98.  11. 224.\n",
      " 407. 182.  80. 235. 167. 202. 475. 238. 353. 167. 348. 465. 225.  54.\n",
      " 127. 208.  23.  79. 361. 167. 358. 470.  22. 346. 466. 129. 413. 453.\n",
      " 209. 400. 441. 385. 194. 301. 135.  96. 295. 202.   9. 421.  33. 147.\n",
      " 352. 376. 106. 168. 111. 381. 128. 157.  23. 158. 238. 441. 192. 517.\n",
      " 185. 415.  98. 221.  92. 102. 280.  21. 135. 300. 495. 135. 209.  92.\n",
      "  22.  79. 319. 322.]\n",
      "accuracy of LinearModel2:[202.  55. 135. 106. 128. 441. 506. 106. 495. 311. 388. 201. 113. 518.\n",
      " 235. 147.  79. 323. 244. 301. 335. 461. 442.  92.  95. 485. 472. 311.\n",
      " 382. 258. 506. 317. 357.   2. 413.  71. 188. 226. 225.  92. 451.  79.\n",
      " 495.  92.  21. 244.  87. 200. 110. 249.  92. 114. 300. 409.  92. 209.\n",
      " 160.  79. 469. 238. 380.  36. 226.  23. 433. 255. 441. 518. 258.  45.\n",
      " 106.  40. 518.  65. 164. 123.  36. 388. 145. 349.  23. 507. 127. 167.\n",
      " 363. 485. 238. 244. 244. 518.  29.  88.  36. 202.  59. 329. 516. 194.\n",
      " 495.  92. 465. 258. 203. 173. 315. 128.   2.  92. 182. 182. 518.  18.\n",
      " 127. 394. 112. 198. 261. 106.  60. 456. 238.  79. 182. 166. 335. 106.\n",
      " 518. 335. 156. 209. 294. 276.  43. 378. 128. 483. 441. 167. 295. 472.\n",
      " 352. 226. 248.  73.  61. 473.  96. 462.   6. 202. 243. 224. 147. 255.\n",
      "  89. 209. 419. 241.  23. 506.  23.  45. 238.   8.  45. 340.  89. 163.\n",
      " 232. 106. 257. 161. 485. 485.  53. 238.  96. 414. 314.  74. 518. 518.\n",
      " 417. 173. 147. 518. 295. 474. 504. 287.  23. 311. 403. 359. 418.  45.\n",
      " 183. 204. 310. 234. 363. 169. 167.  85.   9. 217. 174. 400. 182. 487.\n",
      " 388. 217. 495. 495. 218. 346. 495. 270. 518. 167. 506. 234.  98. 202.\n",
      " 278.  60. 182. 485. 167.  92. 301.  45. 258. 106. 518. 159. 441.  57.\n",
      " 188. 456. 372. 128. 375. 300. 182.  97. 501. 388. 364.  70. 172.  23.\n",
      " 106. 432. 106. 427. 137. 459.  23. 441. 370. 472.  73.  79. 409. 413.\n",
      "  45. 373. 518. 273. 216. 238. 235. 119. 456. 348. 249. 461. 182. 486.\n",
      " 506.  92.  24.  82. 419.   2.  22. 506. 182. 466. 233.  98.  11. 224.\n",
      " 407. 182.  80. 235. 167. 202. 475. 238. 353. 167. 348. 465. 225.  54.\n",
      " 127. 208.  23.  79. 361. 167. 358. 470.  22. 346. 466. 129. 413. 453.\n",
      " 209. 400. 441. 385. 194. 301. 135.  96. 295. 202.   9. 421.  33. 147.\n",
      " 352. 376. 106. 168. 111. 381. 128. 157.  23. 158. 238. 441. 192. 517.\n",
      " 185. 415.  98. 221.  92. 102. 280.  21. 135. 300. 495. 135. 209.  92.\n",
      "  22.  79. 319. 322.]\n",
      "accuracy of LinearModel3:[ 39.13073991  33.47105636  27.47614347  24.64766139  23.83870458\n",
      "  93.08670744  98.20703919  18.54336662  88.65814424  42.97608535\n",
      "  45.95204236  39.4453298   26.78762614 152.35203229 117.07832325\n",
      "  34.39170929  24.07313018  69.39523935  24.21536004  68.14980218\n",
      "  52.39616525  85.56606577 112.60702589  14.98901459  53.03794472\n",
      "  74.63778638 103.03096449  33.94634525  42.11469716  32.39866158\n",
      "  95.65181912  65.10598125 104.07432569  39.32637594 109.39359252\n",
      "  46.96498717  30.16814343  31.42972272  42.03140505  15.00155868\n",
      "  99.26444818  22.8594806  102.16098551  25.3457306   31.19855626\n",
      "  31.41611802  59.21157134  54.89823954  29.98884179  38.898955\n",
      "  16.6249012   54.18332215  30.72348194  53.46025524  51.4436231\n",
      "  37.07684467  33.86817089  28.57173597  97.43999716  59.71286426\n",
      "  74.63127328  52.62444898  40.64532646  46.16898753  82.78733698\n",
      "  40.19737721  75.36017786 120.76183179  32.38489931  19.33926801\n",
      "  54.14265898  26.21459339 102.30887787  60.7352335   34.34142347\n",
      "  33.55121336  16.76557738  45.94974308  30.89306272  78.17828436\n",
      "  39.07012372  64.25049749  40.95157896  33.62001771  94.26014155\n",
      "  93.300426    36.02887693  89.79588226  35.08711682 109.94765425\n",
      "  18.11330977  80.00168298  44.16681355  37.91124065  21.34536749\n",
      "  41.35132955  92.88834163  29.04114714 108.67845197  39.61978882\n",
      "  87.13512326  41.58939256  33.76148155  27.31098053  65.45120121\n",
      "  30.5928222   40.1992169   57.83905487  24.77085544  30.59279545\n",
      "  84.47826765  11.92432837  32.35046915  83.16543999  50.50307422\n",
      "  29.67115413  58.65946922  20.12921673  47.87969126  81.09882539\n",
      "  34.64123964  18.93554399  28.92096289  22.36659323  52.45150161\n",
      "  31.25832949 119.36724003  52.42383343  35.41145628  32.52543316\n",
      "  41.3423068  116.22160267  44.36744699  78.19352961  23.83041269\n",
      " 104.37330909  69.3828839   27.42905656  39.50801942 104.04900409\n",
      "  74.21703331  32.69746077 151.12294079  32.62174018  21.12687911\n",
      "  78.25450268  35.90984073 169.6689467   27.85084861  27.98467757\n",
      "  37.31824453  46.46674946  22.56090404  36.30696876  53.99581741\n",
      "  37.36476748 107.6013738   40.86215778  35.17471424  98.21425206\n",
      "  33.29352365  42.12173681  39.8363822   47.29945971  48.38314285\n",
      "  41.44417951  17.78829427  36.82477921  30.64302739  47.58812224\n",
      "  49.31322779  40.24995589  74.61963118 100.55808979  30.2451381\n",
      "  41.32625795  39.77411671  45.61055174  37.26115746  53.81605053\n",
      " 124.72797071 101.22898175  71.86919532  45.79610913  28.22964725\n",
      " 113.21443879  68.26137488  92.36387877  99.37991603  43.28874084\n",
      "  52.09894585  42.91445285  50.75068542  84.37036107  99.29816416\n",
      "  35.39400563  36.08141348  59.41152836  78.41915977  50.90278854\n",
      "  47.03333811  34.42533846  33.6153457   18.13130723  26.60729268\n",
      "  28.63095771  38.02833384  80.05434451  27.19310609 148.5334933\n",
      " 109.53422908  31.27302126 124.30704614 112.43029082  47.98768619\n",
      "  45.20493303 109.39114901  96.29903093  90.3036747   26.82523094\n",
      " 103.73717587  50.17362021  29.85748332  35.02773204  46.94954877\n",
      "  47.66430698  35.01293283 111.22739907  25.07956553  54.47785129\n",
      "  36.14886301  53.20079254  62.24160121  33.40591038 102.29679167\n",
      "  39.70025086  86.63697765  20.86196039  30.18725706  98.4478774\n",
      "  87.01331034  28.75797064 108.47353415 101.50960288  30.29988182\n",
      "  29.09272013  72.56466035  46.2173548   47.6730403   40.53384355\n",
      "  27.27356168  43.46617512  47.14715987  48.14904794  20.11091306\n",
      " 112.52334576  36.0158882   84.37154057  29.88598525 102.55316413\n",
      " 104.68241061 122.61514935  43.80611246  18.86471856 109.10769847\n",
      "  83.27056093  12.1664251   92.88388688 107.39947456  58.98188524\n",
      "  33.07340323  43.86408624  33.34474053  40.07513773 120.27127734\n",
      "  36.08305866  32.45405647  76.42468012  26.26822007  95.12632291\n",
      " 162.46040134  54.46041147  14.74100439  24.39904681 109.88028121\n",
      "  40.13687111  43.47731393  69.65366471  30.67970706  98.95640186\n",
      "  50.09925146  29.86519317  28.92966665  88.65892104  77.51194943\n",
      "  34.72479868  40.44104933  32.08893301  32.44342876  30.22131404\n",
      "  78.54129149  32.22083609  53.0413666   17.97119261  73.85771604\n",
      " 104.19764993  42.02374785  31.12371849  28.1444557   36.7778948\n",
      "  33.47846066  26.48032776  85.9188851   26.56668301  42.90689568\n",
      "  89.42051006  54.74505864  44.72974161  87.52706388  45.63550346\n",
      "  82.14629694  48.75763276  32.52597835  80.12904766 115.65915039\n",
      " 118.0428918   23.86737199  33.00490385  28.30575857  27.43824892\n",
      "  90.08259309  36.3696457   46.78879236  69.55424673  15.1590449\n",
      "  22.56151697  47.93410042  41.50472725  32.8406492   29.66539382\n",
      "  47.98381151  54.80455255  23.86086453  39.85949847  43.44559322\n",
      "  34.7171179   30.21679242  97.62507477  52.97914061 101.06032756\n",
      "  53.33008533  80.54272596  28.8644642   54.02479193  28.22865408\n",
      "  62.05865182  32.49137697  31.19330757  24.84676007  30.73431139\n",
      "  88.46485858  29.07646626  25.81113592  54.31460694  36.42493464\n",
      "  17.3700913   82.9655327   73.15348951]\n",
      "accuracy of LinearModel4:[202.07  55.28 134.78 106.   128.05 440.91 505.95 105.96 495.04 311.78\n",
      " 387.94 201.25 112.87 517.99 234.98 148.24  78.77 322.49 243.98 299.93\n",
      " 335.11 460.91 441.82  92.    95.67 485.   471.85 311.64 381.16 257.94\n",
      " 506.01 316.42 358.02   2.24 413.15  72.01 187.66 225.66 225.01  92.\n",
      " 452.64  78.64 495.1   92.03  21.15 244.04  87.14 200.75 111.22 248.47\n",
      "  92.04 113.35 299.97 409.24  92.   209.08 159.82  79.09 469.07 237.93\n",
      " 380.72  37.05 225.62  23.02 432.3  255.99 440.51 517.98 257.94  44.56\n",
      " 105.84  40.81 517.99  63.1  164.04 122.87  36.86 387.94 146.41 348.94\n",
      "  23.12 506.43 127.14 166.97 361.92 484.97 237.9  244.42 243.92 517.99\n",
      "  28.17  87.59  36.38 202.03  58.94 326.54 516.64 193.52 495.26  92.06\n",
      " 464.81 258.82 202.97 172.49 314.29 128.02   2.24  91.97 182.1  182.04\n",
      " 517.96  19.82 127.27 392.88 112.31 198.92 259.56 106.    59.16 455.82\n",
      " 237.89  79.09 182.02 166.43 335.11 105.92 517.96 335.11 156.68 209.14\n",
      " 295.49 276.92  43.43 377.71 128.05 483.95 440.98 166.98 294.75 471.85\n",
      " 351.7  225.18 248.79  73.69  60.14 473.13  96.47 461.46   6.54 201.95\n",
      " 243.22 223.83 147.28 255.77  88.83 209.02 419.2  241.23  23.09 505.95\n",
      "  22.97  44.51 237.99   8.74  45.07 338.18  89.   163.7  233.04 105.96\n",
      " 258.29 160.86 485.   484.85  53.4  237.99  96.1  413.66 315.02  74.18\n",
      " 517.96 517.95 417.41 172.47 147.78 517.98 295.84 473.16 504.72 287.95\n",
      "  23.43 311.69 399.97 359.51 417.8   44.58 182.67 202.92 311.7  233.93\n",
      " 361.61 168.02 166.97  85.75   8.44 217.27 173.12 400.29 182.   486.04\n",
      " 387.91 217.5  495.12 494.91 217.86 347.4  494.91 271.83 518.   166.73\n",
      " 506.   233.9   97.84 201.99 277.11  59.16 182.09 485.16 166.97  91.94\n",
      " 300.03  44.6  257.91 106.09 517.99 158.64 440.47  57.52 187.66 455.65\n",
      " 371.82 127.89 375.7  299.38 182.02  96.84 502.   387.93 363.17  71.41\n",
      " 171.92  23.   106.05 431.75 106.   428.69 136.19 459.98  22.9  440.75\n",
      " 372.48 471.73  73.87  79.09 409.58 413.58  45.02 373.23 517.96 274.09\n",
      " 216.16 237.85 235.1  119.92 455.67 347.64 248.6  461.01 182.07 485.79\n",
      " 505.47  91.94  23.4   80.82 419.17   2.24  21.83 505.31 182.12 465.46\n",
      " 233.2   97.84  10.38 223.57 407.84 182.15  79.5  234.84 166.98 201.92\n",
      " 474.28 238.06 351.7  166.89 348.38 464.85 225.01  53.95 127.2  208.64\n",
      "  22.88  78.78 360.85 166.97 358.   469.86  22.13 346.45 465.74 127.61\n",
      " 413.33 452.62 209.14 400.29 441.55 384.77 193.72 300.1  134.55  95.99\n",
      " 295.8  202.03   8.8  420.41  35.04 147.28 351.59 376.94 106.   167.7\n",
      " 111.21 380.88 127.98 156.5   23.   158.62 238.03 441.54 192.35 517.15\n",
      " 184.9  414.5   97.73 220.81  92.   100.33 279.63  21.15 134.59 299.97\n",
      " 494.95 134.92 209.17  91.94  22.08  79.08 319.36 321.94]\n"
     ]
    }
   ],
   "source": [
    "for name,pipeline in Pipelines.items():\n",
    "    pred=pipeline.predict(xtest)\n",
    "    print(F\"accuracy of {name}:{pred}\")"
   ]
  },
  {
   "cell_type": "code",
   "execution_count": 26,
   "metadata": {},
   "outputs": [
    {
     "name": "stdout",
     "output_type": "stream",
     "text": [
      "MAE 0.4003260869565196\n",
      "MAPE 0.004848516768037449\n",
      "MSE 0.3743065217391281\n",
      "R2 SCORE 0.9999844754882072\n",
      "MAE 0.4003260869565196\n",
      "MAPE 0.004848516768037449\n",
      "MSE 0.3743065217391281\n",
      "R2 SCORE 0.9999844754882072\n",
      "MAE 0.4003260869565196\n",
      "MAPE 0.004848516768037449\n",
      "MSE 0.3743065217391281\n",
      "R2 SCORE 0.9999844754882072\n",
      "MAE 0.4003260869565196\n",
      "MAPE 0.004848516768037449\n",
      "MSE 0.3743065217391281\n",
      "R2 SCORE 0.9999844754882072\n",
      "MAE 0.4003260869565196\n",
      "MAPE 0.004848516768037449\n",
      "MSE 0.3743065217391281\n",
      "R2 SCORE 0.9999844754882072\n",
      "MAE 0.4003260869565196\n",
      "MAPE 0.004848516768037449\n",
      "MSE 0.3743065217391281\n",
      "R2 SCORE 0.9999844754882072\n",
      "MAE 0.4003260869565196\n",
      "MAPE 0.004848516768037449\n",
      "MSE 0.3743065217391281\n",
      "R2 SCORE 0.9999844754882072\n",
      "MAE 0.4003260869565196\n",
      "MAPE 0.004848516768037449\n",
      "MSE 0.3743065217391281\n",
      "R2 SCORE 0.9999844754882072\n",
      "MAE 0.4003260869565196\n",
      "MAPE 0.004848516768037449\n",
      "MSE 0.3743065217391281\n",
      "R2 SCORE 0.9999844754882072\n",
      "MAE 0.4003260869565196\n",
      "MAPE 0.004848516768037449\n",
      "MSE 0.3743065217391281\n",
      "R2 SCORE 0.9999844754882072\n"
     ]
    }
   ],
   "source": [
    "for name,pipeline in Pipelines.items():\n",
    "    print(\"MAE\",mean_absolute_error(ytest,pred))\n",
    "    print(\"MAPE\",mean_absolute_percentage_error(ytest,pred))\n",
    "    print(\"MSE\",mean_squared_error(ytest,pred))\n",
    "    print(\"R2 SCORE\",r2_score(ytest,pred))"
   ]
  },
  {
   "cell_type": "code",
   "execution_count": 27,
   "metadata": {},
   "outputs": [
    {
     "name": "stdout",
     "output_type": "stream",
     "text": [
      "MAE 0.4003260869565196\n",
      "MAPE 0.004848516768037449\n",
      "MSE 0.3743065217391281\n",
      "R2 SCORE 0.9999844754882072\n"
     ]
    }
   ],
   "source": [
    "print(\"MAE\",mean_absolute_error(ytest,pred))\n",
    "print(\"MAPE\",mean_absolute_percentage_error(ytest,pred))\n",
    "print(\"MSE\",mean_squared_error(ytest,pred))\n",
    "print(\"R2 SCORE\",r2_score(ytest,pred))"
   ]
  },
  {
   "cell_type": "code",
   "execution_count": 28,
   "metadata": {},
   "outputs": [
    {
     "data": {
      "text/html": [
       "<div>\n",
       "<style scoped>\n",
       "    .dataframe tbody tr th:only-of-type {\n",
       "        vertical-align: middle;\n",
       "    }\n",
       "\n",
       "    .dataframe tbody tr th {\n",
       "        vertical-align: top;\n",
       "    }\n",
       "\n",
       "    .dataframe thead th {\n",
       "        text-align: right;\n",
       "    }\n",
       "</style>\n",
       "<table border=\"1\" class=\"dataframe\">\n",
       "  <thead>\n",
       "    <tr style=\"text-align: right;\">\n",
       "      <th></th>\n",
       "      <th>Actual Price</th>\n",
       "      <th>predicted Price</th>\n",
       "    </tr>\n",
       "  </thead>\n",
       "  <tbody>\n",
       "    <tr>\n",
       "      <th>556</th>\n",
       "      <td>202</td>\n",
       "      <td>202.07</td>\n",
       "    </tr>\n",
       "    <tr>\n",
       "      <th>1386</th>\n",
       "      <td>55</td>\n",
       "      <td>55.28</td>\n",
       "    </tr>\n",
       "    <tr>\n",
       "      <th>1450</th>\n",
       "      <td>135</td>\n",
       "      <td>134.78</td>\n",
       "    </tr>\n",
       "    <tr>\n",
       "      <th>111</th>\n",
       "      <td>106</td>\n",
       "      <td>106.00</td>\n",
       "    </tr>\n",
       "    <tr>\n",
       "      <th>1787</th>\n",
       "      <td>128</td>\n",
       "      <td>128.05</td>\n",
       "    </tr>\n",
       "  </tbody>\n",
       "</table>\n",
       "</div>"
      ],
      "text/plain": [
       "      Actual Price  predicted Price\n",
       "556            202           202.07\n",
       "1386            55            55.28\n",
       "1450           135           134.78\n",
       "111            106           106.00\n",
       "1787           128           128.05"
      ]
     },
     "execution_count": 28,
     "metadata": {},
     "output_type": "execute_result"
    }
   ],
   "source": [
    "outcome={\n",
    "    \"Actual Price\":ytest,\n",
    "    \"predicted Price\":pred\n",
    "}\n",
    "df3=pd.DataFrame(outcome)\n",
    "df3.head()"
   ]
  },
  {
   "cell_type": "code",
   "execution_count": 29,
   "metadata": {},
   "outputs": [
    {
     "data": {
      "text/plain": [
       "<Axes: xlabel='Price in INR'>"
      ]
     },
     "execution_count": 29,
     "metadata": {},
     "output_type": "execute_result"
    },
    {
     "data": {
      "image/png": "[encoded data removed]",
      "text/plain": [
       "<Figure size 640x480 with 1 Axes>"
      ]
     },
     "metadata": {},
     "output_type": "display_data"
    }
   ],
   "source": [
    "sns.regplot(x=ytest,y=pred)"
   ]
  },
  {
   "cell_type": "code",
   "execution_count": null,
   "metadata": {},
   "outputs": [],
   "source": []
  }
 ],
 "metadata": {
  "kernelspec": {
   "display_name": "Python 3",
   "language": "python",
   "name": "python3"
  },
  "language_info": {
   "codemirror_mode": {
    "name": "ipython",
    "version": 3
   },
   "file_extension": ".py",
   "mimetype": "text/x-python",
   "name": "python",
   "nbconvert_exporter": "python",
   "pygments_lexer": "ipython3",
   "version": "3.12.1"
  }
 },
 "nbformat": 4,
 "nbformat_minor": 2
}
