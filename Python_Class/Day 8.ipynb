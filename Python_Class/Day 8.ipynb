{
 "cells": [
  {
   "cell_type": "markdown",
   "id": "2bd1ba49",
   "metadata": {},
   "source": [
    "## OOP (OBJECT ORIENTED PROGRAMMING)"
   ]
  },
  {
   "cell_type": "code",
   "execution_count": 1,
   "id": "331f26c0",
   "metadata": {
    "tags": []
   },
   "outputs": [],
   "source": [
    "class person:## class name\n",
    "    attrl1=\"sam\"\n",
    "    attrl2=\"male\"\n",
    "    attrl3=30\n",
    "human=person()## object"
   ]
  },
  {
   "cell_type": "code",
   "execution_count": 3,
   "id": "b9f909a9",
   "metadata": {
    "tags": []
   },
   "outputs": [
    {
     "data": {
      "text/plain": [
       "'sam'"
      ]
     },
     "execution_count": 3,
     "metadata": {},
     "output_type": "execute_result"
    }
   ],
   "source": [
    "human.attrl1"
   ]
  },
  {
   "cell_type": "code",
   "execution_count": 3,
   "id": "e356f478",
   "metadata": {},
   "outputs": [
    {
     "data": {
      "text/plain": [
       "'male'"
      ]
     },
     "execution_count": 3,
     "metadata": {},
     "output_type": "execute_result"
    }
   ],
   "source": [
    "human.attrl2"
   ]
  },
  {
   "cell_type": "code",
   "execution_count": 4,
   "id": "ae680157",
   "metadata": {},
   "outputs": [
    {
     "data": {
      "text/plain": [
       "30"
      ]
     },
     "execution_count": 4,
     "metadata": {},
     "output_type": "execute_result"
    }
   ],
   "source": [
    "human.attrl3"
   ]
  },
  {
   "cell_type": "code",
   "execution_count": 5,
   "id": "6df962d0",
   "metadata": {},
   "outputs": [],
   "source": [
    "## ADDING FUNCTION TO CLASS(METHOD)"
   ]
  },
  {
   "cell_type": "code",
   "execution_count": 11,
   "id": "eab6b8c0",
   "metadata": {},
   "outputs": [],
   "source": [
    "class person:## class name\n",
    "    attrl1=\"sam\"\n",
    "    attrl2=\"male\"\n",
    "    attrl3=30\n",
    "    def __init__(self):\n",
    "        self.attrl1\n",
    "        self.attrl2\n",
    "        self.attrl3\n",
    "    def details(self):\n",
    "        print(f\"\"\"name:{self.attrl1}\n",
    "              gender:{self.attrl2}\n",
    "              age:{self.attrl3}\"\"\")\n",
    "    def action(self):\n",
    "              print(f\"my name is {self.attrl1} and my age is {self.attrl3} my gender is {self.attrl2}\")\n",
    "person1=person()                    "
   ]
  },
  {
   "cell_type": "code",
   "execution_count": 12,
   "id": "2ee21aec",
   "metadata": {},
   "outputs": [
    {
     "name": "stdout",
     "output_type": "stream",
     "text": [
      "name:sam\n",
      "              gender:male\n",
      "              age:30\n"
     ]
    }
   ],
   "source": [
    "person1.details()"
   ]
  },
  {
   "cell_type": "code",
   "execution_count": 13,
   "id": "8fa1979e",
   "metadata": {},
   "outputs": [
    {
     "name": "stdout",
     "output_type": "stream",
     "text": [
      "my name is sam and my age is 30 my gender is male\n"
     ]
    }
   ],
   "source": [
    "person1.action()"
   ]
  },
  {
   "cell_type": "code",
   "execution_count": 14,
   "id": "70a80688",
   "metadata": {},
   "outputs": [
    {
     "data": {
      "text/plain": [
       "'sam'"
      ]
     },
     "execution_count": 14,
     "metadata": {},
     "output_type": "execute_result"
    }
   ],
   "source": [
    "person1.attrl1"
   ]
  },
  {
   "cell_type": "code",
   "execution_count": 1,
   "id": "365df8b2",
   "metadata": {},
   "outputs": [],
   "source": [
    "class MonieApp:\n",
    "    def __init__(self):\n",
    "        self.balance=0\n",
    "    def deposit(self):\n",
    "        amount=float(input(\"ENTER AMOUNT:\"))\n",
    "        self.balance += amount\n",
    "        print(\"Transaction Succesful...\")\n",
    "    def transfer (self):\n",
    "        amount=float(input(\"ENTER THE TRANSFER AMOUNT: \"))\n",
    "        bank_name=input(\"ENTER RECEIVER'S BANK NAME: \")\n",
    "        acct_number=int(input(\"ENTER RECEIVER ACCT. NUMBER\"))\n",
    "        self.balance - amount\n",
    "        if amount>self.balance or amount==0:\n",
    "                print(\"<<< transaction succesful >>>\")\n",
    "        else:\n",
    "            self.balance-=amount\n",
    "            print(\"<<< Transaction successful >>>\")\n",
    "    def airtime(self):\n",
    "        amount=float(input(\"ENTER THE AIRTIME AMOUNT\"))\n",
    "        provider=input(\"enter the provider: \")\n",
    "        phone_number=input(\"enter the phone number\")\n",
    "        self.balance - amount\n",
    "        if amount > self.balance or amount== 0:\n",
    "            print(\"can't complete the transaction\")\n",
    "        else:\n",
    "            self.balance -= amount\n",
    "            print(\"<<< airtime transfer completed >>>\")\n",
    "    def data(self):\n",
    "        amount=float(input(\"ENTER THE AIRTIME AMOUNT\"))\n",
    "        provider=input(\"enter the provider: \")\n",
    "        phone_number=input(\"enter the phone number\")\n",
    "        self.balance - amount\n",
    "        if amount > self.balance or amount== 0:\n",
    "            print(\"can't complete the transaction\")\n",
    "        else:\n",
    "            self.balance -= amount\n",
    "            print(\"<<< Data transfer completed >>>\")\n",
    "    def check_balance(self):\n",
    "        print(f\"YOUR AVALAIBLE BALANCE IS: {self.balance}\")\n",
    "bankapp=MonieApp()              "
   ]
  },
  {
   "cell_type": "code",
   "execution_count": 2,
   "id": "8e8088d4",
   "metadata": {},
   "outputs": [
    {
     "name": "stdout",
     "output_type": "stream",
     "text": [
      "ENTER AMOUNT:400\n",
      "Transaction Succesful...\n"
     ]
    }
   ],
   "source": [
    "bankapp.deposit()"
   ]
  },
  {
   "cell_type": "code",
   "execution_count": 68,
   "id": "55dedae3",
   "metadata": {},
   "outputs": [
    {
     "name": "stdout",
     "output_type": "stream",
     "text": [
      "YOUR AVALAIBLE BALANCE IS: 40000.0\n"
     ]
    }
   ],
   "source": [
    "bankapp.check_balance()"
   ]
  },
  {
   "cell_type": "code",
   "execution_count": 69,
   "id": "976a2a2e",
   "metadata": {},
   "outputs": [
    {
     "name": "stdout",
     "output_type": "stream",
     "text": [
      "ENTER THE TRANSFER AMOUNT: 35000\n",
      "ENTER RECEIVER'S BANK NAME: gh\n",
      "ENTER RECEIVER ACCT. NUMBER7684\n",
      "<<< Transaction successful >>>\n"
     ]
    }
   ],
   "source": [
    "bankapp.transfer()"
   ]
  },
  {
   "cell_type": "code",
   "execution_count": 70,
   "id": "d5c3bea2",
   "metadata": {},
   "outputs": [
    {
     "name": "stdout",
     "output_type": "stream",
     "text": [
      "YOUR AVALAIBLE BALANCE IS: 5000.0\n"
     ]
    }
   ],
   "source": [
    "bankapp.check_balance()"
   ]
  },
  {
   "cell_type": "code",
   "execution_count": 4,
   "id": "9302c8e8",
   "metadata": {},
   "outputs": [
    {
     "name": "stdout",
     "output_type": "stream",
     "text": [
      "<<<\n",
      "WELCOME TO MONIEAPP\n",
      ">>>>\n",
      "1. Deposit\n",
      "2. Transfer\n",
      "3. Airtime purchase\n",
      "4. Check Balance\n",
      "5. Exit\n",
      "\n",
      "select an option5\n",
      "Thank you for patronage....\n"
     ]
    }
   ],
   "source": [
    "class MonieApp:\n",
    "    def __init__(self):\n",
    "        self.balance=0\n",
    "    def deposit(self):\n",
    "        amount=float(input(\"ENTER AMOUNT:\"))\n",
    "        self.balance += amount\n",
    "        print(\"Transaction Succesful...\")\n",
    "    def transfer (self):\n",
    "        amount=float(input(\"ENTER THE TRANSFER AMOUNT: \"))\n",
    "        bank_name=input(\"ENTER RECEIVER'S BANK NAME: \")\n",
    "        acct_number=int(input(\"ENTER RECEIVER ACCT. NUMBER\"))\n",
    "        self.balance - amount\n",
    "        if amount>self.balance or amount==0:\n",
    "                print(\"<<< transaction succesful >>>\")\n",
    "        else:\n",
    "            self.balance-=amount\n",
    "            print(\"<<< Transaction successful >>>\")\n",
    "    def airtime(self):\n",
    "        amount=float(input(\"ENTER THE AIRTIME AMOUNT\"))\n",
    "        provider=input(\"enter the provider: \")\n",
    "        phone_number=input(\"enter the phone number\")\n",
    "        self.balance - amount\n",
    "        if amount > self.balance or amount== 0:\n",
    "            print(\"can't complete the transaction\")\n",
    "        else:\n",
    "            self.balance -= amount\n",
    "            print(\"<<< airtime transfer completed >>>\")\n",
    "    def data(self):\n",
    "        amount=float(input(\"ENTER THE AIRTIME AMOUNT\"))\n",
    "        provider=input(\"enter the provider: \")\n",
    "        phone_number=input(\"enter the phone number\")\n",
    "        self.balance - amount\n",
    "        if amount > self.balance or amount== 0:\n",
    "            print(\"can't complete the transaction\")\n",
    "        else:\n",
    "            self.balance -= amount\n",
    "            print(\"<<< Data transfer completed >>>\")\n",
    "    def check_balance(self):\n",
    "        print(f\"YOUR AVALAIBLE BALANCE IS: {self.balance}\")\n",
    "def main():\n",
    "    bankapp=MonieApp()\n",
    "    while True:\n",
    "        print(\"<<<\\nWELCOME TO MONIEAPP\\n>>>>\")\n",
    "        print(\"1. Deposit\")\n",
    "        print(\"2. Transfer\")\n",
    "        print(\"3. Airtime purchase\")\n",
    "        print(\"4. Check Balance\")\n",
    "        print(\"5. Exit\")\n",
    "        choice=input(\"\\nselect an option\")\n",
    "        if choice == \"1\":\n",
    "            bankapp.deposit()\n",
    "        elif choice == \"2\":\n",
    "            bankapp.transfer()\n",
    "        elif choice == \"3\":\n",
    "            bankapp.airtime()\n",
    "        elif choice == \"4\":\n",
    "            bankapp.check_balance()\n",
    "        elif choice == \"5\":\n",
    "            print(\"Thank you for patronage....\")\n",
    "            break\n",
    "        else:\n",
    "            print(\"INVALID CHOICE !!! Please select a valid choice.\")\n",
    "if __name__==\"__main__\":\n",
    "    main()"
   ]
  },
  {
   "cell_type": "code",
   "execution_count": null,
   "id": "42632892",
   "metadata": {},
   "outputs": [],
   "source": []
  }
 ],
 "metadata": {
  "kernelspec": {
   "display_name": "Python 3 (ipykernel)",
   "language": "python",
   "name": "python3"
  },
  "language_info": {
   "codemirror_mode": {
    "name": "ipython",
    "version": 3
   },
   "file_extension": ".py",
   "mimetype": "text/x-python",
   "name": "python",
   "nbconvert_exporter": "python",
   "pygments_lexer": "ipython3",
   "version": "3.11.5"
  }
 },
 "nbformat": 4,
 "nbformat_minor": 5
}
