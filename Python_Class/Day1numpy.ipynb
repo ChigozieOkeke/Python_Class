{
 "cells": [
  {
   "cell_type": "markdown",
   "metadata": {},
   "source": [
    "## Numpy"
   ]
  },
  {
   "cell_type": "code",
   "execution_count": 24,
   "metadata": {},
   "outputs": [],
   "source": [
    "import numpy as np"
   ]
  },
  {
   "cell_type": "code",
   "execution_count": 2,
   "metadata": {},
   "outputs": [],
   "source": [
    "arr1=np.array([80,90,70,50,100,89])"
   ]
  },
  {
   "cell_type": "code",
   "execution_count": 3,
   "metadata": {},
   "outputs": [
    {
     "data": {
      "text/plain": [
       "array([ 80,  90,  70,  50, 100,  89])"
      ]
     },
     "execution_count": 3,
     "metadata": {},
     "output_type": "execute_result"
    }
   ],
   "source": [
    "arr1"
   ]
  },
  {
   "cell_type": "code",
   "execution_count": 4,
   "metadata": {},
   "outputs": [
    {
     "data": {
      "text/plain": [
       "1"
      ]
     },
     "execution_count": 4,
     "metadata": {},
     "output_type": "execute_result"
    }
   ],
   "source": [
    "arr1.ndim\n",
    "# this is what we use to check for the dimension of an array."
   ]
  },
  {
   "cell_type": "code",
   "execution_count": 6,
   "metadata": {},
   "outputs": [
    {
     "data": {
      "text/plain": [
       "array([[ 87. ,  45. ,  90. , 100. ,  58. ,  90. ],\n",
       "       [ 45. ,   9. ,  25.5,  50.1,  90.2,   1.5]])"
      ]
     },
     "execution_count": 6,
     "metadata": {},
     "output_type": "execute_result"
    }
   ],
   "source": [
    "arr2=np.array([[87,45,90,100,58,90],[45.0,9.0,25.5,50.1,90.2,1.5]])\n",
    "arr2"
   ]
  },
  {
   "cell_type": "code",
   "execution_count": 12,
   "metadata": {},
   "outputs": [
    {
     "data": {
      "text/plain": [
       "2"
      ]
     },
     "execution_count": 12,
     "metadata": {},
     "output_type": "execute_result"
    }
   ],
   "source": [
    "arr2.ndim"
   ]
  },
  {
   "cell_type": "code",
   "execution_count": 10,
   "metadata": {},
   "outputs": [
    {
     "data": {
      "text/plain": [
       "array([[[[ 87. ,  45. ,  90. , 100. ,  58. ,  90. ],\n",
       "         [  1. ,   2. ,   3. ,   4. ,   5. ,   6. ],\n",
       "         [  6. ,   5. ,   4. ,   3. ,   2. ,   1. ],\n",
       "         [ 45. ,   9. ,  25.5,  50.1,  90.2,   1.5]]]])"
      ]
     },
     "execution_count": 10,
     "metadata": {},
     "output_type": "execute_result"
    }
   ],
   "source": [
    "## create 4 dimentional array\n",
    "arr5=np.array([[[[87,45,90,100,58,90],[1,2,3,4,5,6],[6,5,4,3,2,1],[45.0,9.0,25.5,50.1,90.2,1.5]]]])\n",
    "arr5"
   ]
  },
  {
   "cell_type": "code",
   "execution_count": 4,
   "metadata": {},
   "outputs": [
    {
     "data": {
      "text/plain": [
       "(1, 1, 4, 6)"
      ]
     },
     "execution_count": 4,
     "metadata": {},
     "output_type": "execute_result"
    }
   ],
   "source": [
    "arr5.shape"
   ]
  },
  {
   "cell_type": "code",
   "execution_count": 13,
   "metadata": {},
   "outputs": [
    {
     "data": {
      "text/plain": [
       "(2, 6)"
      ]
     },
     "execution_count": 13,
     "metadata": {},
     "output_type": "execute_result"
    }
   ],
   "source": [
    "## A variable.shape shows information about \n",
    "arr2.shape"
   ]
  },
  {
   "cell_type": "code",
   "execution_count": 14,
   "metadata": {},
   "outputs": [
    {
     "data": {
      "text/plain": [
       "array([14.        , 14.73469388, 15.46938776, 16.20408163, 16.93877551,\n",
       "       17.67346939, 18.40816327, 19.14285714, 19.87755102, 20.6122449 ,\n",
       "       21.34693878, 22.08163265, 22.81632653, 23.55102041, 24.28571429,\n",
       "       25.02040816, 25.75510204, 26.48979592, 27.2244898 , 27.95918367,\n",
       "       28.69387755, 29.42857143, 30.16326531, 30.89795918, 31.63265306,\n",
       "       32.36734694, 33.10204082, 33.83673469, 34.57142857, 35.30612245,\n",
       "       36.04081633, 36.7755102 , 37.51020408, 38.24489796, 38.97959184,\n",
       "       39.71428571, 40.44897959, 41.18367347, 41.91836735, 42.65306122,\n",
       "       43.3877551 , 44.12244898, 44.85714286, 45.59183673, 46.32653061,\n",
       "       47.06122449, 47.79591837, 48.53061224, 49.26530612, 50.        ])"
      ]
     },
     "execution_count": 14,
     "metadata": {},
     "output_type": "execute_result"
    }
   ],
   "source": [
    "arr3=np.linspace(14,50)\n",
    "arr3"
   ]
  },
  {
   "cell_type": "code",
   "execution_count": 18,
   "metadata": {},
   "outputs": [
    {
     "data": {
      "text/plain": [
       "1"
      ]
     },
     "execution_count": 18,
     "metadata": {},
     "output_type": "execute_result"
    }
   ],
   "source": [
    "arr3.ndim\n"
   ]
  },
  {
   "cell_type": "code",
   "execution_count": 19,
   "metadata": {},
   "outputs": [
    {
     "data": {
      "text/plain": [
       "(50,)"
      ]
     },
     "execution_count": 19,
     "metadata": {},
     "output_type": "execute_result"
    }
   ],
   "source": [
    "arr3.shape"
   ]
  },
  {
   "cell_type": "code",
   "execution_count": 21,
   "metadata": {},
   "outputs": [
    {
     "data": {
      "text/plain": [
       "array([0., 0., 0., 0., 0., 0., 0., 0., 0., 0.])"
      ]
     },
     "execution_count": 21,
     "metadata": {},
     "output_type": "execute_result"
    }
   ],
   "source": [
    "np.zeros(10)"
   ]
  },
  {
   "cell_type": "code",
   "execution_count": 22,
   "metadata": {},
   "outputs": [
    {
     "data": {
      "text/plain": [
       "array([1., 1., 1., 1., 1., 1., 1., 1., 1., 1., 1., 1.])"
      ]
     },
     "execution_count": 22,
     "metadata": {},
     "output_type": "execute_result"
    }
   ],
   "source": [
    "np.ones(12)"
   ]
  },
  {
   "cell_type": "code",
   "execution_count": 23,
   "metadata": {},
   "outputs": [
    {
     "data": {
      "text/plain": [
       "array([10., 10., 10., 10., 10.])"
      ]
     },
     "execution_count": 23,
     "metadata": {},
     "output_type": "execute_result"
    }
   ],
   "source": [
    "np.zeros(5)+10"
   ]
  },
  {
   "cell_type": "code",
   "execution_count": 12,
   "metadata": {},
   "outputs": [
    {
     "data": {
      "text/plain": [
       "array([10., 10., 10., 10., 10.])"
      ]
     },
     "execution_count": 12,
     "metadata": {},
     "output_type": "execute_result"
    }
   ],
   "source": [
    "np.ones(5)+9"
   ]
  },
  {
   "cell_type": "code",
   "execution_count": 14,
   "metadata": {},
   "outputs": [
    {
     "data": {
      "text/plain": [
       "array([  1,   2,   3,   4,   5,   6,   7,   8,   9,  10,  11,  12,  13,\n",
       "        14,  15,  16,  17,  18,  19,  20,  21,  22,  23,  24,  25,  26,\n",
       "        27,  28,  29,  30,  31,  32,  33,  34,  35,  36,  37,  38,  39,\n",
       "        40,  41,  42,  43,  44,  45,  46,  47,  48,  49,  50,  51,  52,\n",
       "        53,  54,  55,  56,  57,  58,  59,  60,  61,  62,  63,  64,  65,\n",
       "        66,  67,  68,  69,  70,  71,  72,  73,  74,  75,  76,  77,  78,\n",
       "        79,  80,  81,  82,  83,  84,  85,  86,  87,  88,  89,  90,  91,\n",
       "        92,  93,  94,  95,  96,  97,  98,  99, 100])"
      ]
     },
     "execution_count": 14,
     "metadata": {},
     "output_type": "execute_result"
    }
   ],
   "source": [
    "# (1,100) it means starting from 1 to 100\n",
    "arr4=np.arange(1,101)\n",
    "arr4"
   ]
  },
  {
   "cell_type": "code",
   "execution_count": 13,
   "metadata": {},
   "outputs": [
    {
     "data": {
      "text/plain": [
       "array([ 1,  3,  5,  7,  9, 11, 13, 15, 17, 19, 21, 23, 25, 27, 29, 31, 33,\n",
       "       35, 37, 39, 41, 43, 45, 47, 49, 51, 53, 55, 57, 59, 61, 63, 65, 67,\n",
       "       69, 71, 73, 75, 77, 79, 81, 83, 85, 87, 89, 91, 93, 95, 97, 99])"
      ]
     },
     "execution_count": 13,
     "metadata": {},
     "output_type": "execute_result"
    }
   ],
   "source": [
    "# (1,100,2) it means starting from 1 to 100 but 2 is the number it skip to get to the next number\n",
    "arr4=np.arange(1,101,2)\n",
    "arr4"
   ]
  },
  {
   "cell_type": "code",
   "execution_count": 26,
   "metadata": {},
   "outputs": [
    {
     "data": {
      "text/plain": [
       "array([ 57,  32,  92,  29,  95,  25,  99,  84,  36,  21,  96,  91,  26,\n",
       "        45,  70,  40,  38,  31,  48,  49,  34,  70,  88,  33,  29,  27,\n",
       "        83,  81,  42,  77,  21,  20,  80,  28,  33,  67,  92,  50,  91,\n",
       "        23,  90,  41,  69,  77,  23,  88,  44,  63,  96,  46,  72, 100,\n",
       "        61,  35,  84,  88,  45,  27,  46,  45,  42,  29,  87,  43,  47,\n",
       "        57,  77,  58,  28,  52,  54,  30,  43,  35,  45,  91,  94,  82,\n",
       "        66,  52,  43,  75,  85,  97,  23,  20,  97,  26,  72,  90,  22,\n",
       "        96,  41,  95,  27,  97,  92,  95,  96,  63])"
      ]
     },
     "execution_count": 26,
     "metadata": {},
     "output_type": "execute_result"
    }
   ],
   "source": [
    "np.random.seed(1)\n",
    "arr5=np.random.randint(20,101,100)\n",
    "arr5"
   ]
  },
  {
   "cell_type": "code",
   "execution_count": 3,
   "metadata": {},
   "outputs": [
    {
     "data": {
      "text/plain": [
       "array([57, 32])"
      ]
     },
     "execution_count": 3,
     "metadata": {},
     "output_type": "execute_result"
    }
   ],
   "source": [
    "np.random.seed(1)\n",
    "arr6=np.random.randint(20,101,2)\n",
    "arr6"
   ]
  },
  {
   "cell_type": "code",
   "execution_count": 23,
   "metadata": {},
   "outputs": [
    {
     "data": {
      "text/plain": [
       "array([98, 81])"
      ]
     },
     "execution_count": 23,
     "metadata": {},
     "output_type": "execute_result"
    }
   ],
   "source": [
    "np.random.seed(5)\n",
    "arr9=np.random.randint(20,101,2)\n",
    "arr9"
   ]
  },
  {
   "cell_type": "code",
   "execution_count": 20,
   "metadata": {},
   "outputs": [
    {
     "data": {
      "text/plain": [
       "array([ 1,  3,  5,  7,  9, 11, 13, 15, 17, 19, 21, 23, 25, 27, 29, 31, 33,\n",
       "       35, 37, 39, 41, 43, 45, 47, 49, 51, 53, 55, 57, 59, 61, 63, 65, 67,\n",
       "       69, 71, 73, 75, 77, 79, 81, 83, 85, 87, 89, 91, 93, 95, 97, 99])"
      ]
     },
     "execution_count": 20,
     "metadata": {},
     "output_type": "execute_result"
    }
   ],
   "source": [
    "arr7=np.arange(1,101,2)\n",
    "arr7"
   ]
  },
  {
   "cell_type": "code",
   "execution_count": 31,
   "metadata": {},
   "outputs": [
    {
     "data": {
      "text/plain": [
       "array([[ 57,  32],\n",
       "       [ 92,  29],\n",
       "       [ 95,  25],\n",
       "       [ 99,  84],\n",
       "       [ 36,  21],\n",
       "       [ 96,  91],\n",
       "       [ 26,  45],\n",
       "       [ 70,  40],\n",
       "       [ 38,  31],\n",
       "       [ 48,  49],\n",
       "       [ 34,  70],\n",
       "       [ 88,  33],\n",
       "       [ 29,  27],\n",
       "       [ 83,  81],\n",
       "       [ 42,  77],\n",
       "       [ 21,  20],\n",
       "       [ 80,  28],\n",
       "       [ 33,  67],\n",
       "       [ 92,  50],\n",
       "       [ 91,  23],\n",
       "       [ 90,  41],\n",
       "       [ 69,  77],\n",
       "       [ 23,  88],\n",
       "       [ 44,  63],\n",
       "       [ 96,  46],\n",
       "       [ 72, 100],\n",
       "       [ 61,  35],\n",
       "       [ 84,  88],\n",
       "       [ 45,  27],\n",
       "       [ 46,  45],\n",
       "       [ 42,  29],\n",
       "       [ 87,  43],\n",
       "       [ 47,  57],\n",
       "       [ 77,  58],\n",
       "       [ 28,  52],\n",
       "       [ 54,  30],\n",
       "       [ 43,  35],\n",
       "       [ 45,  91],\n",
       "       [ 94,  82],\n",
       "       [ 66,  52],\n",
       "       [ 43,  75],\n",
       "       [ 85,  97],\n",
       "       [ 23,  20],\n",
       "       [ 97,  26],\n",
       "       [ 72,  90],\n",
       "       [ 22,  96],\n",
       "       [ 41,  95],\n",
       "       [ 27,  97],\n",
       "       [ 92,  95],\n",
       "       [ 96,  63]])"
      ]
     },
     "execution_count": 31,
     "metadata": {},
     "output_type": "execute_result"
    }
   ],
   "source": [
    "arr5=arr5.reshape(50,2)\n",
    "arr5"
   ]
  },
  {
   "cell_type": "code",
   "execution_count": 17,
   "metadata": {},
   "outputs": [
    {
     "data": {
      "text/plain": [
       "array([[ 57,  32,  92,  29,  95,  25,  99,  84,  36,  21],\n",
       "       [ 96,  91,  26,  45,  70,  40,  38,  31,  48,  49],\n",
       "       [ 34,  70,  88,  50,  50,  50,  50,  81,  42,  77],\n",
       "       [ 21,  20,  80,  50,  50,  50,  50,  50,  91,  23],\n",
       "       [ 90,  41,  69,  50,  50,  50,  50,  63,  96,  46],\n",
       "       [ 72, 100,  61,  50,  50,  50,  50,  27,  46,  45],\n",
       "       [ 42,  29,  87,  50,  50,  50,  50,  58,  28,  52],\n",
       "       [ 54,  30,  43,  35,  45,  91,  94,  82,  66,  52],\n",
       "       [ 43,  75,  85,  97,  23,  20,  97,  26,  72,  90],\n",
       "       [ 22,  96,  41,  95,  27,  97,  92,  95,  96,  63]])"
      ]
     },
     "execution_count": 17,
     "metadata": {},
     "output_type": "execute_result"
    }
   ],
   "source": [
    "arr5[2:7,3:7]=50\n",
    "arr5"
   ]
  },
  {
   "cell_type": "code",
   "execution_count": 18,
   "metadata": {},
   "outputs": [
    {
     "data": {
      "text/plain": [
       "2"
      ]
     },
     "execution_count": 18,
     "metadata": {},
     "output_type": "execute_result"
    }
   ],
   "source": [
    "arr5.ndim"
   ]
  },
  {
   "cell_type": "code",
   "execution_count": 19,
   "metadata": {},
   "outputs": [
    {
     "data": {
      "text/plain": [
       "array([43, 43])"
      ]
     },
     "execution_count": 19,
     "metadata": {},
     "output_type": "execute_result"
    }
   ],
   "source": [
    "arr5[arr5==43]"
   ]
  },
  {
   "cell_type": "code",
   "execution_count": null,
   "metadata": {},
   "outputs": [],
   "source": [
    "arr5[arr5==43]"
   ]
  }
 ],
 "metadata": {
  "kernelspec": {
   "display_name": "Python 3 (ipykernel)",
   "language": "python",
   "name": "python3"
  },
  "language_info": {
   "codemirror_mode": {
    "name": "ipython",
    "version": 3
   },
   "file_extension": ".py",
   "mimetype": "text/x-python",
   "name": "python",
   "nbconvert_exporter": "python",
   "pygments_lexer": "ipython3",
   "version": "3.12.1"
  }
 },
 "nbformat": 4,
 "nbformat_minor": 2
}
