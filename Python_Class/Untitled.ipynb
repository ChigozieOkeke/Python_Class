{
 "cells": [
  {
   "cell_type": "code",
   "execution_count": 8,
   "id": "d2f5f6f9",
   "metadata": {},
   "outputs": [
    {
     "name": "stdout",
     "output_type": "stream",
     "text": [
      "Enter a password (at least 8 characters with an uppercase letter and a digit): Agozie123\n",
      "Valid password!\n"
     ]
    }
   ],
   "source": [
    "##Sure, here is a simple Python program that accepts a valid password from the user using a for loop:\n",
    "\n",
    "# python\n",
    "def validate_password(password):\n",
    "    # Check password length\n",
    "    if len(password) < 8:\n",
    "        return False\n",
    "    \n",
    "    # Check for at least one uppercase letter\n",
    "    has_upper = False\n",
    "    for char in password:\n",
    "        if char.isupper():\n",
    "            has_upper = True\n",
    "            break\n",
    "    if not has_upper:\n",
    "        return False\n",
    "    \n",
    "    # Check for at least one digit\n",
    "    has_digit = False\n",
    "    for char in password:\n",
    "        if char.isdigit():\n",
    "            has_digit = True\n",
    "            break\n",
    "    if not has_digit:\n",
    "        return False\n",
    "    \n",
    "    return True\n",
    "\n",
    "# Get user input for password\n",
    "password = input(\"Enter a password (at least 8 characters with an uppercase letter and a digit): \")\n",
    "\n",
    "# Validate the password\n",
    "if validate_password(password):\n",
    "    print(\"Valid password!\")\n",
    "else:\n",
    "    print(\"Invalid password. Please try again.\")\n",
    "\n",
    "# This program defines and validate_password function that checks if the given password meets the following criteria:\n",
    "#- Contains at least 8 characters\n",
    "#- Contains at least one uppercase letter\n",
    "#- Contains at least one digit\n",
    "\n",
    "# The program then prompts the user to enter a password and validates it using the validate_password function.\n",
    "\n"
   ]
  },
  {
   "cell_type": "code",
   "execution_count": null,
   "id": "001618e0",
   "metadata": {},
   "outputs": [],
   "source": []
  }
 ],
 "metadata": {
  "kernelspec": {
   "display_name": "Python 3 (ipykernel)",
   "language": "python",
   "name": "python3"
  },
  "language_info": {
   "codemirror_mode": {
    "name": "ipython",
    "version": 3
   },
   "file_extension": ".py",
   "mimetype": "text/x-python",
   "name": "python",
   "nbconvert_exporter": "python",
   "pygments_lexer": "ipython3",
   "version": "3.11.5"
  }
 },
 "nbformat": 4,
 "nbformat_minor": 5
}
