{
 "cells": [
  {
   "cell_type": "code",
   "execution_count": null,
   "id": "c2988a07",
   "metadata": {},
   "outputs": [],
   "source": [
    "## Modules"
   ]
  },
  {
   "cell_type": "code",
   "execution_count": 1,
   "id": "8de1d981",
   "metadata": {},
   "outputs": [
    {
     "name": "stdout",
     "output_type": "stream",
     "text": [
      "['__doc__', '__loader__', '__name__', '__package__', '__spec__', 'acos', 'acosh', 'asin', 'asinh', 'atan', 'atan2', 'atanh', 'cbrt', 'ceil', 'comb', 'copysign', 'cos', 'cosh', 'degrees', 'dist', 'e', 'erf', 'erfc', 'exp', 'exp2', 'expm1', 'fabs', 'factorial', 'floor', 'fmod', 'frexp', 'fsum', 'gamma', 'gcd', 'hypot', 'inf', 'isclose', 'isfinite', 'isinf', 'isnan', 'isqrt', 'lcm', 'ldexp', 'lgamma', 'log', 'log10', 'log1p', 'log2', 'modf', 'nan', 'nextafter', 'perm', 'pi', 'pow', 'prod', 'radians', 'remainder', 'sin', 'sinh', 'sqrt', 'tan', 'tanh', 'tau', 'trunc', 'ulp']\n"
     ]
    }
   ],
   "source": [
    "import math\n",
    "print(dir(math))"
   ]
  },
  {
   "cell_type": "code",
   "execution_count": 2,
   "id": "91af98c6",
   "metadata": {},
   "outputs": [
    {
     "name": "stdout",
     "output_type": "stream",
     "text": [
      "45\n",
      "6.708203932499369\n",
      "0.5253219888177297\n",
      "0.8509035245341184\n"
     ]
    }
   ],
   "source": [
    "num=45\n",
    "print(math.floor(num))\n",
    "print(math.sqrt(num))\n",
    "print(math.cos(num))\n",
    "print(math.sin(num))"
   ]
  },
  {
   "cell_type": "code",
   "execution_count": 6,
   "id": "b91751a9",
   "metadata": {},
   "outputs": [
    {
     "name": "stdout",
     "output_type": "stream",
     "text": [
      "['Counter', 'Decimal', 'Fraction', 'LinearRegression', 'NormalDist', 'StatisticsError', '_SQRT2', '__all__', '__annotations__', '__builtins__', '__cached__', '__doc__', '__file__', '__loader__', '__name__', '__package__', '__spec__', '_coerce', '_convert', '_decimal_sqrt_of_frac', '_exact_ratio', '_fail_neg', '_float_sqrt_of_frac', '_integer_sqrt_of_frac_rto', '_isfinite', '_mean_stdev', '_normal_dist_inv_cdf', '_sqrt_bit_width', '_ss', '_sum', 'bisect_left', 'bisect_right', 'correlation', 'covariance', 'defaultdict', 'erf', 'exp', 'fabs', 'fmean', 'fsum', 'geometric_mean', 'groupby', 'harmonic_mean', 'hypot', 'linear_regression', 'log', 'math', 'mean', 'median', 'median_grouped', 'median_high', 'median_low', 'mode', 'mul', 'multimode', 'namedtuple', 'numbers', 'pstdev', 'pvariance', 'quantiles', 'random', 'reduce', 'repeat', 'sqrt', 'stdev', 'sys', 'tau', 'variance']\n"
     ]
    }
   ],
   "source": [
    "import statistics as stat\n",
    "print(dir(stat))"
   ]
  },
  {
   "cell_type": "code",
   "execution_count": 9,
   "id": "8abd457c",
   "metadata": {},
   "outputs": [],
   "source": [
    "num3=[24,56,90,45,7,35]"
   ]
  },
  {
   "cell_type": "code",
   "execution_count": 10,
   "id": "291903e6",
   "metadata": {},
   "outputs": [
    {
     "name": "stdout",
     "output_type": "stream",
     "text": [
      "42.833333333333336\n"
     ]
    }
   ],
   "source": [
    "print(stat.mean(num3))"
   ]
  },
  {
   "cell_type": "code",
   "execution_count": 15,
   "id": "02ded23a",
   "metadata": {},
   "outputs": [
    {
     "name": "stdout",
     "output_type": "stream",
     "text": [
      "['BPF', 'LOG4', 'NV_MAGICCONST', 'RECIP_BPF', 'Random', 'SG_MAGICCONST', 'SystemRandom', 'TWOPI', '_ONE', '_Sequence', '_Set', '__all__', '__builtins__', '__cached__', '__doc__', '__file__', '__loader__', '__name__', '__package__', '__spec__', '_accumulate', '_acos', '_bisect', '_ceil', '_cos', '_e', '_exp', '_floor', '_index', '_inst', '_isfinite', '_log', '_os', '_pi', '_random', '_repeat', '_sha512', '_sin', '_sqrt', '_test', '_test_generator', '_urandom', '_warn', 'betavariate', 'choice', 'choices', 'expovariate', 'gammavariate', 'gauss', 'getrandbits', 'getstate', 'lognormvariate', 'normalvariate', 'paretovariate', 'randbytes', 'randint', 'random', 'randrange', 'sample', 'seed', 'setstate', 'shuffle', 'triangular', 'uniform', 'vonmisesvariate', 'weibullvariate']\n"
     ]
    }
   ],
   "source": [
    "import random\n",
    "print(dir(random))"
   ]
  },
  {
   "cell_type": "code",
   "execution_count": 16,
   "id": "5ed78a1d",
   "metadata": {},
   "outputs": [
    {
     "name": "stdout",
     "output_type": "stream",
     "text": [
      "[90, 56, 45, 7, 24, 35]\n"
     ]
    }
   ],
   "source": [
    "random.shuffle(num3)\n",
    "print(num3)"
   ]
  },
  {
   "cell_type": "code",
   "execution_count": 1,
   "id": "8e8ce6c2",
   "metadata": {},
   "outputs": [
    {
     "name": "stdout",
     "output_type": "stream",
     "text": [
      "['Formatter', 'Template', '_ChainMap', '__all__', '__builtins__', '__cached__', '__doc__', '__file__', '__loader__', '__name__', '__package__', '__spec__', '_re', '_sentinel_dict', '_string', 'ascii_letters', 'ascii_lowercase', 'ascii_uppercase', 'capwords', 'digits', 'hexdigits', 'octdigits', 'printable', 'punctuation', 'whitespace']\n"
     ]
    }
   ],
   "source": [
    "import string\n",
    "print(dir(string))"
   ]
  },
  {
   "cell_type": "markdown",
   "id": "0d6fafd9",
   "metadata": {},
   "source": [
    "## Conditional Statement"
   ]
  },
  {
   "cell_type": "code",
   "execution_count": 8,
   "id": "e996aaf5",
   "metadata": {},
   "outputs": [
    {
     "name": "stdout",
     "output_type": "stream",
     "text": [
      "enter your names: Chigozie\n",
      "what is your age:17\n",
      "Chigozie sorry you're underage, try next time\n"
     ]
    }
   ],
   "source": [
    "names=input(\"enter your names: \")\n",
    "user1=int(input(\"what is your age:\"))\n",
    "if user1 >=18:\n",
    "    print(names,\"you\\'re eligible to vote\")\n",
    "else:\n",
    "    print(names,\"sorry you\\'re underage, try next time.\")"
   ]
  },
  {
   "cell_type": "code",
   "execution_count": 26,
   "id": "2b7145f8",
   "metadata": {},
   "outputs": [
    {
     "name": "stdout",
     "output_type": "stream",
     "text": [
      "what is your age:15\n",
      "sorry try next\n"
     ]
    }
   ],
   "source": [
    "user1=int(input(\"what is your age:\"))\n",
    "if user1 >= 18:\n",
    "    print(\"you are eligible to vote\")\n",
    "elif user1 >= 16:\n",
    "    print(\"you are eligible to vote only in the primary sector\")\n",
    "else:\n",
    "    print(\"sorry try next\")"
   ]
  },
  {
   "cell_type": "code",
   "execution_count": 28,
   "id": "1a539bbc",
   "metadata": {},
   "outputs": [
    {
     "name": "stdout",
     "output_type": "stream",
     "text": [
      "what's your age? :30\n",
      "what's your your region? :south west\n",
      "congratulation you have a discount\n"
     ]
    }
   ],
   "source": [
    "age=int(input(\"what's your age? :\"))\n",
    "region=input(\"what's your your region? :\")\n",
    "if age >= 18 and region == \"south south\":\n",
    "    print(\"congratulation you have a discount\")\n",
    "elif age >= 18 and region == \"south west\":\n",
    "    print(\"congratulation you have a discount\")    \n",
    "elif age >= 18 and region == \"sout north\":\n",
    "    print(\"congratulation you have a discount\")\n",
    "elif age >= 18 and region == \"north south\":\n",
    "    print(\"congratulation you have a discount\") \n",
    "else:\n",
    "    print(\"sorry no discount is allowed or age is less than required ... try next time\")"
   ]
  },
  {
   "cell_type": "code",
   "execution_count": null,
   "id": "fe1797a3",
   "metadata": {},
   "outputs": [],
   "source": []
  }
 ],
 "metadata": {
  "kernelspec": {
   "display_name": "Python 3 (ipykernel)",
   "language": "python",
   "name": "python3"
  },
  "language_info": {
   "codemirror_mode": {
    "name": "ipython",
    "version": 3
   },
   "file_extension": ".py",
   "mimetype": "text/x-python",
   "name": "python",
   "nbconvert_exporter": "python",
   "pygments_lexer": "ipython3",
   "version": "3.11.5"
  }
 },
 "nbformat": 4,
 "nbformat_minor": 5
}
